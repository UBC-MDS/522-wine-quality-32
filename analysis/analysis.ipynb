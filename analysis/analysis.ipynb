{
 "cells": [
  {
   "cell_type": "markdown",
   "metadata": {},
   "source": [
    "![image](img/wine2.jpg)\n",
    "\n"
   ]
  },
  {
   "cell_type": "markdown",
   "metadata": {},
   "source": [
    "# TITLE\n",
    "## Wine Quality Prediction"
   ]
  },
  {
   "cell_type": "markdown",
   "metadata": {},
   "source": []
  },
  {
   "cell_type": "markdown",
   "metadata": {},
   "source": [
    "# SUMMARY"
   ]
  },
  {
   "cell_type": "markdown",
   "metadata": {},
   "source": []
  },
  {
   "cell_type": "markdown",
   "metadata": {},
   "source": [
    "\n",
    "This project aims to analyze patterns in wine data through exploratory data analysis (EDA) and develop predictive models to classify wines or predict their quality. The analysis includes uncovering relationships between key features and their influence on wine quality, visualizing distributions and correlations, and identifying significant predictors. Predictive models such as logistic regression and random forests are developed and optimized using cross-validation and hyperparameter tuning. The project evaluates model performance with metrics like accuracy, F1-score, or RMSE, providing actionable insights for enhancing wine quality. The results offer a data-driven approach to understanding wine characteristics and their impact on quality, benefiting decision-making in winemaking and marketing.\n",
    "\n"
   ]
  },
  {
   "cell_type": "markdown",
   "metadata": {},
   "source": [
    "# INTRODUCTION"
   ]
  },
  {
   "cell_type": "markdown",
   "metadata": {},
   "source": [
    "### Background Information:\n",
    "\n",
    "The quality of wine plays a crucial role in the wine industry, as it directly affects consumer satisfaction, pricing, and demand. Traditionally, wine quality is determined through sensory analysis by trained experts, who evaluate factors such as taste, aroma, and texture. However, these evaluations are inherently subjective, costly, and time-consuming. With advancements in data analysis and machine learning, it is now possible to model and predict wine quality using objective, measurable features. These features include chemical and physical attributes such as acidity, sugar levels, alcohol content, and more, which directly influence the sensory properties of wine.<br>\n",
    "Understanding the factors that contribute to wine quality can help winemakers optimize production processes, improve quality control, and make data-driven decisions to meet consumer expectations. Moreover, predictive modeling allows for faster assessments of wine quality, potentially reducing reliance on labor-intensive sensory evaluations.\n",
    "\n",
    "---\n",
    "\n",
    "\n",
    "\n",
    "\n"
   ]
  },
  {
   "cell_type": "markdown",
   "metadata": {},
   "source": [
    "### Research Question:\n",
    "\n",
    "The primary question we sought to answer in this project is: \"Can the quality of wine be effectively predicted based on its measurable physicochemical properties? Additionally, which features are most influential in determining wine quality?\" <br>\n",
    "\n",
    "This project aimed to explore whether measurable data about wine's chemical and physical properties could provide a reliable means of assessing its quality. By identifying the most important predictors of wine quality, we can gain insights into the production processes that have the greatest impact on consumer satisfaction. Furthermore, the study explores whether predictive models can achieve high accuracy and how they can be applied in real-world scenarios.\n",
    "\n",
    "---"
   ]
  },
  {
   "cell_type": "markdown",
   "metadata": {},
   "source": [
    "### Dataset Description:\n",
    "\n",
    "To answer these questions, we utilized the Wine Quality Dataset, a publicly available dataset from the UCI Machine Learning Repository. This dataset contains information about red and white variants of Portuguese \"Vinho Verde\" wine. It includes 4,898 observations of white wines and 1,599 observations of red wines, with each record corresponding to a single wine sample.\n",
    "\n",
    "The dataset consists of 11 numerical input features representing physicochemical attributes of the wine, such as:\n",
    "\n",
    "- **Fixed Acidity:** Measures non-volatile acids that do not evaporate.\n",
    "- **Volatile Acidity:** Measures volatile acids that can impact wine aroma.\n",
    "- **Citric Acid:** A component that can add freshness and flavor to wine.\n",
    "- **Residual Sugar:** The sugar content left after fermentation.\n",
    "- **Chlorides:** Indicates salt content.\n",
    "- **Free Sulfur Dioxide and Total Sulfur Dioxide:** Measures preservatives that can affect taste and shelf life.\n",
    "- **Density:** Relates to sugar and alcohol content.\n",
    "- **pH:** Measures acidity/alkalinity.\n",
    "- **Sulphates:** Relates to bitterness and antioxidant properties.\n",
    "- **Alcohol:** Affects body and sweetness.\n",
    "- The target variable, Quality, is a score between 0 and 10 assigned by wine tasters based on sensory evaluations.\n",
    "\n",
    "This dataset provides a balanced and comprehensive foundation for both exploratory data analysis (EDA) and predictive modeling, allowing us to understand patterns, correlations, and the predictive potential of these features in determining wine quality. By analyzing this dataset, we aim to provide actionable insights into factors influencing wine quality and develop models that can accurately predict quality ratings."
   ]
  },
  {
   "cell_type": "markdown",
   "metadata": {},
   "source": [
    "# METHODS AND RESULTS\n",
    "\n",
    "- describe in written english the methods you used to perform your analysis from beginning to end that narrates the code the does the analysis.\n",
    "- your report should include code which:\n",
    "- loads data from the original source on the web\n",
    "- wrangles and cleans the data from it’s original (downloaded) format to the format necessary for the planned classification or clustering analysis\n",
    "- performs a summary of the data set that is relevant for exploratory data analysis related to the planned classification analysis\n",
    "- creates a visualization of the dataset that is relevant for exploratory data analysis related to the planned classification analysis\n",
    "- performs classification or regression analysis\n",
    "- creates a visualization of the result of the analysis\n",
    "- note: all tables and figure should have a figure/table number and a legend"
   ]
  },
  {
   "cell_type": "markdown",
   "metadata": {
    "vscode": {
     "languageId": "plaintext"
    }
   },
   "source": []
  },
  {
   "cell_type": "code",
<<<<<<< HEAD:analysis/analysis.ipynb
   "execution_count": 38,
=======
   "execution_count": 1,
>>>>>>> 74afaaea9bd27bd22b47c9000ff0453e2e2f7968:analysis.ipynb
   "metadata": {},
   "outputs": [
    {
     "data": {
      "text/plain": [
       "DataTransformerRegistry.enable('vegafusion')"
      ]
     },
<<<<<<< HEAD:analysis/analysis.ipynb
     "execution_count": 38,
=======
     "execution_count": 1,
>>>>>>> 74afaaea9bd27bd22b47c9000ff0453e2e2f7968:analysis.ipynb
     "metadata": {},
     "output_type": "execute_result"
    }
   ],
   "source": [
    "import pandas as pd\n",
    "import numpy as np\n",
    "import altair as alt\n",
    "import janitor\n",
    "from ucimlrepo import fetch_ucirepo\n",
    "import pandera as pa\n",
    "from pandera import Column, Check\n",
    "import os\n",
    "alt.data_transformers.enable(\"vegafusion\")"
   ]
  },
  {
   "cell_type": "code",
<<<<<<< HEAD:analysis/analysis.ipynb
   "execution_count": 39,
=======
   "execution_count": 2,
>>>>>>> 74afaaea9bd27bd22b47c9000ff0453e2e2f7968:analysis.ipynb
   "metadata": {},
   "outputs": [
    {
     "name": "stdout",
     "output_type": "stream",
     "text": [
      "Directory 'data/' already exists.\n"
     ]
    }
   ],
   "source": [
    "# Directory to store the dataset\n",
    "data_dir = \"data/\"\n",
    "csv_file_path = os.path.join(data_dir, \"wine_quality_combined.csv\")\n",
    "\n",
    "# Checks file format\n",
    "if not csv_file_path.endswith('.csv'):\n",
    "    raise ValueError('Invalid file format. Expected is a .csv file')\n",
    "\n",
    "try:\n",
    "    # Ensure the directory exists\n",
    "    if not os.path.exists(data_dir):\n",
    "        os.makedirs(data_dir)\n",
    "        print(f\"Directory '{data_dir}' created successfully.\")\n",
    "    else:\n",
    "        print(f\"Directory '{data_dir}' already exists.\")\n",
    "except OSError as e:\n",
    "    print(f\"Error creating directory '{data_dir}': {e}\")\n",
    "    raise\n"
   ]
  },
  {
   "cell_type": "code",
<<<<<<< HEAD:analysis/analysis.ipynb
   "execution_count": 40,
=======
   "execution_count": 4,
>>>>>>> 74afaaea9bd27bd22b47c9000ff0453e2e2f7968:analysis.ipynb
   "metadata": {},
   "outputs": [
    {
     "name": "stdout",
     "output_type": "stream",
     "text": [
      "Dataset already exists at 'data/wine_quality_combined.csv'. Skipping fetch.\n"
     ]
    }
   ],
   "source": [
    "# Check if the CSV file already exists\n",
    "if not os.path.isfile(csv_file_path):\n",
    "    try:\n",
    "        print(\"CSV file not found. Fetching dataset...\")\n",
    "\n",
    "        # Fetch the dataset\n",
    "        wine_quality = fetch_ucirepo(id=186)\n",
    "        \n",
    "        # Features (X) and Targets (y)\n",
    "        X = wine_quality.data.features\n",
    "        y = wine_quality.data.targets\n",
    "\n",
    "        # Combine features and targets into a single DataFrame\n",
    "        wine_df = pd.concat([X, y], axis=1)\n",
    "\n",
    "        # Save the DataFrame to a CSV file\n",
    "        wine_df.to_csv(csv_file_path, index=False)\n",
    "        print(f\"Dataset saved as '{csv_file_path}'.\")\n",
    "    except Exception as e:\n",
    "        print(f\"Error fetching or saving the dataset: {e}\")\n",
    "        raise\n",
    "else:\n",
    "    wine_df = pd.read_csv('data/wine_quality_combined.csv')\n",
    "    print(f\"Dataset already exists at '{csv_file_path}'. Skipping fetch.\")"
   ]
  },
  {
   "cell_type": "code",
<<<<<<< HEAD:analysis/analysis.ipynb
   "execution_count": 41,
   "metadata": {},
   "outputs": [
    {
     "data": {
      "text/html": [
       "<div>\n",
       "<style scoped>\n",
       "    .dataframe tbody tr th:only-of-type {\n",
       "        vertical-align: middle;\n",
       "    }\n",
       "\n",
       "    .dataframe tbody tr th {\n",
       "        vertical-align: top;\n",
       "    }\n",
       "\n",
       "    .dataframe thead th {\n",
       "        text-align: right;\n",
       "    }\n",
       "</style>\n",
       "<table border=\"1\" class=\"dataframe\">\n",
       "  <thead>\n",
       "    <tr style=\"text-align: right;\">\n",
       "      <th></th>\n",
       "      <th>fixed_acidity</th>\n",
       "      <th>volatile_acidity</th>\n",
       "      <th>citric_acid</th>\n",
       "      <th>residual_sugar</th>\n",
       "      <th>chlorides</th>\n",
       "      <th>free_sulfur_dioxide</th>\n",
       "      <th>total_sulfur_dioxide</th>\n",
       "      <th>density</th>\n",
       "      <th>ph</th>\n",
       "      <th>sulphates</th>\n",
       "      <th>alcohol</th>\n",
       "      <th>quality</th>\n",
       "    </tr>\n",
       "  </thead>\n",
       "  <tbody>\n",
       "    <tr>\n",
       "      <th>0</th>\n",
       "      <td>7.4</td>\n",
       "      <td>0.70</td>\n",
       "      <td>0.00</td>\n",
       "      <td>1.9</td>\n",
       "      <td>0.076</td>\n",
       "      <td>11.0</td>\n",
       "      <td>34.0</td>\n",
       "      <td>0.9978</td>\n",
       "      <td>3.51</td>\n",
       "      <td>0.56</td>\n",
       "      <td>9.4</td>\n",
       "      <td>5</td>\n",
       "    </tr>\n",
       "    <tr>\n",
       "      <th>1</th>\n",
       "      <td>7.8</td>\n",
       "      <td>0.88</td>\n",
       "      <td>0.00</td>\n",
       "      <td>2.6</td>\n",
       "      <td>0.098</td>\n",
       "      <td>25.0</td>\n",
       "      <td>67.0</td>\n",
       "      <td>0.9968</td>\n",
       "      <td>3.20</td>\n",
       "      <td>0.68</td>\n",
       "      <td>9.8</td>\n",
       "      <td>5</td>\n",
       "    </tr>\n",
       "    <tr>\n",
       "      <th>2</th>\n",
       "      <td>7.8</td>\n",
       "      <td>0.76</td>\n",
       "      <td>0.04</td>\n",
       "      <td>2.3</td>\n",
       "      <td>0.092</td>\n",
       "      <td>15.0</td>\n",
       "      <td>54.0</td>\n",
       "      <td>0.9970</td>\n",
       "      <td>3.26</td>\n",
       "      <td>0.65</td>\n",
       "      <td>9.8</td>\n",
       "      <td>5</td>\n",
       "    </tr>\n",
       "    <tr>\n",
       "      <th>3</th>\n",
       "      <td>11.2</td>\n",
       "      <td>0.28</td>\n",
       "      <td>0.56</td>\n",
       "      <td>1.9</td>\n",
       "      <td>0.075</td>\n",
       "      <td>17.0</td>\n",
       "      <td>60.0</td>\n",
       "      <td>0.9980</td>\n",
       "      <td>3.16</td>\n",
       "      <td>0.58</td>\n",
       "      <td>9.8</td>\n",
       "      <td>6</td>\n",
       "    </tr>\n",
       "    <tr>\n",
       "      <th>4</th>\n",
       "      <td>7.4</td>\n",
       "      <td>0.70</td>\n",
       "      <td>0.00</td>\n",
       "      <td>1.9</td>\n",
       "      <td>0.076</td>\n",
       "      <td>11.0</td>\n",
       "      <td>34.0</td>\n",
       "      <td>0.9978</td>\n",
       "      <td>3.51</td>\n",
       "      <td>0.56</td>\n",
       "      <td>9.4</td>\n",
       "      <td>5</td>\n",
       "    </tr>\n",
       "  </tbody>\n",
       "</table>\n",
       "</div>"
      ],
      "text/plain": [
       "   fixed_acidity  volatile_acidity  citric_acid  residual_sugar  chlorides  \\\n",
       "0            7.4              0.70         0.00             1.9      0.076   \n",
       "1            7.8              0.88         0.00             2.6      0.098   \n",
       "2            7.8              0.76         0.04             2.3      0.092   \n",
       "3           11.2              0.28         0.56             1.9      0.075   \n",
       "4            7.4              0.70         0.00             1.9      0.076   \n",
       "\n",
       "   free_sulfur_dioxide  total_sulfur_dioxide  density    ph  sulphates  \\\n",
       "0                 11.0                  34.0   0.9978  3.51       0.56   \n",
       "1                 25.0                  67.0   0.9968  3.20       0.68   \n",
       "2                 15.0                  54.0   0.9970  3.26       0.65   \n",
       "3                 17.0                  60.0   0.9980  3.16       0.58   \n",
       "4                 11.0                  34.0   0.9978  3.51       0.56   \n",
       "\n",
       "   alcohol  quality  \n",
       "0      9.4        5  \n",
       "1      9.8        5  \n",
       "2      9.8        5  \n",
       "3      9.8        6  \n",
       "4      9.4        5  "
      ]
     },
     "execution_count": 41,
     "metadata": {},
     "output_type": "execute_result"
    }
   ],
=======
   "execution_count": 7,
   "metadata": {},
   "outputs": [],
>>>>>>> 74afaaea9bd27bd22b47c9000ff0453e2e2f7968:analysis.ipynb
   "source": [
    "# Uses janitor to clean column names\n",
    "wine_df = wine_df.clean_names()\n",
    "\n",
    "wine_df = wine_df.drop_duplicates()"
   ]
  },
  {
   "cell_type": "code",
<<<<<<< HEAD:analysis/analysis.ipynb
   "execution_count": 42,
=======
   "execution_count": 8,
   "metadata": {},
   "outputs": [],
   "source": [
    "def check_corr_feats(df):\n",
    "  aa = (df.corr().abs() < 0.9)\n",
    "  np.fill_diagonal(aa.values, True)\n",
    "  return aa.all().all()"
   ]
  },
  {
   "cell_type": "code",
   "execution_count": 11,
   "metadata": {},
   "outputs": [
    {
     "name": "stdout",
     "output_type": "stream",
     "text": [
      "Data is valid!\n"
     ]
    }
   ],
   "source": [
    "schema = pa.DataFrameSchema({\n",
    "    \"fixed_acidity\": Column(pa.Float, Check.ge(0), nullable=False),\n",
    "    \"volatile_acidity\": Column(pa.Float, Check.ge(0), nullable=False),\n",
    "    \"citric_acid\": Column(pa.Float, Check.ge(0), nullable=False),\n",
    "    \"residual_sugar\": Column(pa.Float, Check.ge(0), nullable=False),\n",
    "    \"chlorides\": Column(pa.Float, Check.ge(0), nullable=False),\n",
    "    \"free_sulfur_dioxide\": Column(pa.Float, Check.ge(0), nullable=False),\n",
    "    \"total_sulfur_dioxide\": Column(pa.Float, Check.ge(0), nullable=False),\n",
    "    \"density\": Column(pa.Float, Check.ge(0), nullable=False),\n",
    "    \"ph\": Column(pa.Float, [Check.ge(0), Check.le(14)], nullable=False),\n",
    "    \"sulphates\": Column(pa.Float, Check.ge(0), nullable=False),\n",
    "    \"alcohol\": Column(pa.Float, Check.ge(0), nullable=False),\n",
    "    \"quality\": Column(pa.Int, Check.isin([3, 4, 5, 6, 7, 8, 9]), nullable=False)  # Example: Replace with valid levels\n",
    "},\n",
    "    checks=[\n",
    "        # Ensure no duplicate rows\n",
    "        pa.Check(lambda df: ~df.duplicated().any(), error=\"Duplicate rows found.\"),\n",
    "        \n",
    "        # Ensure no empty rows\n",
    "        pa.Check(lambda df: ~(df.isna().all(axis=1)).any(), error=\"Empty rows found.\"),\n",
    "        \n",
    "        # Check for missingness threshold (e.g., <5%)\n",
    "        pa.Check(lambda df: (df.isna().mean() < 0.05).all(), error=\"Missingness exceeds threshold.\"),\n",
    "        \n",
    "        # Ensure the target variable distribution meets expectations\n",
    "        pa.Check(lambda df: df['quality'].value_counts(normalize=True).between(0.0001, 0.5).all(), \n",
    "                 error=\"Quality distribution is outside expected bounds.\"),\n",
    "        \n",
    "        # Check no anomalous correlations between target and features\n",
    "        pa.Check(lambda df: (df.corr()['quality'].abs()[:-1] < 0.9).all(), \n",
    "                 error=\"Anomalous correlations found between quality and features.\"),\n",
    "        \n",
    "        # Check no anomalous correlations between features\n",
    "        pa.Check(lambda df: check_corr_feats(df), \n",
    "                 error=\"Anomalous correlations found between features.\"),\n",
    "        # pa.Check(\n",
    "        #     lambda df: df.apply(lambda x: ((x >= x.quantile(0.01)) & (x <= x.quantile(0.99))).all(), axis=0).all(),\n",
    "        #     error=\"Outliers detected beyond 1st and 99th percentiles.\"\n",
    "        # )\n",
    "    ]\n",
    ")\n",
    "\n",
    "\n",
    "try:\n",
    "    schema.validate(wine_df)\n",
    "    print(\"Data is valid!\")\n",
    "except Exception as e:\n",
    "    print(f\"Validation error: {e}\")"
   ]
  },
  {
   "cell_type": "code",
   "execution_count": 6,
>>>>>>> 74afaaea9bd27bd22b47c9000ff0453e2e2f7968:analysis.ipynb
   "metadata": {},
   "outputs": [
    {
     "data": {
      "text/plain": [
       "(6497, 12)"
      ]
     },
<<<<<<< HEAD:analysis/analysis.ipynb
     "execution_count": 42,
=======
     "execution_count": 6,
>>>>>>> 74afaaea9bd27bd22b47c9000ff0453e2e2f7968:analysis.ipynb
     "metadata": {},
     "output_type": "execute_result"
    }
   ],
   "source": [
    "# This gives the shape of the dataframe\n",
    "wine_df.shape"
   ]
  },
  {
   "cell_type": "code",
<<<<<<< HEAD:analysis/analysis.ipynb
   "execution_count": 43,
=======
   "execution_count": 7,
>>>>>>> 74afaaea9bd27bd22b47c9000ff0453e2e2f7968:analysis.ipynb
   "metadata": {},
   "outputs": [
    {
     "data": {
      "text/plain": [
       "np.int64(0)"
      ]
     },
<<<<<<< HEAD:analysis/analysis.ipynb
     "execution_count": 43,
=======
     "execution_count": 7,
>>>>>>> 74afaaea9bd27bd22b47c9000ff0453e2e2f7968:analysis.ipynb
     "metadata": {},
     "output_type": "execute_result"
    }
   ],
   "source": [
    "# Checking if there are null values\n",
    "wine_df.isna().any().sum()"
   ]
  },
  {
   "cell_type": "code",
<<<<<<< HEAD:analysis/analysis.ipynb
   "execution_count": 44,
=======
   "execution_count": 8,
>>>>>>> 74afaaea9bd27bd22b47c9000ff0453e2e2f7968:analysis.ipynb
   "metadata": {},
   "outputs": [
    {
     "name": "stdout",
     "output_type": "stream",
     "text": [
      "<class 'pandas.core.frame.DataFrame'>\n",
      "RangeIndex: 6497 entries, 0 to 6496\n",
      "Data columns (total 12 columns):\n",
      " #   Column                Non-Null Count  Dtype  \n",
      "---  ------                --------------  -----  \n",
      " 0   fixed_acidity         6497 non-null   float64\n",
      " 1   volatile_acidity      6497 non-null   float64\n",
      " 2   citric_acid           6497 non-null   float64\n",
      " 3   residual_sugar        6497 non-null   float64\n",
      " 4   chlorides             6497 non-null   float64\n",
      " 5   free_sulfur_dioxide   6497 non-null   float64\n",
      " 6   total_sulfur_dioxide  6497 non-null   float64\n",
      " 7   density               6497 non-null   float64\n",
      " 8   ph                    6497 non-null   float64\n",
      " 9   sulphates             6497 non-null   float64\n",
      " 10  alcohol               6497 non-null   float64\n",
      " 11  quality               6497 non-null   int64  \n",
      "dtypes: float64(11), int64(1)\n",
      "memory usage: 609.2 KB\n"
     ]
    }
   ],
   "source": [
    "# Checks the summary of the dataframe\n",
    "wine_df.info()"
   ]
  },
  {
   "cell_type": "code",
<<<<<<< HEAD:analysis/analysis.ipynb
   "execution_count": 45,
=======
   "execution_count": 9,
>>>>>>> 74afaaea9bd27bd22b47c9000ff0453e2e2f7968:analysis.ipynb
   "metadata": {},
   "outputs": [
    {
     "data": {
      "text/html": [
       "<div>\n",
       "<style scoped>\n",
       "    .dataframe tbody tr th:only-of-type {\n",
       "        vertical-align: middle;\n",
       "    }\n",
       "\n",
       "    .dataframe tbody tr th {\n",
       "        vertical-align: top;\n",
       "    }\n",
       "\n",
       "    .dataframe thead th {\n",
       "        text-align: right;\n",
       "    }\n",
       "</style>\n",
       "<table border=\"1\" class=\"dataframe\">\n",
       "  <thead>\n",
       "    <tr style=\"text-align: right;\">\n",
       "      <th></th>\n",
       "      <th>fixed_acidity</th>\n",
       "      <th>volatile_acidity</th>\n",
       "      <th>citric_acid</th>\n",
       "      <th>residual_sugar</th>\n",
       "      <th>chlorides</th>\n",
       "      <th>free_sulfur_dioxide</th>\n",
       "      <th>total_sulfur_dioxide</th>\n",
       "      <th>density</th>\n",
       "      <th>ph</th>\n",
       "      <th>sulphates</th>\n",
       "      <th>alcohol</th>\n",
       "      <th>quality</th>\n",
       "    </tr>\n",
       "  </thead>\n",
       "  <tbody>\n",
       "    <tr>\n",
       "      <th>count</th>\n",
       "      <td>6497.000000</td>\n",
       "      <td>6497.000000</td>\n",
       "      <td>6497.000000</td>\n",
       "      <td>6497.000000</td>\n",
       "      <td>6497.000000</td>\n",
       "      <td>6497.000000</td>\n",
       "      <td>6497.000000</td>\n",
       "      <td>6497.000000</td>\n",
       "      <td>6497.000000</td>\n",
       "      <td>6497.000000</td>\n",
       "      <td>6497.000000</td>\n",
       "      <td>6497.000000</td>\n",
       "    </tr>\n",
       "    <tr>\n",
       "      <th>mean</th>\n",
       "      <td>7.215307</td>\n",
       "      <td>0.339666</td>\n",
       "      <td>0.318633</td>\n",
       "      <td>5.443235</td>\n",
       "      <td>0.056034</td>\n",
       "      <td>30.525319</td>\n",
       "      <td>115.744574</td>\n",
       "      <td>0.994697</td>\n",
       "      <td>3.218501</td>\n",
       "      <td>0.531268</td>\n",
       "      <td>10.491801</td>\n",
       "      <td>5.818378</td>\n",
       "    </tr>\n",
       "    <tr>\n",
       "      <th>std</th>\n",
       "      <td>1.296434</td>\n",
       "      <td>0.164636</td>\n",
       "      <td>0.145318</td>\n",
       "      <td>4.757804</td>\n",
       "      <td>0.035034</td>\n",
       "      <td>17.749400</td>\n",
       "      <td>56.521855</td>\n",
       "      <td>0.002999</td>\n",
       "      <td>0.160787</td>\n",
       "      <td>0.148806</td>\n",
       "      <td>1.192712</td>\n",
       "      <td>0.873255</td>\n",
       "    </tr>\n",
       "    <tr>\n",
       "      <th>min</th>\n",
       "      <td>3.800000</td>\n",
       "      <td>0.080000</td>\n",
       "      <td>0.000000</td>\n",
       "      <td>0.600000</td>\n",
       "      <td>0.009000</td>\n",
       "      <td>1.000000</td>\n",
       "      <td>6.000000</td>\n",
       "      <td>0.987110</td>\n",
       "      <td>2.720000</td>\n",
       "      <td>0.220000</td>\n",
       "      <td>8.000000</td>\n",
       "      <td>3.000000</td>\n",
       "    </tr>\n",
       "    <tr>\n",
       "      <th>25%</th>\n",
       "      <td>6.400000</td>\n",
       "      <td>0.230000</td>\n",
       "      <td>0.250000</td>\n",
       "      <td>1.800000</td>\n",
       "      <td>0.038000</td>\n",
       "      <td>17.000000</td>\n",
       "      <td>77.000000</td>\n",
       "      <td>0.992340</td>\n",
       "      <td>3.110000</td>\n",
       "      <td>0.430000</td>\n",
       "      <td>9.500000</td>\n",
       "      <td>5.000000</td>\n",
       "    </tr>\n",
       "    <tr>\n",
       "      <th>50%</th>\n",
       "      <td>7.000000</td>\n",
       "      <td>0.290000</td>\n",
       "      <td>0.310000</td>\n",
       "      <td>3.000000</td>\n",
       "      <td>0.047000</td>\n",
       "      <td>29.000000</td>\n",
       "      <td>118.000000</td>\n",
       "      <td>0.994890</td>\n",
       "      <td>3.210000</td>\n",
       "      <td>0.510000</td>\n",
       "      <td>10.300000</td>\n",
       "      <td>6.000000</td>\n",
       "    </tr>\n",
       "    <tr>\n",
       "      <th>75%</th>\n",
       "      <td>7.700000</td>\n",
       "      <td>0.400000</td>\n",
       "      <td>0.390000</td>\n",
       "      <td>8.100000</td>\n",
       "      <td>0.065000</td>\n",
       "      <td>41.000000</td>\n",
       "      <td>156.000000</td>\n",
       "      <td>0.996990</td>\n",
       "      <td>3.320000</td>\n",
       "      <td>0.600000</td>\n",
       "      <td>11.300000</td>\n",
       "      <td>6.000000</td>\n",
       "    </tr>\n",
       "    <tr>\n",
       "      <th>max</th>\n",
       "      <td>15.900000</td>\n",
       "      <td>1.580000</td>\n",
       "      <td>1.660000</td>\n",
       "      <td>65.800000</td>\n",
       "      <td>0.611000</td>\n",
       "      <td>289.000000</td>\n",
       "      <td>440.000000</td>\n",
       "      <td>1.038980</td>\n",
       "      <td>4.010000</td>\n",
       "      <td>2.000000</td>\n",
       "      <td>14.900000</td>\n",
       "      <td>9.000000</td>\n",
       "    </tr>\n",
       "  </tbody>\n",
       "</table>\n",
       "</div>"
      ],
      "text/plain": [
       "       fixed_acidity  volatile_acidity  citric_acid  residual_sugar  \\\n",
       "count    6497.000000       6497.000000  6497.000000     6497.000000   \n",
       "mean        7.215307          0.339666     0.318633        5.443235   \n",
       "std         1.296434          0.164636     0.145318        4.757804   \n",
       "min         3.800000          0.080000     0.000000        0.600000   \n",
       "25%         6.400000          0.230000     0.250000        1.800000   \n",
       "50%         7.000000          0.290000     0.310000        3.000000   \n",
       "75%         7.700000          0.400000     0.390000        8.100000   \n",
       "max        15.900000          1.580000     1.660000       65.800000   \n",
       "\n",
       "         chlorides  free_sulfur_dioxide  total_sulfur_dioxide      density  \\\n",
       "count  6497.000000          6497.000000           6497.000000  6497.000000   \n",
       "mean      0.056034            30.525319            115.744574     0.994697   \n",
       "std       0.035034            17.749400             56.521855     0.002999   \n",
       "min       0.009000             1.000000              6.000000     0.987110   \n",
       "25%       0.038000            17.000000             77.000000     0.992340   \n",
       "50%       0.047000            29.000000            118.000000     0.994890   \n",
       "75%       0.065000            41.000000            156.000000     0.996990   \n",
       "max       0.611000           289.000000            440.000000     1.038980   \n",
       "\n",
       "                ph    sulphates      alcohol      quality  \n",
       "count  6497.000000  6497.000000  6497.000000  6497.000000  \n",
       "mean      3.218501     0.531268    10.491801     5.818378  \n",
       "std       0.160787     0.148806     1.192712     0.873255  \n",
       "min       2.720000     0.220000     8.000000     3.000000  \n",
       "25%       3.110000     0.430000     9.500000     5.000000  \n",
       "50%       3.210000     0.510000    10.300000     6.000000  \n",
       "75%       3.320000     0.600000    11.300000     6.000000  \n",
       "max       4.010000     2.000000    14.900000     9.000000  "
      ]
     },
<<<<<<< HEAD:analysis/analysis.ipynb
     "execution_count": 45,
=======
     "execution_count": 9,
>>>>>>> 74afaaea9bd27bd22b47c9000ff0453e2e2f7968:analysis.ipynb
     "metadata": {},
     "output_type": "execute_result"
    }
   ],
   "source": [
    "# Gets statistics of numerical columns\n",
    "wine_df.describe()"
   ]
  },
  {
   "cell_type": "code",
<<<<<<< HEAD:analysis/analysis.ipynb
   "execution_count": 46,
=======
   "execution_count": 10,
>>>>>>> 74afaaea9bd27bd22b47c9000ff0453e2e2f7968:analysis.ipynb
   "metadata": {},
   "outputs": [
    {
     "data": {
      "text/html": [
       "\n",
       "<style>\n",
<<<<<<< HEAD:analysis/analysis.ipynb
       "  #altair-viz-d36a0530b5194773b9ed6136a809d3ec.vega-embed {\n",
=======
       "  #altair-viz-5ecc336f10c246a5813de4e18de1086b.vega-embed {\n",
>>>>>>> 74afaaea9bd27bd22b47c9000ff0453e2e2f7968:analysis.ipynb
       "    width: 100%;\n",
       "    display: flex;\n",
       "  }\n",
       "\n",
<<<<<<< HEAD:analysis/analysis.ipynb
       "  #altair-viz-d36a0530b5194773b9ed6136a809d3ec.vega-embed details,\n",
       "  #altair-viz-d36a0530b5194773b9ed6136a809d3ec.vega-embed details summary {\n",
       "    position: relative;\n",
       "  }\n",
       "</style>\n",
       "<div id=\"altair-viz-d36a0530b5194773b9ed6136a809d3ec\"></div>\n",
=======
       "  #altair-viz-5ecc336f10c246a5813de4e18de1086b.vega-embed details,\n",
       "  #altair-viz-5ecc336f10c246a5813de4e18de1086b.vega-embed details summary {\n",
       "    position: relative;\n",
       "  }\n",
       "</style>\n",
       "<div id=\"altair-viz-5ecc336f10c246a5813de4e18de1086b\"></div>\n",
>>>>>>> 74afaaea9bd27bd22b47c9000ff0453e2e2f7968:analysis.ipynb
       "<script type=\"text/javascript\">\n",
       "  var VEGA_DEBUG = (typeof VEGA_DEBUG == \"undefined\") ? {} : VEGA_DEBUG;\n",
       "  (function(spec, embedOpt){\n",
       "    let outputDiv = document.currentScript.previousElementSibling;\n",
<<<<<<< HEAD:analysis/analysis.ipynb
       "    if (outputDiv.id !== \"altair-viz-d36a0530b5194773b9ed6136a809d3ec\") {\n",
       "      outputDiv = document.getElementById(\"altair-viz-d36a0530b5194773b9ed6136a809d3ec\");\n",
=======
       "    if (outputDiv.id !== \"altair-viz-5ecc336f10c246a5813de4e18de1086b\") {\n",
       "      outputDiv = document.getElementById(\"altair-viz-5ecc336f10c246a5813de4e18de1086b\");\n",
>>>>>>> 74afaaea9bd27bd22b47c9000ff0453e2e2f7968:analysis.ipynb
       "    }\n",
       "    const paths = {\n",
       "      \"vega\": \"https://cdn.jsdelivr.net/npm/vega@5?noext\",\n",
       "      \"vega-lib\": \"https://cdn.jsdelivr.net/npm/vega-lib?noext\",\n",
       "      \"vega-lite\": \"https://cdn.jsdelivr.net/npm/vega-lite@5.20.1?noext\",\n",
       "      \"vega-embed\": \"https://cdn.jsdelivr.net/npm/vega-embed@6?noext\",\n",
       "    };\n",
       "\n",
       "    function maybeLoadScript(lib, version) {\n",
       "      var key = `${lib.replace(\"-\", \"\")}_version`;\n",
       "      return (VEGA_DEBUG[key] == version) ?\n",
       "        Promise.resolve(paths[lib]) :\n",
       "        new Promise(function(resolve, reject) {\n",
       "          var s = document.createElement('script');\n",
       "          document.getElementsByTagName(\"head\")[0].appendChild(s);\n",
       "          s.async = true;\n",
       "          s.onload = () => {\n",
       "            VEGA_DEBUG[key] = version;\n",
       "            return resolve(paths[lib]);\n",
       "          };\n",
       "          s.onerror = () => reject(`Error loading script: ${paths[lib]}`);\n",
       "          s.src = paths[lib];\n",
       "        });\n",
       "    }\n",
       "\n",
       "    function showError(err) {\n",
       "      outputDiv.innerHTML = `<div class=\"error\" style=\"color:red;\">${err}</div>`;\n",
       "      throw err;\n",
       "    }\n",
       "\n",
       "    function displayChart(vegaEmbed) {\n",
       "      vegaEmbed(outputDiv, spec, embedOpt)\n",
       "        .catch(err => showError(`Javascript Error: ${err.message}<br>This usually means there's a typo in your chart specification. See the javascript console for the full traceback.`));\n",
       "    }\n",
       "\n",
       "    if(typeof define === \"function\" && define.amd) {\n",
       "      requirejs.config({paths});\n",
       "      require([\"vega-embed\"], displayChart, err => showError(`Error loading script: ${err.message}`));\n",
       "    } else {\n",
       "      maybeLoadScript(\"vega\", \"5\")\n",
       "        .then(() => maybeLoadScript(\"vega-lite\", \"5.20.1\"))\n",
       "        .then(() => maybeLoadScript(\"vega-embed\", \"6\"))\n",
       "        .catch(showError)\n",
       "        .then(() => displayChart(vegaEmbed));\n",
       "    }\n",
<<<<<<< HEAD:analysis/analysis.ipynb
       "  })({\"$schema\": \"https://vega.github.io/schema/vega/v5.json\", \"data\": [{\"name\": \"source_0\"}, {\"name\": \"data_0\", \"values\": [{\"__count\": 2138, \"bin_maxbins_40_quality\": 5.0, \"bin_maxbins_40_quality_end\": 5.2}, {\"__count\": 2836, \"bin_maxbins_40_quality\": 6.0, \"bin_maxbins_40_quality_end\": 6.2}, {\"__count\": 1079, \"bin_maxbins_40_quality\": 7.0, \"bin_maxbins_40_quality_end\": 7.2}, {\"__count\": 216, \"bin_maxbins_40_quality\": 4.0, \"bin_maxbins_40_quality_end\": 4.2}, {\"__count\": 193, \"bin_maxbins_40_quality\": 8.0, \"bin_maxbins_40_quality_end\": 8.2}, {\"__count\": 30, \"bin_maxbins_40_quality\": 3.0, \"bin_maxbins_40_quality_end\": 3.2}, {\"__count\": 5, \"bin_maxbins_40_quality\": 8.8, \"bin_maxbins_40_quality_end\": 9.0}]}, {\"name\": \"data_1\", \"values\": [{\"__count\": 1274, \"bin_maxbins_40_fixed_acidity\": 7.0, \"bin_maxbins_40_fixed_acidity_end\": 7.5}, {\"__count\": 778, \"bin_maxbins_40_fixed_acidity\": 7.5, \"bin_maxbins_40_fixed_acidity_end\": 8.0}, {\"__count\": 29, \"bin_maxbins_40_fixed_acidity\": 11.0, \"bin_maxbins_40_fixed_acidity_end\": 11.5}, {\"__count\": 1466, \"bin_maxbins_40_fixed_acidity\": 6.5, \"bin_maxbins_40_fixed_acidity_end\": 7.0}, {\"__count\": 444, \"bin_maxbins_40_fixed_acidity\": 5.5, \"bin_maxbins_40_fixed_acidity_end\": 6.0}, {\"__count\": 243, \"bin_maxbins_40_fixed_acidity\": 8.5, \"bin_maxbins_40_fixed_acidity_end\": 9.0}, {\"__count\": 458, \"bin_maxbins_40_fixed_acidity\": 8.0, \"bin_maxbins_40_fixed_acidity_end\": 8.5}, {\"__count\": 1090, \"bin_maxbins_40_fixed_acidity\": 6.0, \"bin_maxbins_40_fixed_acidity_end\": 6.5}, {\"__count\": 155, \"bin_maxbins_40_fixed_acidity\": 5.0, \"bin_maxbins_40_fixed_acidity_end\": 5.5}, {\"__count\": 26, \"bin_maxbins_40_fixed_acidity\": 4.5, \"bin_maxbins_40_fixed_acidity_end\": 5.0}, {\"__count\": 90, \"bin_maxbins_40_fixed_acidity\": 10.0, \"bin_maxbins_40_fixed_acidity_end\": 10.5}, {\"__count\": 168, \"bin_maxbins_40_fixed_acidity\": 9.0, \"bin_maxbins_40_fixed_acidity_end\": 9.5}, {\"__count\": 102, \"bin_maxbins_40_fixed_acidity\": 9.5, \"bin_maxbins_40_fixed_acidity_end\": 10.0}, {\"__count\": 44, \"bin_maxbins_40_fixed_acidity\": 11.5, \"bin_maxbins_40_fixed_acidity_end\": 12.0}, {\"__count\": 22, \"bin_maxbins_40_fixed_acidity\": 12.5, \"bin_maxbins_40_fixed_acidity_end\": 13.0}, {\"__count\": 21, \"bin_maxbins_40_fixed_acidity\": 12.0, \"bin_maxbins_40_fixed_acidity_end\": 12.5}, {\"__count\": 2, \"bin_maxbins_40_fixed_acidity\": 15.0, \"bin_maxbins_40_fixed_acidity_end\": 15.5}, {\"__count\": 56, \"bin_maxbins_40_fixed_acidity\": 10.5, \"bin_maxbins_40_fixed_acidity_end\": 11.0}, {\"__count\": 10, \"bin_maxbins_40_fixed_acidity\": 13.0, \"bin_maxbins_40_fixed_acidity_end\": 13.5}, {\"__count\": 4, \"bin_maxbins_40_fixed_acidity\": 13.5, \"bin_maxbins_40_fixed_acidity_end\": 14.0}, {\"__count\": 3, \"bin_maxbins_40_fixed_acidity\": 14.0, \"bin_maxbins_40_fixed_acidity_end\": 14.5}, {\"__count\": 5, \"bin_maxbins_40_fixed_acidity\": 15.5, \"bin_maxbins_40_fixed_acidity_end\": 16.0}, {\"__count\": 5, \"bin_maxbins_40_fixed_acidity\": 4.0, \"bin_maxbins_40_fixed_acidity_end\": 4.5}, {\"__count\": 2, \"bin_maxbins_40_fixed_acidity\": 3.5, \"bin_maxbins_40_fixed_acidity_end\": 4.0}]}, {\"name\": \"data_2\", \"values\": [{\"__count\": 80, \"bin_maxbins_40_volatile_acidity\": 0.7000000000000001, \"bin_maxbins_40_volatile_acidity_end\": 0.7500000000000001}, {\"__count\": 27, \"bin_maxbins_40_volatile_acidity\": 0.8500000000000001, \"bin_maxbins_40_volatile_acidity_end\": 0.9000000000000001}, {\"__count\": 56, \"bin_maxbins_40_volatile_acidity\": 0.7500000000000001, \"bin_maxbins_40_volatile_acidity_end\": 0.8000000000000002}, {\"__count\": 1215, \"bin_maxbins_40_volatile_acidity\": 0.25, \"bin_maxbins_40_volatile_acidity_end\": 0.3}, {\"__count\": 154, \"bin_maxbins_40_volatile_acidity\": 0.6500000000000001, \"bin_maxbins_40_volatile_acidity_end\": 0.7000000000000002}, {\"__count\": 219, \"bin_maxbins_40_volatile_acidity\": 0.6000000000000001, \"bin_maxbins_40_volatile_acidity_end\": 0.6500000000000001}, {\"__count\": 211, \"bin_maxbins_40_volatile_acidity\": 0.55, \"bin_maxbins_40_volatile_acidity_end\": 0.6000000000000001}, {\"__count\": 221, \"bin_maxbins_40_volatile_acidity\": 0.5, \"bin_maxbins_40_volatile_acidity_end\": 0.55}, {\"__count\": 946, \"bin_maxbins_40_volatile_acidity\": 0.3, \"bin_maxbins_40_volatile_acidity_end\": 0.35}, {\"__count\": 1153, \"bin_maxbins_40_volatile_acidity\": 0.2, \"bin_maxbins_40_volatile_acidity_end\": 0.25}, {\"__count\": 546, \"bin_maxbins_40_volatile_acidity\": 0.35000000000000003, \"bin_maxbins_40_volatile_acidity_end\": 0.4}, {\"__count\": 413, \"bin_maxbins_40_volatile_acidity\": 0.4, \"bin_maxbins_40_volatile_acidity_end\": 0.45}, {\"__count\": 246, \"bin_maxbins_40_volatile_acidity\": 0.45, \"bin_maxbins_40_volatile_acidity_end\": 0.5}, {\"__count\": 3, \"bin_maxbins_40_volatile_acidity\": 1.1, \"bin_maxbins_40_volatile_acidity_end\": 1.1500000000000001}, {\"__count\": 16, \"bin_maxbins_40_volatile_acidity\": 0.9000000000000001, \"bin_maxbins_40_volatile_acidity_end\": 0.9500000000000002}, {\"__count\": 15, \"bin_maxbins_40_volatile_acidity\": 1.0, \"bin_maxbins_40_volatile_acidity_end\": 1.05}, {\"__count\": 2, \"bin_maxbins_40_volatile_acidity\": 1.05, \"bin_maxbins_40_volatile_acidity_end\": 1.1}, {\"__count\": 2, \"bin_maxbins_40_volatile_acidity\": 1.3, \"bin_maxbins_40_volatile_acidity_end\": 1.35}, {\"__count\": 13, \"bin_maxbins_40_volatile_acidity\": 0.9500000000000001, \"bin_maxbins_40_volatile_acidity_end\": 1.0}, {\"__count\": 33, \"bin_maxbins_40_volatile_acidity\": 0.8, \"bin_maxbins_40_volatile_acidity_end\": 0.8500000000000001}, {\"__count\": 743, \"bin_maxbins_40_volatile_acidity\": 0.15000000000000002, \"bin_maxbins_40_volatile_acidity_end\": 0.2}, {\"__count\": 1, \"bin_maxbins_40_volatile_acidity\": 1.2000000000000002, \"bin_maxbins_40_volatile_acidity_end\": 1.2500000000000002}, {\"__count\": 2, \"bin_maxbins_40_volatile_acidity\": 1.1500000000000001, \"bin_maxbins_40_volatile_acidity_end\": 1.2000000000000002}, {\"__count\": 173, \"bin_maxbins_40_volatile_acidity\": 0.1, \"bin_maxbins_40_volatile_acidity_end\": 0.15000000000000002}, {\"__count\": 1, \"bin_maxbins_40_volatile_acidity\": 1.55, \"bin_maxbins_40_volatile_acidity_end\": 1.6}, {\"__count\": 6, \"bin_maxbins_40_volatile_acidity\": 0.05, \"bin_maxbins_40_volatile_acidity_end\": 0.1}]}, {\"name\": \"data_3\", \"values\": [{\"__count\": 320, \"bin_maxbins_40_citric_acid\": 0.0, \"bin_maxbins_40_citric_acid_end\": 0.05}, {\"__count\": 119, \"bin_maxbins_40_citric_acid\": 0.55, \"bin_maxbins_40_citric_acid_end\": 0.6000000000000001}, {\"__count\": 168, \"bin_maxbins_40_citric_acid\": 0.05, \"bin_maxbins_40_citric_acid_end\": 0.1}, {\"__count\": 765, \"bin_maxbins_40_citric_acid\": 0.35000000000000003, \"bin_maxbins_40_citric_acid_end\": 0.4}, {\"__count\": 1201, \"bin_maxbins_40_citric_acid\": 0.25, \"bin_maxbins_40_citric_acid_end\": 0.3}, {\"__count\": 267, \"bin_maxbins_40_citric_acid\": 0.15000000000000002, \"bin_maxbins_40_citric_acid_end\": 0.2}, {\"__count\": 195, \"bin_maxbins_40_citric_acid\": 0.5, \"bin_maxbins_40_citric_acid_end\": 0.55}, {\"__count\": 539, \"bin_maxbins_40_citric_acid\": 0.45, \"bin_maxbins_40_citric_acid_end\": 0.5}, {\"__count\": 1313, \"bin_maxbins_40_citric_acid\": 0.30000000000000004, \"bin_maxbins_40_citric_acid_end\": 0.35000000000000003}, {\"__count\": 665, \"bin_maxbins_40_citric_acid\": 0.2, \"bin_maxbins_40_citric_acid_end\": 0.25}, {\"__count\": 194, \"bin_maxbins_40_citric_acid\": 0.1, \"bin_maxbins_40_citric_acid_end\": 0.15000000000000002}, {\"__count\": 506, \"bin_maxbins_40_citric_acid\": 0.4, \"bin_maxbins_40_citric_acid_end\": 0.45}, {\"__count\": 70, \"bin_maxbins_40_citric_acid\": 0.6000000000000001, \"bin_maxbins_40_citric_acid_end\": 0.6500000000000001}, {\"__count\": 74, \"bin_maxbins_40_citric_acid\": 0.7000000000000001, \"bin_maxbins_40_citric_acid_end\": 0.7500000000000001}, {\"__count\": 72, \"bin_maxbins_40_citric_acid\": 0.65, \"bin_maxbins_40_citric_acid_end\": 0.7000000000000001}, {\"__count\": 6, \"bin_maxbins_40_citric_acid\": 1.0, \"bin_maxbins_40_citric_acid_end\": 1.05}, {\"__count\": 10, \"bin_maxbins_40_citric_acid\": 0.75, \"bin_maxbins_40_citric_acid_end\": 0.8}, {\"__count\": 2, \"bin_maxbins_40_citric_acid\": 0.8500000000000001, \"bin_maxbins_40_citric_acid_end\": 0.9000000000000001}, {\"__count\": 1, \"bin_maxbins_40_citric_acid\": 1.6500000000000001, \"bin_maxbins_40_citric_acid_end\": 1.7000000000000002}, {\"__count\": 6, \"bin_maxbins_40_citric_acid\": 0.8, \"bin_maxbins_40_citric_acid_end\": 0.8500000000000001}, {\"__count\": 1, \"bin_maxbins_40_citric_acid\": 0.9500000000000001, \"bin_maxbins_40_citric_acid_end\": 1.0}, {\"__count\": 1, \"bin_maxbins_40_citric_acid\": 1.2000000000000002, \"bin_maxbins_40_citric_acid_end\": 1.2500000000000002}, {\"__count\": 2, \"bin_maxbins_40_citric_acid\": 0.9, \"bin_maxbins_40_citric_acid_end\": 0.9500000000000001}]}, {\"name\": \"data_4\", \"values\": [{\"__count\": 1885, \"bin_maxbins_40_residual_sugar\": 0.0, \"bin_maxbins_40_residual_sugar_end\": 2.0}, {\"__count\": 1656, \"bin_maxbins_40_residual_sugar\": 2.0, \"bin_maxbins_40_residual_sugar_end\": 4.0}, {\"__count\": 653, \"bin_maxbins_40_residual_sugar\": 6.0, \"bin_maxbins_40_residual_sugar_end\": 8.0}, {\"__count\": 628, \"bin_maxbins_40_residual_sugar\": 4.0, \"bin_maxbins_40_residual_sugar_end\": 6.0}, {\"__count\": 372, \"bin_maxbins_40_residual_sugar\": 10.0, \"bin_maxbins_40_residual_sugar_end\": 12.0}, {\"__count\": 265, \"bin_maxbins_40_residual_sugar\": 14.0, \"bin_maxbins_40_residual_sugar_end\": 16.0}, {\"__count\": 453, \"bin_maxbins_40_residual_sugar\": 8.0, \"bin_maxbins_40_residual_sugar_end\": 10.0}, {\"__count\": 354, \"bin_maxbins_40_residual_sugar\": 12.0, \"bin_maxbins_40_residual_sugar_end\": 14.0}, {\"__count\": 9, \"bin_maxbins_40_residual_sugar\": 20.0, \"bin_maxbins_40_residual_sugar_end\": 22.0}, {\"__count\": 67, \"bin_maxbins_40_residual_sugar\": 18.0, \"bin_maxbins_40_residual_sugar_end\": 20.0}, {\"__count\": 146, \"bin_maxbins_40_residual_sugar\": 16.0, \"bin_maxbins_40_residual_sugar_end\": 18.0}, {\"__count\": 4, \"bin_maxbins_40_residual_sugar\": 22.0, \"bin_maxbins_40_residual_sugar_end\": 24.0}, {\"__count\": 2, \"bin_maxbins_40_residual_sugar\": 30.0, \"bin_maxbins_40_residual_sugar_end\": 32.0}, {\"__count\": 1, \"bin_maxbins_40_residual_sugar\": 64.0, \"bin_maxbins_40_residual_sugar_end\": 66.0}, {\"__count\": 2, \"bin_maxbins_40_residual_sugar\": 26.0, \"bin_maxbins_40_residual_sugar_end\": 28.0}]}, {\"name\": \"data_5\", \"values\": [{\"__count\": 900, \"bin_maxbins_40_chlorides\": 0.06, \"bin_maxbins_40_chlorides_end\": 0.08}, {\"__count\": 613, \"bin_maxbins_40_chlorides\": 0.08, \"bin_maxbins_40_chlorides_end\": 0.1}, {\"__count\": 151, \"bin_maxbins_40_chlorides\": 0.1, \"bin_maxbins_40_chlorides_end\": 0.12000000000000001}, {\"__count\": 38, \"bin_maxbins_40_chlorides\": 0.16, \"bin_maxbins_40_chlorides_end\": 0.18}, {\"__count\": 3, \"bin_maxbins_40_chlorides\": 0.36, \"bin_maxbins_40_chlorides_end\": 0.38}, {\"__count\": 4, \"bin_maxbins_40_chlorides\": 0.34, \"bin_maxbins_40_chlorides_end\": 0.36000000000000004}, {\"__count\": 2, \"bin_maxbins_40_chlorides\": 0.32, \"bin_maxbins_40_chlorides_end\": 0.34}, {\"__count\": 2748, \"bin_maxbins_40_chlorides\": 0.04, \"bin_maxbins_40_chlorides_end\": 0.06}, {\"__count\": 2, \"bin_maxbins_40_chlorides\": 0.46, \"bin_maxbins_40_chlorides_end\": 0.48000000000000004}, {\"__count\": 8, \"bin_maxbins_40_chlorides\": 0.4, \"bin_maxbins_40_chlorides_end\": 0.42000000000000004}, {\"__count\": 53, \"bin_maxbins_40_chlorides\": 0.12, \"bin_maxbins_40_chlorides_end\": 0.13999999999999999}, {\"__count\": 32, \"bin_maxbins_40_chlorides\": 0.14, \"bin_maxbins_40_chlorides_end\": 0.16}, {\"__count\": 7, \"bin_maxbins_40_chlorides\": 0.22, \"bin_maxbins_40_chlorides_end\": 0.24}, {\"__count\": 2, \"bin_maxbins_40_chlorides\": 0.6, \"bin_maxbins_40_chlorides_end\": 0.62}, {\"__count\": 4, \"bin_maxbins_40_chlorides\": 0.26, \"bin_maxbins_40_chlorides_end\": 0.28}, {\"__count\": 1848, \"bin_maxbins_40_chlorides\": 0.02, \"bin_maxbins_40_chlorides_end\": 0.04}, {\"__count\": 12, \"bin_maxbins_40_chlorides\": 0.18, \"bin_maxbins_40_chlorides_end\": 0.19999999999999998}, {\"__count\": 18, \"bin_maxbins_40_chlorides\": 0.2, \"bin_maxbins_40_chlorides_end\": 0.22}, {\"__count\": 6, \"bin_maxbins_40_chlorides\": 0.24, \"bin_maxbins_40_chlorides_end\": 0.26}, {\"__count\": 1, \"bin_maxbins_40_chlorides\": 0.42, \"bin_maxbins_40_chlorides_end\": 0.44}, {\"__count\": 1, \"bin_maxbins_40_chlorides\": 0.38, \"bin_maxbins_40_chlorides_end\": 0.4}, {\"__count\": 42, \"bin_maxbins_40_chlorides\": 0.0, \"bin_maxbins_40_chlorides_end\": 0.02}, {\"__count\": 1, \"bin_maxbins_40_chlorides\": 0.28, \"bin_maxbins_40_chlorides_end\": 0.30000000000000004}, {\"__count\": 1, \"bin_maxbins_40_chlorides\": 0.3, \"bin_maxbins_40_chlorides_end\": 0.32}]}, {\"name\": \"data_6\", \"values\": [{\"__count\": 1271, \"bin_maxbins_40_free_sulfur_dioxide\": 10.0, \"bin_maxbins_40_free_sulfur_dioxide_end\": 20.0}, {\"__count\": 1427, \"bin_maxbins_40_free_sulfur_dioxide\": 20.0, \"bin_maxbins_40_free_sulfur_dioxide_end\": 30.0}, {\"__count\": 694, \"bin_maxbins_40_free_sulfur_dioxide\": 0.0, \"bin_maxbins_40_free_sulfur_dioxide_end\": 10.0}, {\"__count\": 562, \"bin_maxbins_40_free_sulfur_dioxide\": 50.0, \"bin_maxbins_40_free_sulfur_dioxide_end\": 60.0}, {\"__count\": 1275, \"bin_maxbins_40_free_sulfur_dioxide\": 30.0, \"bin_maxbins_40_free_sulfur_dioxide_end\": 40.0}, {\"__count\": 880, \"bin_maxbins_40_free_sulfur_dioxide\": 40.0, \"bin_maxbins_40_free_sulfur_dioxide_end\": 50.0}, {\"__count\": 268, \"bin_maxbins_40_free_sulfur_dioxide\": 60.0, \"bin_maxbins_40_free_sulfur_dioxide_end\": 70.0}, {\"__count\": 69, \"bin_maxbins_40_free_sulfur_dioxide\": 70.0, \"bin_maxbins_40_free_sulfur_dioxide_end\": 80.0}, {\"__count\": 25, \"bin_maxbins_40_free_sulfur_dioxide\": 80.0, \"bin_maxbins_40_free_sulfur_dioxide_end\": 90.0}, {\"__count\": 2, \"bin_maxbins_40_free_sulfur_dioxide\": 130.0, \"bin_maxbins_40_free_sulfur_dioxide_end\": 140.0}, {\"__count\": 3, \"bin_maxbins_40_free_sulfur_dioxide\": 120.0, \"bin_maxbins_40_free_sulfur_dioxide_end\": 130.0}, {\"__count\": 3, \"bin_maxbins_40_free_sulfur_dioxide\": 110.0, \"bin_maxbins_40_free_sulfur_dioxide_end\": 120.0}, {\"__count\": 9, \"bin_maxbins_40_free_sulfur_dioxide\": 90.0, \"bin_maxbins_40_free_sulfur_dioxide_end\": 100.0}, {\"__count\": 1, \"bin_maxbins_40_free_sulfur_dioxide\": 140.0, \"bin_maxbins_40_free_sulfur_dioxide_end\": 150.0}, {\"__count\": 7, \"bin_maxbins_40_free_sulfur_dioxide\": 100.0, \"bin_maxbins_40_free_sulfur_dioxide_end\": 110.0}, {\"__count\": 1, \"bin_maxbins_40_free_sulfur_dioxide\": 280.0, \"bin_maxbins_40_free_sulfur_dioxide_end\": 290.0}]}, {\"name\": \"data_7\", \"values\": [{\"__count\": 532, \"bin_maxbins_40_total_sulfur_dioxide\": 20.0, \"bin_maxbins_40_total_sulfur_dioxide_end\": 40.0}, {\"__count\": 421, \"bin_maxbins_40_total_sulfur_dioxide\": 60.0, \"bin_maxbins_40_total_sulfur_dioxide_end\": 80.0}, {\"__count\": 380, \"bin_maxbins_40_total_sulfur_dioxide\": 40.0, \"bin_maxbins_40_total_sulfur_dioxide_end\": 60.0}, {\"__count\": 335, \"bin_maxbins_40_total_sulfur_dioxide\": 0.0, \"bin_maxbins_40_total_sulfur_dioxide_end\": 20.0}, {\"__count\": 966, \"bin_maxbins_40_total_sulfur_dioxide\": 100.0, \"bin_maxbins_40_total_sulfur_dioxide_end\": 120.0}, {\"__count\": 798, \"bin_maxbins_40_total_sulfur_dioxide\": 140.0, \"bin_maxbins_40_total_sulfur_dioxide_end\": 160.0}, {\"__count\": 687, \"bin_maxbins_40_total_sulfur_dioxide\": 80.0, \"bin_maxbins_40_total_sulfur_dioxide_end\": 100.0}, {\"__count\": 896, \"bin_maxbins_40_total_sulfur_dioxide\": 120.0, \"bin_maxbins_40_total_sulfur_dioxide_end\": 140.0}, {\"__count\": 615, \"bin_maxbins_40_total_sulfur_dioxide\": 160.0, \"bin_maxbins_40_total_sulfur_dioxide_end\": 180.0}, {\"__count\": 4, \"bin_maxbins_40_total_sulfur_dioxide\": 260.0, \"bin_maxbins_40_total_sulfur_dioxide_end\": 280.0}, {\"__count\": 3, \"bin_maxbins_40_total_sulfur_dioxide\": 280.0, \"bin_maxbins_40_total_sulfur_dioxide_end\": 300.0}, {\"__count\": 456, \"bin_maxbins_40_total_sulfur_dioxide\": 180.0, \"bin_maxbins_40_total_sulfur_dioxide_end\": 200.0}, {\"__count\": 47, \"bin_maxbins_40_total_sulfur_dioxide\": 240.0, \"bin_maxbins_40_total_sulfur_dioxide_end\": 260.0}, {\"__count\": 238, \"bin_maxbins_40_total_sulfur_dioxide\": 200.0, \"bin_maxbins_40_total_sulfur_dioxide_end\": 220.0}, {\"__count\": 113, \"bin_maxbins_40_total_sulfur_dioxide\": 220.0, \"bin_maxbins_40_total_sulfur_dioxide_end\": 240.0}, {\"__count\": 3, \"bin_maxbins_40_total_sulfur_dioxide\": 300.0, \"bin_maxbins_40_total_sulfur_dioxide_end\": 320.0}, {\"__count\": 1, \"bin_maxbins_40_total_sulfur_dioxide\": 360.0, \"bin_maxbins_40_total_sulfur_dioxide_end\": 380.0}, {\"__count\": 1, \"bin_maxbins_40_total_sulfur_dioxide\": 340.0, \"bin_maxbins_40_total_sulfur_dioxide_end\": 360.0}, {\"__count\": 1, \"bin_maxbins_40_total_sulfur_dioxide\": 420.0, \"bin_maxbins_40_total_sulfur_dioxide_end\": 440.0}]}, {\"name\": \"data_8\", \"values\": [{\"__count\": 1414, \"bin_maxbins_40_density\": 0.996, \"bin_maxbins_40_density_end\": 0.998}, {\"__count\": 765, \"bin_maxbins_40_density\": 0.998, \"bin_maxbins_40_density_end\": 1.0}, {\"__count\": 1449, \"bin_maxbins_40_density\": 0.994, \"bin_maxbins_40_density_end\": 0.996}, {\"__count\": 1293, \"bin_maxbins_40_density\": 0.992, \"bin_maxbins_40_density_end\": 0.994}, {\"__count\": 1055, \"bin_maxbins_40_density\": 0.99, \"bin_maxbins_40_density_end\": 0.992}, {\"__count\": 154, \"bin_maxbins_40_density\": 1.0, \"bin_maxbins_40_density_end\": 1.002}, {\"__count\": 19, \"bin_maxbins_40_density\": 1.002, \"bin_maxbins_40_density_end\": 1.004}, {\"__count\": 332, \"bin_maxbins_40_density\": 0.988, \"bin_maxbins_40_density_end\": 0.99}, {\"__count\": 2, \"bin_maxbins_40_density\": 1.01, \"bin_maxbins_40_density_end\": 1.012}, {\"__count\": 1, \"bin_maxbins_40_density\": 1.038, \"bin_maxbins_40_density_end\": 1.04}, {\"__count\": 13, \"bin_maxbins_40_density\": 0.986, \"bin_maxbins_40_density_end\": 0.988}]}, {\"name\": \"data_9\", \"values\": [{\"__count\": 153, \"bin_maxbins_40_ph\": 3.5, \"bin_maxbins_40_ph_end\": 3.55}, {\"__count\": 801, \"bin_maxbins_40_ph\": 3.2, \"bin_maxbins_40_ph_end\": 3.25}, {\"__count\": 669, \"bin_maxbins_40_ph\": 3.25, \"bin_maxbins_40_ph_end\": 3.3}, {\"__count\": 859, \"bin_maxbins_40_ph\": 3.1500000000000004, \"bin_maxbins_40_ph_end\": 3.2}, {\"__count\": 607, \"bin_maxbins_40_ph\": 3.3000000000000003, \"bin_maxbins_40_ph_end\": 3.35}, {\"__count\": 506, \"bin_maxbins_40_ph\": 3.35, \"bin_maxbins_40_ph_end\": 3.4}, {\"__count\": 80, \"bin_maxbins_40_ph\": 3.5500000000000003, \"bin_maxbins_40_ph_end\": 3.6}, {\"__count\": 766, \"bin_maxbins_40_ph\": 3.1, \"bin_maxbins_40_ph_end\": 3.15}, {\"__count\": 401, \"bin_maxbins_40_ph\": 3.0, \"bin_maxbins_40_ph_end\": 3.05}, {\"__count\": 320, \"bin_maxbins_40_ph\": 3.4000000000000004, \"bin_maxbins_40_ph_end\": 3.45}, {\"__count\": 202, \"bin_maxbins_40_ph\": 3.45, \"bin_maxbins_40_ph_end\": 3.5}, {\"__count\": 2, \"bin_maxbins_40_ph\": 3.9000000000000004, \"bin_maxbins_40_ph_end\": 3.95}, {\"__count\": 149, \"bin_maxbins_40_ph\": 2.9000000000000004, \"bin_maxbins_40_ph_end\": 2.95}, {\"__count\": 10, \"bin_maxbins_40_ph\": 3.75, \"bin_maxbins_40_ph_end\": 3.8}, {\"__count\": 1, \"bin_maxbins_40_ph\": 3.8500000000000005, \"bin_maxbins_40_ph_end\": 3.9000000000000004}, {\"__count\": 562, \"bin_maxbins_40_ph\": 3.0500000000000003, \"bin_maxbins_40_ph_end\": 3.1}, {\"__count\": 41, \"bin_maxbins_40_ph\": 3.6, \"bin_maxbins_40_ph_end\": 3.65}, {\"__count\": 30, \"bin_maxbins_40_ph\": 3.6500000000000004, \"bin_maxbins_40_ph_end\": 3.7}, {\"__count\": 3, \"bin_maxbins_40_ph\": 2.7, \"bin_maxbins_40_ph_end\": 2.75}, {\"__count\": 238, \"bin_maxbins_40_ph\": 2.95, \"bin_maxbins_40_ph_end\": 3.0}, {\"__count\": 63, \"bin_maxbins_40_ph\": 2.85, \"bin_maxbins_40_ph_end\": 2.9}, {\"__count\": 15, \"bin_maxbins_40_ph\": 3.7, \"bin_maxbins_40_ph_end\": 3.75}, {\"__count\": 2, \"bin_maxbins_40_ph\": 4.0, \"bin_maxbins_40_ph_end\": 4.05}, {\"__count\": 4, \"bin_maxbins_40_ph\": 3.8000000000000003, \"bin_maxbins_40_ph_end\": 3.85}, {\"__count\": 9, \"bin_maxbins_40_ph\": 2.8000000000000003, \"bin_maxbins_40_ph_end\": 2.85}, {\"__count\": 4, \"bin_maxbins_40_ph\": 2.75, \"bin_maxbins_40_ph_end\": 2.8}]}, {\"name\": \"data_10\", \"values\": [{\"__count\": 773, \"bin_maxbins_40_sulphates\": 0.55, \"bin_maxbins_40_sulphates_end\": 0.6000000000000001}, {\"__count\": 350, \"bin_maxbins_40_sulphates\": 0.65, \"bin_maxbins_40_sulphates_end\": 0.7000000000000001}, {\"__count\": 1029, \"bin_maxbins_40_sulphates\": 0.45, \"bin_maxbins_40_sulphates_end\": 0.5}, {\"__count\": 113, \"bin_maxbins_40_sulphates\": 0.8, \"bin_maxbins_40_sulphates_end\": 0.8500000000000001}, {\"__count\": 1066, \"bin_maxbins_40_sulphates\": 0.5, \"bin_maxbins_40_sulphates_end\": 0.55}, {\"__count\": 2, \"bin_maxbins_40_sulphates\": 1.55, \"bin_maxbins_40_sulphates_end\": 1.6}, {\"__count\": 69, \"bin_maxbins_40_sulphates\": 0.8500000000000001, \"bin_maxbins_40_sulphates_end\": 0.9000000000000001}, {\"__count\": 44, \"bin_maxbins_40_sulphates\": 0.9000000000000001, \"bin_maxbins_40_sulphates_end\": 0.9500000000000002}, {\"__count\": 204, \"bin_maxbins_40_sulphates\": 0.75, \"bin_maxbins_40_sulphates_end\": 0.8}, {\"__count\": 3, \"bin_maxbins_40_sulphates\": 1.25, \"bin_maxbins_40_sulphates_end\": 1.3}, {\"__count\": 15, \"bin_maxbins_40_sulphates\": 1.05, \"bin_maxbins_40_sulphates_end\": 1.1}, {\"__count\": 585, \"bin_maxbins_40_sulphates\": 0.6000000000000001, \"bin_maxbins_40_sulphates_end\": 0.6500000000000001}, {\"__count\": 248, \"bin_maxbins_40_sulphates\": 0.7, \"bin_maxbins_40_sulphates_end\": 0.75}, {\"__count\": 2, \"bin_maxbins_40_sulphates\": 1.2, \"bin_maxbins_40_sulphates_end\": 1.25}, {\"__count\": 707, \"bin_maxbins_40_sulphates\": 0.35000000000000003, \"bin_maxbins_40_sulphates_end\": 0.4}, {\"__count\": 32, \"bin_maxbins_40_sulphates\": 0.95, \"bin_maxbins_40_sulphates_end\": 1.0}, {\"__count\": 8, \"bin_maxbins_40_sulphates\": 1.1, \"bin_maxbins_40_sulphates_end\": 1.1500000000000001}, {\"__count\": 4, \"bin_maxbins_40_sulphates\": 1.95, \"bin_maxbins_40_sulphates_end\": 2.0}, {\"__count\": 3, \"bin_maxbins_40_sulphates\": 1.3, \"bin_maxbins_40_sulphates_end\": 1.35}, {\"__count\": 264, \"bin_maxbins_40_sulphates\": 0.30000000000000004, \"bin_maxbins_40_sulphates_end\": 0.35000000000000003}, {\"__count\": 11, \"bin_maxbins_40_sulphates\": 1.0, \"bin_maxbins_40_sulphates_end\": 1.05}, {\"__count\": 898, \"bin_maxbins_40_sulphates\": 0.4, \"bin_maxbins_40_sulphates_end\": 0.45}, {\"__count\": 2, \"bin_maxbins_40_sulphates\": 1.6, \"bin_maxbins_40_sulphates_end\": 1.6500000000000001}, {\"__count\": 3, \"bin_maxbins_40_sulphates\": 1.35, \"bin_maxbins_40_sulphates_end\": 1.4000000000000001}, {\"__count\": 10, \"bin_maxbins_40_sulphates\": 1.1500000000000001, \"bin_maxbins_40_sulphates_end\": 1.2000000000000002}, {\"__count\": 50, \"bin_maxbins_40_sulphates\": 0.25, \"bin_maxbins_40_sulphates_end\": 0.3}, {\"__count\": 2, \"bin_maxbins_40_sulphates\": 0.2, \"bin_maxbins_40_sulphates_end\": 0.25}]}, {\"name\": \"data_11\", \"values\": [{\"__count\": 707, \"bin_maxbins_40_alcohol\": 9.4, \"bin_maxbins_40_alcohol_end\": 9.6}, {\"__count\": 373, \"bin_maxbins_40_alcohol\": 9.8, \"bin_maxbins_40_alcohol_end\": 10.0}, {\"__count\": 398, \"bin_maxbins_40_alcohol\": 10.0, \"bin_maxbins_40_alcohol_end\": 10.2}, {\"__count\": 429, \"bin_maxbins_40_alcohol\": 10.4, \"bin_maxbins_40_alcohol_end\": 10.6}, {\"__count\": 466, \"bin_maxbins_40_alcohol\": 9.2, \"bin_maxbins_40_alcohol_end\": 9.399999999999999}, {\"__count\": 383, \"bin_maxbins_40_alcohol\": 9.0, \"bin_maxbins_40_alcohol_end\": 9.2}, {\"__count\": 350, \"bin_maxbins_40_alcohol\": 9.6, \"bin_maxbins_40_alcohol_end\": 9.799999999999999}, {\"__count\": 267, \"bin_maxbins_40_alcohol\": 10.6, \"bin_maxbins_40_alcohol_end\": 10.799999999999999}, {\"__count\": 320, \"bin_maxbins_40_alcohol\": 10.8, \"bin_maxbins_40_alcohol_end\": 11.0}, {\"__count\": 294, \"bin_maxbins_40_alcohol\": 10.2, \"bin_maxbins_40_alcohol_end\": 10.399999999999999}, {\"__count\": 64, \"bin_maxbins_40_alcohol\": 13.0, \"bin_maxbins_40_alcohol_end\": 13.2}, {\"__count\": 121, \"bin_maxbins_40_alcohol\": 12.8, \"bin_maxbins_40_alcohol_end\": 13.0}, {\"__count\": 13, \"bin_maxbins_40_alcohol\": 14.0, \"bin_maxbins_40_alcohol_end\": 14.2}, {\"__count\": 278, \"bin_maxbins_40_alcohol\": 11.4, \"bin_maxbins_40_alcohol_end\": 11.6}, {\"__count\": 185, \"bin_maxbins_40_alcohol\": 12.4, \"bin_maxbins_40_alcohol_end\": 12.6}, {\"__count\": 331, \"bin_maxbins_40_alcohol\": 11.0, \"bin_maxbins_40_alcohol_end\": 11.2}, {\"__count\": 174, \"bin_maxbins_40_alcohol\": 12.2, \"bin_maxbins_40_alcohol_end\": 12.399999999999999}, {\"__count\": 137, \"bin_maxbins_40_alcohol\": 12.600000000000001, \"bin_maxbins_40_alcohol_end\": 12.8}, {\"__count\": 148, \"bin_maxbins_40_alcohol\": 11.6, \"bin_maxbins_40_alcohol_end\": 11.799999999999999}, {\"__count\": 287, \"bin_maxbins_40_alcohol\": 11.2, \"bin_maxbins_40_alcohol_end\": 11.399999999999999}, {\"__count\": 191, \"bin_maxbins_40_alcohol\": 12.0, \"bin_maxbins_40_alcohol_end\": 12.2}, {\"__count\": 167, \"bin_maxbins_40_alcohol\": 11.8, \"bin_maxbins_40_alcohol_end\": 12.0}, {\"__count\": 103, \"bin_maxbins_40_alcohol\": 8.6, \"bin_maxbins_40_alcohol_end\": 8.799999999999999}, {\"__count\": 25, \"bin_maxbins_40_alcohol\": 13.2, \"bin_maxbins_40_alcohol_end\": 13.399999999999999}, {\"__count\": 38, \"bin_maxbins_40_alcohol\": 13.4, \"bin_maxbins_40_alcohol_end\": 13.6}, {\"__count\": 15, \"bin_maxbins_40_alcohol\": 8.4, \"bin_maxbins_40_alcohol_end\": 8.6}, {\"__count\": 1, \"bin_maxbins_40_alcohol\": 14.8, \"bin_maxbins_40_alcohol_end\": 15.0}, {\"__count\": 20, \"bin_maxbins_40_alcohol\": 13.600000000000001, \"bin_maxbins_40_alcohol_end\": 13.8}, {\"__count\": 204, \"bin_maxbins_40_alcohol\": 8.8, \"bin_maxbins_40_alcohol_end\": 9.0}, {\"__count\": 5, \"bin_maxbins_40_alcohol\": 13.8, \"bin_maxbins_40_alcohol_end\": 14.0}, {\"__count\": 2, \"bin_maxbins_40_alcohol\": 8.0, \"bin_maxbins_40_alcohol_end\": 8.2}, {\"__count\": 1, \"bin_maxbins_40_alcohol\": 14.2, \"bin_maxbins_40_alcohol_end\": 14.399999999999999}]}, {\"name\": \"data_1_child__fixed_acidity_y_domain___count\", \"values\": [{\"min\": 2, \"max\": 1466}]}, {\"name\": \"data_2_child__volatile_acidity_y_domain___count\", \"values\": [{\"min\": 1, \"max\": 1215}]}, {\"name\": \"data_3_child__citric_acid_y_domain___count\", \"values\": [{\"min\": 1, \"max\": 1313}]}, {\"name\": \"data_4_child__residual_sugar_y_domain___count\", \"values\": [{\"min\": 1, \"max\": 1885}]}, {\"name\": \"data_5_child__chlorides_y_domain___count\", \"values\": [{\"min\": 1, \"max\": 2748}]}, {\"name\": \"data_6_child__free_sulfur_dioxide_y_domain___count\", \"values\": [{\"min\": 1, \"max\": 1427}]}, {\"name\": \"data_7_child__total_sulfur_dioxide_y_domain___count\", \"values\": [{\"min\": 1, \"max\": 966}]}, {\"name\": \"data_8_child__density_y_domain___count\", \"values\": [{\"min\": 1, \"max\": 1449}]}, {\"name\": \"data_9_child__ph_y_domain___count\", \"values\": [{\"min\": 1, \"max\": 859}]}, {\"name\": \"data_10_child__sulphates_y_domain___count\", \"values\": [{\"min\": 2, \"max\": 1066}]}, {\"name\": \"data_11_child__alcohol_y_domain___count\", \"values\": [{\"min\": 1, \"max\": 707}]}, {\"name\": \"data_0_child__quality_y_domain___count\", \"values\": [{\"min\": 5, \"max\": 2836}]}], \"signals\": [{\"name\": \"child__chlorides_bin_maxbins_40_chlorides_bins\", \"value\": {\"fields\": [\"chlorides\"], \"fname\": \"bin_chlorides\", \"start\": 0.0, \"step\": 0.02, \"stop\": 0.62}}, {\"name\": \"child__alcohol_bin_maxbins_40_alcohol_bins\", \"value\": {\"fields\": [\"alcohol\"], \"fname\": \"bin_alcohol\", \"start\": 8.0, \"step\": 0.2, \"stop\": 15.0}}, {\"name\": \"child__residual_sugar_bin_maxbins_40_residual_sugar_bins\", \"value\": {\"fields\": [\"residual_sugar\"], \"fname\": \"bin_residual_sugar\", \"start\": 0.0, \"step\": 2.0, \"stop\": 66.0}}, {\"name\": \"child__quality_bin_maxbins_40_quality_bins\", \"value\": {\"fields\": [\"quality\"], \"fname\": \"bin_quality\", \"start\": 3.0, \"step\": 0.2, \"stop\": 9.0}}, {\"name\": \"child__total_sulfur_dioxide_bin_maxbins_40_total_sulfur_dioxide_bins\", \"value\": {\"fields\": [\"total_sulfur_dioxide\"], \"fname\": \"bin_total_sulfur_dioxide\", \"start\": 0.0, \"step\": 20.0, \"stop\": 440.0}}, {\"name\": \"child__density_bin_maxbins_40_density_bins\", \"value\": {\"fields\": [\"density\"], \"fname\": \"bin_density\", \"start\": 0.986, \"step\": 0.002, \"stop\": 1.04}}, {\"name\": \"child__citric_acid_bin_maxbins_40_citric_acid_bins\", \"value\": {\"fields\": [\"citric_acid\"], \"fname\": \"bin_citric_acid\", \"start\": 0.0, \"step\": 0.05, \"stop\": 1.7000000000000002}}, {\"name\": \"child__fixed_acidity_bin_maxbins_40_fixed_acidity_bins\", \"value\": {\"fields\": [\"fixed_acidity\"], \"fname\": \"bin_fixed_acidity\", \"start\": 3.5, \"step\": 0.5, \"stop\": 16.0}}, {\"name\": \"child__ph_bin_maxbins_40_ph_bins\", \"value\": {\"fields\": [\"ph\"], \"fname\": \"bin_ph\", \"start\": 2.7, \"step\": 0.05, \"stop\": 4.05}}, {\"name\": \"child__free_sulfur_dioxide_bin_maxbins_40_free_sulfur_dioxide_bins\", \"value\": {\"fields\": [\"free_sulfur_dioxide\"], \"fname\": \"bin_free_sulfur_dioxide\", \"start\": 0.0, \"step\": 10.0, \"stop\": 290.0}}, {\"name\": \"child__volatile_acidity_bin_maxbins_40_volatile_acidity_bins\", \"value\": {\"fields\": [\"volatile_acidity\"], \"fname\": \"bin_volatile_acidity\", \"start\": 0.05, \"step\": 0.05, \"stop\": 1.6}}, {\"name\": \"child__sulphates_bin_maxbins_40_sulphates_bins\", \"value\": {\"fields\": [\"sulphates\"], \"fname\": \"bin_sulphates\", \"start\": 0.2, \"step\": 0.05, \"stop\": 2.0}}, {\"name\": \"childWidth\", \"value\": 300}, {\"name\": \"childHeight\", \"value\": 300}], \"marks\": [{\"type\": \"group\", \"name\": \"child__fixed_acidity_group\", \"encode\": {\"update\": {\"height\": {\"signal\": \"childHeight\"}, \"width\": {\"signal\": \"childWidth\"}}}, \"marks\": [{\"type\": \"rect\", \"name\": \"child__fixed_acidity_marks\", \"from\": {\"data\": \"data_1\"}, \"encode\": {\"update\": {\"fill\": {\"value\": \"#4c78a8\"}, \"x\": {\"field\": \"bin_maxbins_40_fixed_acidity_end\", \"scale\": \"child__fixed_acidity_x\", \"offset\": {\"signal\": \"0.5 + (abs(scale(\\\"child__fixed_acidity_x\\\", datum[\\\"bin_maxbins_40_fixed_acidity_end\\\"]) - scale(\\\"child__fixed_acidity_x\\\", datum[\\\"bin_maxbins_40_fixed_acidity\\\"])) < 0.25 ? 0.5 * (0.25 - (abs(scale(\\\"child__fixed_acidity_x\\\", datum[\\\"bin_maxbins_40_fixed_acidity_end\\\"]) - scale(\\\"child__fixed_acidity_x\\\", datum[\\\"bin_maxbins_40_fixed_acidity\\\"])))) : -0.5)\"}}, \"y\": {\"field\": \"__count\", \"scale\": \"child__fixed_acidity_y\"}, \"x2\": {\"field\": \"bin_maxbins_40_fixed_acidity\", \"scale\": \"child__fixed_acidity_x\", \"offset\": {\"signal\": \"0.5 + (abs(scale(\\\"child__fixed_acidity_x\\\", datum[\\\"bin_maxbins_40_fixed_acidity_end\\\"]) - scale(\\\"child__fixed_acidity_x\\\", datum[\\\"bin_maxbins_40_fixed_acidity\\\"])) < 0.25 ? -0.5 * (0.25 - (abs(scale(\\\"child__fixed_acidity_x\\\", datum[\\\"bin_maxbins_40_fixed_acidity_end\\\"]) - scale(\\\"child__fixed_acidity_x\\\", datum[\\\"bin_maxbins_40_fixed_acidity\\\"])))) : 0.5)\"}}, \"y2\": {\"value\": 0, \"scale\": \"child__fixed_acidity_y\"}}}, \"style\": [\"bar\"]}], \"axes\": [{\"scale\": \"child__fixed_acidity_y\", \"minExtent\": 0, \"grid\": true, \"orient\": \"left\", \"tickCount\": {\"signal\": \"ceil(childHeight/40)\"}, \"labels\": false, \"domain\": false, \"ticks\": false, \"zindex\": 0, \"aria\": false, \"maxExtent\": 0, \"gridScale\": \"child__fixed_acidity_x\"}, {\"scale\": \"child__fixed_acidity_x\", \"grid\": false, \"title\": \"fixed_acidity (binned)\", \"labelFlush\": true, \"labelOverlap\": true, \"tickCount\": {\"signal\": \"ceil(childWidth/10)\"}, \"zindex\": 0, \"orient\": \"bottom\"}, {\"scale\": \"child__fixed_acidity_y\", \"grid\": false, \"tickCount\": {\"signal\": \"ceil(childHeight/40)\"}, \"orient\": \"left\", \"title\": \"Count of Records\", \"zindex\": 0, \"labelOverlap\": true}], \"style\": \"cell\"}, {\"type\": \"group\", \"name\": \"child__volatile_acidity_group\", \"encode\": {\"update\": {\"width\": {\"signal\": \"childWidth\"}, \"height\": {\"signal\": \"childHeight\"}}}, \"marks\": [{\"type\": \"rect\", \"name\": \"child__volatile_acidity_marks\", \"from\": {\"data\": \"data_2\"}, \"encode\": {\"update\": {\"x2\": {\"field\": \"bin_maxbins_40_volatile_acidity\", \"scale\": \"child__volatile_acidity_x\", \"offset\": {\"signal\": \"0.5 + (abs(scale(\\\"child__volatile_acidity_x\\\", datum[\\\"bin_maxbins_40_volatile_acidity_end\\\"]) - scale(\\\"child__volatile_acidity_x\\\", datum[\\\"bin_maxbins_40_volatile_acidity\\\"])) < 0.25 ? -0.5 * (0.25 - (abs(scale(\\\"child__volatile_acidity_x\\\", datum[\\\"bin_maxbins_40_volatile_acidity_end\\\"]) - scale(\\\"child__volatile_acidity_x\\\", datum[\\\"bin_maxbins_40_volatile_acidity\\\"])))) : 0.5)\"}}, \"y\": {\"field\": \"__count\", \"scale\": \"child__volatile_acidity_y\"}, \"y2\": {\"value\": 0, \"scale\": \"child__volatile_acidity_y\"}, \"x\": {\"field\": \"bin_maxbins_40_volatile_acidity_end\", \"scale\": \"child__volatile_acidity_x\", \"offset\": {\"signal\": \"0.5 + (abs(scale(\\\"child__volatile_acidity_x\\\", datum[\\\"bin_maxbins_40_volatile_acidity_end\\\"]) - scale(\\\"child__volatile_acidity_x\\\", datum[\\\"bin_maxbins_40_volatile_acidity\\\"])) < 0.25 ? 0.5 * (0.25 - (abs(scale(\\\"child__volatile_acidity_x\\\", datum[\\\"bin_maxbins_40_volatile_acidity_end\\\"]) - scale(\\\"child__volatile_acidity_x\\\", datum[\\\"bin_maxbins_40_volatile_acidity\\\"])))) : -0.5)\"}}, \"fill\": {\"value\": \"#4c78a8\"}}}, \"style\": [\"bar\"]}], \"axes\": [{\"scale\": \"child__volatile_acidity_y\", \"gridScale\": \"child__volatile_acidity_x\", \"grid\": true, \"domain\": false, \"labels\": false, \"aria\": false, \"minExtent\": 0, \"ticks\": false, \"tickCount\": {\"signal\": \"ceil(childHeight/40)\"}, \"orient\": \"left\", \"zindex\": 0, \"maxExtent\": 0}, {\"scale\": \"child__volatile_acidity_x\", \"orient\": \"bottom\", \"zindex\": 0, \"labelFlush\": true, \"grid\": false, \"labelOverlap\": true, \"title\": \"volatile_acidity (binned)\", \"tickCount\": {\"signal\": \"ceil(childWidth/10)\"}}, {\"scale\": \"child__volatile_acidity_y\", \"title\": \"Count of Records\", \"tickCount\": {\"signal\": \"ceil(childHeight/40)\"}, \"zindex\": 0, \"orient\": \"left\", \"grid\": false, \"labelOverlap\": true}], \"style\": \"cell\"}, {\"type\": \"group\", \"name\": \"child__citric_acid_group\", \"encode\": {\"update\": {\"height\": {\"signal\": \"childHeight\"}, \"width\": {\"signal\": \"childWidth\"}}}, \"marks\": [{\"type\": \"rect\", \"name\": \"child__citric_acid_marks\", \"from\": {\"data\": \"data_3\"}, \"encode\": {\"update\": {\"fill\": {\"value\": \"#4c78a8\"}, \"x2\": {\"field\": \"bin_maxbins_40_citric_acid\", \"scale\": \"child__citric_acid_x\", \"offset\": {\"signal\": \"0.5 + (abs(scale(\\\"child__citric_acid_x\\\", datum[\\\"bin_maxbins_40_citric_acid_end\\\"]) - scale(\\\"child__citric_acid_x\\\", datum[\\\"bin_maxbins_40_citric_acid\\\"])) < 0.25 ? -0.5 * (0.25 - (abs(scale(\\\"child__citric_acid_x\\\", datum[\\\"bin_maxbins_40_citric_acid_end\\\"]) - scale(\\\"child__citric_acid_x\\\", datum[\\\"bin_maxbins_40_citric_acid\\\"])))) : 0.5)\"}}, \"x\": {\"field\": \"bin_maxbins_40_citric_acid_end\", \"scale\": \"child__citric_acid_x\", \"offset\": {\"signal\": \"0.5 + (abs(scale(\\\"child__citric_acid_x\\\", datum[\\\"bin_maxbins_40_citric_acid_end\\\"]) - scale(\\\"child__citric_acid_x\\\", datum[\\\"bin_maxbins_40_citric_acid\\\"])) < 0.25 ? 0.5 * (0.25 - (abs(scale(\\\"child__citric_acid_x\\\", datum[\\\"bin_maxbins_40_citric_acid_end\\\"]) - scale(\\\"child__citric_acid_x\\\", datum[\\\"bin_maxbins_40_citric_acid\\\"])))) : -0.5)\"}}, \"y\": {\"field\": \"__count\", \"scale\": \"child__citric_acid_y\"}, \"y2\": {\"value\": 0, \"scale\": \"child__citric_acid_y\"}}}, \"style\": [\"bar\"]}], \"axes\": [{\"scale\": \"child__citric_acid_y\", \"tickCount\": {\"signal\": \"ceil(childHeight/40)\"}, \"orient\": \"left\", \"aria\": false, \"maxExtent\": 0, \"gridScale\": \"child__citric_acid_x\", \"domain\": false, \"labels\": false, \"zindex\": 0, \"ticks\": false, \"minExtent\": 0, \"grid\": true}, {\"scale\": \"child__citric_acid_x\", \"labelFlush\": true, \"tickCount\": {\"signal\": \"ceil(childWidth/10)\"}, \"zindex\": 0, \"labelOverlap\": true, \"orient\": \"bottom\", \"title\": \"citric_acid (binned)\", \"grid\": false}, {\"scale\": \"child__citric_acid_y\", \"grid\": false, \"labelOverlap\": true, \"zindex\": 0, \"tickCount\": {\"signal\": \"ceil(childHeight/40)\"}, \"title\": \"Count of Records\", \"orient\": \"left\"}], \"style\": \"cell\"}, {\"type\": \"group\", \"name\": \"child__residual_sugar_group\", \"encode\": {\"update\": {\"width\": {\"signal\": \"childWidth\"}, \"height\": {\"signal\": \"childHeight\"}}}, \"marks\": [{\"type\": \"rect\", \"name\": \"child__residual_sugar_marks\", \"from\": {\"data\": \"data_4\"}, \"encode\": {\"update\": {\"x2\": {\"field\": \"bin_maxbins_40_residual_sugar\", \"scale\": \"child__residual_sugar_x\", \"offset\": {\"signal\": \"0.5 + (abs(scale(\\\"child__residual_sugar_x\\\", datum[\\\"bin_maxbins_40_residual_sugar_end\\\"]) - scale(\\\"child__residual_sugar_x\\\", datum[\\\"bin_maxbins_40_residual_sugar\\\"])) < 0.25 ? -0.5 * (0.25 - (abs(scale(\\\"child__residual_sugar_x\\\", datum[\\\"bin_maxbins_40_residual_sugar_end\\\"]) - scale(\\\"child__residual_sugar_x\\\", datum[\\\"bin_maxbins_40_residual_sugar\\\"])))) : 0.5)\"}}, \"y\": {\"field\": \"__count\", \"scale\": \"child__residual_sugar_y\"}, \"y2\": {\"value\": 0, \"scale\": \"child__residual_sugar_y\"}, \"fill\": {\"value\": \"#4c78a8\"}, \"x\": {\"field\": \"bin_maxbins_40_residual_sugar_end\", \"scale\": \"child__residual_sugar_x\", \"offset\": {\"signal\": \"0.5 + (abs(scale(\\\"child__residual_sugar_x\\\", datum[\\\"bin_maxbins_40_residual_sugar_end\\\"]) - scale(\\\"child__residual_sugar_x\\\", datum[\\\"bin_maxbins_40_residual_sugar\\\"])) < 0.25 ? 0.5 * (0.25 - (abs(scale(\\\"child__residual_sugar_x\\\", datum[\\\"bin_maxbins_40_residual_sugar_end\\\"]) - scale(\\\"child__residual_sugar_x\\\", datum[\\\"bin_maxbins_40_residual_sugar\\\"])))) : -0.5)\"}}}}, \"style\": [\"bar\"]}], \"axes\": [{\"scale\": \"child__residual_sugar_y\", \"ticks\": false, \"orient\": \"left\", \"zindex\": 0, \"gridScale\": \"child__residual_sugar_x\", \"maxExtent\": 0, \"minExtent\": 0, \"tickCount\": {\"signal\": \"ceil(childHeight/40)\"}, \"grid\": true, \"labels\": false, \"aria\": false, \"domain\": false}, {\"scale\": \"child__residual_sugar_x\", \"tickCount\": {\"signal\": \"ceil(childWidth/10)\"}, \"labelFlush\": true, \"title\": \"residual_sugar (binned)\", \"grid\": false, \"zindex\": 0, \"labelOverlap\": true, \"orient\": \"bottom\"}, {\"scale\": \"child__residual_sugar_y\", \"title\": \"Count of Records\", \"orient\": \"left\", \"zindex\": 0, \"tickCount\": {\"signal\": \"ceil(childHeight/40)\"}, \"grid\": false, \"labelOverlap\": true}], \"style\": \"cell\"}, {\"type\": \"group\", \"name\": \"child__chlorides_group\", \"encode\": {\"update\": {\"width\": {\"signal\": \"childWidth\"}, \"height\": {\"signal\": \"childHeight\"}}}, \"marks\": [{\"type\": \"rect\", \"name\": \"child__chlorides_marks\", \"from\": {\"data\": \"data_5\"}, \"encode\": {\"update\": {\"y\": {\"field\": \"__count\", \"scale\": \"child__chlorides_y\"}, \"x\": {\"field\": \"bin_maxbins_40_chlorides_end\", \"scale\": \"child__chlorides_x\", \"offset\": {\"signal\": \"0.5 + (abs(scale(\\\"child__chlorides_x\\\", datum[\\\"bin_maxbins_40_chlorides_end\\\"]) - scale(\\\"child__chlorides_x\\\", datum[\\\"bin_maxbins_40_chlorides\\\"])) < 0.25 ? 0.5 * (0.25 - (abs(scale(\\\"child__chlorides_x\\\", datum[\\\"bin_maxbins_40_chlorides_end\\\"]) - scale(\\\"child__chlorides_x\\\", datum[\\\"bin_maxbins_40_chlorides\\\"])))) : -0.5)\"}}, \"y2\": {\"value\": 0, \"scale\": \"child__chlorides_y\"}, \"x2\": {\"field\": \"bin_maxbins_40_chlorides\", \"scale\": \"child__chlorides_x\", \"offset\": {\"signal\": \"0.5 + (abs(scale(\\\"child__chlorides_x\\\", datum[\\\"bin_maxbins_40_chlorides_end\\\"]) - scale(\\\"child__chlorides_x\\\", datum[\\\"bin_maxbins_40_chlorides\\\"])) < 0.25 ? -0.5 * (0.25 - (abs(scale(\\\"child__chlorides_x\\\", datum[\\\"bin_maxbins_40_chlorides_end\\\"]) - scale(\\\"child__chlorides_x\\\", datum[\\\"bin_maxbins_40_chlorides\\\"])))) : 0.5)\"}}, \"fill\": {\"value\": \"#4c78a8\"}}}, \"style\": [\"bar\"]}], \"axes\": [{\"scale\": \"child__chlorides_y\", \"grid\": true, \"orient\": \"left\", \"tickCount\": {\"signal\": \"ceil(childHeight/40)\"}, \"domain\": false, \"gridScale\": \"child__chlorides_x\", \"aria\": false, \"zindex\": 0, \"maxExtent\": 0, \"labels\": false, \"ticks\": false, \"minExtent\": 0}, {\"scale\": \"child__chlorides_x\", \"labelFlush\": true, \"zindex\": 0, \"title\": \"chlorides (binned)\", \"grid\": false, \"labelOverlap\": true, \"tickCount\": {\"signal\": \"ceil(childWidth/10)\"}, \"orient\": \"bottom\"}, {\"scale\": \"child__chlorides_y\", \"labelOverlap\": true, \"title\": \"Count of Records\", \"zindex\": 0, \"tickCount\": {\"signal\": \"ceil(childHeight/40)\"}, \"orient\": \"left\", \"grid\": false}], \"style\": \"cell\"}, {\"type\": \"group\", \"name\": \"child__free_sulfur_dioxide_group\", \"encode\": {\"update\": {\"width\": {\"signal\": \"childWidth\"}, \"height\": {\"signal\": \"childHeight\"}}}, \"marks\": [{\"type\": \"rect\", \"name\": \"child__free_sulfur_dioxide_marks\", \"from\": {\"data\": \"data_6\"}, \"encode\": {\"update\": {\"x\": {\"field\": \"bin_maxbins_40_free_sulfur_dioxide_end\", \"scale\": \"child__free_sulfur_dioxide_x\", \"offset\": {\"signal\": \"0.5 + (abs(scale(\\\"child__free_sulfur_dioxide_x\\\", datum[\\\"bin_maxbins_40_free_sulfur_dioxide_end\\\"]) - scale(\\\"child__free_sulfur_dioxide_x\\\", datum[\\\"bin_maxbins_40_free_sulfur_dioxide\\\"])) < 0.25 ? 0.5 * (0.25 - (abs(scale(\\\"child__free_sulfur_dioxide_x\\\", datum[\\\"bin_maxbins_40_free_sulfur_dioxide_end\\\"]) - scale(\\\"child__free_sulfur_dioxide_x\\\", datum[\\\"bin_maxbins_40_free_sulfur_dioxide\\\"])))) : -0.5)\"}}, \"fill\": {\"value\": \"#4c78a8\"}, \"x2\": {\"field\": \"bin_maxbins_40_free_sulfur_dioxide\", \"scale\": \"child__free_sulfur_dioxide_x\", \"offset\": {\"signal\": \"0.5 + (abs(scale(\\\"child__free_sulfur_dioxide_x\\\", datum[\\\"bin_maxbins_40_free_sulfur_dioxide_end\\\"]) - scale(\\\"child__free_sulfur_dioxide_x\\\", datum[\\\"bin_maxbins_40_free_sulfur_dioxide\\\"])) < 0.25 ? -0.5 * (0.25 - (abs(scale(\\\"child__free_sulfur_dioxide_x\\\", datum[\\\"bin_maxbins_40_free_sulfur_dioxide_end\\\"]) - scale(\\\"child__free_sulfur_dioxide_x\\\", datum[\\\"bin_maxbins_40_free_sulfur_dioxide\\\"])))) : 0.5)\"}}, \"y2\": {\"value\": 0, \"scale\": \"child__free_sulfur_dioxide_y\"}, \"y\": {\"field\": \"__count\", \"scale\": \"child__free_sulfur_dioxide_y\"}}}, \"style\": [\"bar\"]}], \"axes\": [{\"scale\": \"child__free_sulfur_dioxide_y\", \"ticks\": false, \"aria\": false, \"grid\": true, \"minExtent\": 0, \"orient\": \"left\", \"gridScale\": \"child__free_sulfur_dioxide_x\", \"zindex\": 0, \"domain\": false, \"tickCount\": {\"signal\": \"ceil(childHeight/40)\"}, \"labels\": false, \"maxExtent\": 0}, {\"scale\": \"child__free_sulfur_dioxide_x\", \"grid\": false, \"labelFlush\": true, \"title\": \"free_sulfur_dioxide (binned)\", \"labelOverlap\": true, \"zindex\": 0, \"orient\": \"bottom\", \"tickCount\": {\"signal\": \"ceil(childWidth/10)\"}}, {\"scale\": \"child__free_sulfur_dioxide_y\", \"grid\": false, \"orient\": \"left\", \"labelOverlap\": true, \"title\": \"Count of Records\", \"zindex\": 0, \"tickCount\": {\"signal\": \"ceil(childHeight/40)\"}}], \"style\": \"cell\"}, {\"type\": \"group\", \"name\": \"child__total_sulfur_dioxide_group\", \"encode\": {\"update\": {\"height\": {\"signal\": \"childHeight\"}, \"width\": {\"signal\": \"childWidth\"}}}, \"marks\": [{\"type\": \"rect\", \"name\": \"child__total_sulfur_dioxide_marks\", \"from\": {\"data\": \"data_7\"}, \"encode\": {\"update\": {\"y\": {\"field\": \"__count\", \"scale\": \"child__total_sulfur_dioxide_y\"}, \"x\": {\"field\": \"bin_maxbins_40_total_sulfur_dioxide_end\", \"scale\": \"child__total_sulfur_dioxide_x\", \"offset\": {\"signal\": \"0.5 + (abs(scale(\\\"child__total_sulfur_dioxide_x\\\", datum[\\\"bin_maxbins_40_total_sulfur_dioxide_end\\\"]) - scale(\\\"child__total_sulfur_dioxide_x\\\", datum[\\\"bin_maxbins_40_total_sulfur_dioxide\\\"])) < 0.25 ? 0.5 * (0.25 - (abs(scale(\\\"child__total_sulfur_dioxide_x\\\", datum[\\\"bin_maxbins_40_total_sulfur_dioxide_end\\\"]) - scale(\\\"child__total_sulfur_dioxide_x\\\", datum[\\\"bin_maxbins_40_total_sulfur_dioxide\\\"])))) : -0.5)\"}}, \"fill\": {\"value\": \"#4c78a8\"}, \"y2\": {\"value\": 0, \"scale\": \"child__total_sulfur_dioxide_y\"}, \"x2\": {\"field\": \"bin_maxbins_40_total_sulfur_dioxide\", \"scale\": \"child__total_sulfur_dioxide_x\", \"offset\": {\"signal\": \"0.5 + (abs(scale(\\\"child__total_sulfur_dioxide_x\\\", datum[\\\"bin_maxbins_40_total_sulfur_dioxide_end\\\"]) - scale(\\\"child__total_sulfur_dioxide_x\\\", datum[\\\"bin_maxbins_40_total_sulfur_dioxide\\\"])) < 0.25 ? -0.5 * (0.25 - (abs(scale(\\\"child__total_sulfur_dioxide_x\\\", datum[\\\"bin_maxbins_40_total_sulfur_dioxide_end\\\"]) - scale(\\\"child__total_sulfur_dioxide_x\\\", datum[\\\"bin_maxbins_40_total_sulfur_dioxide\\\"])))) : 0.5)\"}}}}, \"style\": [\"bar\"]}], \"axes\": [{\"scale\": \"child__total_sulfur_dioxide_y\", \"grid\": true, \"zindex\": 0, \"labels\": false, \"domain\": false, \"aria\": false, \"tickCount\": {\"signal\": \"ceil(childHeight/40)\"}, \"orient\": \"left\", \"minExtent\": 0, \"ticks\": false, \"gridScale\": \"child__total_sulfur_dioxide_x\", \"maxExtent\": 0}, {\"scale\": \"child__total_sulfur_dioxide_x\", \"tickCount\": {\"signal\": \"ceil(childWidth/10)\"}, \"grid\": false, \"orient\": \"bottom\", \"labelFlush\": true, \"labelOverlap\": true, \"title\": \"total_sulfur_dioxide (binned)\", \"zindex\": 0}, {\"scale\": \"child__total_sulfur_dioxide_y\", \"grid\": false, \"zindex\": 0, \"tickCount\": {\"signal\": \"ceil(childHeight/40)\"}, \"labelOverlap\": true, \"orient\": \"left\", \"title\": \"Count of Records\"}], \"style\": \"cell\"}, {\"type\": \"group\", \"name\": \"child__density_group\", \"encode\": {\"update\": {\"width\": {\"signal\": \"childWidth\"}, \"height\": {\"signal\": \"childHeight\"}}}, \"marks\": [{\"type\": \"rect\", \"name\": \"child__density_marks\", \"from\": {\"data\": \"data_8\"}, \"encode\": {\"update\": {\"y2\": {\"value\": 0, \"scale\": \"child__density_y\"}, \"y\": {\"field\": \"__count\", \"scale\": \"child__density_y\"}, \"fill\": {\"value\": \"#4c78a8\"}, \"x\": {\"field\": \"bin_maxbins_40_density_end\", \"scale\": \"child__density_x\", \"offset\": {\"signal\": \"0.5 + (abs(scale(\\\"child__density_x\\\", datum[\\\"bin_maxbins_40_density_end\\\"]) - scale(\\\"child__density_x\\\", datum[\\\"bin_maxbins_40_density\\\"])) < 0.25 ? 0.5 * (0.25 - (abs(scale(\\\"child__density_x\\\", datum[\\\"bin_maxbins_40_density_end\\\"]) - scale(\\\"child__density_x\\\", datum[\\\"bin_maxbins_40_density\\\"])))) : -0.5)\"}}, \"x2\": {\"field\": \"bin_maxbins_40_density\", \"scale\": \"child__density_x\", \"offset\": {\"signal\": \"0.5 + (abs(scale(\\\"child__density_x\\\", datum[\\\"bin_maxbins_40_density_end\\\"]) - scale(\\\"child__density_x\\\", datum[\\\"bin_maxbins_40_density\\\"])) < 0.25 ? -0.5 * (0.25 - (abs(scale(\\\"child__density_x\\\", datum[\\\"bin_maxbins_40_density_end\\\"]) - scale(\\\"child__density_x\\\", datum[\\\"bin_maxbins_40_density\\\"])))) : 0.5)\"}}}}, \"style\": [\"bar\"]}], \"axes\": [{\"scale\": \"child__density_y\", \"grid\": true, \"gridScale\": \"child__density_x\", \"minExtent\": 0, \"aria\": false, \"orient\": \"left\", \"ticks\": false, \"zindex\": 0, \"maxExtent\": 0, \"domain\": false, \"labels\": false, \"tickCount\": {\"signal\": \"ceil(childHeight/40)\"}}, {\"scale\": \"child__density_x\", \"labelFlush\": true, \"tickCount\": {\"signal\": \"ceil(childWidth/10)\"}, \"zindex\": 0, \"grid\": false, \"labelOverlap\": true, \"title\": \"density (binned)\", \"orient\": \"bottom\"}, {\"scale\": \"child__density_y\", \"zindex\": 0, \"tickCount\": {\"signal\": \"ceil(childHeight/40)\"}, \"grid\": false, \"orient\": \"left\", \"title\": \"Count of Records\", \"labelOverlap\": true}], \"style\": \"cell\"}, {\"type\": \"group\", \"name\": \"child__ph_group\", \"encode\": {\"update\": {\"height\": {\"signal\": \"childHeight\"}, \"width\": {\"signal\": \"childWidth\"}}}, \"marks\": [{\"type\": \"rect\", \"name\": \"child__ph_marks\", \"from\": {\"data\": \"data_9\"}, \"encode\": {\"update\": {\"x\": {\"field\": \"bin_maxbins_40_ph_end\", \"scale\": \"child__ph_x\", \"offset\": {\"signal\": \"0.5 + (abs(scale(\\\"child__ph_x\\\", datum[\\\"bin_maxbins_40_ph_end\\\"]) - scale(\\\"child__ph_x\\\", datum[\\\"bin_maxbins_40_ph\\\"])) < 0.25 ? 0.5 * (0.25 - (abs(scale(\\\"child__ph_x\\\", datum[\\\"bin_maxbins_40_ph_end\\\"]) - scale(\\\"child__ph_x\\\", datum[\\\"bin_maxbins_40_ph\\\"])))) : -0.5)\"}}, \"y\": {\"field\": \"__count\", \"scale\": \"child__ph_y\"}, \"y2\": {\"value\": 0, \"scale\": \"child__ph_y\"}, \"x2\": {\"field\": \"bin_maxbins_40_ph\", \"scale\": \"child__ph_x\", \"offset\": {\"signal\": \"0.5 + (abs(scale(\\\"child__ph_x\\\", datum[\\\"bin_maxbins_40_ph_end\\\"]) - scale(\\\"child__ph_x\\\", datum[\\\"bin_maxbins_40_ph\\\"])) < 0.25 ? -0.5 * (0.25 - (abs(scale(\\\"child__ph_x\\\", datum[\\\"bin_maxbins_40_ph_end\\\"]) - scale(\\\"child__ph_x\\\", datum[\\\"bin_maxbins_40_ph\\\"])))) : 0.5)\"}}, \"fill\": {\"value\": \"#4c78a8\"}}}, \"style\": [\"bar\"]}], \"axes\": [{\"scale\": \"child__ph_y\", \"maxExtent\": 0, \"gridScale\": \"child__ph_x\", \"labels\": false, \"orient\": \"left\", \"tickCount\": {\"signal\": \"ceil(childHeight/40)\"}, \"aria\": false, \"domain\": false, \"minExtent\": 0, \"ticks\": false, \"grid\": true, \"zindex\": 0}, {\"scale\": \"child__ph_x\", \"tickCount\": {\"signal\": \"ceil(childWidth/10)\"}, \"zindex\": 0, \"grid\": false, \"orient\": \"bottom\", \"title\": \"ph (binned)\", \"labelFlush\": true, \"labelOverlap\": true}, {\"scale\": \"child__ph_y\", \"labelOverlap\": true, \"zindex\": 0, \"orient\": \"left\", \"grid\": false, \"title\": \"Count of Records\", \"tickCount\": {\"signal\": \"ceil(childHeight/40)\"}}], \"style\": \"cell\"}, {\"type\": \"group\", \"name\": \"child__sulphates_group\", \"encode\": {\"update\": {\"width\": {\"signal\": \"childWidth\"}, \"height\": {\"signal\": \"childHeight\"}}}, \"marks\": [{\"type\": \"rect\", \"name\": \"child__sulphates_marks\", \"from\": {\"data\": \"data_10\"}, \"encode\": {\"update\": {\"y\": {\"field\": \"__count\", \"scale\": \"child__sulphates_y\"}, \"x2\": {\"field\": \"bin_maxbins_40_sulphates\", \"scale\": \"child__sulphates_x\", \"offset\": {\"signal\": \"0.5 + (abs(scale(\\\"child__sulphates_x\\\", datum[\\\"bin_maxbins_40_sulphates_end\\\"]) - scale(\\\"child__sulphates_x\\\", datum[\\\"bin_maxbins_40_sulphates\\\"])) < 0.25 ? -0.5 * (0.25 - (abs(scale(\\\"child__sulphates_x\\\", datum[\\\"bin_maxbins_40_sulphates_end\\\"]) - scale(\\\"child__sulphates_x\\\", datum[\\\"bin_maxbins_40_sulphates\\\"])))) : 0.5)\"}}, \"x\": {\"field\": \"bin_maxbins_40_sulphates_end\", \"scale\": \"child__sulphates_x\", \"offset\": {\"signal\": \"0.5 + (abs(scale(\\\"child__sulphates_x\\\", datum[\\\"bin_maxbins_40_sulphates_end\\\"]) - scale(\\\"child__sulphates_x\\\", datum[\\\"bin_maxbins_40_sulphates\\\"])) < 0.25 ? 0.5 * (0.25 - (abs(scale(\\\"child__sulphates_x\\\", datum[\\\"bin_maxbins_40_sulphates_end\\\"]) - scale(\\\"child__sulphates_x\\\", datum[\\\"bin_maxbins_40_sulphates\\\"])))) : -0.5)\"}}, \"y2\": {\"value\": 0, \"scale\": \"child__sulphates_y\"}, \"fill\": {\"value\": \"#4c78a8\"}}}, \"style\": [\"bar\"]}], \"axes\": [{\"scale\": \"child__sulphates_y\", \"tickCount\": {\"signal\": \"ceil(childHeight/40)\"}, \"aria\": false, \"maxExtent\": 0, \"orient\": \"left\", \"domain\": false, \"minExtent\": 0, \"ticks\": false, \"zindex\": 0, \"gridScale\": \"child__sulphates_x\", \"labels\": false, \"grid\": true}, {\"scale\": \"child__sulphates_x\", \"zindex\": 0, \"orient\": \"bottom\", \"tickCount\": {\"signal\": \"ceil(childWidth/10)\"}, \"labelFlush\": true, \"grid\": false, \"title\": \"sulphates (binned)\", \"labelOverlap\": true}, {\"scale\": \"child__sulphates_y\", \"zindex\": 0, \"orient\": \"left\", \"grid\": false, \"title\": \"Count of Records\", \"labelOverlap\": true, \"tickCount\": {\"signal\": \"ceil(childHeight/40)\"}}], \"style\": \"cell\"}, {\"type\": \"group\", \"name\": \"child__alcohol_group\", \"encode\": {\"update\": {\"height\": {\"signal\": \"childHeight\"}, \"width\": {\"signal\": \"childWidth\"}}}, \"marks\": [{\"type\": \"rect\", \"name\": \"child__alcohol_marks\", \"from\": {\"data\": \"data_11\"}, \"encode\": {\"update\": {\"fill\": {\"value\": \"#4c78a8\"}, \"x\": {\"field\": \"bin_maxbins_40_alcohol_end\", \"scale\": \"child__alcohol_x\", \"offset\": {\"signal\": \"0.5 + (abs(scale(\\\"child__alcohol_x\\\", datum[\\\"bin_maxbins_40_alcohol_end\\\"]) - scale(\\\"child__alcohol_x\\\", datum[\\\"bin_maxbins_40_alcohol\\\"])) < 0.25 ? 0.5 * (0.25 - (abs(scale(\\\"child__alcohol_x\\\", datum[\\\"bin_maxbins_40_alcohol_end\\\"]) - scale(\\\"child__alcohol_x\\\", datum[\\\"bin_maxbins_40_alcohol\\\"])))) : -0.5)\"}}, \"y\": {\"field\": \"__count\", \"scale\": \"child__alcohol_y\"}, \"y2\": {\"value\": 0, \"scale\": \"child__alcohol_y\"}, \"x2\": {\"field\": \"bin_maxbins_40_alcohol\", \"scale\": \"child__alcohol_x\", \"offset\": {\"signal\": \"0.5 + (abs(scale(\\\"child__alcohol_x\\\", datum[\\\"bin_maxbins_40_alcohol_end\\\"]) - scale(\\\"child__alcohol_x\\\", datum[\\\"bin_maxbins_40_alcohol\\\"])) < 0.25 ? -0.5 * (0.25 - (abs(scale(\\\"child__alcohol_x\\\", datum[\\\"bin_maxbins_40_alcohol_end\\\"]) - scale(\\\"child__alcohol_x\\\", datum[\\\"bin_maxbins_40_alcohol\\\"])))) : 0.5)\"}}}}, \"style\": [\"bar\"]}], \"axes\": [{\"scale\": \"child__alcohol_y\", \"gridScale\": \"child__alcohol_x\", \"labels\": false, \"domain\": false, \"minExtent\": 0, \"grid\": true, \"aria\": false, \"ticks\": false, \"maxExtent\": 0, \"zindex\": 0, \"orient\": \"left\", \"tickCount\": {\"signal\": \"ceil(childHeight/40)\"}}, {\"scale\": \"child__alcohol_x\", \"labelFlush\": true, \"orient\": \"bottom\", \"labelOverlap\": true, \"zindex\": 0, \"grid\": false, \"tickCount\": {\"signal\": \"ceil(childWidth/10)\"}, \"title\": \"alcohol (binned)\"}, {\"scale\": \"child__alcohol_y\", \"title\": \"Count of Records\", \"orient\": \"left\", \"labelOverlap\": true, \"tickCount\": {\"signal\": \"ceil(childHeight/40)\"}, \"grid\": false, \"zindex\": 0}], \"style\": \"cell\"}, {\"type\": \"group\", \"name\": \"child__quality_group\", \"encode\": {\"update\": {\"width\": {\"signal\": \"childWidth\"}, \"height\": {\"signal\": \"childHeight\"}}}, \"marks\": [{\"type\": \"rect\", \"name\": \"child__quality_marks\", \"from\": {\"data\": \"data_0\"}, \"encode\": {\"update\": {\"x\": {\"field\": \"bin_maxbins_40_quality_end\", \"scale\": \"child__quality_x\", \"offset\": {\"signal\": \"0.5 + (abs(scale(\\\"child__quality_x\\\", datum[\\\"bin_maxbins_40_quality_end\\\"]) - scale(\\\"child__quality_x\\\", datum[\\\"bin_maxbins_40_quality\\\"])) < 0.25 ? 0.5 * (0.25 - (abs(scale(\\\"child__quality_x\\\", datum[\\\"bin_maxbins_40_quality_end\\\"]) - scale(\\\"child__quality_x\\\", datum[\\\"bin_maxbins_40_quality\\\"])))) : -0.5)\"}}, \"x2\": {\"field\": \"bin_maxbins_40_quality\", \"scale\": \"child__quality_x\", \"offset\": {\"signal\": \"0.5 + (abs(scale(\\\"child__quality_x\\\", datum[\\\"bin_maxbins_40_quality_end\\\"]) - scale(\\\"child__quality_x\\\", datum[\\\"bin_maxbins_40_quality\\\"])) < 0.25 ? -0.5 * (0.25 - (abs(scale(\\\"child__quality_x\\\", datum[\\\"bin_maxbins_40_quality_end\\\"]) - scale(\\\"child__quality_x\\\", datum[\\\"bin_maxbins_40_quality\\\"])))) : 0.5)\"}}, \"y\": {\"field\": \"__count\", \"scale\": \"child__quality_y\"}, \"fill\": {\"value\": \"#4c78a8\"}, \"y2\": {\"value\": 0, \"scale\": \"child__quality_y\"}}}, \"style\": [\"bar\"]}], \"axes\": [{\"scale\": \"child__quality_y\", \"aria\": false, \"grid\": true, \"orient\": \"left\", \"ticks\": false, \"maxExtent\": 0, \"zindex\": 0, \"minExtent\": 0, \"gridScale\": \"child__quality_x\", \"domain\": false, \"labels\": false, \"tickCount\": {\"signal\": \"ceil(childHeight/40)\"}}, {\"scale\": \"child__quality_x\", \"grid\": false, \"labelFlush\": true, \"labelOverlap\": true, \"zindex\": 0, \"orient\": \"bottom\", \"title\": \"quality (binned)\", \"tickCount\": {\"signal\": \"ceil(childWidth/10)\"}}, {\"scale\": \"child__quality_y\", \"labelOverlap\": true, \"orient\": \"left\", \"zindex\": 0, \"grid\": false, \"title\": \"Count of Records\", \"tickCount\": {\"signal\": \"ceil(childHeight/40)\"}}], \"style\": \"cell\"}], \"scales\": [{\"name\": \"child__fixed_acidity_x\", \"type\": \"linear\", \"domain\": {\"signal\": \"[child__fixed_acidity_bin_maxbins_40_fixed_acidity_bins.start, child__fixed_acidity_bin_maxbins_40_fixed_acidity_bins.stop]\"}, \"range\": [0, {\"signal\": \"childWidth\"}], \"bins\": {\"signal\": \"child__fixed_acidity_bin_maxbins_40_fixed_acidity_bins\"}, \"zero\": false}, {\"name\": \"child__fixed_acidity_y\", \"type\": \"linear\", \"domain\": [{\"signal\": \"(data(\\\"data_1_child__fixed_acidity_y_domain___count\\\")[0] || {}).min\"}, {\"signal\": \"(data(\\\"data_1_child__fixed_acidity_y_domain___count\\\")[0] || {}).max\"}], \"range\": [{\"signal\": \"childHeight\"}, 0], \"nice\": true, \"zero\": true}, {\"name\": \"child__volatile_acidity_x\", \"type\": \"linear\", \"domain\": {\"signal\": \"[child__volatile_acidity_bin_maxbins_40_volatile_acidity_bins.start, child__volatile_acidity_bin_maxbins_40_volatile_acidity_bins.stop]\"}, \"range\": [0, {\"signal\": \"childWidth\"}], \"bins\": {\"signal\": \"child__volatile_acidity_bin_maxbins_40_volatile_acidity_bins\"}, \"zero\": false}, {\"name\": \"child__volatile_acidity_y\", \"type\": \"linear\", \"domain\": [{\"signal\": \"(data(\\\"data_2_child__volatile_acidity_y_domain___count\\\")[0] || {}).min\"}, {\"signal\": \"(data(\\\"data_2_child__volatile_acidity_y_domain___count\\\")[0] || {}).max\"}], \"range\": [{\"signal\": \"childHeight\"}, 0], \"nice\": true, \"zero\": true}, {\"name\": \"child__citric_acid_x\", \"type\": \"linear\", \"domain\": {\"signal\": \"[child__citric_acid_bin_maxbins_40_citric_acid_bins.start, child__citric_acid_bin_maxbins_40_citric_acid_bins.stop]\"}, \"range\": [0, {\"signal\": \"childWidth\"}], \"bins\": {\"signal\": \"child__citric_acid_bin_maxbins_40_citric_acid_bins\"}, \"zero\": false}, {\"name\": \"child__citric_acid_y\", \"type\": \"linear\", \"domain\": [{\"signal\": \"(data(\\\"data_3_child__citric_acid_y_domain___count\\\")[0] || {}).min\"}, {\"signal\": \"(data(\\\"data_3_child__citric_acid_y_domain___count\\\")[0] || {}).max\"}], \"range\": [{\"signal\": \"childHeight\"}, 0], \"zero\": true, \"nice\": true}, {\"name\": \"child__residual_sugar_x\", \"type\": \"linear\", \"domain\": {\"signal\": \"[child__residual_sugar_bin_maxbins_40_residual_sugar_bins.start, child__residual_sugar_bin_maxbins_40_residual_sugar_bins.stop]\"}, \"range\": [0, {\"signal\": \"childWidth\"}], \"bins\": {\"signal\": \"child__residual_sugar_bin_maxbins_40_residual_sugar_bins\"}, \"zero\": false}, {\"name\": \"child__residual_sugar_y\", \"type\": \"linear\", \"domain\": [{\"signal\": \"(data(\\\"data_4_child__residual_sugar_y_domain___count\\\")[0] || {}).min\"}, {\"signal\": \"(data(\\\"data_4_child__residual_sugar_y_domain___count\\\")[0] || {}).max\"}], \"range\": [{\"signal\": \"childHeight\"}, 0], \"nice\": true, \"zero\": true}, {\"name\": \"child__chlorides_x\", \"type\": \"linear\", \"domain\": {\"signal\": \"[child__chlorides_bin_maxbins_40_chlorides_bins.start, child__chlorides_bin_maxbins_40_chlorides_bins.stop]\"}, \"range\": [0, {\"signal\": \"childWidth\"}], \"bins\": {\"signal\": \"child__chlorides_bin_maxbins_40_chlorides_bins\"}, \"zero\": false}, {\"name\": \"child__chlorides_y\", \"type\": \"linear\", \"domain\": [{\"signal\": \"(data(\\\"data_5_child__chlorides_y_domain___count\\\")[0] || {}).min\"}, {\"signal\": \"(data(\\\"data_5_child__chlorides_y_domain___count\\\")[0] || {}).max\"}], \"range\": [{\"signal\": \"childHeight\"}, 0], \"nice\": true, \"zero\": true}, {\"name\": \"child__free_sulfur_dioxide_x\", \"type\": \"linear\", \"domain\": {\"signal\": \"[child__free_sulfur_dioxide_bin_maxbins_40_free_sulfur_dioxide_bins.start, child__free_sulfur_dioxide_bin_maxbins_40_free_sulfur_dioxide_bins.stop]\"}, \"range\": [0, {\"signal\": \"childWidth\"}], \"bins\": {\"signal\": \"child__free_sulfur_dioxide_bin_maxbins_40_free_sulfur_dioxide_bins\"}, \"zero\": false}, {\"name\": \"child__free_sulfur_dioxide_y\", \"type\": \"linear\", \"domain\": [{\"signal\": \"(data(\\\"data_6_child__free_sulfur_dioxide_y_domain___count\\\")[0] || {}).min\"}, {\"signal\": \"(data(\\\"data_6_child__free_sulfur_dioxide_y_domain___count\\\")[0] || {}).max\"}], \"range\": [{\"signal\": \"childHeight\"}, 0], \"nice\": true, \"zero\": true}, {\"name\": \"child__total_sulfur_dioxide_x\", \"type\": \"linear\", \"domain\": {\"signal\": \"[child__total_sulfur_dioxide_bin_maxbins_40_total_sulfur_dioxide_bins.start, child__total_sulfur_dioxide_bin_maxbins_40_total_sulfur_dioxide_bins.stop]\"}, \"range\": [0, {\"signal\": \"childWidth\"}], \"bins\": {\"signal\": \"child__total_sulfur_dioxide_bin_maxbins_40_total_sulfur_dioxide_bins\"}, \"zero\": false}, {\"name\": \"child__total_sulfur_dioxide_y\", \"type\": \"linear\", \"domain\": [{\"signal\": \"(data(\\\"data_7_child__total_sulfur_dioxide_y_domain___count\\\")[0] || {}).min\"}, {\"signal\": \"(data(\\\"data_7_child__total_sulfur_dioxide_y_domain___count\\\")[0] || {}).max\"}], \"range\": [{\"signal\": \"childHeight\"}, 0], \"zero\": true, \"nice\": true}, {\"name\": \"child__density_x\", \"type\": \"linear\", \"domain\": {\"signal\": \"[child__density_bin_maxbins_40_density_bins.start, child__density_bin_maxbins_40_density_bins.stop]\"}, \"range\": [0, {\"signal\": \"childWidth\"}], \"bins\": {\"signal\": \"child__density_bin_maxbins_40_density_bins\"}, \"zero\": false}, {\"name\": \"child__density_y\", \"type\": \"linear\", \"domain\": [{\"signal\": \"(data(\\\"data_8_child__density_y_domain___count\\\")[0] || {}).min\"}, {\"signal\": \"(data(\\\"data_8_child__density_y_domain___count\\\")[0] || {}).max\"}], \"range\": [{\"signal\": \"childHeight\"}, 0], \"zero\": true, \"nice\": true}, {\"name\": \"child__ph_x\", \"type\": \"linear\", \"domain\": {\"signal\": \"[child__ph_bin_maxbins_40_ph_bins.start, child__ph_bin_maxbins_40_ph_bins.stop]\"}, \"range\": [0, {\"signal\": \"childWidth\"}], \"bins\": {\"signal\": \"child__ph_bin_maxbins_40_ph_bins\"}, \"zero\": false}, {\"name\": \"child__ph_y\", \"type\": \"linear\", \"domain\": [{\"signal\": \"(data(\\\"data_9_child__ph_y_domain___count\\\")[0] || {}).min\"}, {\"signal\": \"(data(\\\"data_9_child__ph_y_domain___count\\\")[0] || {}).max\"}], \"range\": [{\"signal\": \"childHeight\"}, 0], \"nice\": true, \"zero\": true}, {\"name\": \"child__sulphates_x\", \"type\": \"linear\", \"domain\": {\"signal\": \"[child__sulphates_bin_maxbins_40_sulphates_bins.start, child__sulphates_bin_maxbins_40_sulphates_bins.stop]\"}, \"range\": [0, {\"signal\": \"childWidth\"}], \"bins\": {\"signal\": \"child__sulphates_bin_maxbins_40_sulphates_bins\"}, \"zero\": false}, {\"name\": \"child__sulphates_y\", \"type\": \"linear\", \"domain\": [{\"signal\": \"(data(\\\"data_10_child__sulphates_y_domain___count\\\")[0] || {}).min\"}, {\"signal\": \"(data(\\\"data_10_child__sulphates_y_domain___count\\\")[0] || {}).max\"}], \"range\": [{\"signal\": \"childHeight\"}, 0], \"zero\": true, \"nice\": true}, {\"name\": \"child__alcohol_x\", \"type\": \"linear\", \"domain\": {\"signal\": \"[child__alcohol_bin_maxbins_40_alcohol_bins.start, child__alcohol_bin_maxbins_40_alcohol_bins.stop]\"}, \"range\": [0, {\"signal\": \"childWidth\"}], \"bins\": {\"signal\": \"child__alcohol_bin_maxbins_40_alcohol_bins\"}, \"zero\": false}, {\"name\": \"child__alcohol_y\", \"type\": \"linear\", \"domain\": [{\"signal\": \"(data(\\\"data_11_child__alcohol_y_domain___count\\\")[0] || {}).min\"}, {\"signal\": \"(data(\\\"data_11_child__alcohol_y_domain___count\\\")[0] || {}).max\"}], \"range\": [{\"signal\": \"childHeight\"}, 0], \"zero\": true, \"nice\": true}, {\"name\": \"child__quality_x\", \"type\": \"linear\", \"domain\": {\"signal\": \"[child__quality_bin_maxbins_40_quality_bins.start, child__quality_bin_maxbins_40_quality_bins.stop]\"}, \"range\": [0, {\"signal\": \"childWidth\"}], \"bins\": {\"signal\": \"child__quality_bin_maxbins_40_quality_bins\"}, \"zero\": false}, {\"name\": \"child__quality_y\", \"type\": \"linear\", \"domain\": [{\"signal\": \"(data(\\\"data_0_child__quality_y_domain___count\\\")[0] || {}).min\"}, {\"signal\": \"(data(\\\"data_0_child__quality_y_domain___count\\\")[0] || {}).max\"}], \"range\": [{\"signal\": \"childHeight\"}, 0], \"zero\": true, \"nice\": true}], \"background\": \"white\", \"padding\": 5, \"layout\": {\"padding\": 20, \"columns\": 3, \"bounds\": \"full\", \"align\": \"all\"}}, {\"mode\": \"vega\"});\n",
=======
       "  })({\"$schema\": \"https://vega.github.io/schema/vega/v5.json\", \"data\": [{\"name\": \"source_0\"}, {\"name\": \"data_0\", \"values\": [{\"__count\": 2138, \"bin_maxbins_40_quality\": 5.0, \"bin_maxbins_40_quality_end\": 5.2}, {\"__count\": 2836, \"bin_maxbins_40_quality\": 6.0, \"bin_maxbins_40_quality_end\": 6.2}, {\"__count\": 1079, \"bin_maxbins_40_quality\": 7.0, \"bin_maxbins_40_quality_end\": 7.2}, {\"__count\": 216, \"bin_maxbins_40_quality\": 4.0, \"bin_maxbins_40_quality_end\": 4.2}, {\"__count\": 193, \"bin_maxbins_40_quality\": 8.0, \"bin_maxbins_40_quality_end\": 8.2}, {\"__count\": 30, \"bin_maxbins_40_quality\": 3.0, \"bin_maxbins_40_quality_end\": 3.2}, {\"__count\": 5, \"bin_maxbins_40_quality\": 8.8, \"bin_maxbins_40_quality_end\": 9.0}]}, {\"name\": \"data_1\", \"values\": [{\"__count\": 1274, \"bin_maxbins_40_fixed_acidity\": 7.0, \"bin_maxbins_40_fixed_acidity_end\": 7.5}, {\"__count\": 778, \"bin_maxbins_40_fixed_acidity\": 7.5, \"bin_maxbins_40_fixed_acidity_end\": 8.0}, {\"__count\": 29, \"bin_maxbins_40_fixed_acidity\": 11.0, \"bin_maxbins_40_fixed_acidity_end\": 11.5}, {\"__count\": 1466, \"bin_maxbins_40_fixed_acidity\": 6.5, \"bin_maxbins_40_fixed_acidity_end\": 7.0}, {\"__count\": 444, \"bin_maxbins_40_fixed_acidity\": 5.5, \"bin_maxbins_40_fixed_acidity_end\": 6.0}, {\"__count\": 243, \"bin_maxbins_40_fixed_acidity\": 8.5, \"bin_maxbins_40_fixed_acidity_end\": 9.0}, {\"__count\": 458, \"bin_maxbins_40_fixed_acidity\": 8.0, \"bin_maxbins_40_fixed_acidity_end\": 8.5}, {\"__count\": 1090, \"bin_maxbins_40_fixed_acidity\": 6.0, \"bin_maxbins_40_fixed_acidity_end\": 6.5}, {\"__count\": 155, \"bin_maxbins_40_fixed_acidity\": 5.0, \"bin_maxbins_40_fixed_acidity_end\": 5.5}, {\"__count\": 26, \"bin_maxbins_40_fixed_acidity\": 4.5, \"bin_maxbins_40_fixed_acidity_end\": 5.0}, {\"__count\": 90, \"bin_maxbins_40_fixed_acidity\": 10.0, \"bin_maxbins_40_fixed_acidity_end\": 10.5}, {\"__count\": 168, \"bin_maxbins_40_fixed_acidity\": 9.0, \"bin_maxbins_40_fixed_acidity_end\": 9.5}, {\"__count\": 102, \"bin_maxbins_40_fixed_acidity\": 9.5, \"bin_maxbins_40_fixed_acidity_end\": 10.0}, {\"__count\": 44, \"bin_maxbins_40_fixed_acidity\": 11.5, \"bin_maxbins_40_fixed_acidity_end\": 12.0}, {\"__count\": 22, \"bin_maxbins_40_fixed_acidity\": 12.5, \"bin_maxbins_40_fixed_acidity_end\": 13.0}, {\"__count\": 21, \"bin_maxbins_40_fixed_acidity\": 12.0, \"bin_maxbins_40_fixed_acidity_end\": 12.5}, {\"__count\": 2, \"bin_maxbins_40_fixed_acidity\": 15.0, \"bin_maxbins_40_fixed_acidity_end\": 15.5}, {\"__count\": 56, \"bin_maxbins_40_fixed_acidity\": 10.5, \"bin_maxbins_40_fixed_acidity_end\": 11.0}, {\"__count\": 10, \"bin_maxbins_40_fixed_acidity\": 13.0, \"bin_maxbins_40_fixed_acidity_end\": 13.5}, {\"__count\": 4, \"bin_maxbins_40_fixed_acidity\": 13.5, \"bin_maxbins_40_fixed_acidity_end\": 14.0}, {\"__count\": 3, \"bin_maxbins_40_fixed_acidity\": 14.0, \"bin_maxbins_40_fixed_acidity_end\": 14.5}, {\"__count\": 5, \"bin_maxbins_40_fixed_acidity\": 15.5, \"bin_maxbins_40_fixed_acidity_end\": 16.0}, {\"__count\": 5, \"bin_maxbins_40_fixed_acidity\": 4.0, \"bin_maxbins_40_fixed_acidity_end\": 4.5}, {\"__count\": 2, \"bin_maxbins_40_fixed_acidity\": 3.5, \"bin_maxbins_40_fixed_acidity_end\": 4.0}]}, {\"name\": \"data_2\", \"values\": [{\"__count\": 80, \"bin_maxbins_40_volatile_acidity\": 0.7000000000000001, \"bin_maxbins_40_volatile_acidity_end\": 0.7500000000000001}, {\"__count\": 27, \"bin_maxbins_40_volatile_acidity\": 0.8500000000000001, \"bin_maxbins_40_volatile_acidity_end\": 0.9000000000000001}, {\"__count\": 56, \"bin_maxbins_40_volatile_acidity\": 0.7500000000000001, \"bin_maxbins_40_volatile_acidity_end\": 0.8000000000000002}, {\"__count\": 1215, \"bin_maxbins_40_volatile_acidity\": 0.25, \"bin_maxbins_40_volatile_acidity_end\": 0.3}, {\"__count\": 154, \"bin_maxbins_40_volatile_acidity\": 0.6500000000000001, \"bin_maxbins_40_volatile_acidity_end\": 0.7000000000000002}, {\"__count\": 219, \"bin_maxbins_40_volatile_acidity\": 0.6000000000000001, \"bin_maxbins_40_volatile_acidity_end\": 0.6500000000000001}, {\"__count\": 211, \"bin_maxbins_40_volatile_acidity\": 0.55, \"bin_maxbins_40_volatile_acidity_end\": 0.6000000000000001}, {\"__count\": 221, \"bin_maxbins_40_volatile_acidity\": 0.5, \"bin_maxbins_40_volatile_acidity_end\": 0.55}, {\"__count\": 946, \"bin_maxbins_40_volatile_acidity\": 0.3, \"bin_maxbins_40_volatile_acidity_end\": 0.35}, {\"__count\": 1153, \"bin_maxbins_40_volatile_acidity\": 0.2, \"bin_maxbins_40_volatile_acidity_end\": 0.25}, {\"__count\": 546, \"bin_maxbins_40_volatile_acidity\": 0.35000000000000003, \"bin_maxbins_40_volatile_acidity_end\": 0.4}, {\"__count\": 413, \"bin_maxbins_40_volatile_acidity\": 0.4, \"bin_maxbins_40_volatile_acidity_end\": 0.45}, {\"__count\": 246, \"bin_maxbins_40_volatile_acidity\": 0.45, \"bin_maxbins_40_volatile_acidity_end\": 0.5}, {\"__count\": 3, \"bin_maxbins_40_volatile_acidity\": 1.1, \"bin_maxbins_40_volatile_acidity_end\": 1.1500000000000001}, {\"__count\": 16, \"bin_maxbins_40_volatile_acidity\": 0.9000000000000001, \"bin_maxbins_40_volatile_acidity_end\": 0.9500000000000002}, {\"__count\": 15, \"bin_maxbins_40_volatile_acidity\": 1.0, \"bin_maxbins_40_volatile_acidity_end\": 1.05}, {\"__count\": 2, \"bin_maxbins_40_volatile_acidity\": 1.05, \"bin_maxbins_40_volatile_acidity_end\": 1.1}, {\"__count\": 2, \"bin_maxbins_40_volatile_acidity\": 1.3, \"bin_maxbins_40_volatile_acidity_end\": 1.35}, {\"__count\": 13, \"bin_maxbins_40_volatile_acidity\": 0.9500000000000001, \"bin_maxbins_40_volatile_acidity_end\": 1.0}, {\"__count\": 33, \"bin_maxbins_40_volatile_acidity\": 0.8, \"bin_maxbins_40_volatile_acidity_end\": 0.8500000000000001}, {\"__count\": 743, \"bin_maxbins_40_volatile_acidity\": 0.15000000000000002, \"bin_maxbins_40_volatile_acidity_end\": 0.2}, {\"__count\": 1, \"bin_maxbins_40_volatile_acidity\": 1.2000000000000002, \"bin_maxbins_40_volatile_acidity_end\": 1.2500000000000002}, {\"__count\": 2, \"bin_maxbins_40_volatile_acidity\": 1.1500000000000001, \"bin_maxbins_40_volatile_acidity_end\": 1.2000000000000002}, {\"__count\": 173, \"bin_maxbins_40_volatile_acidity\": 0.1, \"bin_maxbins_40_volatile_acidity_end\": 0.15000000000000002}, {\"__count\": 1, \"bin_maxbins_40_volatile_acidity\": 1.55, \"bin_maxbins_40_volatile_acidity_end\": 1.6}, {\"__count\": 6, \"bin_maxbins_40_volatile_acidity\": 0.05, \"bin_maxbins_40_volatile_acidity_end\": 0.1}]}, {\"name\": \"data_3\", \"values\": [{\"__count\": 320, \"bin_maxbins_40_citric_acid\": 0.0, \"bin_maxbins_40_citric_acid_end\": 0.05}, {\"__count\": 119, \"bin_maxbins_40_citric_acid\": 0.55, \"bin_maxbins_40_citric_acid_end\": 0.6000000000000001}, {\"__count\": 168, \"bin_maxbins_40_citric_acid\": 0.05, \"bin_maxbins_40_citric_acid_end\": 0.1}, {\"__count\": 765, \"bin_maxbins_40_citric_acid\": 0.35000000000000003, \"bin_maxbins_40_citric_acid_end\": 0.4}, {\"__count\": 1201, \"bin_maxbins_40_citric_acid\": 0.25, \"bin_maxbins_40_citric_acid_end\": 0.3}, {\"__count\": 267, \"bin_maxbins_40_citric_acid\": 0.15000000000000002, \"bin_maxbins_40_citric_acid_end\": 0.2}, {\"__count\": 195, \"bin_maxbins_40_citric_acid\": 0.5, \"bin_maxbins_40_citric_acid_end\": 0.55}, {\"__count\": 539, \"bin_maxbins_40_citric_acid\": 0.45, \"bin_maxbins_40_citric_acid_end\": 0.5}, {\"__count\": 1313, \"bin_maxbins_40_citric_acid\": 0.30000000000000004, \"bin_maxbins_40_citric_acid_end\": 0.35000000000000003}, {\"__count\": 665, \"bin_maxbins_40_citric_acid\": 0.2, \"bin_maxbins_40_citric_acid_end\": 0.25}, {\"__count\": 194, \"bin_maxbins_40_citric_acid\": 0.1, \"bin_maxbins_40_citric_acid_end\": 0.15000000000000002}, {\"__count\": 506, \"bin_maxbins_40_citric_acid\": 0.4, \"bin_maxbins_40_citric_acid_end\": 0.45}, {\"__count\": 70, \"bin_maxbins_40_citric_acid\": 0.6000000000000001, \"bin_maxbins_40_citric_acid_end\": 0.6500000000000001}, {\"__count\": 74, \"bin_maxbins_40_citric_acid\": 0.7000000000000001, \"bin_maxbins_40_citric_acid_end\": 0.7500000000000001}, {\"__count\": 72, \"bin_maxbins_40_citric_acid\": 0.65, \"bin_maxbins_40_citric_acid_end\": 0.7000000000000001}, {\"__count\": 6, \"bin_maxbins_40_citric_acid\": 1.0, \"bin_maxbins_40_citric_acid_end\": 1.05}, {\"__count\": 10, \"bin_maxbins_40_citric_acid\": 0.75, \"bin_maxbins_40_citric_acid_end\": 0.8}, {\"__count\": 2, \"bin_maxbins_40_citric_acid\": 0.8500000000000001, \"bin_maxbins_40_citric_acid_end\": 0.9000000000000001}, {\"__count\": 1, \"bin_maxbins_40_citric_acid\": 1.6500000000000001, \"bin_maxbins_40_citric_acid_end\": 1.7000000000000002}, {\"__count\": 6, \"bin_maxbins_40_citric_acid\": 0.8, \"bin_maxbins_40_citric_acid_end\": 0.8500000000000001}, {\"__count\": 1, \"bin_maxbins_40_citric_acid\": 0.9500000000000001, \"bin_maxbins_40_citric_acid_end\": 1.0}, {\"__count\": 1, \"bin_maxbins_40_citric_acid\": 1.2000000000000002, \"bin_maxbins_40_citric_acid_end\": 1.2500000000000002}, {\"__count\": 2, \"bin_maxbins_40_citric_acid\": 0.9, \"bin_maxbins_40_citric_acid_end\": 0.9500000000000001}]}, {\"name\": \"data_4\", \"values\": [{\"__count\": 1885, \"bin_maxbins_40_residual_sugar\": 0.0, \"bin_maxbins_40_residual_sugar_end\": 2.0}, {\"__count\": 1656, \"bin_maxbins_40_residual_sugar\": 2.0, \"bin_maxbins_40_residual_sugar_end\": 4.0}, {\"__count\": 653, \"bin_maxbins_40_residual_sugar\": 6.0, \"bin_maxbins_40_residual_sugar_end\": 8.0}, {\"__count\": 628, \"bin_maxbins_40_residual_sugar\": 4.0, \"bin_maxbins_40_residual_sugar_end\": 6.0}, {\"__count\": 372, \"bin_maxbins_40_residual_sugar\": 10.0, \"bin_maxbins_40_residual_sugar_end\": 12.0}, {\"__count\": 265, \"bin_maxbins_40_residual_sugar\": 14.0, \"bin_maxbins_40_residual_sugar_end\": 16.0}, {\"__count\": 453, \"bin_maxbins_40_residual_sugar\": 8.0, \"bin_maxbins_40_residual_sugar_end\": 10.0}, {\"__count\": 354, \"bin_maxbins_40_residual_sugar\": 12.0, \"bin_maxbins_40_residual_sugar_end\": 14.0}, {\"__count\": 9, \"bin_maxbins_40_residual_sugar\": 20.0, \"bin_maxbins_40_residual_sugar_end\": 22.0}, {\"__count\": 67, \"bin_maxbins_40_residual_sugar\": 18.0, \"bin_maxbins_40_residual_sugar_end\": 20.0}, {\"__count\": 146, \"bin_maxbins_40_residual_sugar\": 16.0, \"bin_maxbins_40_residual_sugar_end\": 18.0}, {\"__count\": 4, \"bin_maxbins_40_residual_sugar\": 22.0, \"bin_maxbins_40_residual_sugar_end\": 24.0}, {\"__count\": 2, \"bin_maxbins_40_residual_sugar\": 30.0, \"bin_maxbins_40_residual_sugar_end\": 32.0}, {\"__count\": 1, \"bin_maxbins_40_residual_sugar\": 64.0, \"bin_maxbins_40_residual_sugar_end\": 66.0}, {\"__count\": 2, \"bin_maxbins_40_residual_sugar\": 26.0, \"bin_maxbins_40_residual_sugar_end\": 28.0}]}, {\"name\": \"data_5\", \"values\": [{\"__count\": 900, \"bin_maxbins_40_chlorides\": 0.06, \"bin_maxbins_40_chlorides_end\": 0.08}, {\"__count\": 613, \"bin_maxbins_40_chlorides\": 0.08, \"bin_maxbins_40_chlorides_end\": 0.1}, {\"__count\": 151, \"bin_maxbins_40_chlorides\": 0.1, \"bin_maxbins_40_chlorides_end\": 0.12000000000000001}, {\"__count\": 38, \"bin_maxbins_40_chlorides\": 0.16, \"bin_maxbins_40_chlorides_end\": 0.18}, {\"__count\": 3, \"bin_maxbins_40_chlorides\": 0.36, \"bin_maxbins_40_chlorides_end\": 0.38}, {\"__count\": 4, \"bin_maxbins_40_chlorides\": 0.34, \"bin_maxbins_40_chlorides_end\": 0.36000000000000004}, {\"__count\": 2, \"bin_maxbins_40_chlorides\": 0.32, \"bin_maxbins_40_chlorides_end\": 0.34}, {\"__count\": 2748, \"bin_maxbins_40_chlorides\": 0.04, \"bin_maxbins_40_chlorides_end\": 0.06}, {\"__count\": 2, \"bin_maxbins_40_chlorides\": 0.46, \"bin_maxbins_40_chlorides_end\": 0.48000000000000004}, {\"__count\": 8, \"bin_maxbins_40_chlorides\": 0.4, \"bin_maxbins_40_chlorides_end\": 0.42000000000000004}, {\"__count\": 53, \"bin_maxbins_40_chlorides\": 0.12, \"bin_maxbins_40_chlorides_end\": 0.13999999999999999}, {\"__count\": 32, \"bin_maxbins_40_chlorides\": 0.14, \"bin_maxbins_40_chlorides_end\": 0.16}, {\"__count\": 7, \"bin_maxbins_40_chlorides\": 0.22, \"bin_maxbins_40_chlorides_end\": 0.24}, {\"__count\": 2, \"bin_maxbins_40_chlorides\": 0.6, \"bin_maxbins_40_chlorides_end\": 0.62}, {\"__count\": 4, \"bin_maxbins_40_chlorides\": 0.26, \"bin_maxbins_40_chlorides_end\": 0.28}, {\"__count\": 1848, \"bin_maxbins_40_chlorides\": 0.02, \"bin_maxbins_40_chlorides_end\": 0.04}, {\"__count\": 12, \"bin_maxbins_40_chlorides\": 0.18, \"bin_maxbins_40_chlorides_end\": 0.19999999999999998}, {\"__count\": 18, \"bin_maxbins_40_chlorides\": 0.2, \"bin_maxbins_40_chlorides_end\": 0.22}, {\"__count\": 6, \"bin_maxbins_40_chlorides\": 0.24, \"bin_maxbins_40_chlorides_end\": 0.26}, {\"__count\": 1, \"bin_maxbins_40_chlorides\": 0.42, \"bin_maxbins_40_chlorides_end\": 0.44}, {\"__count\": 1, \"bin_maxbins_40_chlorides\": 0.38, \"bin_maxbins_40_chlorides_end\": 0.4}, {\"__count\": 42, \"bin_maxbins_40_chlorides\": 0.0, \"bin_maxbins_40_chlorides_end\": 0.02}, {\"__count\": 1, \"bin_maxbins_40_chlorides\": 0.28, \"bin_maxbins_40_chlorides_end\": 0.30000000000000004}, {\"__count\": 1, \"bin_maxbins_40_chlorides\": 0.3, \"bin_maxbins_40_chlorides_end\": 0.32}]}, {\"name\": \"data_6\", \"values\": [{\"__count\": 1271, \"bin_maxbins_40_free_sulfur_dioxide\": 10.0, \"bin_maxbins_40_free_sulfur_dioxide_end\": 20.0}, {\"__count\": 1427, \"bin_maxbins_40_free_sulfur_dioxide\": 20.0, \"bin_maxbins_40_free_sulfur_dioxide_end\": 30.0}, {\"__count\": 694, \"bin_maxbins_40_free_sulfur_dioxide\": 0.0, \"bin_maxbins_40_free_sulfur_dioxide_end\": 10.0}, {\"__count\": 562, \"bin_maxbins_40_free_sulfur_dioxide\": 50.0, \"bin_maxbins_40_free_sulfur_dioxide_end\": 60.0}, {\"__count\": 1275, \"bin_maxbins_40_free_sulfur_dioxide\": 30.0, \"bin_maxbins_40_free_sulfur_dioxide_end\": 40.0}, {\"__count\": 880, \"bin_maxbins_40_free_sulfur_dioxide\": 40.0, \"bin_maxbins_40_free_sulfur_dioxide_end\": 50.0}, {\"__count\": 268, \"bin_maxbins_40_free_sulfur_dioxide\": 60.0, \"bin_maxbins_40_free_sulfur_dioxide_end\": 70.0}, {\"__count\": 69, \"bin_maxbins_40_free_sulfur_dioxide\": 70.0, \"bin_maxbins_40_free_sulfur_dioxide_end\": 80.0}, {\"__count\": 25, \"bin_maxbins_40_free_sulfur_dioxide\": 80.0, \"bin_maxbins_40_free_sulfur_dioxide_end\": 90.0}, {\"__count\": 2, \"bin_maxbins_40_free_sulfur_dioxide\": 130.0, \"bin_maxbins_40_free_sulfur_dioxide_end\": 140.0}, {\"__count\": 3, \"bin_maxbins_40_free_sulfur_dioxide\": 120.0, \"bin_maxbins_40_free_sulfur_dioxide_end\": 130.0}, {\"__count\": 3, \"bin_maxbins_40_free_sulfur_dioxide\": 110.0, \"bin_maxbins_40_free_sulfur_dioxide_end\": 120.0}, {\"__count\": 9, \"bin_maxbins_40_free_sulfur_dioxide\": 90.0, \"bin_maxbins_40_free_sulfur_dioxide_end\": 100.0}, {\"__count\": 1, \"bin_maxbins_40_free_sulfur_dioxide\": 140.0, \"bin_maxbins_40_free_sulfur_dioxide_end\": 150.0}, {\"__count\": 7, \"bin_maxbins_40_free_sulfur_dioxide\": 100.0, \"bin_maxbins_40_free_sulfur_dioxide_end\": 110.0}, {\"__count\": 1, \"bin_maxbins_40_free_sulfur_dioxide\": 280.0, \"bin_maxbins_40_free_sulfur_dioxide_end\": 290.0}]}, {\"name\": \"data_7\", \"values\": [{\"__count\": 532, \"bin_maxbins_40_total_sulfur_dioxide\": 20.0, \"bin_maxbins_40_total_sulfur_dioxide_end\": 40.0}, {\"__count\": 421, \"bin_maxbins_40_total_sulfur_dioxide\": 60.0, \"bin_maxbins_40_total_sulfur_dioxide_end\": 80.0}, {\"__count\": 380, \"bin_maxbins_40_total_sulfur_dioxide\": 40.0, \"bin_maxbins_40_total_sulfur_dioxide_end\": 60.0}, {\"__count\": 335, \"bin_maxbins_40_total_sulfur_dioxide\": 0.0, \"bin_maxbins_40_total_sulfur_dioxide_end\": 20.0}, {\"__count\": 966, \"bin_maxbins_40_total_sulfur_dioxide\": 100.0, \"bin_maxbins_40_total_sulfur_dioxide_end\": 120.0}, {\"__count\": 798, \"bin_maxbins_40_total_sulfur_dioxide\": 140.0, \"bin_maxbins_40_total_sulfur_dioxide_end\": 160.0}, {\"__count\": 687, \"bin_maxbins_40_total_sulfur_dioxide\": 80.0, \"bin_maxbins_40_total_sulfur_dioxide_end\": 100.0}, {\"__count\": 896, \"bin_maxbins_40_total_sulfur_dioxide\": 120.0, \"bin_maxbins_40_total_sulfur_dioxide_end\": 140.0}, {\"__count\": 615, \"bin_maxbins_40_total_sulfur_dioxide\": 160.0, \"bin_maxbins_40_total_sulfur_dioxide_end\": 180.0}, {\"__count\": 4, \"bin_maxbins_40_total_sulfur_dioxide\": 260.0, \"bin_maxbins_40_total_sulfur_dioxide_end\": 280.0}, {\"__count\": 3, \"bin_maxbins_40_total_sulfur_dioxide\": 280.0, \"bin_maxbins_40_total_sulfur_dioxide_end\": 300.0}, {\"__count\": 456, \"bin_maxbins_40_total_sulfur_dioxide\": 180.0, \"bin_maxbins_40_total_sulfur_dioxide_end\": 200.0}, {\"__count\": 47, \"bin_maxbins_40_total_sulfur_dioxide\": 240.0, \"bin_maxbins_40_total_sulfur_dioxide_end\": 260.0}, {\"__count\": 238, \"bin_maxbins_40_total_sulfur_dioxide\": 200.0, \"bin_maxbins_40_total_sulfur_dioxide_end\": 220.0}, {\"__count\": 113, \"bin_maxbins_40_total_sulfur_dioxide\": 220.0, \"bin_maxbins_40_total_sulfur_dioxide_end\": 240.0}, {\"__count\": 3, \"bin_maxbins_40_total_sulfur_dioxide\": 300.0, \"bin_maxbins_40_total_sulfur_dioxide_end\": 320.0}, {\"__count\": 1, \"bin_maxbins_40_total_sulfur_dioxide\": 360.0, \"bin_maxbins_40_total_sulfur_dioxide_end\": 380.0}, {\"__count\": 1, \"bin_maxbins_40_total_sulfur_dioxide\": 340.0, \"bin_maxbins_40_total_sulfur_dioxide_end\": 360.0}, {\"__count\": 1, \"bin_maxbins_40_total_sulfur_dioxide\": 420.0, \"bin_maxbins_40_total_sulfur_dioxide_end\": 440.0}]}, {\"name\": \"data_8\", \"values\": [{\"__count\": 1414, \"bin_maxbins_40_density\": 0.996, \"bin_maxbins_40_density_end\": 0.998}, {\"__count\": 765, \"bin_maxbins_40_density\": 0.998, \"bin_maxbins_40_density_end\": 1.0}, {\"__count\": 1449, \"bin_maxbins_40_density\": 0.994, \"bin_maxbins_40_density_end\": 0.996}, {\"__count\": 1293, \"bin_maxbins_40_density\": 0.992, \"bin_maxbins_40_density_end\": 0.994}, {\"__count\": 1055, \"bin_maxbins_40_density\": 0.99, \"bin_maxbins_40_density_end\": 0.992}, {\"__count\": 154, \"bin_maxbins_40_density\": 1.0, \"bin_maxbins_40_density_end\": 1.002}, {\"__count\": 19, \"bin_maxbins_40_density\": 1.002, \"bin_maxbins_40_density_end\": 1.004}, {\"__count\": 332, \"bin_maxbins_40_density\": 0.988, \"bin_maxbins_40_density_end\": 0.99}, {\"__count\": 2, \"bin_maxbins_40_density\": 1.01, \"bin_maxbins_40_density_end\": 1.012}, {\"__count\": 1, \"bin_maxbins_40_density\": 1.038, \"bin_maxbins_40_density_end\": 1.04}, {\"__count\": 13, \"bin_maxbins_40_density\": 0.986, \"bin_maxbins_40_density_end\": 0.988}]}, {\"name\": \"data_9\", \"values\": [{\"__count\": 153, \"bin_maxbins_40_ph\": 3.5, \"bin_maxbins_40_ph_end\": 3.55}, {\"__count\": 801, \"bin_maxbins_40_ph\": 3.2, \"bin_maxbins_40_ph_end\": 3.25}, {\"__count\": 669, \"bin_maxbins_40_ph\": 3.25, \"bin_maxbins_40_ph_end\": 3.3}, {\"__count\": 859, \"bin_maxbins_40_ph\": 3.1500000000000004, \"bin_maxbins_40_ph_end\": 3.2}, {\"__count\": 607, \"bin_maxbins_40_ph\": 3.3000000000000003, \"bin_maxbins_40_ph_end\": 3.35}, {\"__count\": 506, \"bin_maxbins_40_ph\": 3.35, \"bin_maxbins_40_ph_end\": 3.4}, {\"__count\": 80, \"bin_maxbins_40_ph\": 3.5500000000000003, \"bin_maxbins_40_ph_end\": 3.6}, {\"__count\": 766, \"bin_maxbins_40_ph\": 3.1, \"bin_maxbins_40_ph_end\": 3.15}, {\"__count\": 401, \"bin_maxbins_40_ph\": 3.0, \"bin_maxbins_40_ph_end\": 3.05}, {\"__count\": 320, \"bin_maxbins_40_ph\": 3.4000000000000004, \"bin_maxbins_40_ph_end\": 3.45}, {\"__count\": 202, \"bin_maxbins_40_ph\": 3.45, \"bin_maxbins_40_ph_end\": 3.5}, {\"__count\": 2, \"bin_maxbins_40_ph\": 3.9000000000000004, \"bin_maxbins_40_ph_end\": 3.95}, {\"__count\": 149, \"bin_maxbins_40_ph\": 2.9000000000000004, \"bin_maxbins_40_ph_end\": 2.95}, {\"__count\": 10, \"bin_maxbins_40_ph\": 3.75, \"bin_maxbins_40_ph_end\": 3.8}, {\"__count\": 1, \"bin_maxbins_40_ph\": 3.8500000000000005, \"bin_maxbins_40_ph_end\": 3.9000000000000004}, {\"__count\": 562, \"bin_maxbins_40_ph\": 3.0500000000000003, \"bin_maxbins_40_ph_end\": 3.1}, {\"__count\": 41, \"bin_maxbins_40_ph\": 3.6, \"bin_maxbins_40_ph_end\": 3.65}, {\"__count\": 30, \"bin_maxbins_40_ph\": 3.6500000000000004, \"bin_maxbins_40_ph_end\": 3.7}, {\"__count\": 3, \"bin_maxbins_40_ph\": 2.7, \"bin_maxbins_40_ph_end\": 2.75}, {\"__count\": 238, \"bin_maxbins_40_ph\": 2.95, \"bin_maxbins_40_ph_end\": 3.0}, {\"__count\": 63, \"bin_maxbins_40_ph\": 2.85, \"bin_maxbins_40_ph_end\": 2.9}, {\"__count\": 15, \"bin_maxbins_40_ph\": 3.7, \"bin_maxbins_40_ph_end\": 3.75}, {\"__count\": 2, \"bin_maxbins_40_ph\": 4.0, \"bin_maxbins_40_ph_end\": 4.05}, {\"__count\": 4, \"bin_maxbins_40_ph\": 3.8000000000000003, \"bin_maxbins_40_ph_end\": 3.85}, {\"__count\": 9, \"bin_maxbins_40_ph\": 2.8000000000000003, \"bin_maxbins_40_ph_end\": 2.85}, {\"__count\": 4, \"bin_maxbins_40_ph\": 2.75, \"bin_maxbins_40_ph_end\": 2.8}]}, {\"name\": \"data_10\", \"values\": [{\"__count\": 773, \"bin_maxbins_40_sulphates\": 0.55, \"bin_maxbins_40_sulphates_end\": 0.6000000000000001}, {\"__count\": 350, \"bin_maxbins_40_sulphates\": 0.65, \"bin_maxbins_40_sulphates_end\": 0.7000000000000001}, {\"__count\": 1029, \"bin_maxbins_40_sulphates\": 0.45, \"bin_maxbins_40_sulphates_end\": 0.5}, {\"__count\": 113, \"bin_maxbins_40_sulphates\": 0.8, \"bin_maxbins_40_sulphates_end\": 0.8500000000000001}, {\"__count\": 1066, \"bin_maxbins_40_sulphates\": 0.5, \"bin_maxbins_40_sulphates_end\": 0.55}, {\"__count\": 2, \"bin_maxbins_40_sulphates\": 1.55, \"bin_maxbins_40_sulphates_end\": 1.6}, {\"__count\": 69, \"bin_maxbins_40_sulphates\": 0.8500000000000001, \"bin_maxbins_40_sulphates_end\": 0.9000000000000001}, {\"__count\": 44, \"bin_maxbins_40_sulphates\": 0.9000000000000001, \"bin_maxbins_40_sulphates_end\": 0.9500000000000002}, {\"__count\": 204, \"bin_maxbins_40_sulphates\": 0.75, \"bin_maxbins_40_sulphates_end\": 0.8}, {\"__count\": 3, \"bin_maxbins_40_sulphates\": 1.25, \"bin_maxbins_40_sulphates_end\": 1.3}, {\"__count\": 15, \"bin_maxbins_40_sulphates\": 1.05, \"bin_maxbins_40_sulphates_end\": 1.1}, {\"__count\": 585, \"bin_maxbins_40_sulphates\": 0.6000000000000001, \"bin_maxbins_40_sulphates_end\": 0.6500000000000001}, {\"__count\": 248, \"bin_maxbins_40_sulphates\": 0.7, \"bin_maxbins_40_sulphates_end\": 0.75}, {\"__count\": 2, \"bin_maxbins_40_sulphates\": 1.2, \"bin_maxbins_40_sulphates_end\": 1.25}, {\"__count\": 707, \"bin_maxbins_40_sulphates\": 0.35000000000000003, \"bin_maxbins_40_sulphates_end\": 0.4}, {\"__count\": 32, \"bin_maxbins_40_sulphates\": 0.95, \"bin_maxbins_40_sulphates_end\": 1.0}, {\"__count\": 8, \"bin_maxbins_40_sulphates\": 1.1, \"bin_maxbins_40_sulphates_end\": 1.1500000000000001}, {\"__count\": 4, \"bin_maxbins_40_sulphates\": 1.95, \"bin_maxbins_40_sulphates_end\": 2.0}, {\"__count\": 3, \"bin_maxbins_40_sulphates\": 1.3, \"bin_maxbins_40_sulphates_end\": 1.35}, {\"__count\": 264, \"bin_maxbins_40_sulphates\": 0.30000000000000004, \"bin_maxbins_40_sulphates_end\": 0.35000000000000003}, {\"__count\": 11, \"bin_maxbins_40_sulphates\": 1.0, \"bin_maxbins_40_sulphates_end\": 1.05}, {\"__count\": 898, \"bin_maxbins_40_sulphates\": 0.4, \"bin_maxbins_40_sulphates_end\": 0.45}, {\"__count\": 2, \"bin_maxbins_40_sulphates\": 1.6, \"bin_maxbins_40_sulphates_end\": 1.6500000000000001}, {\"__count\": 3, \"bin_maxbins_40_sulphates\": 1.35, \"bin_maxbins_40_sulphates_end\": 1.4000000000000001}, {\"__count\": 10, \"bin_maxbins_40_sulphates\": 1.1500000000000001, \"bin_maxbins_40_sulphates_end\": 1.2000000000000002}, {\"__count\": 50, \"bin_maxbins_40_sulphates\": 0.25, \"bin_maxbins_40_sulphates_end\": 0.3}, {\"__count\": 2, \"bin_maxbins_40_sulphates\": 0.2, \"bin_maxbins_40_sulphates_end\": 0.25}]}, {\"name\": \"data_11\", \"values\": [{\"__count\": 707, \"bin_maxbins_40_alcohol\": 9.4, \"bin_maxbins_40_alcohol_end\": 9.6}, {\"__count\": 373, \"bin_maxbins_40_alcohol\": 9.8, \"bin_maxbins_40_alcohol_end\": 10.0}, {\"__count\": 398, \"bin_maxbins_40_alcohol\": 10.0, \"bin_maxbins_40_alcohol_end\": 10.2}, {\"__count\": 429, \"bin_maxbins_40_alcohol\": 10.4, \"bin_maxbins_40_alcohol_end\": 10.6}, {\"__count\": 466, \"bin_maxbins_40_alcohol\": 9.2, \"bin_maxbins_40_alcohol_end\": 9.399999999999999}, {\"__count\": 383, \"bin_maxbins_40_alcohol\": 9.0, \"bin_maxbins_40_alcohol_end\": 9.2}, {\"__count\": 350, \"bin_maxbins_40_alcohol\": 9.6, \"bin_maxbins_40_alcohol_end\": 9.799999999999999}, {\"__count\": 267, \"bin_maxbins_40_alcohol\": 10.6, \"bin_maxbins_40_alcohol_end\": 10.799999999999999}, {\"__count\": 320, \"bin_maxbins_40_alcohol\": 10.8, \"bin_maxbins_40_alcohol_end\": 11.0}, {\"__count\": 294, \"bin_maxbins_40_alcohol\": 10.2, \"bin_maxbins_40_alcohol_end\": 10.399999999999999}, {\"__count\": 64, \"bin_maxbins_40_alcohol\": 13.0, \"bin_maxbins_40_alcohol_end\": 13.2}, {\"__count\": 121, \"bin_maxbins_40_alcohol\": 12.8, \"bin_maxbins_40_alcohol_end\": 13.0}, {\"__count\": 13, \"bin_maxbins_40_alcohol\": 14.0, \"bin_maxbins_40_alcohol_end\": 14.2}, {\"__count\": 278, \"bin_maxbins_40_alcohol\": 11.4, \"bin_maxbins_40_alcohol_end\": 11.6}, {\"__count\": 185, \"bin_maxbins_40_alcohol\": 12.4, \"bin_maxbins_40_alcohol_end\": 12.6}, {\"__count\": 331, \"bin_maxbins_40_alcohol\": 11.0, \"bin_maxbins_40_alcohol_end\": 11.2}, {\"__count\": 174, \"bin_maxbins_40_alcohol\": 12.2, \"bin_maxbins_40_alcohol_end\": 12.399999999999999}, {\"__count\": 137, \"bin_maxbins_40_alcohol\": 12.600000000000001, \"bin_maxbins_40_alcohol_end\": 12.8}, {\"__count\": 148, \"bin_maxbins_40_alcohol\": 11.6, \"bin_maxbins_40_alcohol_end\": 11.799999999999999}, {\"__count\": 287, \"bin_maxbins_40_alcohol\": 11.2, \"bin_maxbins_40_alcohol_end\": 11.399999999999999}, {\"__count\": 191, \"bin_maxbins_40_alcohol\": 12.0, \"bin_maxbins_40_alcohol_end\": 12.2}, {\"__count\": 167, \"bin_maxbins_40_alcohol\": 11.8, \"bin_maxbins_40_alcohol_end\": 12.0}, {\"__count\": 103, \"bin_maxbins_40_alcohol\": 8.6, \"bin_maxbins_40_alcohol_end\": 8.799999999999999}, {\"__count\": 25, \"bin_maxbins_40_alcohol\": 13.2, \"bin_maxbins_40_alcohol_end\": 13.399999999999999}, {\"__count\": 38, \"bin_maxbins_40_alcohol\": 13.4, \"bin_maxbins_40_alcohol_end\": 13.6}, {\"__count\": 15, \"bin_maxbins_40_alcohol\": 8.4, \"bin_maxbins_40_alcohol_end\": 8.6}, {\"__count\": 1, \"bin_maxbins_40_alcohol\": 14.8, \"bin_maxbins_40_alcohol_end\": 15.0}, {\"__count\": 20, \"bin_maxbins_40_alcohol\": 13.600000000000001, \"bin_maxbins_40_alcohol_end\": 13.8}, {\"__count\": 204, \"bin_maxbins_40_alcohol\": 8.8, \"bin_maxbins_40_alcohol_end\": 9.0}, {\"__count\": 5, \"bin_maxbins_40_alcohol\": 13.8, \"bin_maxbins_40_alcohol_end\": 14.0}, {\"__count\": 2, \"bin_maxbins_40_alcohol\": 8.0, \"bin_maxbins_40_alcohol_end\": 8.2}, {\"__count\": 1, \"bin_maxbins_40_alcohol\": 14.2, \"bin_maxbins_40_alcohol_end\": 14.399999999999999}]}, {\"name\": \"data_1_child__fixed_acidity_y_domain___count\", \"values\": [{\"min\": 2, \"max\": 1466}]}, {\"name\": \"data_2_child__volatile_acidity_y_domain___count\", \"values\": [{\"min\": 1, \"max\": 1215}]}, {\"name\": \"data_3_child__citric_acid_y_domain___count\", \"values\": [{\"min\": 1, \"max\": 1313}]}, {\"name\": \"data_4_child__residual_sugar_y_domain___count\", \"values\": [{\"min\": 1, \"max\": 1885}]}, {\"name\": \"data_5_child__chlorides_y_domain___count\", \"values\": [{\"min\": 1, \"max\": 2748}]}, {\"name\": \"data_6_child__free_sulfur_dioxide_y_domain___count\", \"values\": [{\"min\": 1, \"max\": 1427}]}, {\"name\": \"data_7_child__total_sulfur_dioxide_y_domain___count\", \"values\": [{\"min\": 1, \"max\": 966}]}, {\"name\": \"data_8_child__density_y_domain___count\", \"values\": [{\"min\": 1, \"max\": 1449}]}, {\"name\": \"data_9_child__ph_y_domain___count\", \"values\": [{\"min\": 1, \"max\": 859}]}, {\"name\": \"data_10_child__sulphates_y_domain___count\", \"values\": [{\"min\": 2, \"max\": 1066}]}, {\"name\": \"data_11_child__alcohol_y_domain___count\", \"values\": [{\"min\": 1, \"max\": 707}]}, {\"name\": \"data_0_child__quality_y_domain___count\", \"values\": [{\"min\": 5, \"max\": 2836}]}], \"signals\": [{\"name\": \"child__fixed_acidity_bin_maxbins_40_fixed_acidity_bins\", \"value\": {\"fields\": [\"fixed_acidity\"], \"fname\": \"bin_fixed_acidity\", \"start\": 3.5, \"step\": 0.5, \"stop\": 16.0}}, {\"name\": \"child__alcohol_bin_maxbins_40_alcohol_bins\", \"value\": {\"fields\": [\"alcohol\"], \"fname\": \"bin_alcohol\", \"start\": 8.0, \"step\": 0.2, \"stop\": 15.0}}, {\"name\": \"child__density_bin_maxbins_40_density_bins\", \"value\": {\"fields\": [\"density\"], \"fname\": \"bin_density\", \"start\": 0.986, \"step\": 0.002, \"stop\": 1.04}}, {\"name\": \"child__ph_bin_maxbins_40_ph_bins\", \"value\": {\"fields\": [\"ph\"], \"fname\": \"bin_ph\", \"start\": 2.7, \"step\": 0.05, \"stop\": 4.05}}, {\"name\": \"child__residual_sugar_bin_maxbins_40_residual_sugar_bins\", \"value\": {\"fields\": [\"residual_sugar\"], \"fname\": \"bin_residual_sugar\", \"start\": 0.0, \"step\": 2.0, \"stop\": 66.0}}, {\"name\": \"child__sulphates_bin_maxbins_40_sulphates_bins\", \"value\": {\"fields\": [\"sulphates\"], \"fname\": \"bin_sulphates\", \"start\": 0.2, \"step\": 0.05, \"stop\": 2.0}}, {\"name\": \"child__citric_acid_bin_maxbins_40_citric_acid_bins\", \"value\": {\"fields\": [\"citric_acid\"], \"fname\": \"bin_citric_acid\", \"start\": 0.0, \"step\": 0.05, \"stop\": 1.7000000000000002}}, {\"name\": \"child__total_sulfur_dioxide_bin_maxbins_40_total_sulfur_dioxide_bins\", \"value\": {\"fields\": [\"total_sulfur_dioxide\"], \"fname\": \"bin_total_sulfur_dioxide\", \"start\": 0.0, \"step\": 20.0, \"stop\": 440.0}}, {\"name\": \"child__volatile_acidity_bin_maxbins_40_volatile_acidity_bins\", \"value\": {\"fields\": [\"volatile_acidity\"], \"fname\": \"bin_volatile_acidity\", \"start\": 0.05, \"step\": 0.05, \"stop\": 1.6}}, {\"name\": \"child__free_sulfur_dioxide_bin_maxbins_40_free_sulfur_dioxide_bins\", \"value\": {\"fields\": [\"free_sulfur_dioxide\"], \"fname\": \"bin_free_sulfur_dioxide\", \"start\": 0.0, \"step\": 10.0, \"stop\": 290.0}}, {\"name\": \"child__chlorides_bin_maxbins_40_chlorides_bins\", \"value\": {\"fields\": [\"chlorides\"], \"fname\": \"bin_chlorides\", \"start\": 0.0, \"step\": 0.02, \"stop\": 0.62}}, {\"name\": \"child__quality_bin_maxbins_40_quality_bins\", \"value\": {\"fields\": [\"quality\"], \"fname\": \"bin_quality\", \"start\": 3.0, \"step\": 0.2, \"stop\": 9.0}}, {\"name\": \"childWidth\", \"value\": 300}, {\"name\": \"childHeight\", \"value\": 300}], \"marks\": [{\"type\": \"group\", \"name\": \"child__fixed_acidity_group\", \"encode\": {\"update\": {\"width\": {\"signal\": \"childWidth\"}, \"height\": {\"signal\": \"childHeight\"}}}, \"marks\": [{\"type\": \"rect\", \"name\": \"child__fixed_acidity_marks\", \"from\": {\"data\": \"data_1\"}, \"encode\": {\"update\": {\"x\": {\"field\": \"bin_maxbins_40_fixed_acidity_end\", \"scale\": \"child__fixed_acidity_x\", \"offset\": {\"signal\": \"0.5 + (abs(scale(\\\"child__fixed_acidity_x\\\", datum[\\\"bin_maxbins_40_fixed_acidity_end\\\"]) - scale(\\\"child__fixed_acidity_x\\\", datum[\\\"bin_maxbins_40_fixed_acidity\\\"])) < 0.25 ? 0.5 * (0.25 - (abs(scale(\\\"child__fixed_acidity_x\\\", datum[\\\"bin_maxbins_40_fixed_acidity_end\\\"]) - scale(\\\"child__fixed_acidity_x\\\", datum[\\\"bin_maxbins_40_fixed_acidity\\\"])))) : -0.5)\"}}, \"y2\": {\"value\": 0, \"scale\": \"child__fixed_acidity_y\"}, \"x2\": {\"field\": \"bin_maxbins_40_fixed_acidity\", \"scale\": \"child__fixed_acidity_x\", \"offset\": {\"signal\": \"0.5 + (abs(scale(\\\"child__fixed_acidity_x\\\", datum[\\\"bin_maxbins_40_fixed_acidity_end\\\"]) - scale(\\\"child__fixed_acidity_x\\\", datum[\\\"bin_maxbins_40_fixed_acidity\\\"])) < 0.25 ? -0.5 * (0.25 - (abs(scale(\\\"child__fixed_acidity_x\\\", datum[\\\"bin_maxbins_40_fixed_acidity_end\\\"]) - scale(\\\"child__fixed_acidity_x\\\", datum[\\\"bin_maxbins_40_fixed_acidity\\\"])))) : 0.5)\"}}, \"y\": {\"field\": \"__count\", \"scale\": \"child__fixed_acidity_y\"}, \"fill\": {\"value\": \"#4c78a8\"}}}, \"style\": [\"bar\"]}], \"axes\": [{\"scale\": \"child__fixed_acidity_y\", \"ticks\": false, \"minExtent\": 0, \"gridScale\": \"child__fixed_acidity_x\", \"grid\": true, \"domain\": false, \"labels\": false, \"aria\": false, \"maxExtent\": 0, \"tickCount\": {\"signal\": \"ceil(childHeight/40)\"}, \"zindex\": 0, \"orient\": \"left\"}, {\"scale\": \"child__fixed_acidity_x\", \"labelFlush\": true, \"orient\": \"bottom\", \"labelOverlap\": true, \"title\": \"fixed_acidity (binned)\", \"tickCount\": {\"signal\": \"ceil(childWidth/10)\"}, \"grid\": false, \"zindex\": 0}, {\"scale\": \"child__fixed_acidity_y\", \"grid\": false, \"orient\": \"left\", \"title\": \"Count of Records\", \"tickCount\": {\"signal\": \"ceil(childHeight/40)\"}, \"zindex\": 0, \"labelOverlap\": true}], \"style\": \"cell\"}, {\"type\": \"group\", \"name\": \"child__volatile_acidity_group\", \"encode\": {\"update\": {\"width\": {\"signal\": \"childWidth\"}, \"height\": {\"signal\": \"childHeight\"}}}, \"marks\": [{\"type\": \"rect\", \"name\": \"child__volatile_acidity_marks\", \"from\": {\"data\": \"data_2\"}, \"encode\": {\"update\": {\"fill\": {\"value\": \"#4c78a8\"}, \"x2\": {\"field\": \"bin_maxbins_40_volatile_acidity\", \"scale\": \"child__volatile_acidity_x\", \"offset\": {\"signal\": \"0.5 + (abs(scale(\\\"child__volatile_acidity_x\\\", datum[\\\"bin_maxbins_40_volatile_acidity_end\\\"]) - scale(\\\"child__volatile_acidity_x\\\", datum[\\\"bin_maxbins_40_volatile_acidity\\\"])) < 0.25 ? -0.5 * (0.25 - (abs(scale(\\\"child__volatile_acidity_x\\\", datum[\\\"bin_maxbins_40_volatile_acidity_end\\\"]) - scale(\\\"child__volatile_acidity_x\\\", datum[\\\"bin_maxbins_40_volatile_acidity\\\"])))) : 0.5)\"}}, \"x\": {\"field\": \"bin_maxbins_40_volatile_acidity_end\", \"scale\": \"child__volatile_acidity_x\", \"offset\": {\"signal\": \"0.5 + (abs(scale(\\\"child__volatile_acidity_x\\\", datum[\\\"bin_maxbins_40_volatile_acidity_end\\\"]) - scale(\\\"child__volatile_acidity_x\\\", datum[\\\"bin_maxbins_40_volatile_acidity\\\"])) < 0.25 ? 0.5 * (0.25 - (abs(scale(\\\"child__volatile_acidity_x\\\", datum[\\\"bin_maxbins_40_volatile_acidity_end\\\"]) - scale(\\\"child__volatile_acidity_x\\\", datum[\\\"bin_maxbins_40_volatile_acidity\\\"])))) : -0.5)\"}}, \"y\": {\"field\": \"__count\", \"scale\": \"child__volatile_acidity_y\"}, \"y2\": {\"value\": 0, \"scale\": \"child__volatile_acidity_y\"}}}, \"style\": [\"bar\"]}], \"axes\": [{\"scale\": \"child__volatile_acidity_y\", \"orient\": \"left\", \"labels\": false, \"domain\": false, \"minExtent\": 0, \"ticks\": false, \"tickCount\": {\"signal\": \"ceil(childHeight/40)\"}, \"grid\": true, \"aria\": false, \"maxExtent\": 0, \"zindex\": 0, \"gridScale\": \"child__volatile_acidity_x\"}, {\"scale\": \"child__volatile_acidity_x\", \"grid\": false, \"labelFlush\": true, \"labelOverlap\": true, \"tickCount\": {\"signal\": \"ceil(childWidth/10)\"}, \"zindex\": 0, \"title\": \"volatile_acidity (binned)\", \"orient\": \"bottom\"}, {\"scale\": \"child__volatile_acidity_y\", \"tickCount\": {\"signal\": \"ceil(childHeight/40)\"}, \"labelOverlap\": true, \"zindex\": 0, \"title\": \"Count of Records\", \"orient\": \"left\", \"grid\": false}], \"style\": \"cell\"}, {\"type\": \"group\", \"name\": \"child__citric_acid_group\", \"encode\": {\"update\": {\"width\": {\"signal\": \"childWidth\"}, \"height\": {\"signal\": \"childHeight\"}}}, \"marks\": [{\"type\": \"rect\", \"name\": \"child__citric_acid_marks\", \"from\": {\"data\": \"data_3\"}, \"encode\": {\"update\": {\"y2\": {\"value\": 0, \"scale\": \"child__citric_acid_y\"}, \"fill\": {\"value\": \"#4c78a8\"}, \"x\": {\"field\": \"bin_maxbins_40_citric_acid_end\", \"scale\": \"child__citric_acid_x\", \"offset\": {\"signal\": \"0.5 + (abs(scale(\\\"child__citric_acid_x\\\", datum[\\\"bin_maxbins_40_citric_acid_end\\\"]) - scale(\\\"child__citric_acid_x\\\", datum[\\\"bin_maxbins_40_citric_acid\\\"])) < 0.25 ? 0.5 * (0.25 - (abs(scale(\\\"child__citric_acid_x\\\", datum[\\\"bin_maxbins_40_citric_acid_end\\\"]) - scale(\\\"child__citric_acid_x\\\", datum[\\\"bin_maxbins_40_citric_acid\\\"])))) : -0.5)\"}}, \"x2\": {\"field\": \"bin_maxbins_40_citric_acid\", \"scale\": \"child__citric_acid_x\", \"offset\": {\"signal\": \"0.5 + (abs(scale(\\\"child__citric_acid_x\\\", datum[\\\"bin_maxbins_40_citric_acid_end\\\"]) - scale(\\\"child__citric_acid_x\\\", datum[\\\"bin_maxbins_40_citric_acid\\\"])) < 0.25 ? -0.5 * (0.25 - (abs(scale(\\\"child__citric_acid_x\\\", datum[\\\"bin_maxbins_40_citric_acid_end\\\"]) - scale(\\\"child__citric_acid_x\\\", datum[\\\"bin_maxbins_40_citric_acid\\\"])))) : 0.5)\"}}, \"y\": {\"field\": \"__count\", \"scale\": \"child__citric_acid_y\"}}}, \"style\": [\"bar\"]}], \"axes\": [{\"scale\": \"child__citric_acid_y\", \"minExtent\": 0, \"domain\": false, \"gridScale\": \"child__citric_acid_x\", \"maxExtent\": 0, \"zindex\": 0, \"aria\": false, \"orient\": \"left\", \"tickCount\": {\"signal\": \"ceil(childHeight/40)\"}, \"labels\": false, \"ticks\": false, \"grid\": true}, {\"scale\": \"child__citric_acid_x\", \"orient\": \"bottom\", \"zindex\": 0, \"tickCount\": {\"signal\": \"ceil(childWidth/10)\"}, \"labelFlush\": true, \"labelOverlap\": true, \"grid\": false, \"title\": \"citric_acid (binned)\"}, {\"scale\": \"child__citric_acid_y\", \"zindex\": 0, \"title\": \"Count of Records\", \"grid\": false, \"labelOverlap\": true, \"tickCount\": {\"signal\": \"ceil(childHeight/40)\"}, \"orient\": \"left\"}], \"style\": \"cell\"}, {\"type\": \"group\", \"name\": \"child__residual_sugar_group\", \"encode\": {\"update\": {\"height\": {\"signal\": \"childHeight\"}, \"width\": {\"signal\": \"childWidth\"}}}, \"marks\": [{\"type\": \"rect\", \"name\": \"child__residual_sugar_marks\", \"from\": {\"data\": \"data_4\"}, \"encode\": {\"update\": {\"y2\": {\"value\": 0, \"scale\": \"child__residual_sugar_y\"}, \"fill\": {\"value\": \"#4c78a8\"}, \"x2\": {\"field\": \"bin_maxbins_40_residual_sugar\", \"scale\": \"child__residual_sugar_x\", \"offset\": {\"signal\": \"0.5 + (abs(scale(\\\"child__residual_sugar_x\\\", datum[\\\"bin_maxbins_40_residual_sugar_end\\\"]) - scale(\\\"child__residual_sugar_x\\\", datum[\\\"bin_maxbins_40_residual_sugar\\\"])) < 0.25 ? -0.5 * (0.25 - (abs(scale(\\\"child__residual_sugar_x\\\", datum[\\\"bin_maxbins_40_residual_sugar_end\\\"]) - scale(\\\"child__residual_sugar_x\\\", datum[\\\"bin_maxbins_40_residual_sugar\\\"])))) : 0.5)\"}}, \"x\": {\"field\": \"bin_maxbins_40_residual_sugar_end\", \"scale\": \"child__residual_sugar_x\", \"offset\": {\"signal\": \"0.5 + (abs(scale(\\\"child__residual_sugar_x\\\", datum[\\\"bin_maxbins_40_residual_sugar_end\\\"]) - scale(\\\"child__residual_sugar_x\\\", datum[\\\"bin_maxbins_40_residual_sugar\\\"])) < 0.25 ? 0.5 * (0.25 - (abs(scale(\\\"child__residual_sugar_x\\\", datum[\\\"bin_maxbins_40_residual_sugar_end\\\"]) - scale(\\\"child__residual_sugar_x\\\", datum[\\\"bin_maxbins_40_residual_sugar\\\"])))) : -0.5)\"}}, \"y\": {\"field\": \"__count\", \"scale\": \"child__residual_sugar_y\"}}}, \"style\": [\"bar\"]}], \"axes\": [{\"scale\": \"child__residual_sugar_y\", \"orient\": \"left\", \"minExtent\": 0, \"grid\": true, \"ticks\": false, \"labels\": false, \"maxExtent\": 0, \"aria\": false, \"zindex\": 0, \"gridScale\": \"child__residual_sugar_x\", \"domain\": false, \"tickCount\": {\"signal\": \"ceil(childHeight/40)\"}}, {\"scale\": \"child__residual_sugar_x\", \"labelFlush\": true, \"tickCount\": {\"signal\": \"ceil(childWidth/10)\"}, \"orient\": \"bottom\", \"labelOverlap\": true, \"grid\": false, \"zindex\": 0, \"title\": \"residual_sugar (binned)\"}, {\"scale\": \"child__residual_sugar_y\", \"labelOverlap\": true, \"zindex\": 0, \"orient\": \"left\", \"grid\": false, \"title\": \"Count of Records\", \"tickCount\": {\"signal\": \"ceil(childHeight/40)\"}}], \"style\": \"cell\"}, {\"type\": \"group\", \"name\": \"child__chlorides_group\", \"encode\": {\"update\": {\"height\": {\"signal\": \"childHeight\"}, \"width\": {\"signal\": \"childWidth\"}}}, \"marks\": [{\"type\": \"rect\", \"name\": \"child__chlorides_marks\", \"from\": {\"data\": \"data_5\"}, \"encode\": {\"update\": {\"y\": {\"field\": \"__count\", \"scale\": \"child__chlorides_y\"}, \"x2\": {\"field\": \"bin_maxbins_40_chlorides\", \"scale\": \"child__chlorides_x\", \"offset\": {\"signal\": \"0.5 + (abs(scale(\\\"child__chlorides_x\\\", datum[\\\"bin_maxbins_40_chlorides_end\\\"]) - scale(\\\"child__chlorides_x\\\", datum[\\\"bin_maxbins_40_chlorides\\\"])) < 0.25 ? -0.5 * (0.25 - (abs(scale(\\\"child__chlorides_x\\\", datum[\\\"bin_maxbins_40_chlorides_end\\\"]) - scale(\\\"child__chlorides_x\\\", datum[\\\"bin_maxbins_40_chlorides\\\"])))) : 0.5)\"}}, \"y2\": {\"value\": 0, \"scale\": \"child__chlorides_y\"}, \"x\": {\"field\": \"bin_maxbins_40_chlorides_end\", \"scale\": \"child__chlorides_x\", \"offset\": {\"signal\": \"0.5 + (abs(scale(\\\"child__chlorides_x\\\", datum[\\\"bin_maxbins_40_chlorides_end\\\"]) - scale(\\\"child__chlorides_x\\\", datum[\\\"bin_maxbins_40_chlorides\\\"])) < 0.25 ? 0.5 * (0.25 - (abs(scale(\\\"child__chlorides_x\\\", datum[\\\"bin_maxbins_40_chlorides_end\\\"]) - scale(\\\"child__chlorides_x\\\", datum[\\\"bin_maxbins_40_chlorides\\\"])))) : -0.5)\"}}, \"fill\": {\"value\": \"#4c78a8\"}}}, \"style\": [\"bar\"]}], \"axes\": [{\"scale\": \"child__chlorides_y\", \"grid\": true, \"labels\": false, \"maxExtent\": 0, \"aria\": false, \"orient\": \"left\", \"minExtent\": 0, \"gridScale\": \"child__chlorides_x\", \"ticks\": false, \"zindex\": 0, \"domain\": false, \"tickCount\": {\"signal\": \"ceil(childHeight/40)\"}}, {\"scale\": \"child__chlorides_x\", \"title\": \"chlorides (binned)\", \"zindex\": 0, \"grid\": false, \"labelFlush\": true, \"labelOverlap\": true, \"orient\": \"bottom\", \"tickCount\": {\"signal\": \"ceil(childWidth/10)\"}}, {\"scale\": \"child__chlorides_y\", \"tickCount\": {\"signal\": \"ceil(childHeight/40)\"}, \"labelOverlap\": true, \"grid\": false, \"orient\": \"left\", \"zindex\": 0, \"title\": \"Count of Records\"}], \"style\": \"cell\"}, {\"type\": \"group\", \"name\": \"child__free_sulfur_dioxide_group\", \"encode\": {\"update\": {\"width\": {\"signal\": \"childWidth\"}, \"height\": {\"signal\": \"childHeight\"}}}, \"marks\": [{\"type\": \"rect\", \"name\": \"child__free_sulfur_dioxide_marks\", \"from\": {\"data\": \"data_6\"}, \"encode\": {\"update\": {\"x\": {\"field\": \"bin_maxbins_40_free_sulfur_dioxide_end\", \"scale\": \"child__free_sulfur_dioxide_x\", \"offset\": {\"signal\": \"0.5 + (abs(scale(\\\"child__free_sulfur_dioxide_x\\\", datum[\\\"bin_maxbins_40_free_sulfur_dioxide_end\\\"]) - scale(\\\"child__free_sulfur_dioxide_x\\\", datum[\\\"bin_maxbins_40_free_sulfur_dioxide\\\"])) < 0.25 ? 0.5 * (0.25 - (abs(scale(\\\"child__free_sulfur_dioxide_x\\\", datum[\\\"bin_maxbins_40_free_sulfur_dioxide_end\\\"]) - scale(\\\"child__free_sulfur_dioxide_x\\\", datum[\\\"bin_maxbins_40_free_sulfur_dioxide\\\"])))) : -0.5)\"}}, \"y\": {\"field\": \"__count\", \"scale\": \"child__free_sulfur_dioxide_y\"}, \"y2\": {\"value\": 0, \"scale\": \"child__free_sulfur_dioxide_y\"}, \"fill\": {\"value\": \"#4c78a8\"}, \"x2\": {\"field\": \"bin_maxbins_40_free_sulfur_dioxide\", \"scale\": \"child__free_sulfur_dioxide_x\", \"offset\": {\"signal\": \"0.5 + (abs(scale(\\\"child__free_sulfur_dioxide_x\\\", datum[\\\"bin_maxbins_40_free_sulfur_dioxide_end\\\"]) - scale(\\\"child__free_sulfur_dioxide_x\\\", datum[\\\"bin_maxbins_40_free_sulfur_dioxide\\\"])) < 0.25 ? -0.5 * (0.25 - (abs(scale(\\\"child__free_sulfur_dioxide_x\\\", datum[\\\"bin_maxbins_40_free_sulfur_dioxide_end\\\"]) - scale(\\\"child__free_sulfur_dioxide_x\\\", datum[\\\"bin_maxbins_40_free_sulfur_dioxide\\\"])))) : 0.5)\"}}}}, \"style\": [\"bar\"]}], \"axes\": [{\"scale\": \"child__free_sulfur_dioxide_y\", \"orient\": \"left\", \"grid\": true, \"domain\": false, \"labels\": false, \"ticks\": false, \"gridScale\": \"child__free_sulfur_dioxide_x\", \"aria\": false, \"maxExtent\": 0, \"tickCount\": {\"signal\": \"ceil(childHeight/40)\"}, \"zindex\": 0, \"minExtent\": 0}, {\"scale\": \"child__free_sulfur_dioxide_x\", \"title\": \"free_sulfur_dioxide (binned)\", \"tickCount\": {\"signal\": \"ceil(childWidth/10)\"}, \"grid\": false, \"zindex\": 0, \"orient\": \"bottom\", \"labelFlush\": true, \"labelOverlap\": true}, {\"scale\": \"child__free_sulfur_dioxide_y\", \"orient\": \"left\", \"title\": \"Count of Records\", \"grid\": false, \"zindex\": 0, \"tickCount\": {\"signal\": \"ceil(childHeight/40)\"}, \"labelOverlap\": true}], \"style\": \"cell\"}, {\"type\": \"group\", \"name\": \"child__total_sulfur_dioxide_group\", \"encode\": {\"update\": {\"width\": {\"signal\": \"childWidth\"}, \"height\": {\"signal\": \"childHeight\"}}}, \"marks\": [{\"type\": \"rect\", \"name\": \"child__total_sulfur_dioxide_marks\", \"from\": {\"data\": \"data_7\"}, \"encode\": {\"update\": {\"x2\": {\"field\": \"bin_maxbins_40_total_sulfur_dioxide\", \"scale\": \"child__total_sulfur_dioxide_x\", \"offset\": {\"signal\": \"0.5 + (abs(scale(\\\"child__total_sulfur_dioxide_x\\\", datum[\\\"bin_maxbins_40_total_sulfur_dioxide_end\\\"]) - scale(\\\"child__total_sulfur_dioxide_x\\\", datum[\\\"bin_maxbins_40_total_sulfur_dioxide\\\"])) < 0.25 ? -0.5 * (0.25 - (abs(scale(\\\"child__total_sulfur_dioxide_x\\\", datum[\\\"bin_maxbins_40_total_sulfur_dioxide_end\\\"]) - scale(\\\"child__total_sulfur_dioxide_x\\\", datum[\\\"bin_maxbins_40_total_sulfur_dioxide\\\"])))) : 0.5)\"}}, \"y\": {\"field\": \"__count\", \"scale\": \"child__total_sulfur_dioxide_y\"}, \"x\": {\"field\": \"bin_maxbins_40_total_sulfur_dioxide_end\", \"scale\": \"child__total_sulfur_dioxide_x\", \"offset\": {\"signal\": \"0.5 + (abs(scale(\\\"child__total_sulfur_dioxide_x\\\", datum[\\\"bin_maxbins_40_total_sulfur_dioxide_end\\\"]) - scale(\\\"child__total_sulfur_dioxide_x\\\", datum[\\\"bin_maxbins_40_total_sulfur_dioxide\\\"])) < 0.25 ? 0.5 * (0.25 - (abs(scale(\\\"child__total_sulfur_dioxide_x\\\", datum[\\\"bin_maxbins_40_total_sulfur_dioxide_end\\\"]) - scale(\\\"child__total_sulfur_dioxide_x\\\", datum[\\\"bin_maxbins_40_total_sulfur_dioxide\\\"])))) : -0.5)\"}}, \"fill\": {\"value\": \"#4c78a8\"}, \"y2\": {\"value\": 0, \"scale\": \"child__total_sulfur_dioxide_y\"}}}, \"style\": [\"bar\"]}], \"axes\": [{\"scale\": \"child__total_sulfur_dioxide_y\", \"gridScale\": \"child__total_sulfur_dioxide_x\", \"ticks\": false, \"zindex\": 0, \"grid\": true, \"maxExtent\": 0, \"tickCount\": {\"signal\": \"ceil(childHeight/40)\"}, \"minExtent\": 0, \"domain\": false, \"aria\": false, \"labels\": false, \"orient\": \"left\"}, {\"scale\": \"child__total_sulfur_dioxide_x\", \"grid\": false, \"labelOverlap\": true, \"zindex\": 0, \"orient\": \"bottom\", \"title\": \"total_sulfur_dioxide (binned)\", \"labelFlush\": true, \"tickCount\": {\"signal\": \"ceil(childWidth/10)\"}}, {\"scale\": \"child__total_sulfur_dioxide_y\", \"orient\": \"left\", \"title\": \"Count of Records\", \"tickCount\": {\"signal\": \"ceil(childHeight/40)\"}, \"labelOverlap\": true, \"grid\": false, \"zindex\": 0}], \"style\": \"cell\"}, {\"type\": \"group\", \"name\": \"child__density_group\", \"encode\": {\"update\": {\"width\": {\"signal\": \"childWidth\"}, \"height\": {\"signal\": \"childHeight\"}}}, \"marks\": [{\"type\": \"rect\", \"name\": \"child__density_marks\", \"from\": {\"data\": \"data_8\"}, \"encode\": {\"update\": {\"fill\": {\"value\": \"#4c78a8\"}, \"y\": {\"field\": \"__count\", \"scale\": \"child__density_y\"}, \"x\": {\"field\": \"bin_maxbins_40_density_end\", \"scale\": \"child__density_x\", \"offset\": {\"signal\": \"0.5 + (abs(scale(\\\"child__density_x\\\", datum[\\\"bin_maxbins_40_density_end\\\"]) - scale(\\\"child__density_x\\\", datum[\\\"bin_maxbins_40_density\\\"])) < 0.25 ? 0.5 * (0.25 - (abs(scale(\\\"child__density_x\\\", datum[\\\"bin_maxbins_40_density_end\\\"]) - scale(\\\"child__density_x\\\", datum[\\\"bin_maxbins_40_density\\\"])))) : -0.5)\"}}, \"y2\": {\"value\": 0, \"scale\": \"child__density_y\"}, \"x2\": {\"field\": \"bin_maxbins_40_density\", \"scale\": \"child__density_x\", \"offset\": {\"signal\": \"0.5 + (abs(scale(\\\"child__density_x\\\", datum[\\\"bin_maxbins_40_density_end\\\"]) - scale(\\\"child__density_x\\\", datum[\\\"bin_maxbins_40_density\\\"])) < 0.25 ? -0.5 * (0.25 - (abs(scale(\\\"child__density_x\\\", datum[\\\"bin_maxbins_40_density_end\\\"]) - scale(\\\"child__density_x\\\", datum[\\\"bin_maxbins_40_density\\\"])))) : 0.5)\"}}}}, \"style\": [\"bar\"]}], \"axes\": [{\"scale\": \"child__density_y\", \"zindex\": 0, \"maxExtent\": 0, \"orient\": \"left\", \"domain\": false, \"minExtent\": 0, \"ticks\": false, \"gridScale\": \"child__density_x\", \"grid\": true, \"labels\": false, \"tickCount\": {\"signal\": \"ceil(childHeight/40)\"}, \"aria\": false}, {\"scale\": \"child__density_x\", \"title\": \"density (binned)\", \"orient\": \"bottom\", \"grid\": false, \"labelOverlap\": true, \"zindex\": 0, \"labelFlush\": true, \"tickCount\": {\"signal\": \"ceil(childWidth/10)\"}}, {\"scale\": \"child__density_y\", \"tickCount\": {\"signal\": \"ceil(childHeight/40)\"}, \"zindex\": 0, \"orient\": \"left\", \"grid\": false, \"labelOverlap\": true, \"title\": \"Count of Records\"}], \"style\": \"cell\"}, {\"type\": \"group\", \"name\": \"child__ph_group\", \"encode\": {\"update\": {\"width\": {\"signal\": \"childWidth\"}, \"height\": {\"signal\": \"childHeight\"}}}, \"marks\": [{\"type\": \"rect\", \"name\": \"child__ph_marks\", \"from\": {\"data\": \"data_9\"}, \"encode\": {\"update\": {\"x\": {\"field\": \"bin_maxbins_40_ph_end\", \"scale\": \"child__ph_x\", \"offset\": {\"signal\": \"0.5 + (abs(scale(\\\"child__ph_x\\\", datum[\\\"bin_maxbins_40_ph_end\\\"]) - scale(\\\"child__ph_x\\\", datum[\\\"bin_maxbins_40_ph\\\"])) < 0.25 ? 0.5 * (0.25 - (abs(scale(\\\"child__ph_x\\\", datum[\\\"bin_maxbins_40_ph_end\\\"]) - scale(\\\"child__ph_x\\\", datum[\\\"bin_maxbins_40_ph\\\"])))) : -0.5)\"}}, \"y\": {\"field\": \"__count\", \"scale\": \"child__ph_y\"}, \"y2\": {\"value\": 0, \"scale\": \"child__ph_y\"}, \"fill\": {\"value\": \"#4c78a8\"}, \"x2\": {\"field\": \"bin_maxbins_40_ph\", \"scale\": \"child__ph_x\", \"offset\": {\"signal\": \"0.5 + (abs(scale(\\\"child__ph_x\\\", datum[\\\"bin_maxbins_40_ph_end\\\"]) - scale(\\\"child__ph_x\\\", datum[\\\"bin_maxbins_40_ph\\\"])) < 0.25 ? -0.5 * (0.25 - (abs(scale(\\\"child__ph_x\\\", datum[\\\"bin_maxbins_40_ph_end\\\"]) - scale(\\\"child__ph_x\\\", datum[\\\"bin_maxbins_40_ph\\\"])))) : 0.5)\"}}}}, \"style\": [\"bar\"]}], \"axes\": [{\"scale\": \"child__ph_y\", \"tickCount\": {\"signal\": \"ceil(childHeight/40)\"}, \"maxExtent\": 0, \"ticks\": false, \"orient\": \"left\", \"grid\": true, \"gridScale\": \"child__ph_x\", \"minExtent\": 0, \"domain\": false, \"zindex\": 0, \"labels\": false, \"aria\": false}, {\"scale\": \"child__ph_x\", \"tickCount\": {\"signal\": \"ceil(childWidth/10)\"}, \"zindex\": 0, \"labelOverlap\": true, \"grid\": false, \"labelFlush\": true, \"orient\": \"bottom\", \"title\": \"ph (binned)\"}, {\"scale\": \"child__ph_y\", \"orient\": \"left\", \"tickCount\": {\"signal\": \"ceil(childHeight/40)\"}, \"title\": \"Count of Records\", \"grid\": false, \"labelOverlap\": true, \"zindex\": 0}], \"style\": \"cell\"}, {\"type\": \"group\", \"name\": \"child__sulphates_group\", \"encode\": {\"update\": {\"width\": {\"signal\": \"childWidth\"}, \"height\": {\"signal\": \"childHeight\"}}}, \"marks\": [{\"type\": \"rect\", \"name\": \"child__sulphates_marks\", \"from\": {\"data\": \"data_10\"}, \"encode\": {\"update\": {\"x\": {\"field\": \"bin_maxbins_40_sulphates_end\", \"scale\": \"child__sulphates_x\", \"offset\": {\"signal\": \"0.5 + (abs(scale(\\\"child__sulphates_x\\\", datum[\\\"bin_maxbins_40_sulphates_end\\\"]) - scale(\\\"child__sulphates_x\\\", datum[\\\"bin_maxbins_40_sulphates\\\"])) < 0.25 ? 0.5 * (0.25 - (abs(scale(\\\"child__sulphates_x\\\", datum[\\\"bin_maxbins_40_sulphates_end\\\"]) - scale(\\\"child__sulphates_x\\\", datum[\\\"bin_maxbins_40_sulphates\\\"])))) : -0.5)\"}}, \"fill\": {\"value\": \"#4c78a8\"}, \"x2\": {\"field\": \"bin_maxbins_40_sulphates\", \"scale\": \"child__sulphates_x\", \"offset\": {\"signal\": \"0.5 + (abs(scale(\\\"child__sulphates_x\\\", datum[\\\"bin_maxbins_40_sulphates_end\\\"]) - scale(\\\"child__sulphates_x\\\", datum[\\\"bin_maxbins_40_sulphates\\\"])) < 0.25 ? -0.5 * (0.25 - (abs(scale(\\\"child__sulphates_x\\\", datum[\\\"bin_maxbins_40_sulphates_end\\\"]) - scale(\\\"child__sulphates_x\\\", datum[\\\"bin_maxbins_40_sulphates\\\"])))) : 0.5)\"}}, \"y2\": {\"value\": 0, \"scale\": \"child__sulphates_y\"}, \"y\": {\"field\": \"__count\", \"scale\": \"child__sulphates_y\"}}}, \"style\": [\"bar\"]}], \"axes\": [{\"scale\": \"child__sulphates_y\", \"maxExtent\": 0, \"minExtent\": 0, \"domain\": false, \"grid\": true, \"aria\": false, \"orient\": \"left\", \"tickCount\": {\"signal\": \"ceil(childHeight/40)\"}, \"labels\": false, \"gridScale\": \"child__sulphates_x\", \"ticks\": false, \"zindex\": 0}, {\"scale\": \"child__sulphates_x\", \"tickCount\": {\"signal\": \"ceil(childWidth/10)\"}, \"labelFlush\": true, \"grid\": false, \"zindex\": 0, \"title\": \"sulphates (binned)\", \"orient\": \"bottom\", \"labelOverlap\": true}, {\"scale\": \"child__sulphates_y\", \"zindex\": 0, \"title\": \"Count of Records\", \"grid\": false, \"labelOverlap\": true, \"orient\": \"left\", \"tickCount\": {\"signal\": \"ceil(childHeight/40)\"}}], \"style\": \"cell\"}, {\"type\": \"group\", \"name\": \"child__alcohol_group\", \"encode\": {\"update\": {\"height\": {\"signal\": \"childHeight\"}, \"width\": {\"signal\": \"childWidth\"}}}, \"marks\": [{\"type\": \"rect\", \"name\": \"child__alcohol_marks\", \"from\": {\"data\": \"data_11\"}, \"encode\": {\"update\": {\"fill\": {\"value\": \"#4c78a8\"}, \"x\": {\"field\": \"bin_maxbins_40_alcohol_end\", \"scale\": \"child__alcohol_x\", \"offset\": {\"signal\": \"0.5 + (abs(scale(\\\"child__alcohol_x\\\", datum[\\\"bin_maxbins_40_alcohol_end\\\"]) - scale(\\\"child__alcohol_x\\\", datum[\\\"bin_maxbins_40_alcohol\\\"])) < 0.25 ? 0.5 * (0.25 - (abs(scale(\\\"child__alcohol_x\\\", datum[\\\"bin_maxbins_40_alcohol_end\\\"]) - scale(\\\"child__alcohol_x\\\", datum[\\\"bin_maxbins_40_alcohol\\\"])))) : -0.5)\"}}, \"y\": {\"field\": \"__count\", \"scale\": \"child__alcohol_y\"}, \"y2\": {\"value\": 0, \"scale\": \"child__alcohol_y\"}, \"x2\": {\"field\": \"bin_maxbins_40_alcohol\", \"scale\": \"child__alcohol_x\", \"offset\": {\"signal\": \"0.5 + (abs(scale(\\\"child__alcohol_x\\\", datum[\\\"bin_maxbins_40_alcohol_end\\\"]) - scale(\\\"child__alcohol_x\\\", datum[\\\"bin_maxbins_40_alcohol\\\"])) < 0.25 ? -0.5 * (0.25 - (abs(scale(\\\"child__alcohol_x\\\", datum[\\\"bin_maxbins_40_alcohol_end\\\"]) - scale(\\\"child__alcohol_x\\\", datum[\\\"bin_maxbins_40_alcohol\\\"])))) : 0.5)\"}}}}, \"style\": [\"bar\"]}], \"axes\": [{\"scale\": \"child__alcohol_y\", \"tickCount\": {\"signal\": \"ceil(childHeight/40)\"}, \"labels\": false, \"domain\": false, \"aria\": false, \"orient\": \"left\", \"gridScale\": \"child__alcohol_x\", \"minExtent\": 0, \"ticks\": false, \"grid\": true, \"zindex\": 0, \"maxExtent\": 0}, {\"scale\": \"child__alcohol_x\", \"labelFlush\": true, \"orient\": \"bottom\", \"title\": \"alcohol (binned)\", \"grid\": false, \"labelOverlap\": true, \"tickCount\": {\"signal\": \"ceil(childWidth/10)\"}, \"zindex\": 0}, {\"scale\": \"child__alcohol_y\", \"labelOverlap\": true, \"orient\": \"left\", \"title\": \"Count of Records\", \"tickCount\": {\"signal\": \"ceil(childHeight/40)\"}, \"zindex\": 0, \"grid\": false}], \"style\": \"cell\"}, {\"type\": \"group\", \"name\": \"child__quality_group\", \"encode\": {\"update\": {\"height\": {\"signal\": \"childHeight\"}, \"width\": {\"signal\": \"childWidth\"}}}, \"marks\": [{\"type\": \"rect\", \"name\": \"child__quality_marks\", \"from\": {\"data\": \"data_0\"}, \"encode\": {\"update\": {\"y\": {\"field\": \"__count\", \"scale\": \"child__quality_y\"}, \"fill\": {\"value\": \"#4c78a8\"}, \"x\": {\"field\": \"bin_maxbins_40_quality_end\", \"scale\": \"child__quality_x\", \"offset\": {\"signal\": \"0.5 + (abs(scale(\\\"child__quality_x\\\", datum[\\\"bin_maxbins_40_quality_end\\\"]) - scale(\\\"child__quality_x\\\", datum[\\\"bin_maxbins_40_quality\\\"])) < 0.25 ? 0.5 * (0.25 - (abs(scale(\\\"child__quality_x\\\", datum[\\\"bin_maxbins_40_quality_end\\\"]) - scale(\\\"child__quality_x\\\", datum[\\\"bin_maxbins_40_quality\\\"])))) : -0.5)\"}}, \"y2\": {\"value\": 0, \"scale\": \"child__quality_y\"}, \"x2\": {\"field\": \"bin_maxbins_40_quality\", \"scale\": \"child__quality_x\", \"offset\": {\"signal\": \"0.5 + (abs(scale(\\\"child__quality_x\\\", datum[\\\"bin_maxbins_40_quality_end\\\"]) - scale(\\\"child__quality_x\\\", datum[\\\"bin_maxbins_40_quality\\\"])) < 0.25 ? -0.5 * (0.25 - (abs(scale(\\\"child__quality_x\\\", datum[\\\"bin_maxbins_40_quality_end\\\"]) - scale(\\\"child__quality_x\\\", datum[\\\"bin_maxbins_40_quality\\\"])))) : 0.5)\"}}}}, \"style\": [\"bar\"]}], \"axes\": [{\"scale\": \"child__quality_y\", \"grid\": true, \"zindex\": 0, \"minExtent\": 0, \"ticks\": false, \"aria\": false, \"orient\": \"left\", \"labels\": false, \"gridScale\": \"child__quality_x\", \"tickCount\": {\"signal\": \"ceil(childHeight/40)\"}, \"domain\": false, \"maxExtent\": 0}, {\"scale\": \"child__quality_x\", \"orient\": \"bottom\", \"title\": \"quality (binned)\", \"labelOverlap\": true, \"labelFlush\": true, \"tickCount\": {\"signal\": \"ceil(childWidth/10)\"}, \"grid\": false, \"zindex\": 0}, {\"scale\": \"child__quality_y\", \"zindex\": 0, \"grid\": false, \"title\": \"Count of Records\", \"orient\": \"left\", \"labelOverlap\": true, \"tickCount\": {\"signal\": \"ceil(childHeight/40)\"}}], \"style\": \"cell\"}], \"scales\": [{\"name\": \"child__fixed_acidity_x\", \"type\": \"linear\", \"domain\": {\"signal\": \"[child__fixed_acidity_bin_maxbins_40_fixed_acidity_bins.start, child__fixed_acidity_bin_maxbins_40_fixed_acidity_bins.stop]\"}, \"range\": [0, {\"signal\": \"childWidth\"}], \"bins\": {\"signal\": \"child__fixed_acidity_bin_maxbins_40_fixed_acidity_bins\"}, \"zero\": false}, {\"name\": \"child__fixed_acidity_y\", \"type\": \"linear\", \"domain\": [{\"signal\": \"(data(\\\"data_1_child__fixed_acidity_y_domain___count\\\")[0] || {}).min\"}, {\"signal\": \"(data(\\\"data_1_child__fixed_acidity_y_domain___count\\\")[0] || {}).max\"}], \"range\": [{\"signal\": \"childHeight\"}, 0], \"zero\": true, \"nice\": true}, {\"name\": \"child__volatile_acidity_x\", \"type\": \"linear\", \"domain\": {\"signal\": \"[child__volatile_acidity_bin_maxbins_40_volatile_acidity_bins.start, child__volatile_acidity_bin_maxbins_40_volatile_acidity_bins.stop]\"}, \"range\": [0, {\"signal\": \"childWidth\"}], \"bins\": {\"signal\": \"child__volatile_acidity_bin_maxbins_40_volatile_acidity_bins\"}, \"zero\": false}, {\"name\": \"child__volatile_acidity_y\", \"type\": \"linear\", \"domain\": [{\"signal\": \"(data(\\\"data_2_child__volatile_acidity_y_domain___count\\\")[0] || {}).min\"}, {\"signal\": \"(data(\\\"data_2_child__volatile_acidity_y_domain___count\\\")[0] || {}).max\"}], \"range\": [{\"signal\": \"childHeight\"}, 0], \"zero\": true, \"nice\": true}, {\"name\": \"child__citric_acid_x\", \"type\": \"linear\", \"domain\": {\"signal\": \"[child__citric_acid_bin_maxbins_40_citric_acid_bins.start, child__citric_acid_bin_maxbins_40_citric_acid_bins.stop]\"}, \"range\": [0, {\"signal\": \"childWidth\"}], \"bins\": {\"signal\": \"child__citric_acid_bin_maxbins_40_citric_acid_bins\"}, \"zero\": false}, {\"name\": \"child__citric_acid_y\", \"type\": \"linear\", \"domain\": [{\"signal\": \"(data(\\\"data_3_child__citric_acid_y_domain___count\\\")[0] || {}).min\"}, {\"signal\": \"(data(\\\"data_3_child__citric_acid_y_domain___count\\\")[0] || {}).max\"}], \"range\": [{\"signal\": \"childHeight\"}, 0], \"zero\": true, \"nice\": true}, {\"name\": \"child__residual_sugar_x\", \"type\": \"linear\", \"domain\": {\"signal\": \"[child__residual_sugar_bin_maxbins_40_residual_sugar_bins.start, child__residual_sugar_bin_maxbins_40_residual_sugar_bins.stop]\"}, \"range\": [0, {\"signal\": \"childWidth\"}], \"bins\": {\"signal\": \"child__residual_sugar_bin_maxbins_40_residual_sugar_bins\"}, \"zero\": false}, {\"name\": \"child__residual_sugar_y\", \"type\": \"linear\", \"domain\": [{\"signal\": \"(data(\\\"data_4_child__residual_sugar_y_domain___count\\\")[0] || {}).min\"}, {\"signal\": \"(data(\\\"data_4_child__residual_sugar_y_domain___count\\\")[0] || {}).max\"}], \"range\": [{\"signal\": \"childHeight\"}, 0], \"zero\": true, \"nice\": true}, {\"name\": \"child__chlorides_x\", \"type\": \"linear\", \"domain\": {\"signal\": \"[child__chlorides_bin_maxbins_40_chlorides_bins.start, child__chlorides_bin_maxbins_40_chlorides_bins.stop]\"}, \"range\": [0, {\"signal\": \"childWidth\"}], \"bins\": {\"signal\": \"child__chlorides_bin_maxbins_40_chlorides_bins\"}, \"zero\": false}, {\"name\": \"child__chlorides_y\", \"type\": \"linear\", \"domain\": [{\"signal\": \"(data(\\\"data_5_child__chlorides_y_domain___count\\\")[0] || {}).min\"}, {\"signal\": \"(data(\\\"data_5_child__chlorides_y_domain___count\\\")[0] || {}).max\"}], \"range\": [{\"signal\": \"childHeight\"}, 0], \"zero\": true, \"nice\": true}, {\"name\": \"child__free_sulfur_dioxide_x\", \"type\": \"linear\", \"domain\": {\"signal\": \"[child__free_sulfur_dioxide_bin_maxbins_40_free_sulfur_dioxide_bins.start, child__free_sulfur_dioxide_bin_maxbins_40_free_sulfur_dioxide_bins.stop]\"}, \"range\": [0, {\"signal\": \"childWidth\"}], \"bins\": {\"signal\": \"child__free_sulfur_dioxide_bin_maxbins_40_free_sulfur_dioxide_bins\"}, \"zero\": false}, {\"name\": \"child__free_sulfur_dioxide_y\", \"type\": \"linear\", \"domain\": [{\"signal\": \"(data(\\\"data_6_child__free_sulfur_dioxide_y_domain___count\\\")[0] || {}).min\"}, {\"signal\": \"(data(\\\"data_6_child__free_sulfur_dioxide_y_domain___count\\\")[0] || {}).max\"}], \"range\": [{\"signal\": \"childHeight\"}, 0], \"zero\": true, \"nice\": true}, {\"name\": \"child__total_sulfur_dioxide_x\", \"type\": \"linear\", \"domain\": {\"signal\": \"[child__total_sulfur_dioxide_bin_maxbins_40_total_sulfur_dioxide_bins.start, child__total_sulfur_dioxide_bin_maxbins_40_total_sulfur_dioxide_bins.stop]\"}, \"range\": [0, {\"signal\": \"childWidth\"}], \"bins\": {\"signal\": \"child__total_sulfur_dioxide_bin_maxbins_40_total_sulfur_dioxide_bins\"}, \"zero\": false}, {\"name\": \"child__total_sulfur_dioxide_y\", \"type\": \"linear\", \"domain\": [{\"signal\": \"(data(\\\"data_7_child__total_sulfur_dioxide_y_domain___count\\\")[0] || {}).min\"}, {\"signal\": \"(data(\\\"data_7_child__total_sulfur_dioxide_y_domain___count\\\")[0] || {}).max\"}], \"range\": [{\"signal\": \"childHeight\"}, 0], \"zero\": true, \"nice\": true}, {\"name\": \"child__density_x\", \"type\": \"linear\", \"domain\": {\"signal\": \"[child__density_bin_maxbins_40_density_bins.start, child__density_bin_maxbins_40_density_bins.stop]\"}, \"range\": [0, {\"signal\": \"childWidth\"}], \"bins\": {\"signal\": \"child__density_bin_maxbins_40_density_bins\"}, \"zero\": false}, {\"name\": \"child__density_y\", \"type\": \"linear\", \"domain\": [{\"signal\": \"(data(\\\"data_8_child__density_y_domain___count\\\")[0] || {}).min\"}, {\"signal\": \"(data(\\\"data_8_child__density_y_domain___count\\\")[0] || {}).max\"}], \"range\": [{\"signal\": \"childHeight\"}, 0], \"nice\": true, \"zero\": true}, {\"name\": \"child__ph_x\", \"type\": \"linear\", \"domain\": {\"signal\": \"[child__ph_bin_maxbins_40_ph_bins.start, child__ph_bin_maxbins_40_ph_bins.stop]\"}, \"range\": [0, {\"signal\": \"childWidth\"}], \"bins\": {\"signal\": \"child__ph_bin_maxbins_40_ph_bins\"}, \"zero\": false}, {\"name\": \"child__ph_y\", \"type\": \"linear\", \"domain\": [{\"signal\": \"(data(\\\"data_9_child__ph_y_domain___count\\\")[0] || {}).min\"}, {\"signal\": \"(data(\\\"data_9_child__ph_y_domain___count\\\")[0] || {}).max\"}], \"range\": [{\"signal\": \"childHeight\"}, 0], \"zero\": true, \"nice\": true}, {\"name\": \"child__sulphates_x\", \"type\": \"linear\", \"domain\": {\"signal\": \"[child__sulphates_bin_maxbins_40_sulphates_bins.start, child__sulphates_bin_maxbins_40_sulphates_bins.stop]\"}, \"range\": [0, {\"signal\": \"childWidth\"}], \"bins\": {\"signal\": \"child__sulphates_bin_maxbins_40_sulphates_bins\"}, \"zero\": false}, {\"name\": \"child__sulphates_y\", \"type\": \"linear\", \"domain\": [{\"signal\": \"(data(\\\"data_10_child__sulphates_y_domain___count\\\")[0] || {}).min\"}, {\"signal\": \"(data(\\\"data_10_child__sulphates_y_domain___count\\\")[0] || {}).max\"}], \"range\": [{\"signal\": \"childHeight\"}, 0], \"zero\": true, \"nice\": true}, {\"name\": \"child__alcohol_x\", \"type\": \"linear\", \"domain\": {\"signal\": \"[child__alcohol_bin_maxbins_40_alcohol_bins.start, child__alcohol_bin_maxbins_40_alcohol_bins.stop]\"}, \"range\": [0, {\"signal\": \"childWidth\"}], \"bins\": {\"signal\": \"child__alcohol_bin_maxbins_40_alcohol_bins\"}, \"zero\": false}, {\"name\": \"child__alcohol_y\", \"type\": \"linear\", \"domain\": [{\"signal\": \"(data(\\\"data_11_child__alcohol_y_domain___count\\\")[0] || {}).min\"}, {\"signal\": \"(data(\\\"data_11_child__alcohol_y_domain___count\\\")[0] || {}).max\"}], \"range\": [{\"signal\": \"childHeight\"}, 0], \"nice\": true, \"zero\": true}, {\"name\": \"child__quality_x\", \"type\": \"linear\", \"domain\": {\"signal\": \"[child__quality_bin_maxbins_40_quality_bins.start, child__quality_bin_maxbins_40_quality_bins.stop]\"}, \"range\": [0, {\"signal\": \"childWidth\"}], \"bins\": {\"signal\": \"child__quality_bin_maxbins_40_quality_bins\"}, \"zero\": false}, {\"name\": \"child__quality_y\", \"type\": \"linear\", \"domain\": [{\"signal\": \"(data(\\\"data_0_child__quality_y_domain___count\\\")[0] || {}).min\"}, {\"signal\": \"(data(\\\"data_0_child__quality_y_domain___count\\\")[0] || {}).max\"}], \"range\": [{\"signal\": \"childHeight\"}, 0], \"nice\": true, \"zero\": true}], \"background\": \"white\", \"layout\": {\"padding\": 20, \"columns\": 3, \"bounds\": \"full\", \"align\": \"all\"}, \"padding\": 5}, {\"mode\": \"vega\"});\n",
>>>>>>> 74afaaea9bd27bd22b47c9000ff0453e2e2f7968:analysis.ipynb
       "</script>"
      ],
      "text/plain": [
       "alt.RepeatChart(...)"
      ]
     },
<<<<<<< HEAD:analysis/analysis.ipynb
     "execution_count": 46,
=======
     "execution_count": 10,
>>>>>>> 74afaaea9bd27bd22b47c9000ff0453e2e2f7968:analysis.ipynb
     "metadata": {},
     "output_type": "execute_result"
    }
   ],
   "source": [
    "# Visualizing feature distribution using a histogram\n",
    "columns = wine_df.columns.to_list()\n",
    "\n",
    "alt.Chart(wine_df).mark_bar().encode(\n",
    "    x=alt.X(alt.repeat('repeat'),bin=alt.Bin(maxbins=40)),\n",
    "    y=alt.Y('count()')\n",
    ").repeat(\n",
    "    repeat=columns,\n",
    "    columns=3\n",
    ")"
   ]
  },
  {
   "cell_type": "code",
<<<<<<< HEAD:analysis/analysis.ipynb
   "execution_count": 47,
=======
   "execution_count": 11,
>>>>>>> 74afaaea9bd27bd22b47c9000ff0453e2e2f7968:analysis.ipynb
   "metadata": {},
   "outputs": [],
   "source": [
    "from sklearn.model_selection import train_test_split, cross_validate\n",
    "from sklearn.dummy import DummyClassifier\n",
    "from sklearn.tree import DecisionTreeClassifier"
   ]
  },
  {
   "cell_type": "code",
<<<<<<< HEAD:analysis/analysis.ipynb
   "execution_count": 48,
=======
   "execution_count": 12,
>>>>>>> 74afaaea9bd27bd22b47c9000ff0453e2e2f7968:analysis.ipynb
   "metadata": {},
   "outputs": [],
   "source": [
    "#Splitting the data with 20% of the data as test set\n",
    "train_df, test_df = train_test_split(wine_df, test_size=0.2, random_state=123)"
   ]
  },
  {
   "cell_type": "code",
<<<<<<< HEAD:analysis/analysis.ipynb
   "execution_count": 49,
=======
   "execution_count": 13,
>>>>>>> 74afaaea9bd27bd22b47c9000ff0453e2e2f7968:analysis.ipynb
   "metadata": {},
   "outputs": [],
   "source": [
    "#Seperating Features Vectors and Targets\n",
    "X_train = train_df.drop(columns='quality')\n",
    "y_train = train_df['quality']\n",
    "X_test = test_df.drop(columns='quality')\n",
    "y_test = test_df['quality']"
   ]
  },
  {
   "cell_type": "code",
<<<<<<< HEAD:analysis/analysis.ipynb
   "execution_count": 50,
=======
   "execution_count": 14,
>>>>>>> 74afaaea9bd27bd22b47c9000ff0453e2e2f7968:analysis.ipynb
   "metadata": {},
   "outputs": [
    {
     "name": "stdout",
     "output_type": "stream",
     "text": [
      "Dummy Classifier score is 0.43615384615384617\n"
     ]
    }
   ],
   "source": [
    "#Creating a DummyClassifier Model as a baseline\n",
    "dummy_model = DummyClassifier(random_state=123)\n",
    "#Fitting the dummy model on Training data\n",
    "dummy_model.fit(X_train, y_train)\n",
    "#Scoring the dummy model on Test data\n",
    "dummy_score = dummy_model.score(X_test, y_test)\n",
    "print(f\"Dummy Classifier score is {dummy_score}\")"
   ]
  },
  {
   "cell_type": "code",
<<<<<<< HEAD:analysis/analysis.ipynb
   "execution_count": 51,
=======
   "execution_count": 15,
>>>>>>> 74afaaea9bd27bd22b47c9000ff0453e2e2f7968:analysis.ipynb
   "metadata": {},
   "outputs": [
    {
     "name": "stdout",
     "output_type": "stream",
     "text": [
      "Fitting 5 folds for each of 108 candidates, totalling 540 fits\n",
      "best hyperparameters:\n",
      "{'max_depth': None, 'max_features': 'sqrt', 'min_samples_leaf': 1, 'min_samples_split': 2}\n"
     ]
    }
   ],
   "source": [
    "from sklearn.model_selection import GridSearchCV\n",
    "from sklearn.metrics import classification_report\n",
    "\n",
    "# Define the hyperparameter grid\n",
    "param_grid = {\n",
    "    'max_depth': [3, 5, 10, None],\n",
    "    'min_samples_split': [2, 5, 10],\n",
    "    'min_samples_leaf': [1, 2, 5],\n",
    "    'max_features': [None, 'sqrt', 'log2']\n",
    "}\n",
    "\n",
    "#Creating another Decision Tree model with max_features parameter\n",
    "tree_model = DecisionTreeClassifier(random_state=16)\n",
    "\n",
    "# Set up GridSearchCV\n",
    "grid_search = GridSearchCV(\n",
    "    estimator=tree_model,\n",
    "    param_grid=param_grid,\n",
    "    cv=5,\n",
    "    scoring='accuracy',\n",
    "    n_jobs=-1,\n",
    "    verbose=1\n",
    ")\n",
    "\n",
    "# Perform grid search on the training data\n",
    "grid_search.fit(X_train, y_train)\n",
    "\n",
    "# Get the best model\n",
    "best_tree_model = grid_search.best_estimator_\n",
    "\n",
    "# Display the best hyperparameters\n",
    "print(\"best hyperparameters:\")\n",
    "print(grid_search.best_params_)\n"
   ]
  },
  {
   "cell_type": "code",
<<<<<<< HEAD:analysis/analysis.ipynb
   "execution_count": 52,
=======
   "execution_count": 16,
>>>>>>> 74afaaea9bd27bd22b47c9000ff0453e2e2f7968:analysis.ipynb
   "metadata": {},
   "outputs": [
    {
     "name": "stdout",
     "output_type": "stream",
     "text": [
      "Test Accuracy: 0.6169\n",
      "\n",
      "Table 1: Classification report:\n",
      "              precision    recall  f1-score   support\n",
      "\n",
      "           3       0.00      0.00      0.00         4\n",
      "           4       0.29      0.24      0.26        51\n",
      "           5       0.63      0.66      0.65       413\n",
      "           6       0.66      0.65      0.65       567\n",
      "           7       0.61      0.58      0.60       228\n",
      "           8       0.36      0.43      0.40        37\n",
      "           9       0.00      0.00      0.00         0\n",
      "\n",
      "    accuracy                           0.62      1300\n",
      "   macro avg       0.37      0.37      0.36      1300\n",
      "weighted avg       0.62      0.62      0.62      1300\n",
      "\n"
     ]
    },
    {
     "name": "stderr",
     "output_type": "stream",
     "text": [
      "c:\\Users\\11251\\miniforge3\\envs\\522_milestone_env\\Lib\\site-packages\\sklearn\\metrics\\_classification.py:1531: UndefinedMetricWarning: Recall is ill-defined and being set to 0.0 in labels with no true samples. Use `zero_division` parameter to control this behavior.\n",
      "  _warn_prf(average, modifier, f\"{metric.capitalize()} is\", len(result))\n",
      "c:\\Users\\11251\\miniforge3\\envs\\522_milestone_env\\Lib\\site-packages\\sklearn\\metrics\\_classification.py:1531: UndefinedMetricWarning: Recall is ill-defined and being set to 0.0 in labels with no true samples. Use `zero_division` parameter to control this behavior.\n",
      "  _warn_prf(average, modifier, f\"{metric.capitalize()} is\", len(result))\n",
      "c:\\Users\\11251\\miniforge3\\envs\\522_milestone_env\\Lib\\site-packages\\sklearn\\metrics\\_classification.py:1531: UndefinedMetricWarning: Recall is ill-defined and being set to 0.0 in labels with no true samples. Use `zero_division` parameter to control this behavior.\n",
      "  _warn_prf(average, modifier, f\"{metric.capitalize()} is\", len(result))\n",
      "c:\\Users\\11251\\miniforge3\\envs\\522_milestone_env\\Lib\\site-packages\\sklearn\\metrics\\_classification.py:1531: UndefinedMetricWarning: Recall is ill-defined and being set to 0.0 in labels with no true samples. Use `zero_division` parameter to control this behavior.\n",
      "  _warn_prf(average, modifier, f\"{metric.capitalize()} is\", len(result))\n",
      "c:\\Users\\11251\\miniforge3\\envs\\522_milestone_env\\Lib\\site-packages\\sklearn\\metrics\\_classification.py:1531: UndefinedMetricWarning: Recall is ill-defined and being set to 0.0 in labels with no true samples. Use `zero_division` parameter to control this behavior.\n",
      "  _warn_prf(average, modifier, f\"{metric.capitalize()} is\", len(result))\n",
      "c:\\Users\\11251\\miniforge3\\envs\\522_milestone_env\\Lib\\site-packages\\sklearn\\metrics\\_classification.py:1531: UndefinedMetricWarning: Recall is ill-defined and being set to 0.0 in labels with no true samples. Use `zero_division` parameter to control this behavior.\n",
      "  _warn_prf(average, modifier, f\"{metric.capitalize()} is\", len(result))\n"
     ]
    }
   ],
   "source": [
    "from sklearn.metrics import classification_report, accuracy_score\n",
    "\n",
    "# Predictions on the test set\n",
    "y_test_pred = best_tree_model.predict(X_test)\n",
    "\n",
    "\n",
    "\n",
    "# Accuracy score\n",
<<<<<<< HEAD:analysis/analysis.ipynb
    "test_dict =classification_report(y_test, y_test_pred, output_dict=True)\n",
    "test_accuracy =accuracy_score(y_test, y_test_pred)\n",
    "print(f\"Test Accuracy: {test_accuracy:.4f}\")"
=======
    "test_accuracy = accuracy_score(y_test, y_test_pred)\n",
    "print(f\"Test Accuracy: {test_accuracy:.4f}\\n\")\n",
    "\n",
    "# Classification report\n",
    "print(\"Table 1: Classification report:\")\n",
    "print(classification_report(y_test, y_test_pred))"
>>>>>>> 74afaaea9bd27bd22b47c9000ff0453e2e2f7968:analysis.ipynb
   ]
  },
  {
   "cell_type": "code",
<<<<<<< HEAD:analysis/analysis.ipynb
   "execution_count": 53,
   "metadata": {},
   "outputs": [
    {
     "data": {
      "image/png": "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",
      "text/plain": [
       "<Figure size 500x300 with 1 Axes>"
      ]
     },
     "metadata": {},
     "output_type": "display_data"
    }
   ],
   "source": [
    "\n",
    "import matplotlib.pyplot as plt\n",
    "report_df = pd.DataFrame(test_dict).transpose()\n",
    "fig, ax = plt.subplots(figsize=(5, 3))  # Adjust size as needed\n",
    "ax.axis('tight')\n",
    "ax.axis('off')\n",
    "ax.set_title(\"Classification report\")\n",
    "table = ax.table(cellText=np.round(report_df.values, 2),\n",
    "                 colLabels=report_df.columns,\n",
    "                 rowLabels=report_df.index,\n",
    "                 loc='center')\n",
    "\n"
   ]
  },
  {
   "cell_type": "code",
   "execution_count": 57,
   "metadata": {},
   "outputs": [],
   "source": [
    "# Save as a JPEG file\n",
    "fig.savefig(\"classification_report.jpeg\", format=\"jpeg\", dpi=300, bbox_inches=\"tight\")\n",
    "\n"
   ]
  },
  {
   "cell_type": "code",
   "execution_count": 119,
=======
   "execution_count": 17,
>>>>>>> 74afaaea9bd27bd22b47c9000ff0453e2e2f7968:analysis.ipynb
   "metadata": {},
   "outputs": [
    {
     "data": {
      "text/html": [
       "\n",
       "<style>\n",
       "  #altair-viz-59d2096dec62428f861d668c9342f7d0.vega-embed {\n",
       "    width: 100%;\n",
       "    display: flex;\n",
       "  }\n",
       "\n",
       "  #altair-viz-59d2096dec62428f861d668c9342f7d0.vega-embed details,\n",
       "  #altair-viz-59d2096dec62428f861d668c9342f7d0.vega-embed details summary {\n",
       "    position: relative;\n",
       "  }\n",
       "</style>\n",
       "<div id=\"altair-viz-59d2096dec62428f861d668c9342f7d0\"></div>\n",
       "<script type=\"text/javascript\">\n",
       "  var VEGA_DEBUG = (typeof VEGA_DEBUG == \"undefined\") ? {} : VEGA_DEBUG;\n",
       "  (function(spec, embedOpt){\n",
       "    let outputDiv = document.currentScript.previousElementSibling;\n",
       "    if (outputDiv.id !== \"altair-viz-59d2096dec62428f861d668c9342f7d0\") {\n",
       "      outputDiv = document.getElementById(\"altair-viz-59d2096dec62428f861d668c9342f7d0\");\n",
       "    }\n",
       "    const paths = {\n",
       "      \"vega\": \"https://cdn.jsdelivr.net/npm/vega@5?noext\",\n",
       "      \"vega-lib\": \"https://cdn.jsdelivr.net/npm/vega-lib?noext\",\n",
       "      \"vega-lite\": \"https://cdn.jsdelivr.net/npm/vega-lite@5.20.1?noext\",\n",
       "      \"vega-embed\": \"https://cdn.jsdelivr.net/npm/vega-embed@6?noext\",\n",
       "    };\n",
       "\n",
       "    function maybeLoadScript(lib, version) {\n",
       "      var key = `${lib.replace(\"-\", \"\")}_version`;\n",
       "      return (VEGA_DEBUG[key] == version) ?\n",
       "        Promise.resolve(paths[lib]) :\n",
       "        new Promise(function(resolve, reject) {\n",
       "          var s = document.createElement('script');\n",
       "          document.getElementsByTagName(\"head\")[0].appendChild(s);\n",
       "          s.async = true;\n",
       "          s.onload = () => {\n",
       "            VEGA_DEBUG[key] = version;\n",
       "            return resolve(paths[lib]);\n",
       "          };\n",
       "          s.onerror = () => reject(`Error loading script: ${paths[lib]}`);\n",
       "          s.src = paths[lib];\n",
       "        });\n",
       "    }\n",
       "\n",
       "    function showError(err) {\n",
       "      outputDiv.innerHTML = `<div class=\"error\" style=\"color:red;\">${err}</div>`;\n",
       "      throw err;\n",
       "    }\n",
       "\n",
       "    function displayChart(vegaEmbed) {\n",
       "      vegaEmbed(outputDiv, spec, embedOpt)\n",
       "        .catch(err => showError(`Javascript Error: ${err.message}<br>This usually means there's a typo in your chart specification. See the javascript console for the full traceback.`));\n",
       "    }\n",
       "\n",
       "    if(typeof define === \"function\" && define.amd) {\n",
       "      requirejs.config({paths});\n",
       "      require([\"vega-embed\"], displayChart, err => showError(`Error loading script: ${err.message}`));\n",
       "    } else {\n",
       "      maybeLoadScript(\"vega\", \"5\")\n",
       "        .then(() => maybeLoadScript(\"vega-lite\", \"5.20.1\"))\n",
       "        .then(() => maybeLoadScript(\"vega-embed\", \"6\"))\n",
       "        .catch(showError)\n",
       "        .then(() => displayChart(vegaEmbed));\n",
       "    }\n",
       "  })({\"$schema\": \"https://vega.github.io/schema/vega/v5.json\", \"data\": [{\"name\": \"source_0\", \"values\": [{\"Count\": 0, \"Predicted\": \"Predicted 3\", \"index\": \"Actual 3\"}, {\"Count\": 0, \"Predicted\": \"Predicted 3\", \"index\": \"Actual 4\"}, {\"Count\": 2, \"Predicted\": \"Predicted 3\", \"index\": \"Actual 5\"}, {\"Count\": 0, \"Predicted\": \"Predicted 3\", \"index\": \"Actual 6\"}, {\"Count\": 0, \"Predicted\": \"Predicted 3\", \"index\": \"Actual 7\"}, {\"Count\": 1, \"Predicted\": \"Predicted 3\", \"index\": \"Actual 8\"}, {\"Count\": 0, \"Predicted\": \"Predicted 3\", \"index\": \"Actual 9\"}, {\"Count\": 0, \"Predicted\": \"Predicted 4\", \"index\": \"Actual 3\"}, {\"Count\": 12, \"Predicted\": \"Predicted 4\", \"index\": \"Actual 4\"}, {\"Count\": 14, \"Predicted\": \"Predicted 4\", \"index\": \"Actual 5\"}, {\"Count\": 14, \"Predicted\": \"Predicted 4\", \"index\": \"Actual 6\"}, {\"Count\": 1, \"Predicted\": \"Predicted 4\", \"index\": \"Actual 7\"}, {\"Count\": 0, \"Predicted\": \"Predicted 4\", \"index\": \"Actual 8\"}, {\"Count\": 0, \"Predicted\": \"Predicted 4\", \"index\": \"Actual 9\"}, {\"Count\": 1, \"Predicted\": \"Predicted 5\", \"index\": \"Actual 3\"}, {\"Count\": 24, \"Predicted\": \"Predicted 5\", \"index\": \"Actual 4\"}, {\"Count\": 274, \"Predicted\": \"Predicted 5\", \"index\": \"Actual 5\"}, {\"Count\": 115, \"Predicted\": \"Predicted 5\", \"index\": \"Actual 6\"}, {\"Count\": 17, \"Predicted\": \"Predicted 5\", \"index\": \"Actual 7\"}, {\"Count\": 5, \"Predicted\": \"Predicted 5\", \"index\": \"Actual 8\"}, {\"Count\": 0, \"Predicted\": \"Predicted 5\", \"index\": \"Actual 9\"}, {\"Count\": 2, \"Predicted\": \"Predicted 6\", \"index\": \"Actual 3\"}, {\"Count\": 12, \"Predicted\": \"Predicted 6\", \"index\": \"Actual 4\"}, {\"Count\": 109, \"Predicted\": \"Predicted 6\", \"index\": \"Actual 5\"}, {\"Count\": 368, \"Predicted\": \"Predicted 6\", \"index\": \"Actual 6\"}, {\"Count\": 61, \"Predicted\": \"Predicted 6\", \"index\": \"Actual 7\"}, {\"Count\": 7, \"Predicted\": \"Predicted 6\", \"index\": \"Actual 8\"}, {\"Count\": 0, \"Predicted\": \"Predicted 6\", \"index\": \"Actual 9\"}, {\"Count\": 1, \"Predicted\": \"Predicted 7\", \"index\": \"Actual 3\"}, {\"Count\": 3, \"Predicted\": \"Predicted 7\", \"index\": \"Actual 4\"}, {\"Count\": 13, \"Predicted\": \"Predicted 7\", \"index\": \"Actual 5\"}, {\"Count\": 58, \"Predicted\": \"Predicted 7\", \"index\": \"Actual 6\"}, {\"Count\": 132, \"Predicted\": \"Predicted 7\", \"index\": \"Actual 7\"}, {\"Count\": 8, \"Predicted\": \"Predicted 7\", \"index\": \"Actual 8\"}, {\"Count\": 0, \"Predicted\": \"Predicted 7\", \"index\": \"Actual 9\"}, {\"Count\": 0, \"Predicted\": \"Predicted 8\", \"index\": \"Actual 3\"}, {\"Count\": 0, \"Predicted\": \"Predicted 8\", \"index\": \"Actual 4\"}, {\"Count\": 1, \"Predicted\": \"Predicted 8\", \"index\": \"Actual 5\"}, {\"Count\": 11, \"Predicted\": \"Predicted 8\", \"index\": \"Actual 6\"}, {\"Count\": 16, \"Predicted\": \"Predicted 8\", \"index\": \"Actual 7\"}, {\"Count\": 16, \"Predicted\": \"Predicted 8\", \"index\": \"Actual 8\"}, {\"Count\": 0, \"Predicted\": \"Predicted 8\", \"index\": \"Actual 9\"}, {\"Count\": 0, \"Predicted\": \"Predicted 9\", \"index\": \"Actual 3\"}, {\"Count\": 0, \"Predicted\": \"Predicted 9\", \"index\": \"Actual 4\"}, {\"Count\": 0, \"Predicted\": \"Predicted 9\", \"index\": \"Actual 5\"}, {\"Count\": 1, \"Predicted\": \"Predicted 9\", \"index\": \"Actual 6\"}, {\"Count\": 1, \"Predicted\": \"Predicted 9\", \"index\": \"Actual 7\"}, {\"Count\": 0, \"Predicted\": \"Predicted 9\", \"index\": \"Actual 8\"}, {\"Count\": 0, \"Predicted\": \"Predicted 9\", \"index\": \"Actual 9\"}]}, {\"name\": \"source_0_x_domain_Predicted\", \"values\": [{\"Predicted\": \"Predicted 3\"}, {\"Predicted\": \"Predicted 4\"}, {\"Predicted\": \"Predicted 5\"}, {\"Predicted\": \"Predicted 6\"}, {\"Predicted\": \"Predicted 7\"}, {\"Predicted\": \"Predicted 8\"}, {\"Predicted\": \"Predicted 9\"}]}, {\"name\": \"source_0_y_domain_index\", \"values\": [{\"index\": \"Actual 3\"}, {\"index\": \"Actual 4\"}, {\"index\": \"Actual 5\"}, {\"index\": \"Actual 6\"}, {\"index\": \"Actual 7\"}, {\"index\": \"Actual 8\"}, {\"index\": \"Actual 9\"}]}, {\"name\": \"source_0_color_domain_Count\", \"values\": [{\"min\": 0, \"max\": 368}]}], \"marks\": [{\"type\": \"rect\", \"name\": \"marks\", \"from\": {\"data\": \"source_0\"}, \"encode\": {\"update\": {\"x\": {\"field\": \"Predicted\", \"scale\": \"x\"}, \"tooltip\": {\"signal\": \"{\\\"index\\\": isValid(datum[\\\"index\\\"]) ? datum[\\\"index\\\"] : \\\"\\\"+datum[\\\"index\\\"], \\\"Predicted\\\": isValid(datum[\\\"Predicted\\\"]) ? datum[\\\"Predicted\\\"] : \\\"\\\"+datum[\\\"Predicted\\\"], \\\"Count\\\": format(datum[\\\"Count\\\"], \\\"\\\")}\"}, \"width\": {\"signal\": \"max(0.25, bandwidth('x'))\"}, \"height\": {\"signal\": \"max(0.25, bandwidth('y'))\"}, \"y\": {\"field\": \"index\", \"scale\": \"y\"}, \"fill\": {\"field\": \"Count\", \"scale\": \"color\"}}}, \"style\": [\"rect\"]}], \"scales\": [{\"name\": \"x\", \"type\": \"band\", \"domain\": {\"data\": \"source_0_x_domain_Predicted\", \"field\": \"Predicted\", \"sort\": true}, \"range\": [0, {\"signal\": \"width\"}], \"paddingInner\": 0, \"paddingOuter\": 0}, {\"name\": \"y\", \"type\": \"band\", \"domain\": {\"data\": \"source_0_y_domain_index\", \"field\": \"index\", \"sort\": true}, \"range\": [0, {\"signal\": \"height\"}], \"paddingInner\": 0, \"paddingOuter\": 0}, {\"name\": \"color\", \"type\": \"linear\", \"domain\": [{\"signal\": \"(data(\\\"source_0_color_domain_Count\\\")[0] || {}).min\"}, {\"signal\": \"(data(\\\"source_0_color_domain_Count\\\")[0] || {}).max\"}], \"range\": {\"scheme\": \"blues\"}, \"zero\": false, \"interpolate\": \"hcl\"}], \"axes\": [{\"scale\": \"x\", \"orient\": \"bottom\", \"labelBaseline\": \"middle\", \"grid\": false, \"title\": \"Predicted Label\", \"labelAngle\": 270, \"zindex\": 1, \"labelAlign\": \"right\"}, {\"scale\": \"y\", \"orient\": \"left\", \"zindex\": 1, \"title\": \"Actual Label\", \"grid\": false}], \"title\": {\"text\": \"Figure 1: Confusion Matrix\", \"frame\": \"group\"}, \"padding\": 5, \"background\": \"white\", \"height\": 400, \"legends\": [{\"title\": \"Count\", \"fill\": \"color\", \"gradientLength\": {\"signal\": \"clamp(height, 64, 200)\"}}], \"width\": 400, \"style\": \"cell\"}, {\"mode\": \"vega\"});\n",
       "</script>"
      ],
      "text/plain": [
       "alt.Chart(...)"
      ]
     },
     "metadata": {},
     "output_type": "display_data"
    }
   ],
   "source": [
    "from sklearn.metrics import confusion_matrix\n",
    "import pandas as pd\n",
    "import altair as alt\n",
    "\n",
    "# Dynamically determine class labels from both y_test and y_test_pred\n",
    "class_labels = sorted(set(y_test).union(set(y_test_pred)))\n",
    "\n",
    "# Compute confusion matrix\n",
    "cm = confusion_matrix(y_test, y_test_pred, labels=class_labels)\n",
    "\n",
    "# Create a DataFrame with dynamic labels for multi-class\n",
    "cm_df = pd.DataFrame(cm, columns=[f'Predicted {label}' for label in class_labels],\n",
    "                     index=[f'Actual {label}' for label in class_labels]).reset_index()\n",
    "\n",
    "# Convert to long format for Altair\n",
    "cm_melted = cm_df.melt(id_vars='index', var_name='Predicted', value_name='Count')\n",
    "\n",
    "# Plot confusion matrix using Altair\n",
    "confusion_chart = alt.Chart(cm_melted).mark_rect().encode(\n",
    "    x=alt.X('Predicted:N', title='Predicted Label'),\n",
    "    y=alt.Y('index:N', title='Actual Label'),\n",
    "    color=alt.Color('Count:Q', scale=alt.Scale(scheme='blues'), title='Count'),\n",
    "    tooltip=['index:N', 'Predicted:N', 'Count:Q']\n",
    ").properties(\n",
    "    title='Figure 1: Confusion Matrix',\n",
    "    width=400,\n",
    "    height=400\n",
    ")\n",
    "\n",
    "confusion_chart.display()"
   ]
  },
  {
   "cell_type": "code",
   "execution_count": 18,
   "metadata": {},
   "outputs": [
    {
     "data": {
      "text/html": [
       "\n",
       "<style>\n",
       "  #altair-viz-2a5bc98847244cbab6b5f80f0431d04f.vega-embed {\n",
       "    width: 100%;\n",
       "    display: flex;\n",
       "  }\n",
       "\n",
       "  #altair-viz-2a5bc98847244cbab6b5f80f0431d04f.vega-embed details,\n",
       "  #altair-viz-2a5bc98847244cbab6b5f80f0431d04f.vega-embed details summary {\n",
       "    position: relative;\n",
       "  }\n",
       "</style>\n",
       "<div id=\"altair-viz-2a5bc98847244cbab6b5f80f0431d04f\"></div>\n",
       "<script type=\"text/javascript\">\n",
       "  var VEGA_DEBUG = (typeof VEGA_DEBUG == \"undefined\") ? {} : VEGA_DEBUG;\n",
       "  (function(spec, embedOpt){\n",
       "    let outputDiv = document.currentScript.previousElementSibling;\n",
       "    if (outputDiv.id !== \"altair-viz-2a5bc98847244cbab6b5f80f0431d04f\") {\n",
       "      outputDiv = document.getElementById(\"altair-viz-2a5bc98847244cbab6b5f80f0431d04f\");\n",
       "    }\n",
       "    const paths = {\n",
       "      \"vega\": \"https://cdn.jsdelivr.net/npm/vega@5?noext\",\n",
       "      \"vega-lib\": \"https://cdn.jsdelivr.net/npm/vega-lib?noext\",\n",
       "      \"vega-lite\": \"https://cdn.jsdelivr.net/npm/vega-lite@5.20.1?noext\",\n",
       "      \"vega-embed\": \"https://cdn.jsdelivr.net/npm/vega-embed@6?noext\",\n",
       "    };\n",
       "\n",
       "    function maybeLoadScript(lib, version) {\n",
       "      var key = `${lib.replace(\"-\", \"\")}_version`;\n",
       "      return (VEGA_DEBUG[key] == version) ?\n",
       "        Promise.resolve(paths[lib]) :\n",
       "        new Promise(function(resolve, reject) {\n",
       "          var s = document.createElement('script');\n",
       "          document.getElementsByTagName(\"head\")[0].appendChild(s);\n",
       "          s.async = true;\n",
       "          s.onload = () => {\n",
       "            VEGA_DEBUG[key] = version;\n",
       "            return resolve(paths[lib]);\n",
       "          };\n",
       "          s.onerror = () => reject(`Error loading script: ${paths[lib]}`);\n",
       "          s.src = paths[lib];\n",
       "        });\n",
       "    }\n",
       "\n",
       "    function showError(err) {\n",
       "      outputDiv.innerHTML = `<div class=\"error\" style=\"color:red;\">${err}</div>`;\n",
       "      throw err;\n",
       "    }\n",
       "\n",
       "    function displayChart(vegaEmbed) {\n",
       "      vegaEmbed(outputDiv, spec, embedOpt)\n",
       "        .catch(err => showError(`Javascript Error: ${err.message}<br>This usually means there's a typo in your chart specification. See the javascript console for the full traceback.`));\n",
       "    }\n",
       "\n",
       "    if(typeof define === \"function\" && define.amd) {\n",
       "      requirejs.config({paths});\n",
       "      require([\"vega-embed\"], displayChart, err => showError(`Error loading script: ${err.message}`));\n",
       "    } else {\n",
       "      maybeLoadScript(\"vega\", \"5\")\n",
       "        .then(() => maybeLoadScript(\"vega-lite\", \"5.20.1\"))\n",
       "        .then(() => maybeLoadScript(\"vega-embed\", \"6\"))\n",
       "        .catch(showError)\n",
       "        .then(() => displayChart(vegaEmbed));\n",
       "    }\n",
       "  })({\"$schema\": \"https://vega.github.io/schema/vega/v5.json\", \"data\": [{\"name\": \"source_0\"}, {\"name\": \"data_0\", \"values\": [{\"Feature\": \"density\", \"Importance\": 0.12079448444899316, \"Importance_end\": 0.12079448444899316, \"Importance_start\": 0.0}, {\"Feature\": \"volatile_acidity\", \"Importance\": 0.1156418420843847, \"Importance_end\": 0.1156418420843847, \"Importance_start\": 0.0}, {\"Feature\": \"sulphates\", \"Importance\": 0.10291381434986129, \"Importance_end\": 0.10291381434986129, \"Importance_start\": 0.0}, {\"Feature\": \"alcohol\", \"Importance\": 0.09833048207697093, \"Importance_end\": 0.09833048207697093, \"Importance_start\": 0.0}, {\"Feature\": \"free_sulfur_dioxide\", \"Importance\": 0.09246396121147085, \"Importance_end\": 0.09246396121147085, \"Importance_start\": 0.0}, {\"Feature\": \"total_sulfur_dioxide\", \"Importance\": 0.08872844073544049, \"Importance_end\": 0.08872844073544049, \"Importance_start\": 0.0}, {\"Feature\": \"ph\", \"Importance\": 0.08379341354381072, \"Importance_end\": 0.08379341354381072, \"Importance_start\": 0.0}, {\"Feature\": \"residual_sugar\", \"Importance\": 0.08069706718179398, \"Importance_end\": 0.08069706718179398, \"Importance_start\": 0.0}, {\"Feature\": \"citric_acid\", \"Importance\": 0.07691391613960724, \"Importance_end\": 0.07691391613960724, \"Importance_start\": 0.0}, {\"Feature\": \"chlorides\", \"Importance\": 0.0754338865346124, \"Importance_end\": 0.0754338865346124, \"Importance_start\": 0.0}, {\"Feature\": \"fixed_acidity\", \"Importance\": 0.06428869169305428, \"Importance_end\": 0.06428869169305428, \"Importance_start\": 0.0}]}, {\"name\": \"source_0_y_domain_Feature\", \"values\": [{\"Feature\": \"density\", \"sort_field\": 0.12079448444899316}, {\"Feature\": \"volatile_acidity\", \"sort_field\": 0.1156418420843847}, {\"Feature\": \"sulphates\", \"sort_field\": 0.10291381434986129}, {\"Feature\": \"alcohol\", \"sort_field\": 0.09833048207697093}, {\"Feature\": \"free_sulfur_dioxide\", \"sort_field\": 0.09246396121147085}, {\"Feature\": \"total_sulfur_dioxide\", \"sort_field\": 0.08872844073544049}, {\"Feature\": \"ph\", \"sort_field\": 0.08379341354381072}, {\"Feature\": \"residual_sugar\", \"sort_field\": 0.08069706718179398}, {\"Feature\": \"citric_acid\", \"sort_field\": 0.07691391613960724}, {\"Feature\": \"chlorides\", \"sort_field\": 0.0754338865346124}, {\"Feature\": \"fixed_acidity\", \"sort_field\": 0.06428869169305428}]}], \"marks\": [{\"type\": \"rect\", \"name\": \"marks\", \"from\": {\"data\": \"data_0\"}, \"encode\": {\"update\": {\"fill\": {\"value\": \"#4c78a8\"}, \"x\": {\"field\": \"Importance_end\", \"scale\": \"x\"}, \"height\": {\"signal\": \"max(0.25, bandwidth('y'))\"}, \"y\": {\"field\": \"Feature\", \"scale\": \"y\"}, \"tooltip\": {\"signal\": \"{\\\"Feature\\\": isValid(datum[\\\"Feature\\\"]) ? datum[\\\"Feature\\\"] : \\\"\\\"+datum[\\\"Feature\\\"], \\\"Importance\\\": format(datum[\\\"Importance\\\"], \\\"\\\")}\"}, \"x2\": {\"field\": \"Importance_start\", \"scale\": \"x\"}}}, \"style\": [\"bar\"]}], \"scales\": [{\"name\": \"x\", \"type\": \"linear\", \"domain\": {\"data\": \"data_0\", \"fields\": [\"Importance_start\", \"Importance_end\"]}, \"range\": [0, {\"signal\": \"width\"}], \"nice\": true, \"zero\": true}, {\"name\": \"y\", \"type\": \"band\", \"domain\": {\"data\": \"source_0_y_domain_Feature\", \"field\": \"Feature\", \"sort\": {\"op\": \"max\", \"field\": \"sort_field\", \"order\": \"descending\"}}, \"range\": [0, {\"signal\": \"height\"}], \"paddingOuter\": 0.05, \"paddingInner\": 0.1}], \"axes\": [{\"scale\": \"x\", \"grid\": true, \"maxExtent\": 0, \"tickCount\": {\"signal\": \"ceil(width/40)\"}, \"labels\": false, \"zindex\": 0, \"domain\": false, \"minExtent\": 0, \"gridScale\": \"y\", \"aria\": false, \"ticks\": false, \"orient\": \"bottom\"}, {\"scale\": \"x\", \"labelOverlap\": true, \"grid\": false, \"tickCount\": {\"signal\": \"ceil(width/40)\"}, \"zindex\": 0, \"orient\": \"bottom\", \"title\": \"Importance\", \"labelFlush\": true}, {\"scale\": \"y\", \"orient\": \"left\", \"title\": \"Feature\", \"zindex\": 0, \"grid\": false}], \"title\": {\"text\": \"Figure 2: Feature Importance\", \"frame\": \"group\"}, \"background\": \"white\", \"style\": \"cell\", \"width\": 600, \"padding\": 5, \"height\": 400}, {\"mode\": \"vega\"});\n",
       "</script>"
      ],
      "text/plain": [
       "alt.Chart(...)"
      ]
     },
     "metadata": {},
     "output_type": "display_data"
    }
   ],
   "source": [
    "# Feature importance\n",
    "feature_importances = pd.DataFrame({\n",
    "    'Feature': X_train.columns,\n",
    "    'Importance': best_tree_model.feature_importances_\n",
    "}).sort_values(by='Importance', ascending=False)\n",
    "\n",
    "# Plot feature importance using Altair\n",
    "importance_chart = alt.Chart(feature_importances).mark_bar().encode(\n",
    "    x=alt.X('Importance:Q', title='Importance'),\n",
    "    y=alt.Y('Feature:N', sort='-x', title='Feature'),\n",
    "    tooltip=['Feature', 'Importance']\n",
    ").properties(\n",
    "    title='Figure 2: Feature Importance',\n",
    "    width=600,\n",
    "    height=400\n",
    ")\n",
    "\n",
    "importance_chart.display()"
   ]
  },
  {
   "cell_type": "markdown",
   "metadata": {},
   "source": [
    "# Discussion and Summary\n",
    "\n",
    "## Summary of Findings\n",
    "In this project, we explored the relationship between physicochemical properties of wines and their quality ratings using a **Decision Tree** model for classification. The model achieved a **test accuracy of 62%**, as shown in the classification report (Table 1). The confusion matrix (Figure 1) highlighted challenges in accurately predicting lower-rated wines, while the feature importance plot (Figure 2) revealed that properties such as `density`, `volatile_acidity`, and `alcohol` were the most influential in determining wine quality. Features like `residual_sugar` and `pH` played smaller roles in the model's predictions.\n",
    "\n",
    "---\n",
    "\n",
    "## Expectations vs. Observations\n",
    "Our findings were partly in line with expectations:\n",
    "- **Key predictors**: Features such as `alcohol` and `volatile_acidity` were strong predictors, consistent with their known importance in influencing taste and balance.\n",
    "- **Unexpected results**: `residual_sugar` and `pH`, which are theoretically important in wine chemistry, had lower importance, suggesting that other factors, such as sensory attributes (e.g., aroma, texture), may significantly impact wine quality but are not captured by physicochemical data.\n",
    "\n",
    "---\n",
    "\n",
    "## Impact of Findings\n",
    "The results have practical implications for both winemakers and consumers:\n",
    "- **For winemakers**: Understanding key properties such as `density` and `alcohol` can help optimize production processes to achieve consistent, higher-quality wines.\n",
    "- **For consumers**: Decision tree-based models can potentially be used to create wine recommendation systems that provide data-driven, tailored suggestions based on physicochemical properties.\n",
    "\n",
    "---\n",
    "\n",
    "## Future Questions and Directions\n",
    "To further improve our understanding of wine quality, future research could address the following:\n",
    "1. **Improving Predictions**:\n",
    "   - Can ensemble methods such as Random Forests or Gradient Boosting improve accuracy compared to a single decision tree?\n",
    "\n",
    "2. **Incorporating Sensory Data**:\n",
    "   - How do sensory attributes, such as aroma and flavor, interact with physicochemical properties to influence wine quality ratings?\n",
    "\n",
    "3. **Balancing Dataset Classes**:\n",
    "   - How can techniques such as oversampling, undersampling, or cost-sensitive learning improve performance for underrepresented classes (e.g., lower-rated wines)?\n",
    "\n",
    "4. **Exploring Domain-Specific Features**:\n",
    "   - Are there additional features, such as grape variety, region of production, or vintage year, that could complement physicochemical data to improve predictions?\n",
    "\n",
    "Addressing these questions could lead to a more comprehensive framework for evaluating and improving wine quality, benefiting producers and consumers alike.\n",
    "\n",
    "---\n",
    "\n",
    "## Figures and Tables\n",
    "- **Figure 1**: Confusion matrix illustrating classification performance, highlighting challenges with underrepresented wine quality classes.\n",
    "- **Table 1**: Classification report showing precision, recall, and F1 scores for each quality category, with moderate overall performance.\n",
    "- **Figure 2**: Feature importance plot showing that `density`, `volatile_acidity`, and `alcohol` were the most significant predictors in the decision tree model."
   ]
  },
  {
   "cell_type": "markdown",
   "metadata": {},
   "source": [
    "# REFERENCES\n",
    "1. Cortez, P., Cerdeira, A., Almeida, F., Matos, T., & Reis, J. (2009). Modeling wine preferences by data mining from physicochemical properties. Decision Support Systems, 47(4), 547–553. [https://doi.org/10.1016/j.dss.2009.05.016]\n",
    "\n",
    "This paper discusses the original dataset used in this project and presents a comparative analysis of various data mining techniques for predicting wine quality.\n",
    "Boulesteix, A.-L., & Strimmer, K. (2007). Partial least squares: A versatile tool for the analysis of high-dimensional genomic data. Briefings in Bioinformatics, 8(1), 32–44. [https://doi.org/10.1093/bib/bbm007]\n",
    "\n",
    "2. Highlights the use of statistical models in high-dimensional data, relevant for understanding the relationship between multiple wine features and quality.\n",
    "Kuhn, M., & Johnson, K. (2013). Applied Predictive Modeling. New York, NY: Springer. [https://doi.org/10.1007/978-1-4614-6849-3]\n",
    "\n",
    "3. Offers foundational concepts in predictive modeling, which were applied during the analysis and model development stages of the project.\n",
    "Hastie, T., Tibshirani, R., & Friedman, J. (2009). The Elements of Statistical Learning: Data Mining, Inference, and Prediction (2nd ed.). New York, NY: Springer. [https://doi.org/10.1007/978-0-387-84858-7]\n",
    "\n",
    "Provides advanced insights into machine learning methods, including regression and classification techniques applied in wine quality prediction."
   ]
  }
 ],
 "metadata": {
  "kernelspec": {
   "display_name": "522_milestone_env",
   "language": "python",
   "name": "python3"
  },
  "language_info": {
   "codemirror_mode": {
    "name": "ipython",
    "version": 3
   },
   "file_extension": ".py",
   "mimetype": "text/x-python",
   "name": "python",
   "nbconvert_exporter": "python",
   "pygments_lexer": "ipython3",
   "version": "3.11.4"
  }
 },
 "nbformat": 4,
 "nbformat_minor": 4
}
