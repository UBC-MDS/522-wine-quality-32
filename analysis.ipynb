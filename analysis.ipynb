{
 "cells": [
  {
   "cell_type": "markdown",
   "metadata": {},
   "source": [
    "![image](img/wine2.jpg)\n",
    "\n"
   ]
  },
  {
   "cell_type": "markdown",
   "metadata": {},
   "source": [
    "# TITLE\n",
    "## Wine Quality Prediction"
   ]
  },
  {
   "cell_type": "markdown",
   "metadata": {},
   "source": []
  },
  {
   "cell_type": "markdown",
   "metadata": {},
   "source": [
    "# SUMMARY"
   ]
  },
  {
   "cell_type": "markdown",
   "metadata": {},
   "source": []
  },
  {
   "cell_type": "markdown",
   "metadata": {},
   "source": [
    "\n",
    "This project aims to analyze patterns in wine data through exploratory data analysis (EDA) and develop predictive models to classify wines or predict their quality. The analysis includes uncovering relationships between key features and their influence on wine quality, visualizing distributions and correlations, and identifying significant predictors. Predictive models such as logistic regression and random forests are developed and optimized using cross-validation and hyperparameter tuning. The project evaluates model performance with metrics like accuracy, F1-score, or RMSE, providing actionable insights for enhancing wine quality. The results offer a data-driven approach to understanding wine characteristics and their impact on quality, benefiting decision-making in winemaking and marketing.\n",
    "\n"
   ]
  },
  {
   "cell_type": "markdown",
   "metadata": {},
   "source": [
    "# INTRODUCTION"
   ]
  },
  {
   "cell_type": "markdown",
   "metadata": {},
   "source": [
    "### Background Information:\n",
    "\n",
    "The quality of wine plays a crucial role in the wine industry, as it directly affects consumer satisfaction, pricing, and demand. Traditionally, wine quality is determined through sensory analysis by trained experts, who evaluate factors such as taste, aroma, and texture. However, these evaluations are inherently subjective, costly, and time-consuming. With advancements in data analysis and machine learning, it is now possible to model and predict wine quality using objective, measurable features. These features include chemical and physical attributes such as acidity, sugar levels, alcohol content, and more, which directly influence the sensory properties of wine.<br>\n",
    "Understanding the factors that contribute to wine quality can help winemakers optimize production processes, improve quality control, and make data-driven decisions to meet consumer expectations. Moreover, predictive modeling allows for faster assessments of wine quality, potentially reducing reliance on labor-intensive sensory evaluations.\n",
    "\n",
    "---\n",
    "\n",
    "\n",
    "\n",
    "\n"
   ]
  },
  {
   "cell_type": "markdown",
   "metadata": {},
   "source": [
    "### Research Question:\n",
    "\n",
    "The primary question we sought to answer in this project is: \"Can the quality of wine be effectively predicted based on its measurable physicochemical properties? Additionally, which features are most influential in determining wine quality?\" <br>\n",
    "\n",
    "This project aimed to explore whether measurable data about wine's chemical and physical properties could provide a reliable means of assessing its quality. By identifying the most important predictors of wine quality, we can gain insights into the production processes that have the greatest impact on consumer satisfaction. Furthermore, the study explores whether predictive models can achieve high accuracy and how they can be applied in real-world scenarios.\n",
    "\n",
    "---"
   ]
  },
  {
   "cell_type": "markdown",
   "metadata": {},
   "source": [
    "### Dataset Description:\n",
    "\n",
    "To answer these questions, we utilized the Wine Quality Dataset, a publicly available dataset from the UCI Machine Learning Repository. This dataset contains information about red and white variants of Portuguese \"Vinho Verde\" wine. It includes 4,898 observations of white wines and 1,599 observations of red wines, with each record corresponding to a single wine sample.\n",
    "\n",
    "The dataset consists of 11 numerical input features representing physicochemical attributes of the wine, such as:\n",
    "\n",
    "- **Fixed Acidity:** Measures non-volatile acids that do not evaporate.\n",
    "- **Volatile Acidity:** Measures volatile acids that can impact wine aroma.\n",
    "- **Citric Acid:** A component that can add freshness and flavor to wine.\n",
    "- **Residual Sugar:** The sugar content left after fermentation.\n",
    "- **Chlorides:** Indicates salt content.\n",
    "- **Free Sulfur Dioxide and Total Sulfur Dioxide:** Measures preservatives that can affect taste and shelf life.\n",
    "- **Density:** Relates to sugar and alcohol content.\n",
    "- **pH:** Measures acidity/alkalinity.\n",
    "- **Sulphates:** Relates to bitterness and antioxidant properties.\n",
    "- **Alcohol:** Affects body and sweetness.\n",
    "- The target variable, Quality, is a score between 0 and 10 assigned by wine tasters based on sensory evaluations.\n",
    "\n",
    "This dataset provides a balanced and comprehensive foundation for both exploratory data analysis (EDA) and predictive modeling, allowing us to understand patterns, correlations, and the predictive potential of these features in determining wine quality. By analyzing this dataset, we aim to provide actionable insights into factors influencing wine quality and develop models that can accurately predict quality ratings."
   ]
  },
  {
   "cell_type": "markdown",
   "metadata": {},
   "source": [
    "# METHODS AND RESULTS\n",
    "\n",
    "- describe in written english the methods you used to perform your analysis from beginning to end that narrates the code the does the analysis.\n",
    "- your report should include code which:\n",
    "- loads data from the original source on the web\n",
    "- wrangles and cleans the data from it’s original (downloaded) format to the format necessary for the planned classification or clustering analysis\n",
    "- performs a summary of the data set that is relevant for exploratory data analysis related to the planned classification analysis\n",
    "- creates a visualization of the dataset that is relevant for exploratory data analysis related to the planned classification analysis\n",
    "- performs classification or regression analysis\n",
    "- creates a visualization of the result of the analysis\n",
    "- note: all tables and figure should have a figure/table number and a legend"
   ]
  },
  {
   "cell_type": "markdown",
   "metadata": {
    "vscode": {
     "languageId": "plaintext"
    }
   },
   "source": []
  },
  {
   "cell_type": "code",
   "execution_count": 104,
   "metadata": {},
   "outputs": [
    {
     "data": {
      "text/plain": [
       "DataTransformerRegistry.enable('vegafusion')"
      ]
     },
     "execution_count": 104,
     "metadata": {},
     "output_type": "execute_result"
    }
   ],
   "source": [
    "import pandas as pd\n",
    "import numpy as np\n",
    "import altair as alt\n",
    "import janitor\n",
    "from ucimlrepo import fetch_ucirepo\n",
    "import os\n",
    "alt.data_transformers.enable(\"vegafusion\")"
   ]
  },
  {
   "cell_type": "code",
   "execution_count": 105,
   "metadata": {},
   "outputs": [
    {
     "name": "stdout",
     "output_type": "stream",
     "text": [
      "Directory 'data/' already exists.\n"
     ]
    }
   ],
   "source": [
    "# Directory to store the dataset\n",
    "data_dir = \"data/\"\n",
    "csv_file_path = os.path.join(data_dir, \"wine_quality_combined.csv\")\n",
    "\n",
    "try:\n",
    "    # Ensure the directory exists\n",
    "    if not os.path.exists(data_dir):\n",
    "        os.makedirs(data_dir)\n",
    "        print(f\"Directory '{data_dir}' created successfully.\")\n",
    "    else:\n",
    "        print(f\"Directory '{data_dir}' already exists.\")\n",
    "except OSError as e:\n",
    "    print(f\"Error creating directory '{data_dir}': {e}\")\n",
    "    raise"
   ]
  },
  {
   "cell_type": "code",
   "execution_count": 106,
   "metadata": {},
   "outputs": [
    {
     "name": "stdout",
     "output_type": "stream",
     "text": [
      "Dataset already exists at 'data/wine_quality_combined.csv'. Skipping fetch.\n"
     ]
    }
   ],
   "source": [
    "# Check if the CSV file already exists\n",
    "if not os.path.isfile(csv_file_path):\n",
    "    try:\n",
    "        print(\"CSV file not found. Fetching dataset...\")\n",
    "\n",
    "        # Fetch the dataset\n",
    "        wine_quality = fetch_ucirepo(id=186)\n",
    "        \n",
    "        # Features (X) and Targets (y)\n",
    "        X = wine_quality.data.features\n",
    "        y = wine_quality.data.targets\n",
    "\n",
    "        # Combine features and targets into a single DataFrame\n",
    "        wine_df = pd.concat([X, y], axis=1)\n",
    "\n",
    "        # Save the DataFrame to a CSV file\n",
    "        wine_df.to_csv(csv_file_path, index=False)\n",
    "        print(f\"Dataset saved as '{csv_file_path}'.\")\n",
    "    except Exception as e:\n",
    "        print(f\"Error fetching or saving the dataset: {e}\")\n",
    "        raise\n",
    "else:\n",
    "    wine_df = pd.read_csv('data/wine_quality_combined.csv')\n",
    "    print(f\"Dataset already exists at '{csv_file_path}'. Skipping fetch.\")"
   ]
  },
  {
   "cell_type": "code",
   "execution_count": 107,
   "metadata": {},
   "outputs": [
    {
     "data": {
      "text/html": [
       "<div>\n",
       "<style scoped>\n",
       "    .dataframe tbody tr th:only-of-type {\n",
       "        vertical-align: middle;\n",
       "    }\n",
       "\n",
       "    .dataframe tbody tr th {\n",
       "        vertical-align: top;\n",
       "    }\n",
       "\n",
       "    .dataframe thead th {\n",
       "        text-align: right;\n",
       "    }\n",
       "</style>\n",
       "<table border=\"1\" class=\"dataframe\">\n",
       "  <thead>\n",
       "    <tr style=\"text-align: right;\">\n",
       "      <th></th>\n",
       "      <th>fixed_acidity</th>\n",
       "      <th>volatile_acidity</th>\n",
       "      <th>citric_acid</th>\n",
       "      <th>residual_sugar</th>\n",
       "      <th>chlorides</th>\n",
       "      <th>free_sulfur_dioxide</th>\n",
       "      <th>total_sulfur_dioxide</th>\n",
       "      <th>density</th>\n",
       "      <th>ph</th>\n",
       "      <th>sulphates</th>\n",
       "      <th>alcohol</th>\n",
       "      <th>quality</th>\n",
       "    </tr>\n",
       "  </thead>\n",
       "  <tbody>\n",
       "    <tr>\n",
       "      <th>0</th>\n",
       "      <td>7.4</td>\n",
       "      <td>0.70</td>\n",
       "      <td>0.00</td>\n",
       "      <td>1.9</td>\n",
       "      <td>0.076</td>\n",
       "      <td>11.0</td>\n",
       "      <td>34.0</td>\n",
       "      <td>0.9978</td>\n",
       "      <td>3.51</td>\n",
       "      <td>0.56</td>\n",
       "      <td>9.4</td>\n",
       "      <td>5</td>\n",
       "    </tr>\n",
       "    <tr>\n",
       "      <th>1</th>\n",
       "      <td>7.8</td>\n",
       "      <td>0.88</td>\n",
       "      <td>0.00</td>\n",
       "      <td>2.6</td>\n",
       "      <td>0.098</td>\n",
       "      <td>25.0</td>\n",
       "      <td>67.0</td>\n",
       "      <td>0.9968</td>\n",
       "      <td>3.20</td>\n",
       "      <td>0.68</td>\n",
       "      <td>9.8</td>\n",
       "      <td>5</td>\n",
       "    </tr>\n",
       "    <tr>\n",
       "      <th>2</th>\n",
       "      <td>7.8</td>\n",
       "      <td>0.76</td>\n",
       "      <td>0.04</td>\n",
       "      <td>2.3</td>\n",
       "      <td>0.092</td>\n",
       "      <td>15.0</td>\n",
       "      <td>54.0</td>\n",
       "      <td>0.9970</td>\n",
       "      <td>3.26</td>\n",
       "      <td>0.65</td>\n",
       "      <td>9.8</td>\n",
       "      <td>5</td>\n",
       "    </tr>\n",
       "    <tr>\n",
       "      <th>3</th>\n",
       "      <td>11.2</td>\n",
       "      <td>0.28</td>\n",
       "      <td>0.56</td>\n",
       "      <td>1.9</td>\n",
       "      <td>0.075</td>\n",
       "      <td>17.0</td>\n",
       "      <td>60.0</td>\n",
       "      <td>0.9980</td>\n",
       "      <td>3.16</td>\n",
       "      <td>0.58</td>\n",
       "      <td>9.8</td>\n",
       "      <td>6</td>\n",
       "    </tr>\n",
       "    <tr>\n",
       "      <th>4</th>\n",
       "      <td>7.4</td>\n",
       "      <td>0.70</td>\n",
       "      <td>0.00</td>\n",
       "      <td>1.9</td>\n",
       "      <td>0.076</td>\n",
       "      <td>11.0</td>\n",
       "      <td>34.0</td>\n",
       "      <td>0.9978</td>\n",
       "      <td>3.51</td>\n",
       "      <td>0.56</td>\n",
       "      <td>9.4</td>\n",
       "      <td>5</td>\n",
       "    </tr>\n",
       "  </tbody>\n",
       "</table>\n",
       "</div>"
      ],
      "text/plain": [
       "   fixed_acidity  volatile_acidity  citric_acid  residual_sugar  chlorides  \\\n",
       "0            7.4              0.70         0.00             1.9      0.076   \n",
       "1            7.8              0.88         0.00             2.6      0.098   \n",
       "2            7.8              0.76         0.04             2.3      0.092   \n",
       "3           11.2              0.28         0.56             1.9      0.075   \n",
       "4            7.4              0.70         0.00             1.9      0.076   \n",
       "\n",
       "   free_sulfur_dioxide  total_sulfur_dioxide  density    ph  sulphates  \\\n",
       "0                 11.0                  34.0   0.9978  3.51       0.56   \n",
       "1                 25.0                  67.0   0.9968  3.20       0.68   \n",
       "2                 15.0                  54.0   0.9970  3.26       0.65   \n",
       "3                 17.0                  60.0   0.9980  3.16       0.58   \n",
       "4                 11.0                  34.0   0.9978  3.51       0.56   \n",
       "\n",
       "   alcohol  quality  \n",
       "0      9.4        5  \n",
       "1      9.8        5  \n",
       "2      9.8        5  \n",
       "3      9.8        6  \n",
       "4      9.4        5  "
      ]
     },
     "execution_count": 107,
     "metadata": {},
     "output_type": "execute_result"
    }
   ],
   "source": [
    "# Uses janitor to clean column names\n",
    "wine_df = wine_df.clean_names()\n",
    "wine_df.head()"
   ]
  },
  {
   "cell_type": "code",
   "execution_count": 108,
   "metadata": {},
   "outputs": [
    {
     "data": {
      "text/plain": [
       "(6497, 12)"
      ]
     },
     "execution_count": 108,
     "metadata": {},
     "output_type": "execute_result"
    }
   ],
   "source": [
    "# This gives the shape of the dataframe\n",
    "wine_df.shape"
   ]
  },
  {
   "cell_type": "code",
   "execution_count": 109,
   "metadata": {},
   "outputs": [
    {
     "data": {
      "text/plain": [
       "np.int64(0)"
      ]
     },
     "execution_count": 109,
     "metadata": {},
     "output_type": "execute_result"
    }
   ],
   "source": [
    "# Checking if there are null values\n",
    "wine_df.isna().any().sum()"
   ]
  },
  {
   "cell_type": "code",
   "execution_count": 110,
   "metadata": {},
   "outputs": [
    {
     "name": "stdout",
     "output_type": "stream",
     "text": [
      "<class 'pandas.core.frame.DataFrame'>\n",
      "RangeIndex: 6497 entries, 0 to 6496\n",
      "Data columns (total 12 columns):\n",
      " #   Column                Non-Null Count  Dtype  \n",
      "---  ------                --------------  -----  \n",
      " 0   fixed_acidity         6497 non-null   float64\n",
      " 1   volatile_acidity      6497 non-null   float64\n",
      " 2   citric_acid           6497 non-null   float64\n",
      " 3   residual_sugar        6497 non-null   float64\n",
      " 4   chlorides             6497 non-null   float64\n",
      " 5   free_sulfur_dioxide   6497 non-null   float64\n",
      " 6   total_sulfur_dioxide  6497 non-null   float64\n",
      " 7   density               6497 non-null   float64\n",
      " 8   ph                    6497 non-null   float64\n",
      " 9   sulphates             6497 non-null   float64\n",
      " 10  alcohol               6497 non-null   float64\n",
      " 11  quality               6497 non-null   int64  \n",
      "dtypes: float64(11), int64(1)\n",
      "memory usage: 609.2 KB\n"
     ]
    }
   ],
   "source": [
    "# Checks the summary of the dataframe\n",
    "wine_df.info()"
   ]
  },
  {
   "cell_type": "code",
   "execution_count": 111,
   "metadata": {},
   "outputs": [
    {
     "data": {
      "text/html": [
       "<div>\n",
       "<style scoped>\n",
       "    .dataframe tbody tr th:only-of-type {\n",
       "        vertical-align: middle;\n",
       "    }\n",
       "\n",
       "    .dataframe tbody tr th {\n",
       "        vertical-align: top;\n",
       "    }\n",
       "\n",
       "    .dataframe thead th {\n",
       "        text-align: right;\n",
       "    }\n",
       "</style>\n",
       "<table border=\"1\" class=\"dataframe\">\n",
       "  <thead>\n",
       "    <tr style=\"text-align: right;\">\n",
       "      <th></th>\n",
       "      <th>fixed_acidity</th>\n",
       "      <th>volatile_acidity</th>\n",
       "      <th>citric_acid</th>\n",
       "      <th>residual_sugar</th>\n",
       "      <th>chlorides</th>\n",
       "      <th>free_sulfur_dioxide</th>\n",
       "      <th>total_sulfur_dioxide</th>\n",
       "      <th>density</th>\n",
       "      <th>ph</th>\n",
       "      <th>sulphates</th>\n",
       "      <th>alcohol</th>\n",
       "      <th>quality</th>\n",
       "    </tr>\n",
       "  </thead>\n",
       "  <tbody>\n",
       "    <tr>\n",
       "      <th>count</th>\n",
       "      <td>6497.000000</td>\n",
       "      <td>6497.000000</td>\n",
       "      <td>6497.000000</td>\n",
       "      <td>6497.000000</td>\n",
       "      <td>6497.000000</td>\n",
       "      <td>6497.000000</td>\n",
       "      <td>6497.000000</td>\n",
       "      <td>6497.000000</td>\n",
       "      <td>6497.000000</td>\n",
       "      <td>6497.000000</td>\n",
       "      <td>6497.000000</td>\n",
       "      <td>6497.000000</td>\n",
       "    </tr>\n",
       "    <tr>\n",
       "      <th>mean</th>\n",
       "      <td>7.215307</td>\n",
       "      <td>0.339666</td>\n",
       "      <td>0.318633</td>\n",
       "      <td>5.443235</td>\n",
       "      <td>0.056034</td>\n",
       "      <td>30.525319</td>\n",
       "      <td>115.744574</td>\n",
       "      <td>0.994697</td>\n",
       "      <td>3.218501</td>\n",
       "      <td>0.531268</td>\n",
       "      <td>10.491801</td>\n",
       "      <td>5.818378</td>\n",
       "    </tr>\n",
       "    <tr>\n",
       "      <th>std</th>\n",
       "      <td>1.296434</td>\n",
       "      <td>0.164636</td>\n",
       "      <td>0.145318</td>\n",
       "      <td>4.757804</td>\n",
       "      <td>0.035034</td>\n",
       "      <td>17.749400</td>\n",
       "      <td>56.521855</td>\n",
       "      <td>0.002999</td>\n",
       "      <td>0.160787</td>\n",
       "      <td>0.148806</td>\n",
       "      <td>1.192712</td>\n",
       "      <td>0.873255</td>\n",
       "    </tr>\n",
       "    <tr>\n",
       "      <th>min</th>\n",
       "      <td>3.800000</td>\n",
       "      <td>0.080000</td>\n",
       "      <td>0.000000</td>\n",
       "      <td>0.600000</td>\n",
       "      <td>0.009000</td>\n",
       "      <td>1.000000</td>\n",
       "      <td>6.000000</td>\n",
       "      <td>0.987110</td>\n",
       "      <td>2.720000</td>\n",
       "      <td>0.220000</td>\n",
       "      <td>8.000000</td>\n",
       "      <td>3.000000</td>\n",
       "    </tr>\n",
       "    <tr>\n",
       "      <th>25%</th>\n",
       "      <td>6.400000</td>\n",
       "      <td>0.230000</td>\n",
       "      <td>0.250000</td>\n",
       "      <td>1.800000</td>\n",
       "      <td>0.038000</td>\n",
       "      <td>17.000000</td>\n",
       "      <td>77.000000</td>\n",
       "      <td>0.992340</td>\n",
       "      <td>3.110000</td>\n",
       "      <td>0.430000</td>\n",
       "      <td>9.500000</td>\n",
       "      <td>5.000000</td>\n",
       "    </tr>\n",
       "    <tr>\n",
       "      <th>50%</th>\n",
       "      <td>7.000000</td>\n",
       "      <td>0.290000</td>\n",
       "      <td>0.310000</td>\n",
       "      <td>3.000000</td>\n",
       "      <td>0.047000</td>\n",
       "      <td>29.000000</td>\n",
       "      <td>118.000000</td>\n",
       "      <td>0.994890</td>\n",
       "      <td>3.210000</td>\n",
       "      <td>0.510000</td>\n",
       "      <td>10.300000</td>\n",
       "      <td>6.000000</td>\n",
       "    </tr>\n",
       "    <tr>\n",
       "      <th>75%</th>\n",
       "      <td>7.700000</td>\n",
       "      <td>0.400000</td>\n",
       "      <td>0.390000</td>\n",
       "      <td>8.100000</td>\n",
       "      <td>0.065000</td>\n",
       "      <td>41.000000</td>\n",
       "      <td>156.000000</td>\n",
       "      <td>0.996990</td>\n",
       "      <td>3.320000</td>\n",
       "      <td>0.600000</td>\n",
       "      <td>11.300000</td>\n",
       "      <td>6.000000</td>\n",
       "    </tr>\n",
       "    <tr>\n",
       "      <th>max</th>\n",
       "      <td>15.900000</td>\n",
       "      <td>1.580000</td>\n",
       "      <td>1.660000</td>\n",
       "      <td>65.800000</td>\n",
       "      <td>0.611000</td>\n",
       "      <td>289.000000</td>\n",
       "      <td>440.000000</td>\n",
       "      <td>1.038980</td>\n",
       "      <td>4.010000</td>\n",
       "      <td>2.000000</td>\n",
       "      <td>14.900000</td>\n",
       "      <td>9.000000</td>\n",
       "    </tr>\n",
       "  </tbody>\n",
       "</table>\n",
       "</div>"
      ],
      "text/plain": [
       "       fixed_acidity  volatile_acidity  citric_acid  residual_sugar  \\\n",
       "count    6497.000000       6497.000000  6497.000000     6497.000000   \n",
       "mean        7.215307          0.339666     0.318633        5.443235   \n",
       "std         1.296434          0.164636     0.145318        4.757804   \n",
       "min         3.800000          0.080000     0.000000        0.600000   \n",
       "25%         6.400000          0.230000     0.250000        1.800000   \n",
       "50%         7.000000          0.290000     0.310000        3.000000   \n",
       "75%         7.700000          0.400000     0.390000        8.100000   \n",
       "max        15.900000          1.580000     1.660000       65.800000   \n",
       "\n",
       "         chlorides  free_sulfur_dioxide  total_sulfur_dioxide      density  \\\n",
       "count  6497.000000          6497.000000           6497.000000  6497.000000   \n",
       "mean      0.056034            30.525319            115.744574     0.994697   \n",
       "std       0.035034            17.749400             56.521855     0.002999   \n",
       "min       0.009000             1.000000              6.000000     0.987110   \n",
       "25%       0.038000            17.000000             77.000000     0.992340   \n",
       "50%       0.047000            29.000000            118.000000     0.994890   \n",
       "75%       0.065000            41.000000            156.000000     0.996990   \n",
       "max       0.611000           289.000000            440.000000     1.038980   \n",
       "\n",
       "                ph    sulphates      alcohol      quality  \n",
       "count  6497.000000  6497.000000  6497.000000  6497.000000  \n",
       "mean      3.218501     0.531268    10.491801     5.818378  \n",
       "std       0.160787     0.148806     1.192712     0.873255  \n",
       "min       2.720000     0.220000     8.000000     3.000000  \n",
       "25%       3.110000     0.430000     9.500000     5.000000  \n",
       "50%       3.210000     0.510000    10.300000     6.000000  \n",
       "75%       3.320000     0.600000    11.300000     6.000000  \n",
       "max       4.010000     2.000000    14.900000     9.000000  "
      ]
     },
     "execution_count": 111,
     "metadata": {},
     "output_type": "execute_result"
    }
   ],
   "source": [
    "# Gets statistics of numerical columns\n",
    "wine_df.describe()"
   ]
  },
  {
   "cell_type": "code",
   "execution_count": 112,
   "metadata": {},
   "outputs": [
    {
     "data": {
      "text/html": [
       "\n",
       "<style>\n",
       "  #altair-viz-17862007cd7a4b15b20daec51c165fe9.vega-embed {\n",
       "    width: 100%;\n",
       "    display: flex;\n",
       "  }\n",
       "\n",
       "  #altair-viz-17862007cd7a4b15b20daec51c165fe9.vega-embed details,\n",
       "  #altair-viz-17862007cd7a4b15b20daec51c165fe9.vega-embed details summary {\n",
       "    position: relative;\n",
       "  }\n",
       "</style>\n",
       "<div id=\"altair-viz-17862007cd7a4b15b20daec51c165fe9\"></div>\n",
       "<script type=\"text/javascript\">\n",
       "  var VEGA_DEBUG = (typeof VEGA_DEBUG == \"undefined\") ? {} : VEGA_DEBUG;\n",
       "  (function(spec, embedOpt){\n",
       "    let outputDiv = document.currentScript.previousElementSibling;\n",
       "    if (outputDiv.id !== \"altair-viz-17862007cd7a4b15b20daec51c165fe9\") {\n",
       "      outputDiv = document.getElementById(\"altair-viz-17862007cd7a4b15b20daec51c165fe9\");\n",
       "    }\n",
       "    const paths = {\n",
       "      \"vega\": \"https://cdn.jsdelivr.net/npm/vega@5?noext\",\n",
       "      \"vega-lib\": \"https://cdn.jsdelivr.net/npm/vega-lib?noext\",\n",
       "      \"vega-lite\": \"https://cdn.jsdelivr.net/npm/vega-lite@5.20.1?noext\",\n",
       "      \"vega-embed\": \"https://cdn.jsdelivr.net/npm/vega-embed@6?noext\",\n",
       "    };\n",
       "\n",
       "    function maybeLoadScript(lib, version) {\n",
       "      var key = `${lib.replace(\"-\", \"\")}_version`;\n",
       "      return (VEGA_DEBUG[key] == version) ?\n",
       "        Promise.resolve(paths[lib]) :\n",
       "        new Promise(function(resolve, reject) {\n",
       "          var s = document.createElement('script');\n",
       "          document.getElementsByTagName(\"head\")[0].appendChild(s);\n",
       "          s.async = true;\n",
       "          s.onload = () => {\n",
       "            VEGA_DEBUG[key] = version;\n",
       "            return resolve(paths[lib]);\n",
       "          };\n",
       "          s.onerror = () => reject(`Error loading script: ${paths[lib]}`);\n",
       "          s.src = paths[lib];\n",
       "        });\n",
       "    }\n",
       "\n",
       "    function showError(err) {\n",
       "      outputDiv.innerHTML = `<div class=\"error\" style=\"color:red;\">${err}</div>`;\n",
       "      throw err;\n",
       "    }\n",
       "\n",
       "    function displayChart(vegaEmbed) {\n",
       "      vegaEmbed(outputDiv, spec, embedOpt)\n",
       "        .catch(err => showError(`Javascript Error: ${err.message}<br>This usually means there's a typo in your chart specification. See the javascript console for the full traceback.`));\n",
       "    }\n",
       "\n",
       "    if(typeof define === \"function\" && define.amd) {\n",
       "      requirejs.config({paths});\n",
       "      require([\"vega-embed\"], displayChart, err => showError(`Error loading script: ${err.message}`));\n",
       "    } else {\n",
       "      maybeLoadScript(\"vega\", \"5\")\n",
       "        .then(() => maybeLoadScript(\"vega-lite\", \"5.20.1\"))\n",
       "        .then(() => maybeLoadScript(\"vega-embed\", \"6\"))\n",
       "        .catch(showError)\n",
       "        .then(() => displayChart(vegaEmbed));\n",
       "    }\n",
       "  })({\"$schema\": \"https://vega.github.io/schema/vega/v5.json\", \"data\": [{\"name\": \"source_0\"}, {\"name\": \"data_0\", \"values\": [{\"__count\": 2138, \"bin_maxbins_40_quality\": 5.0, \"bin_maxbins_40_quality_end\": 5.2}, {\"__count\": 2836, \"bin_maxbins_40_quality\": 6.0, \"bin_maxbins_40_quality_end\": 6.2}, {\"__count\": 1079, \"bin_maxbins_40_quality\": 7.0, \"bin_maxbins_40_quality_end\": 7.2}, {\"__count\": 216, \"bin_maxbins_40_quality\": 4.0, \"bin_maxbins_40_quality_end\": 4.2}, {\"__count\": 193, \"bin_maxbins_40_quality\": 8.0, \"bin_maxbins_40_quality_end\": 8.2}, {\"__count\": 30, \"bin_maxbins_40_quality\": 3.0, \"bin_maxbins_40_quality_end\": 3.2}, {\"__count\": 5, \"bin_maxbins_40_quality\": 8.8, \"bin_maxbins_40_quality_end\": 9.0}]}, {\"name\": \"data_1\", \"values\": [{\"__count\": 1274, \"bin_maxbins_40_fixed_acidity\": 7.0, \"bin_maxbins_40_fixed_acidity_end\": 7.5}, {\"__count\": 778, \"bin_maxbins_40_fixed_acidity\": 7.5, \"bin_maxbins_40_fixed_acidity_end\": 8.0}, {\"__count\": 29, \"bin_maxbins_40_fixed_acidity\": 11.0, \"bin_maxbins_40_fixed_acidity_end\": 11.5}, {\"__count\": 1466, \"bin_maxbins_40_fixed_acidity\": 6.5, \"bin_maxbins_40_fixed_acidity_end\": 7.0}, {\"__count\": 444, \"bin_maxbins_40_fixed_acidity\": 5.5, \"bin_maxbins_40_fixed_acidity_end\": 6.0}, {\"__count\": 243, \"bin_maxbins_40_fixed_acidity\": 8.5, \"bin_maxbins_40_fixed_acidity_end\": 9.0}, {\"__count\": 458, \"bin_maxbins_40_fixed_acidity\": 8.0, \"bin_maxbins_40_fixed_acidity_end\": 8.5}, {\"__count\": 1090, \"bin_maxbins_40_fixed_acidity\": 6.0, \"bin_maxbins_40_fixed_acidity_end\": 6.5}, {\"__count\": 155, \"bin_maxbins_40_fixed_acidity\": 5.0, \"bin_maxbins_40_fixed_acidity_end\": 5.5}, {\"__count\": 26, \"bin_maxbins_40_fixed_acidity\": 4.5, \"bin_maxbins_40_fixed_acidity_end\": 5.0}, {\"__count\": 90, \"bin_maxbins_40_fixed_acidity\": 10.0, \"bin_maxbins_40_fixed_acidity_end\": 10.5}, {\"__count\": 168, \"bin_maxbins_40_fixed_acidity\": 9.0, \"bin_maxbins_40_fixed_acidity_end\": 9.5}, {\"__count\": 102, \"bin_maxbins_40_fixed_acidity\": 9.5, \"bin_maxbins_40_fixed_acidity_end\": 10.0}, {\"__count\": 44, \"bin_maxbins_40_fixed_acidity\": 11.5, \"bin_maxbins_40_fixed_acidity_end\": 12.0}, {\"__count\": 22, \"bin_maxbins_40_fixed_acidity\": 12.5, \"bin_maxbins_40_fixed_acidity_end\": 13.0}, {\"__count\": 21, \"bin_maxbins_40_fixed_acidity\": 12.0, \"bin_maxbins_40_fixed_acidity_end\": 12.5}, {\"__count\": 2, \"bin_maxbins_40_fixed_acidity\": 15.0, \"bin_maxbins_40_fixed_acidity_end\": 15.5}, {\"__count\": 56, \"bin_maxbins_40_fixed_acidity\": 10.5, \"bin_maxbins_40_fixed_acidity_end\": 11.0}, {\"__count\": 10, \"bin_maxbins_40_fixed_acidity\": 13.0, \"bin_maxbins_40_fixed_acidity_end\": 13.5}, {\"__count\": 4, \"bin_maxbins_40_fixed_acidity\": 13.5, \"bin_maxbins_40_fixed_acidity_end\": 14.0}, {\"__count\": 3, \"bin_maxbins_40_fixed_acidity\": 14.0, \"bin_maxbins_40_fixed_acidity_end\": 14.5}, {\"__count\": 5, \"bin_maxbins_40_fixed_acidity\": 15.5, \"bin_maxbins_40_fixed_acidity_end\": 16.0}, {\"__count\": 5, \"bin_maxbins_40_fixed_acidity\": 4.0, \"bin_maxbins_40_fixed_acidity_end\": 4.5}, {\"__count\": 2, \"bin_maxbins_40_fixed_acidity\": 3.5, \"bin_maxbins_40_fixed_acidity_end\": 4.0}]}, {\"name\": \"data_2\", \"values\": [{\"__count\": 80, \"bin_maxbins_40_volatile_acidity\": 0.7000000000000001, \"bin_maxbins_40_volatile_acidity_end\": 0.7500000000000001}, {\"__count\": 27, \"bin_maxbins_40_volatile_acidity\": 0.8500000000000001, \"bin_maxbins_40_volatile_acidity_end\": 0.9000000000000001}, {\"__count\": 56, \"bin_maxbins_40_volatile_acidity\": 0.7500000000000001, \"bin_maxbins_40_volatile_acidity_end\": 0.8000000000000002}, {\"__count\": 1215, \"bin_maxbins_40_volatile_acidity\": 0.25, \"bin_maxbins_40_volatile_acidity_end\": 0.3}, {\"__count\": 154, \"bin_maxbins_40_volatile_acidity\": 0.6500000000000001, \"bin_maxbins_40_volatile_acidity_end\": 0.7000000000000002}, {\"__count\": 219, \"bin_maxbins_40_volatile_acidity\": 0.6000000000000001, \"bin_maxbins_40_volatile_acidity_end\": 0.6500000000000001}, {\"__count\": 211, \"bin_maxbins_40_volatile_acidity\": 0.55, \"bin_maxbins_40_volatile_acidity_end\": 0.6000000000000001}, {\"__count\": 221, \"bin_maxbins_40_volatile_acidity\": 0.5, \"bin_maxbins_40_volatile_acidity_end\": 0.55}, {\"__count\": 946, \"bin_maxbins_40_volatile_acidity\": 0.3, \"bin_maxbins_40_volatile_acidity_end\": 0.35}, {\"__count\": 1153, \"bin_maxbins_40_volatile_acidity\": 0.2, \"bin_maxbins_40_volatile_acidity_end\": 0.25}, {\"__count\": 546, \"bin_maxbins_40_volatile_acidity\": 0.35000000000000003, \"bin_maxbins_40_volatile_acidity_end\": 0.4}, {\"__count\": 413, \"bin_maxbins_40_volatile_acidity\": 0.4, \"bin_maxbins_40_volatile_acidity_end\": 0.45}, {\"__count\": 246, \"bin_maxbins_40_volatile_acidity\": 0.45, \"bin_maxbins_40_volatile_acidity_end\": 0.5}, {\"__count\": 3, \"bin_maxbins_40_volatile_acidity\": 1.1, \"bin_maxbins_40_volatile_acidity_end\": 1.1500000000000001}, {\"__count\": 16, \"bin_maxbins_40_volatile_acidity\": 0.9000000000000001, \"bin_maxbins_40_volatile_acidity_end\": 0.9500000000000002}, {\"__count\": 15, \"bin_maxbins_40_volatile_acidity\": 1.0, \"bin_maxbins_40_volatile_acidity_end\": 1.05}, {\"__count\": 2, \"bin_maxbins_40_volatile_acidity\": 1.05, \"bin_maxbins_40_volatile_acidity_end\": 1.1}, {\"__count\": 2, \"bin_maxbins_40_volatile_acidity\": 1.3, \"bin_maxbins_40_volatile_acidity_end\": 1.35}, {\"__count\": 13, \"bin_maxbins_40_volatile_acidity\": 0.9500000000000001, \"bin_maxbins_40_volatile_acidity_end\": 1.0}, {\"__count\": 33, \"bin_maxbins_40_volatile_acidity\": 0.8, \"bin_maxbins_40_volatile_acidity_end\": 0.8500000000000001}, {\"__count\": 743, \"bin_maxbins_40_volatile_acidity\": 0.15000000000000002, \"bin_maxbins_40_volatile_acidity_end\": 0.2}, {\"__count\": 1, \"bin_maxbins_40_volatile_acidity\": 1.2000000000000002, \"bin_maxbins_40_volatile_acidity_end\": 1.2500000000000002}, {\"__count\": 2, \"bin_maxbins_40_volatile_acidity\": 1.1500000000000001, \"bin_maxbins_40_volatile_acidity_end\": 1.2000000000000002}, {\"__count\": 173, \"bin_maxbins_40_volatile_acidity\": 0.1, \"bin_maxbins_40_volatile_acidity_end\": 0.15000000000000002}, {\"__count\": 1, \"bin_maxbins_40_volatile_acidity\": 1.55, \"bin_maxbins_40_volatile_acidity_end\": 1.6}, {\"__count\": 6, \"bin_maxbins_40_volatile_acidity\": 0.05, \"bin_maxbins_40_volatile_acidity_end\": 0.1}]}, {\"name\": \"data_3\", \"values\": [{\"__count\": 320, \"bin_maxbins_40_citric_acid\": 0.0, \"bin_maxbins_40_citric_acid_end\": 0.05}, {\"__count\": 119, \"bin_maxbins_40_citric_acid\": 0.55, \"bin_maxbins_40_citric_acid_end\": 0.6000000000000001}, {\"__count\": 168, \"bin_maxbins_40_citric_acid\": 0.05, \"bin_maxbins_40_citric_acid_end\": 0.1}, {\"__count\": 765, \"bin_maxbins_40_citric_acid\": 0.35000000000000003, \"bin_maxbins_40_citric_acid_end\": 0.4}, {\"__count\": 1201, \"bin_maxbins_40_citric_acid\": 0.25, \"bin_maxbins_40_citric_acid_end\": 0.3}, {\"__count\": 267, \"bin_maxbins_40_citric_acid\": 0.15000000000000002, \"bin_maxbins_40_citric_acid_end\": 0.2}, {\"__count\": 195, \"bin_maxbins_40_citric_acid\": 0.5, \"bin_maxbins_40_citric_acid_end\": 0.55}, {\"__count\": 539, \"bin_maxbins_40_citric_acid\": 0.45, \"bin_maxbins_40_citric_acid_end\": 0.5}, {\"__count\": 1313, \"bin_maxbins_40_citric_acid\": 0.30000000000000004, \"bin_maxbins_40_citric_acid_end\": 0.35000000000000003}, {\"__count\": 665, \"bin_maxbins_40_citric_acid\": 0.2, \"bin_maxbins_40_citric_acid_end\": 0.25}, {\"__count\": 194, \"bin_maxbins_40_citric_acid\": 0.1, \"bin_maxbins_40_citric_acid_end\": 0.15000000000000002}, {\"__count\": 506, \"bin_maxbins_40_citric_acid\": 0.4, \"bin_maxbins_40_citric_acid_end\": 0.45}, {\"__count\": 70, \"bin_maxbins_40_citric_acid\": 0.6000000000000001, \"bin_maxbins_40_citric_acid_end\": 0.6500000000000001}, {\"__count\": 74, \"bin_maxbins_40_citric_acid\": 0.7000000000000001, \"bin_maxbins_40_citric_acid_end\": 0.7500000000000001}, {\"__count\": 72, \"bin_maxbins_40_citric_acid\": 0.65, \"bin_maxbins_40_citric_acid_end\": 0.7000000000000001}, {\"__count\": 6, \"bin_maxbins_40_citric_acid\": 1.0, \"bin_maxbins_40_citric_acid_end\": 1.05}, {\"__count\": 10, \"bin_maxbins_40_citric_acid\": 0.75, \"bin_maxbins_40_citric_acid_end\": 0.8}, {\"__count\": 2, \"bin_maxbins_40_citric_acid\": 0.8500000000000001, \"bin_maxbins_40_citric_acid_end\": 0.9000000000000001}, {\"__count\": 1, \"bin_maxbins_40_citric_acid\": 1.6500000000000001, \"bin_maxbins_40_citric_acid_end\": 1.7000000000000002}, {\"__count\": 6, \"bin_maxbins_40_citric_acid\": 0.8, \"bin_maxbins_40_citric_acid_end\": 0.8500000000000001}, {\"__count\": 1, \"bin_maxbins_40_citric_acid\": 0.9500000000000001, \"bin_maxbins_40_citric_acid_end\": 1.0}, {\"__count\": 1, \"bin_maxbins_40_citric_acid\": 1.2000000000000002, \"bin_maxbins_40_citric_acid_end\": 1.2500000000000002}, {\"__count\": 2, \"bin_maxbins_40_citric_acid\": 0.9, \"bin_maxbins_40_citric_acid_end\": 0.9500000000000001}]}, {\"name\": \"data_4\", \"values\": [{\"__count\": 1885, \"bin_maxbins_40_residual_sugar\": 0.0, \"bin_maxbins_40_residual_sugar_end\": 2.0}, {\"__count\": 1656, \"bin_maxbins_40_residual_sugar\": 2.0, \"bin_maxbins_40_residual_sugar_end\": 4.0}, {\"__count\": 653, \"bin_maxbins_40_residual_sugar\": 6.0, \"bin_maxbins_40_residual_sugar_end\": 8.0}, {\"__count\": 628, \"bin_maxbins_40_residual_sugar\": 4.0, \"bin_maxbins_40_residual_sugar_end\": 6.0}, {\"__count\": 372, \"bin_maxbins_40_residual_sugar\": 10.0, \"bin_maxbins_40_residual_sugar_end\": 12.0}, {\"__count\": 265, \"bin_maxbins_40_residual_sugar\": 14.0, \"bin_maxbins_40_residual_sugar_end\": 16.0}, {\"__count\": 453, \"bin_maxbins_40_residual_sugar\": 8.0, \"bin_maxbins_40_residual_sugar_end\": 10.0}, {\"__count\": 354, \"bin_maxbins_40_residual_sugar\": 12.0, \"bin_maxbins_40_residual_sugar_end\": 14.0}, {\"__count\": 9, \"bin_maxbins_40_residual_sugar\": 20.0, \"bin_maxbins_40_residual_sugar_end\": 22.0}, {\"__count\": 67, \"bin_maxbins_40_residual_sugar\": 18.0, \"bin_maxbins_40_residual_sugar_end\": 20.0}, {\"__count\": 146, \"bin_maxbins_40_residual_sugar\": 16.0, \"bin_maxbins_40_residual_sugar_end\": 18.0}, {\"__count\": 4, \"bin_maxbins_40_residual_sugar\": 22.0, \"bin_maxbins_40_residual_sugar_end\": 24.0}, {\"__count\": 2, \"bin_maxbins_40_residual_sugar\": 30.0, \"bin_maxbins_40_residual_sugar_end\": 32.0}, {\"__count\": 1, \"bin_maxbins_40_residual_sugar\": 64.0, \"bin_maxbins_40_residual_sugar_end\": 66.0}, {\"__count\": 2, \"bin_maxbins_40_residual_sugar\": 26.0, \"bin_maxbins_40_residual_sugar_end\": 28.0}]}, {\"name\": \"data_5\", \"values\": [{\"__count\": 900, \"bin_maxbins_40_chlorides\": 0.06, \"bin_maxbins_40_chlorides_end\": 0.08}, {\"__count\": 613, \"bin_maxbins_40_chlorides\": 0.08, \"bin_maxbins_40_chlorides_end\": 0.1}, {\"__count\": 151, \"bin_maxbins_40_chlorides\": 0.1, \"bin_maxbins_40_chlorides_end\": 0.12000000000000001}, {\"__count\": 38, \"bin_maxbins_40_chlorides\": 0.16, \"bin_maxbins_40_chlorides_end\": 0.18}, {\"__count\": 3, \"bin_maxbins_40_chlorides\": 0.36, \"bin_maxbins_40_chlorides_end\": 0.38}, {\"__count\": 4, \"bin_maxbins_40_chlorides\": 0.34, \"bin_maxbins_40_chlorides_end\": 0.36000000000000004}, {\"__count\": 2, \"bin_maxbins_40_chlorides\": 0.32, \"bin_maxbins_40_chlorides_end\": 0.34}, {\"__count\": 2748, \"bin_maxbins_40_chlorides\": 0.04, \"bin_maxbins_40_chlorides_end\": 0.06}, {\"__count\": 2, \"bin_maxbins_40_chlorides\": 0.46, \"bin_maxbins_40_chlorides_end\": 0.48000000000000004}, {\"__count\": 8, \"bin_maxbins_40_chlorides\": 0.4, \"bin_maxbins_40_chlorides_end\": 0.42000000000000004}, {\"__count\": 53, \"bin_maxbins_40_chlorides\": 0.12, \"bin_maxbins_40_chlorides_end\": 0.13999999999999999}, {\"__count\": 32, \"bin_maxbins_40_chlorides\": 0.14, \"bin_maxbins_40_chlorides_end\": 0.16}, {\"__count\": 7, \"bin_maxbins_40_chlorides\": 0.22, \"bin_maxbins_40_chlorides_end\": 0.24}, {\"__count\": 2, \"bin_maxbins_40_chlorides\": 0.6, \"bin_maxbins_40_chlorides_end\": 0.62}, {\"__count\": 4, \"bin_maxbins_40_chlorides\": 0.26, \"bin_maxbins_40_chlorides_end\": 0.28}, {\"__count\": 1848, \"bin_maxbins_40_chlorides\": 0.02, \"bin_maxbins_40_chlorides_end\": 0.04}, {\"__count\": 12, \"bin_maxbins_40_chlorides\": 0.18, \"bin_maxbins_40_chlorides_end\": 0.19999999999999998}, {\"__count\": 18, \"bin_maxbins_40_chlorides\": 0.2, \"bin_maxbins_40_chlorides_end\": 0.22}, {\"__count\": 6, \"bin_maxbins_40_chlorides\": 0.24, \"bin_maxbins_40_chlorides_end\": 0.26}, {\"__count\": 1, \"bin_maxbins_40_chlorides\": 0.42, \"bin_maxbins_40_chlorides_end\": 0.44}, {\"__count\": 1, \"bin_maxbins_40_chlorides\": 0.38, \"bin_maxbins_40_chlorides_end\": 0.4}, {\"__count\": 42, \"bin_maxbins_40_chlorides\": 0.0, \"bin_maxbins_40_chlorides_end\": 0.02}, {\"__count\": 1, \"bin_maxbins_40_chlorides\": 0.28, \"bin_maxbins_40_chlorides_end\": 0.30000000000000004}, {\"__count\": 1, \"bin_maxbins_40_chlorides\": 0.3, \"bin_maxbins_40_chlorides_end\": 0.32}]}, {\"name\": \"data_6\", \"values\": [{\"__count\": 1271, \"bin_maxbins_40_free_sulfur_dioxide\": 10.0, \"bin_maxbins_40_free_sulfur_dioxide_end\": 20.0}, {\"__count\": 1427, \"bin_maxbins_40_free_sulfur_dioxide\": 20.0, \"bin_maxbins_40_free_sulfur_dioxide_end\": 30.0}, {\"__count\": 694, \"bin_maxbins_40_free_sulfur_dioxide\": 0.0, \"bin_maxbins_40_free_sulfur_dioxide_end\": 10.0}, {\"__count\": 562, \"bin_maxbins_40_free_sulfur_dioxide\": 50.0, \"bin_maxbins_40_free_sulfur_dioxide_end\": 60.0}, {\"__count\": 1275, \"bin_maxbins_40_free_sulfur_dioxide\": 30.0, \"bin_maxbins_40_free_sulfur_dioxide_end\": 40.0}, {\"__count\": 880, \"bin_maxbins_40_free_sulfur_dioxide\": 40.0, \"bin_maxbins_40_free_sulfur_dioxide_end\": 50.0}, {\"__count\": 268, \"bin_maxbins_40_free_sulfur_dioxide\": 60.0, \"bin_maxbins_40_free_sulfur_dioxide_end\": 70.0}, {\"__count\": 69, \"bin_maxbins_40_free_sulfur_dioxide\": 70.0, \"bin_maxbins_40_free_sulfur_dioxide_end\": 80.0}, {\"__count\": 25, \"bin_maxbins_40_free_sulfur_dioxide\": 80.0, \"bin_maxbins_40_free_sulfur_dioxide_end\": 90.0}, {\"__count\": 2, \"bin_maxbins_40_free_sulfur_dioxide\": 130.0, \"bin_maxbins_40_free_sulfur_dioxide_end\": 140.0}, {\"__count\": 3, \"bin_maxbins_40_free_sulfur_dioxide\": 120.0, \"bin_maxbins_40_free_sulfur_dioxide_end\": 130.0}, {\"__count\": 3, \"bin_maxbins_40_free_sulfur_dioxide\": 110.0, \"bin_maxbins_40_free_sulfur_dioxide_end\": 120.0}, {\"__count\": 9, \"bin_maxbins_40_free_sulfur_dioxide\": 90.0, \"bin_maxbins_40_free_sulfur_dioxide_end\": 100.0}, {\"__count\": 1, \"bin_maxbins_40_free_sulfur_dioxide\": 140.0, \"bin_maxbins_40_free_sulfur_dioxide_end\": 150.0}, {\"__count\": 7, \"bin_maxbins_40_free_sulfur_dioxide\": 100.0, \"bin_maxbins_40_free_sulfur_dioxide_end\": 110.0}, {\"__count\": 1, \"bin_maxbins_40_free_sulfur_dioxide\": 280.0, \"bin_maxbins_40_free_sulfur_dioxide_end\": 290.0}]}, {\"name\": \"data_7\", \"values\": [{\"__count\": 532, \"bin_maxbins_40_total_sulfur_dioxide\": 20.0, \"bin_maxbins_40_total_sulfur_dioxide_end\": 40.0}, {\"__count\": 421, \"bin_maxbins_40_total_sulfur_dioxide\": 60.0, \"bin_maxbins_40_total_sulfur_dioxide_end\": 80.0}, {\"__count\": 380, \"bin_maxbins_40_total_sulfur_dioxide\": 40.0, \"bin_maxbins_40_total_sulfur_dioxide_end\": 60.0}, {\"__count\": 335, \"bin_maxbins_40_total_sulfur_dioxide\": 0.0, \"bin_maxbins_40_total_sulfur_dioxide_end\": 20.0}, {\"__count\": 966, \"bin_maxbins_40_total_sulfur_dioxide\": 100.0, \"bin_maxbins_40_total_sulfur_dioxide_end\": 120.0}, {\"__count\": 798, \"bin_maxbins_40_total_sulfur_dioxide\": 140.0, \"bin_maxbins_40_total_sulfur_dioxide_end\": 160.0}, {\"__count\": 687, \"bin_maxbins_40_total_sulfur_dioxide\": 80.0, \"bin_maxbins_40_total_sulfur_dioxide_end\": 100.0}, {\"__count\": 896, \"bin_maxbins_40_total_sulfur_dioxide\": 120.0, \"bin_maxbins_40_total_sulfur_dioxide_end\": 140.0}, {\"__count\": 615, \"bin_maxbins_40_total_sulfur_dioxide\": 160.0, \"bin_maxbins_40_total_sulfur_dioxide_end\": 180.0}, {\"__count\": 4, \"bin_maxbins_40_total_sulfur_dioxide\": 260.0, \"bin_maxbins_40_total_sulfur_dioxide_end\": 280.0}, {\"__count\": 3, \"bin_maxbins_40_total_sulfur_dioxide\": 280.0, \"bin_maxbins_40_total_sulfur_dioxide_end\": 300.0}, {\"__count\": 456, \"bin_maxbins_40_total_sulfur_dioxide\": 180.0, \"bin_maxbins_40_total_sulfur_dioxide_end\": 200.0}, {\"__count\": 47, \"bin_maxbins_40_total_sulfur_dioxide\": 240.0, \"bin_maxbins_40_total_sulfur_dioxide_end\": 260.0}, {\"__count\": 238, \"bin_maxbins_40_total_sulfur_dioxide\": 200.0, \"bin_maxbins_40_total_sulfur_dioxide_end\": 220.0}, {\"__count\": 113, \"bin_maxbins_40_total_sulfur_dioxide\": 220.0, \"bin_maxbins_40_total_sulfur_dioxide_end\": 240.0}, {\"__count\": 3, \"bin_maxbins_40_total_sulfur_dioxide\": 300.0, \"bin_maxbins_40_total_sulfur_dioxide_end\": 320.0}, {\"__count\": 1, \"bin_maxbins_40_total_sulfur_dioxide\": 360.0, \"bin_maxbins_40_total_sulfur_dioxide_end\": 380.0}, {\"__count\": 1, \"bin_maxbins_40_total_sulfur_dioxide\": 340.0, \"bin_maxbins_40_total_sulfur_dioxide_end\": 360.0}, {\"__count\": 1, \"bin_maxbins_40_total_sulfur_dioxide\": 420.0, \"bin_maxbins_40_total_sulfur_dioxide_end\": 440.0}]}, {\"name\": \"data_8\", \"values\": [{\"__count\": 1414, \"bin_maxbins_40_density\": 0.996, \"bin_maxbins_40_density_end\": 0.998}, {\"__count\": 765, \"bin_maxbins_40_density\": 0.998, \"bin_maxbins_40_density_end\": 1.0}, {\"__count\": 1449, \"bin_maxbins_40_density\": 0.994, \"bin_maxbins_40_density_end\": 0.996}, {\"__count\": 1293, \"bin_maxbins_40_density\": 0.992, \"bin_maxbins_40_density_end\": 0.994}, {\"__count\": 1055, \"bin_maxbins_40_density\": 0.99, \"bin_maxbins_40_density_end\": 0.992}, {\"__count\": 154, \"bin_maxbins_40_density\": 1.0, \"bin_maxbins_40_density_end\": 1.002}, {\"__count\": 19, \"bin_maxbins_40_density\": 1.002, \"bin_maxbins_40_density_end\": 1.004}, {\"__count\": 332, \"bin_maxbins_40_density\": 0.988, \"bin_maxbins_40_density_end\": 0.99}, {\"__count\": 2, \"bin_maxbins_40_density\": 1.01, \"bin_maxbins_40_density_end\": 1.012}, {\"__count\": 1, \"bin_maxbins_40_density\": 1.038, \"bin_maxbins_40_density_end\": 1.04}, {\"__count\": 13, \"bin_maxbins_40_density\": 0.986, \"bin_maxbins_40_density_end\": 0.988}]}, {\"name\": \"data_9\", \"values\": [{\"__count\": 153, \"bin_maxbins_40_ph\": 3.5, \"bin_maxbins_40_ph_end\": 3.55}, {\"__count\": 801, \"bin_maxbins_40_ph\": 3.2, \"bin_maxbins_40_ph_end\": 3.25}, {\"__count\": 669, \"bin_maxbins_40_ph\": 3.25, \"bin_maxbins_40_ph_end\": 3.3}, {\"__count\": 859, \"bin_maxbins_40_ph\": 3.1500000000000004, \"bin_maxbins_40_ph_end\": 3.2}, {\"__count\": 607, \"bin_maxbins_40_ph\": 3.3000000000000003, \"bin_maxbins_40_ph_end\": 3.35}, {\"__count\": 506, \"bin_maxbins_40_ph\": 3.35, \"bin_maxbins_40_ph_end\": 3.4}, {\"__count\": 80, \"bin_maxbins_40_ph\": 3.5500000000000003, \"bin_maxbins_40_ph_end\": 3.6}, {\"__count\": 766, \"bin_maxbins_40_ph\": 3.1, \"bin_maxbins_40_ph_end\": 3.15}, {\"__count\": 401, \"bin_maxbins_40_ph\": 3.0, \"bin_maxbins_40_ph_end\": 3.05}, {\"__count\": 320, \"bin_maxbins_40_ph\": 3.4000000000000004, \"bin_maxbins_40_ph_end\": 3.45}, {\"__count\": 202, \"bin_maxbins_40_ph\": 3.45, \"bin_maxbins_40_ph_end\": 3.5}, {\"__count\": 2, \"bin_maxbins_40_ph\": 3.9000000000000004, \"bin_maxbins_40_ph_end\": 3.95}, {\"__count\": 149, \"bin_maxbins_40_ph\": 2.9000000000000004, \"bin_maxbins_40_ph_end\": 2.95}, {\"__count\": 10, \"bin_maxbins_40_ph\": 3.75, \"bin_maxbins_40_ph_end\": 3.8}, {\"__count\": 1, \"bin_maxbins_40_ph\": 3.8500000000000005, \"bin_maxbins_40_ph_end\": 3.9000000000000004}, {\"__count\": 562, \"bin_maxbins_40_ph\": 3.0500000000000003, \"bin_maxbins_40_ph_end\": 3.1}, {\"__count\": 41, \"bin_maxbins_40_ph\": 3.6, \"bin_maxbins_40_ph_end\": 3.65}, {\"__count\": 30, \"bin_maxbins_40_ph\": 3.6500000000000004, \"bin_maxbins_40_ph_end\": 3.7}, {\"__count\": 3, \"bin_maxbins_40_ph\": 2.7, \"bin_maxbins_40_ph_end\": 2.75}, {\"__count\": 238, \"bin_maxbins_40_ph\": 2.95, \"bin_maxbins_40_ph_end\": 3.0}, {\"__count\": 63, \"bin_maxbins_40_ph\": 2.85, \"bin_maxbins_40_ph_end\": 2.9}, {\"__count\": 15, \"bin_maxbins_40_ph\": 3.7, \"bin_maxbins_40_ph_end\": 3.75}, {\"__count\": 2, \"bin_maxbins_40_ph\": 4.0, \"bin_maxbins_40_ph_end\": 4.05}, {\"__count\": 4, \"bin_maxbins_40_ph\": 3.8000000000000003, \"bin_maxbins_40_ph_end\": 3.85}, {\"__count\": 9, \"bin_maxbins_40_ph\": 2.8000000000000003, \"bin_maxbins_40_ph_end\": 2.85}, {\"__count\": 4, \"bin_maxbins_40_ph\": 2.75, \"bin_maxbins_40_ph_end\": 2.8}]}, {\"name\": \"data_10\", \"values\": [{\"__count\": 773, \"bin_maxbins_40_sulphates\": 0.55, \"bin_maxbins_40_sulphates_end\": 0.6000000000000001}, {\"__count\": 350, \"bin_maxbins_40_sulphates\": 0.65, \"bin_maxbins_40_sulphates_end\": 0.7000000000000001}, {\"__count\": 1029, \"bin_maxbins_40_sulphates\": 0.45, \"bin_maxbins_40_sulphates_end\": 0.5}, {\"__count\": 113, \"bin_maxbins_40_sulphates\": 0.8, \"bin_maxbins_40_sulphates_end\": 0.8500000000000001}, {\"__count\": 1066, \"bin_maxbins_40_sulphates\": 0.5, \"bin_maxbins_40_sulphates_end\": 0.55}, {\"__count\": 2, \"bin_maxbins_40_sulphates\": 1.55, \"bin_maxbins_40_sulphates_end\": 1.6}, {\"__count\": 69, \"bin_maxbins_40_sulphates\": 0.8500000000000001, \"bin_maxbins_40_sulphates_end\": 0.9000000000000001}, {\"__count\": 44, \"bin_maxbins_40_sulphates\": 0.9000000000000001, \"bin_maxbins_40_sulphates_end\": 0.9500000000000002}, {\"__count\": 204, \"bin_maxbins_40_sulphates\": 0.75, \"bin_maxbins_40_sulphates_end\": 0.8}, {\"__count\": 3, \"bin_maxbins_40_sulphates\": 1.25, \"bin_maxbins_40_sulphates_end\": 1.3}, {\"__count\": 15, \"bin_maxbins_40_sulphates\": 1.05, \"bin_maxbins_40_sulphates_end\": 1.1}, {\"__count\": 585, \"bin_maxbins_40_sulphates\": 0.6000000000000001, \"bin_maxbins_40_sulphates_end\": 0.6500000000000001}, {\"__count\": 248, \"bin_maxbins_40_sulphates\": 0.7, \"bin_maxbins_40_sulphates_end\": 0.75}, {\"__count\": 2, \"bin_maxbins_40_sulphates\": 1.2, \"bin_maxbins_40_sulphates_end\": 1.25}, {\"__count\": 707, \"bin_maxbins_40_sulphates\": 0.35000000000000003, \"bin_maxbins_40_sulphates_end\": 0.4}, {\"__count\": 32, \"bin_maxbins_40_sulphates\": 0.95, \"bin_maxbins_40_sulphates_end\": 1.0}, {\"__count\": 8, \"bin_maxbins_40_sulphates\": 1.1, \"bin_maxbins_40_sulphates_end\": 1.1500000000000001}, {\"__count\": 4, \"bin_maxbins_40_sulphates\": 1.95, \"bin_maxbins_40_sulphates_end\": 2.0}, {\"__count\": 3, \"bin_maxbins_40_sulphates\": 1.3, \"bin_maxbins_40_sulphates_end\": 1.35}, {\"__count\": 264, \"bin_maxbins_40_sulphates\": 0.30000000000000004, \"bin_maxbins_40_sulphates_end\": 0.35000000000000003}, {\"__count\": 11, \"bin_maxbins_40_sulphates\": 1.0, \"bin_maxbins_40_sulphates_end\": 1.05}, {\"__count\": 898, \"bin_maxbins_40_sulphates\": 0.4, \"bin_maxbins_40_sulphates_end\": 0.45}, {\"__count\": 2, \"bin_maxbins_40_sulphates\": 1.6, \"bin_maxbins_40_sulphates_end\": 1.6500000000000001}, {\"__count\": 3, \"bin_maxbins_40_sulphates\": 1.35, \"bin_maxbins_40_sulphates_end\": 1.4000000000000001}, {\"__count\": 10, \"bin_maxbins_40_sulphates\": 1.1500000000000001, \"bin_maxbins_40_sulphates_end\": 1.2000000000000002}, {\"__count\": 50, \"bin_maxbins_40_sulphates\": 0.25, \"bin_maxbins_40_sulphates_end\": 0.3}, {\"__count\": 2, \"bin_maxbins_40_sulphates\": 0.2, \"bin_maxbins_40_sulphates_end\": 0.25}]}, {\"name\": \"data_11\", \"values\": [{\"__count\": 707, \"bin_maxbins_40_alcohol\": 9.4, \"bin_maxbins_40_alcohol_end\": 9.6}, {\"__count\": 373, \"bin_maxbins_40_alcohol\": 9.8, \"bin_maxbins_40_alcohol_end\": 10.0}, {\"__count\": 398, \"bin_maxbins_40_alcohol\": 10.0, \"bin_maxbins_40_alcohol_end\": 10.2}, {\"__count\": 429, \"bin_maxbins_40_alcohol\": 10.4, \"bin_maxbins_40_alcohol_end\": 10.6}, {\"__count\": 466, \"bin_maxbins_40_alcohol\": 9.2, \"bin_maxbins_40_alcohol_end\": 9.399999999999999}, {\"__count\": 383, \"bin_maxbins_40_alcohol\": 9.0, \"bin_maxbins_40_alcohol_end\": 9.2}, {\"__count\": 350, \"bin_maxbins_40_alcohol\": 9.6, \"bin_maxbins_40_alcohol_end\": 9.799999999999999}, {\"__count\": 267, \"bin_maxbins_40_alcohol\": 10.6, \"bin_maxbins_40_alcohol_end\": 10.799999999999999}, {\"__count\": 320, \"bin_maxbins_40_alcohol\": 10.8, \"bin_maxbins_40_alcohol_end\": 11.0}, {\"__count\": 294, \"bin_maxbins_40_alcohol\": 10.2, \"bin_maxbins_40_alcohol_end\": 10.399999999999999}, {\"__count\": 64, \"bin_maxbins_40_alcohol\": 13.0, \"bin_maxbins_40_alcohol_end\": 13.2}, {\"__count\": 121, \"bin_maxbins_40_alcohol\": 12.8, \"bin_maxbins_40_alcohol_end\": 13.0}, {\"__count\": 13, \"bin_maxbins_40_alcohol\": 14.0, \"bin_maxbins_40_alcohol_end\": 14.2}, {\"__count\": 278, \"bin_maxbins_40_alcohol\": 11.4, \"bin_maxbins_40_alcohol_end\": 11.6}, {\"__count\": 185, \"bin_maxbins_40_alcohol\": 12.4, \"bin_maxbins_40_alcohol_end\": 12.6}, {\"__count\": 331, \"bin_maxbins_40_alcohol\": 11.0, \"bin_maxbins_40_alcohol_end\": 11.2}, {\"__count\": 174, \"bin_maxbins_40_alcohol\": 12.2, \"bin_maxbins_40_alcohol_end\": 12.399999999999999}, {\"__count\": 137, \"bin_maxbins_40_alcohol\": 12.600000000000001, \"bin_maxbins_40_alcohol_end\": 12.8}, {\"__count\": 148, \"bin_maxbins_40_alcohol\": 11.6, \"bin_maxbins_40_alcohol_end\": 11.799999999999999}, {\"__count\": 287, \"bin_maxbins_40_alcohol\": 11.2, \"bin_maxbins_40_alcohol_end\": 11.399999999999999}, {\"__count\": 191, \"bin_maxbins_40_alcohol\": 12.0, \"bin_maxbins_40_alcohol_end\": 12.2}, {\"__count\": 167, \"bin_maxbins_40_alcohol\": 11.8, \"bin_maxbins_40_alcohol_end\": 12.0}, {\"__count\": 103, \"bin_maxbins_40_alcohol\": 8.6, \"bin_maxbins_40_alcohol_end\": 8.799999999999999}, {\"__count\": 25, \"bin_maxbins_40_alcohol\": 13.2, \"bin_maxbins_40_alcohol_end\": 13.399999999999999}, {\"__count\": 38, \"bin_maxbins_40_alcohol\": 13.4, \"bin_maxbins_40_alcohol_end\": 13.6}, {\"__count\": 15, \"bin_maxbins_40_alcohol\": 8.4, \"bin_maxbins_40_alcohol_end\": 8.6}, {\"__count\": 1, \"bin_maxbins_40_alcohol\": 14.8, \"bin_maxbins_40_alcohol_end\": 15.0}, {\"__count\": 20, \"bin_maxbins_40_alcohol\": 13.600000000000001, \"bin_maxbins_40_alcohol_end\": 13.8}, {\"__count\": 204, \"bin_maxbins_40_alcohol\": 8.8, \"bin_maxbins_40_alcohol_end\": 9.0}, {\"__count\": 5, \"bin_maxbins_40_alcohol\": 13.8, \"bin_maxbins_40_alcohol_end\": 14.0}, {\"__count\": 2, \"bin_maxbins_40_alcohol\": 8.0, \"bin_maxbins_40_alcohol_end\": 8.2}, {\"__count\": 1, \"bin_maxbins_40_alcohol\": 14.2, \"bin_maxbins_40_alcohol_end\": 14.399999999999999}]}, {\"name\": \"data_1_child__fixed_acidity_y_domain___count\", \"values\": [{\"min\": 2, \"max\": 1466}]}, {\"name\": \"data_2_child__volatile_acidity_y_domain___count\", \"values\": [{\"min\": 1, \"max\": 1215}]}, {\"name\": \"data_3_child__citric_acid_y_domain___count\", \"values\": [{\"min\": 1, \"max\": 1313}]}, {\"name\": \"data_4_child__residual_sugar_y_domain___count\", \"values\": [{\"min\": 1, \"max\": 1885}]}, {\"name\": \"data_5_child__chlorides_y_domain___count\", \"values\": [{\"min\": 1, \"max\": 2748}]}, {\"name\": \"data_6_child__free_sulfur_dioxide_y_domain___count\", \"values\": [{\"min\": 1, \"max\": 1427}]}, {\"name\": \"data_7_child__total_sulfur_dioxide_y_domain___count\", \"values\": [{\"min\": 1, \"max\": 966}]}, {\"name\": \"data_8_child__density_y_domain___count\", \"values\": [{\"min\": 1, \"max\": 1449}]}, {\"name\": \"data_9_child__ph_y_domain___count\", \"values\": [{\"min\": 1, \"max\": 859}]}, {\"name\": \"data_10_child__sulphates_y_domain___count\", \"values\": [{\"min\": 2, \"max\": 1066}]}, {\"name\": \"data_11_child__alcohol_y_domain___count\", \"values\": [{\"min\": 1, \"max\": 707}]}, {\"name\": \"data_0_child__quality_y_domain___count\", \"values\": [{\"min\": 5, \"max\": 2836}]}], \"signals\": [{\"name\": \"child__density_bin_maxbins_40_density_bins\", \"value\": {\"fields\": [\"density\"], \"fname\": \"bin_density\", \"start\": 0.986, \"step\": 0.002, \"stop\": 1.04}}, {\"name\": \"child__alcohol_bin_maxbins_40_alcohol_bins\", \"value\": {\"fields\": [\"alcohol\"], \"fname\": \"bin_alcohol\", \"start\": 8.0, \"step\": 0.2, \"stop\": 15.0}}, {\"name\": \"child__free_sulfur_dioxide_bin_maxbins_40_free_sulfur_dioxide_bins\", \"value\": {\"fields\": [\"free_sulfur_dioxide\"], \"fname\": \"bin_free_sulfur_dioxide\", \"start\": 0.0, \"step\": 10.0, \"stop\": 290.0}}, {\"name\": \"child__citric_acid_bin_maxbins_40_citric_acid_bins\", \"value\": {\"fields\": [\"citric_acid\"], \"fname\": \"bin_citric_acid\", \"start\": 0.0, \"step\": 0.05, \"stop\": 1.7000000000000002}}, {\"name\": \"child__quality_bin_maxbins_40_quality_bins\", \"value\": {\"fields\": [\"quality\"], \"fname\": \"bin_quality\", \"start\": 3.0, \"step\": 0.2, \"stop\": 9.0}}, {\"name\": \"child__chlorides_bin_maxbins_40_chlorides_bins\", \"value\": {\"fields\": [\"chlorides\"], \"fname\": \"bin_chlorides\", \"start\": 0.0, \"step\": 0.02, \"stop\": 0.62}}, {\"name\": \"child__sulphates_bin_maxbins_40_sulphates_bins\", \"value\": {\"fields\": [\"sulphates\"], \"fname\": \"bin_sulphates\", \"start\": 0.2, \"step\": 0.05, \"stop\": 2.0}}, {\"name\": \"child__ph_bin_maxbins_40_ph_bins\", \"value\": {\"fields\": [\"ph\"], \"fname\": \"bin_ph\", \"start\": 2.7, \"step\": 0.05, \"stop\": 4.05}}, {\"name\": \"child__total_sulfur_dioxide_bin_maxbins_40_total_sulfur_dioxide_bins\", \"value\": {\"fields\": [\"total_sulfur_dioxide\"], \"fname\": \"bin_total_sulfur_dioxide\", \"start\": 0.0, \"step\": 20.0, \"stop\": 440.0}}, {\"name\": \"child__residual_sugar_bin_maxbins_40_residual_sugar_bins\", \"value\": {\"fields\": [\"residual_sugar\"], \"fname\": \"bin_residual_sugar\", \"start\": 0.0, \"step\": 2.0, \"stop\": 66.0}}, {\"name\": \"child__fixed_acidity_bin_maxbins_40_fixed_acidity_bins\", \"value\": {\"fields\": [\"fixed_acidity\"], \"fname\": \"bin_fixed_acidity\", \"start\": 3.5, \"step\": 0.5, \"stop\": 16.0}}, {\"name\": \"child__volatile_acidity_bin_maxbins_40_volatile_acidity_bins\", \"value\": {\"fields\": [\"volatile_acidity\"], \"fname\": \"bin_volatile_acidity\", \"start\": 0.05, \"step\": 0.05, \"stop\": 1.6}}, {\"name\": \"childWidth\", \"value\": 300}, {\"name\": \"childHeight\", \"value\": 300}], \"marks\": [{\"type\": \"group\", \"name\": \"child__fixed_acidity_group\", \"encode\": {\"update\": {\"width\": {\"signal\": \"childWidth\"}, \"height\": {\"signal\": \"childHeight\"}}}, \"marks\": [{\"type\": \"rect\", \"name\": \"child__fixed_acidity_marks\", \"from\": {\"data\": \"data_1\"}, \"encode\": {\"update\": {\"x\": {\"field\": \"bin_maxbins_40_fixed_acidity_end\", \"scale\": \"child__fixed_acidity_x\", \"offset\": {\"signal\": \"0.5 + (abs(scale(\\\"child__fixed_acidity_x\\\", datum[\\\"bin_maxbins_40_fixed_acidity_end\\\"]) - scale(\\\"child__fixed_acidity_x\\\", datum[\\\"bin_maxbins_40_fixed_acidity\\\"])) < 0.25 ? 0.5 * (0.25 - (abs(scale(\\\"child__fixed_acidity_x\\\", datum[\\\"bin_maxbins_40_fixed_acidity_end\\\"]) - scale(\\\"child__fixed_acidity_x\\\", datum[\\\"bin_maxbins_40_fixed_acidity\\\"])))) : -0.5)\"}}, \"y\": {\"field\": \"__count\", \"scale\": \"child__fixed_acidity_y\"}, \"fill\": {\"value\": \"#4c78a8\"}, \"y2\": {\"value\": 0, \"scale\": \"child__fixed_acidity_y\"}, \"x2\": {\"field\": \"bin_maxbins_40_fixed_acidity\", \"scale\": \"child__fixed_acidity_x\", \"offset\": {\"signal\": \"0.5 + (abs(scale(\\\"child__fixed_acidity_x\\\", datum[\\\"bin_maxbins_40_fixed_acidity_end\\\"]) - scale(\\\"child__fixed_acidity_x\\\", datum[\\\"bin_maxbins_40_fixed_acidity\\\"])) < 0.25 ? -0.5 * (0.25 - (abs(scale(\\\"child__fixed_acidity_x\\\", datum[\\\"bin_maxbins_40_fixed_acidity_end\\\"]) - scale(\\\"child__fixed_acidity_x\\\", datum[\\\"bin_maxbins_40_fixed_acidity\\\"])))) : 0.5)\"}}}}, \"style\": [\"bar\"]}], \"axes\": [{\"scale\": \"child__fixed_acidity_y\", \"tickCount\": {\"signal\": \"ceil(childHeight/40)\"}, \"minExtent\": 0, \"gridScale\": \"child__fixed_acidity_x\", \"zindex\": 0, \"orient\": \"left\", \"maxExtent\": 0, \"labels\": false, \"grid\": true, \"domain\": false, \"aria\": false, \"ticks\": false}, {\"scale\": \"child__fixed_acidity_x\", \"orient\": \"bottom\", \"title\": \"fixed_acidity (binned)\", \"labelFlush\": true, \"tickCount\": {\"signal\": \"ceil(childWidth/10)\"}, \"labelOverlap\": true, \"zindex\": 0, \"grid\": false}, {\"scale\": \"child__fixed_acidity_y\", \"tickCount\": {\"signal\": \"ceil(childHeight/40)\"}, \"title\": \"Count of Records\", \"orient\": \"left\", \"labelOverlap\": true, \"zindex\": 0, \"grid\": false}], \"style\": \"cell\"}, {\"type\": \"group\", \"name\": \"child__volatile_acidity_group\", \"encode\": {\"update\": {\"width\": {\"signal\": \"childWidth\"}, \"height\": {\"signal\": \"childHeight\"}}}, \"marks\": [{\"type\": \"rect\", \"name\": \"child__volatile_acidity_marks\", \"from\": {\"data\": \"data_2\"}, \"encode\": {\"update\": {\"fill\": {\"value\": \"#4c78a8\"}, \"y2\": {\"value\": 0, \"scale\": \"child__volatile_acidity_y\"}, \"x\": {\"field\": \"bin_maxbins_40_volatile_acidity_end\", \"scale\": \"child__volatile_acidity_x\", \"offset\": {\"signal\": \"0.5 + (abs(scale(\\\"child__volatile_acidity_x\\\", datum[\\\"bin_maxbins_40_volatile_acidity_end\\\"]) - scale(\\\"child__volatile_acidity_x\\\", datum[\\\"bin_maxbins_40_volatile_acidity\\\"])) < 0.25 ? 0.5 * (0.25 - (abs(scale(\\\"child__volatile_acidity_x\\\", datum[\\\"bin_maxbins_40_volatile_acidity_end\\\"]) - scale(\\\"child__volatile_acidity_x\\\", datum[\\\"bin_maxbins_40_volatile_acidity\\\"])))) : -0.5)\"}}, \"y\": {\"field\": \"__count\", \"scale\": \"child__volatile_acidity_y\"}, \"x2\": {\"field\": \"bin_maxbins_40_volatile_acidity\", \"scale\": \"child__volatile_acidity_x\", \"offset\": {\"signal\": \"0.5 + (abs(scale(\\\"child__volatile_acidity_x\\\", datum[\\\"bin_maxbins_40_volatile_acidity_end\\\"]) - scale(\\\"child__volatile_acidity_x\\\", datum[\\\"bin_maxbins_40_volatile_acidity\\\"])) < 0.25 ? -0.5 * (0.25 - (abs(scale(\\\"child__volatile_acidity_x\\\", datum[\\\"bin_maxbins_40_volatile_acidity_end\\\"]) - scale(\\\"child__volatile_acidity_x\\\", datum[\\\"bin_maxbins_40_volatile_acidity\\\"])))) : 0.5)\"}}}}, \"style\": [\"bar\"]}], \"axes\": [{\"scale\": \"child__volatile_acidity_y\", \"zindex\": 0, \"domain\": false, \"tickCount\": {\"signal\": \"ceil(childHeight/40)\"}, \"gridScale\": \"child__volatile_acidity_x\", \"orient\": \"left\", \"aria\": false, \"labels\": false, \"minExtent\": 0, \"ticks\": false, \"maxExtent\": 0, \"grid\": true}, {\"scale\": \"child__volatile_acidity_x\", \"grid\": false, \"labelFlush\": true, \"labelOverlap\": true, \"tickCount\": {\"signal\": \"ceil(childWidth/10)\"}, \"orient\": \"bottom\", \"title\": \"volatile_acidity (binned)\", \"zindex\": 0}, {\"scale\": \"child__volatile_acidity_y\", \"grid\": false, \"orient\": \"left\", \"zindex\": 0, \"title\": \"Count of Records\", \"labelOverlap\": true, \"tickCount\": {\"signal\": \"ceil(childHeight/40)\"}}], \"style\": \"cell\"}, {\"type\": \"group\", \"name\": \"child__citric_acid_group\", \"encode\": {\"update\": {\"width\": {\"signal\": \"childWidth\"}, \"height\": {\"signal\": \"childHeight\"}}}, \"marks\": [{\"type\": \"rect\", \"name\": \"child__citric_acid_marks\", \"from\": {\"data\": \"data_3\"}, \"encode\": {\"update\": {\"y\": {\"field\": \"__count\", \"scale\": \"child__citric_acid_y\"}, \"x2\": {\"field\": \"bin_maxbins_40_citric_acid\", \"scale\": \"child__citric_acid_x\", \"offset\": {\"signal\": \"0.5 + (abs(scale(\\\"child__citric_acid_x\\\", datum[\\\"bin_maxbins_40_citric_acid_end\\\"]) - scale(\\\"child__citric_acid_x\\\", datum[\\\"bin_maxbins_40_citric_acid\\\"])) < 0.25 ? -0.5 * (0.25 - (abs(scale(\\\"child__citric_acid_x\\\", datum[\\\"bin_maxbins_40_citric_acid_end\\\"]) - scale(\\\"child__citric_acid_x\\\", datum[\\\"bin_maxbins_40_citric_acid\\\"])))) : 0.5)\"}}, \"x\": {\"field\": \"bin_maxbins_40_citric_acid_end\", \"scale\": \"child__citric_acid_x\", \"offset\": {\"signal\": \"0.5 + (abs(scale(\\\"child__citric_acid_x\\\", datum[\\\"bin_maxbins_40_citric_acid_end\\\"]) - scale(\\\"child__citric_acid_x\\\", datum[\\\"bin_maxbins_40_citric_acid\\\"])) < 0.25 ? 0.5 * (0.25 - (abs(scale(\\\"child__citric_acid_x\\\", datum[\\\"bin_maxbins_40_citric_acid_end\\\"]) - scale(\\\"child__citric_acid_x\\\", datum[\\\"bin_maxbins_40_citric_acid\\\"])))) : -0.5)\"}}, \"y2\": {\"value\": 0, \"scale\": \"child__citric_acid_y\"}, \"fill\": {\"value\": \"#4c78a8\"}}}, \"style\": [\"bar\"]}], \"axes\": [{\"scale\": \"child__citric_acid_y\", \"gridScale\": \"child__citric_acid_x\", \"labels\": false, \"maxExtent\": 0, \"grid\": true, \"zindex\": 0, \"aria\": false, \"ticks\": false, \"tickCount\": {\"signal\": \"ceil(childHeight/40)\"}, \"domain\": false, \"orient\": \"left\", \"minExtent\": 0}, {\"scale\": \"child__citric_acid_x\", \"orient\": \"bottom\", \"labelFlush\": true, \"labelOverlap\": true, \"zindex\": 0, \"grid\": false, \"tickCount\": {\"signal\": \"ceil(childWidth/10)\"}, \"title\": \"citric_acid (binned)\"}, {\"scale\": \"child__citric_acid_y\", \"grid\": false, \"labelOverlap\": true, \"zindex\": 0, \"orient\": \"left\", \"title\": \"Count of Records\", \"tickCount\": {\"signal\": \"ceil(childHeight/40)\"}}], \"style\": \"cell\"}, {\"type\": \"group\", \"name\": \"child__residual_sugar_group\", \"encode\": {\"update\": {\"width\": {\"signal\": \"childWidth\"}, \"height\": {\"signal\": \"childHeight\"}}}, \"marks\": [{\"type\": \"rect\", \"name\": \"child__residual_sugar_marks\", \"from\": {\"data\": \"data_4\"}, \"encode\": {\"update\": {\"fill\": {\"value\": \"#4c78a8\"}, \"y\": {\"field\": \"__count\", \"scale\": \"child__residual_sugar_y\"}, \"x2\": {\"field\": \"bin_maxbins_40_residual_sugar\", \"scale\": \"child__residual_sugar_x\", \"offset\": {\"signal\": \"0.5 + (abs(scale(\\\"child__residual_sugar_x\\\", datum[\\\"bin_maxbins_40_residual_sugar_end\\\"]) - scale(\\\"child__residual_sugar_x\\\", datum[\\\"bin_maxbins_40_residual_sugar\\\"])) < 0.25 ? -0.5 * (0.25 - (abs(scale(\\\"child__residual_sugar_x\\\", datum[\\\"bin_maxbins_40_residual_sugar_end\\\"]) - scale(\\\"child__residual_sugar_x\\\", datum[\\\"bin_maxbins_40_residual_sugar\\\"])))) : 0.5)\"}}, \"x\": {\"field\": \"bin_maxbins_40_residual_sugar_end\", \"scale\": \"child__residual_sugar_x\", \"offset\": {\"signal\": \"0.5 + (abs(scale(\\\"child__residual_sugar_x\\\", datum[\\\"bin_maxbins_40_residual_sugar_end\\\"]) - scale(\\\"child__residual_sugar_x\\\", datum[\\\"bin_maxbins_40_residual_sugar\\\"])) < 0.25 ? 0.5 * (0.25 - (abs(scale(\\\"child__residual_sugar_x\\\", datum[\\\"bin_maxbins_40_residual_sugar_end\\\"]) - scale(\\\"child__residual_sugar_x\\\", datum[\\\"bin_maxbins_40_residual_sugar\\\"])))) : -0.5)\"}}, \"y2\": {\"value\": 0, \"scale\": \"child__residual_sugar_y\"}}}, \"style\": [\"bar\"]}], \"axes\": [{\"scale\": \"child__residual_sugar_y\", \"grid\": true, \"labels\": false, \"zindex\": 0, \"orient\": \"left\", \"domain\": false, \"ticks\": false, \"maxExtent\": 0, \"gridScale\": \"child__residual_sugar_x\", \"tickCount\": {\"signal\": \"ceil(childHeight/40)\"}, \"minExtent\": 0, \"aria\": false}, {\"scale\": \"child__residual_sugar_x\", \"labelFlush\": true, \"title\": \"residual_sugar (binned)\", \"labelOverlap\": true, \"tickCount\": {\"signal\": \"ceil(childWidth/10)\"}, \"zindex\": 0, \"grid\": false, \"orient\": \"bottom\"}, {\"scale\": \"child__residual_sugar_y\", \"tickCount\": {\"signal\": \"ceil(childHeight/40)\"}, \"labelOverlap\": true, \"grid\": false, \"orient\": \"left\", \"zindex\": 0, \"title\": \"Count of Records\"}], \"style\": \"cell\"}, {\"type\": \"group\", \"name\": \"child__chlorides_group\", \"encode\": {\"update\": {\"width\": {\"signal\": \"childWidth\"}, \"height\": {\"signal\": \"childHeight\"}}}, \"marks\": [{\"type\": \"rect\", \"name\": \"child__chlorides_marks\", \"from\": {\"data\": \"data_5\"}, \"encode\": {\"update\": {\"x\": {\"field\": \"bin_maxbins_40_chlorides_end\", \"scale\": \"child__chlorides_x\", \"offset\": {\"signal\": \"0.5 + (abs(scale(\\\"child__chlorides_x\\\", datum[\\\"bin_maxbins_40_chlorides_end\\\"]) - scale(\\\"child__chlorides_x\\\", datum[\\\"bin_maxbins_40_chlorides\\\"])) < 0.25 ? 0.5 * (0.25 - (abs(scale(\\\"child__chlorides_x\\\", datum[\\\"bin_maxbins_40_chlorides_end\\\"]) - scale(\\\"child__chlorides_x\\\", datum[\\\"bin_maxbins_40_chlorides\\\"])))) : -0.5)\"}}, \"fill\": {\"value\": \"#4c78a8\"}, \"x2\": {\"field\": \"bin_maxbins_40_chlorides\", \"scale\": \"child__chlorides_x\", \"offset\": {\"signal\": \"0.5 + (abs(scale(\\\"child__chlorides_x\\\", datum[\\\"bin_maxbins_40_chlorides_end\\\"]) - scale(\\\"child__chlorides_x\\\", datum[\\\"bin_maxbins_40_chlorides\\\"])) < 0.25 ? -0.5 * (0.25 - (abs(scale(\\\"child__chlorides_x\\\", datum[\\\"bin_maxbins_40_chlorides_end\\\"]) - scale(\\\"child__chlorides_x\\\", datum[\\\"bin_maxbins_40_chlorides\\\"])))) : 0.5)\"}}, \"y\": {\"field\": \"__count\", \"scale\": \"child__chlorides_y\"}, \"y2\": {\"value\": 0, \"scale\": \"child__chlorides_y\"}}}, \"style\": [\"bar\"]}], \"axes\": [{\"scale\": \"child__chlorides_y\", \"zindex\": 0, \"maxExtent\": 0, \"grid\": true, \"domain\": false, \"labels\": false, \"minExtent\": 0, \"tickCount\": {\"signal\": \"ceil(childHeight/40)\"}, \"ticks\": false, \"gridScale\": \"child__chlorides_x\", \"aria\": false, \"orient\": \"left\"}, {\"scale\": \"child__chlorides_x\", \"orient\": \"bottom\", \"title\": \"chlorides (binned)\", \"labelFlush\": true, \"zindex\": 0, \"tickCount\": {\"signal\": \"ceil(childWidth/10)\"}, \"labelOverlap\": true, \"grid\": false}, {\"scale\": \"child__chlorides_y\", \"grid\": false, \"orient\": \"left\", \"title\": \"Count of Records\", \"labelOverlap\": true, \"tickCount\": {\"signal\": \"ceil(childHeight/40)\"}, \"zindex\": 0}], \"style\": \"cell\"}, {\"type\": \"group\", \"name\": \"child__free_sulfur_dioxide_group\", \"encode\": {\"update\": {\"width\": {\"signal\": \"childWidth\"}, \"height\": {\"signal\": \"childHeight\"}}}, \"marks\": [{\"type\": \"rect\", \"name\": \"child__free_sulfur_dioxide_marks\", \"from\": {\"data\": \"data_6\"}, \"encode\": {\"update\": {\"x\": {\"field\": \"bin_maxbins_40_free_sulfur_dioxide_end\", \"scale\": \"child__free_sulfur_dioxide_x\", \"offset\": {\"signal\": \"0.5 + (abs(scale(\\\"child__free_sulfur_dioxide_x\\\", datum[\\\"bin_maxbins_40_free_sulfur_dioxide_end\\\"]) - scale(\\\"child__free_sulfur_dioxide_x\\\", datum[\\\"bin_maxbins_40_free_sulfur_dioxide\\\"])) < 0.25 ? 0.5 * (0.25 - (abs(scale(\\\"child__free_sulfur_dioxide_x\\\", datum[\\\"bin_maxbins_40_free_sulfur_dioxide_end\\\"]) - scale(\\\"child__free_sulfur_dioxide_x\\\", datum[\\\"bin_maxbins_40_free_sulfur_dioxide\\\"])))) : -0.5)\"}}, \"x2\": {\"field\": \"bin_maxbins_40_free_sulfur_dioxide\", \"scale\": \"child__free_sulfur_dioxide_x\", \"offset\": {\"signal\": \"0.5 + (abs(scale(\\\"child__free_sulfur_dioxide_x\\\", datum[\\\"bin_maxbins_40_free_sulfur_dioxide_end\\\"]) - scale(\\\"child__free_sulfur_dioxide_x\\\", datum[\\\"bin_maxbins_40_free_sulfur_dioxide\\\"])) < 0.25 ? -0.5 * (0.25 - (abs(scale(\\\"child__free_sulfur_dioxide_x\\\", datum[\\\"bin_maxbins_40_free_sulfur_dioxide_end\\\"]) - scale(\\\"child__free_sulfur_dioxide_x\\\", datum[\\\"bin_maxbins_40_free_sulfur_dioxide\\\"])))) : 0.5)\"}}, \"y2\": {\"value\": 0, \"scale\": \"child__free_sulfur_dioxide_y\"}, \"y\": {\"field\": \"__count\", \"scale\": \"child__free_sulfur_dioxide_y\"}, \"fill\": {\"value\": \"#4c78a8\"}}}, \"style\": [\"bar\"]}], \"axes\": [{\"scale\": \"child__free_sulfur_dioxide_y\", \"aria\": false, \"maxExtent\": 0, \"minExtent\": 0, \"gridScale\": \"child__free_sulfur_dioxide_x\", \"zindex\": 0, \"grid\": true, \"domain\": false, \"tickCount\": {\"signal\": \"ceil(childHeight/40)\"}, \"ticks\": false, \"orient\": \"left\", \"labels\": false}, {\"scale\": \"child__free_sulfur_dioxide_x\", \"tickCount\": {\"signal\": \"ceil(childWidth/10)\"}, \"orient\": \"bottom\", \"zindex\": 0, \"grid\": false, \"labelFlush\": true, \"title\": \"free_sulfur_dioxide (binned)\", \"labelOverlap\": true}, {\"scale\": \"child__free_sulfur_dioxide_y\", \"orient\": \"left\", \"title\": \"Count of Records\", \"tickCount\": {\"signal\": \"ceil(childHeight/40)\"}, \"grid\": false, \"zindex\": 0, \"labelOverlap\": true}], \"style\": \"cell\"}, {\"type\": \"group\", \"name\": \"child__total_sulfur_dioxide_group\", \"encode\": {\"update\": {\"width\": {\"signal\": \"childWidth\"}, \"height\": {\"signal\": \"childHeight\"}}}, \"marks\": [{\"type\": \"rect\", \"name\": \"child__total_sulfur_dioxide_marks\", \"from\": {\"data\": \"data_7\"}, \"encode\": {\"update\": {\"x\": {\"field\": \"bin_maxbins_40_total_sulfur_dioxide_end\", \"scale\": \"child__total_sulfur_dioxide_x\", \"offset\": {\"signal\": \"0.5 + (abs(scale(\\\"child__total_sulfur_dioxide_x\\\", datum[\\\"bin_maxbins_40_total_sulfur_dioxide_end\\\"]) - scale(\\\"child__total_sulfur_dioxide_x\\\", datum[\\\"bin_maxbins_40_total_sulfur_dioxide\\\"])) < 0.25 ? 0.5 * (0.25 - (abs(scale(\\\"child__total_sulfur_dioxide_x\\\", datum[\\\"bin_maxbins_40_total_sulfur_dioxide_end\\\"]) - scale(\\\"child__total_sulfur_dioxide_x\\\", datum[\\\"bin_maxbins_40_total_sulfur_dioxide\\\"])))) : -0.5)\"}}, \"y\": {\"field\": \"__count\", \"scale\": \"child__total_sulfur_dioxide_y\"}, \"x2\": {\"field\": \"bin_maxbins_40_total_sulfur_dioxide\", \"scale\": \"child__total_sulfur_dioxide_x\", \"offset\": {\"signal\": \"0.5 + (abs(scale(\\\"child__total_sulfur_dioxide_x\\\", datum[\\\"bin_maxbins_40_total_sulfur_dioxide_end\\\"]) - scale(\\\"child__total_sulfur_dioxide_x\\\", datum[\\\"bin_maxbins_40_total_sulfur_dioxide\\\"])) < 0.25 ? -0.5 * (0.25 - (abs(scale(\\\"child__total_sulfur_dioxide_x\\\", datum[\\\"bin_maxbins_40_total_sulfur_dioxide_end\\\"]) - scale(\\\"child__total_sulfur_dioxide_x\\\", datum[\\\"bin_maxbins_40_total_sulfur_dioxide\\\"])))) : 0.5)\"}}, \"fill\": {\"value\": \"#4c78a8\"}, \"y2\": {\"value\": 0, \"scale\": \"child__total_sulfur_dioxide_y\"}}}, \"style\": [\"bar\"]}], \"axes\": [{\"scale\": \"child__total_sulfur_dioxide_y\", \"gridScale\": \"child__total_sulfur_dioxide_x\", \"orient\": \"left\", \"tickCount\": {\"signal\": \"ceil(childHeight/40)\"}, \"ticks\": false, \"aria\": false, \"domain\": false, \"labels\": false, \"zindex\": 0, \"minExtent\": 0, \"grid\": true, \"maxExtent\": 0}, {\"scale\": \"child__total_sulfur_dioxide_x\", \"orient\": \"bottom\", \"title\": \"total_sulfur_dioxide (binned)\", \"labelOverlap\": true, \"tickCount\": {\"signal\": \"ceil(childWidth/10)\"}, \"zindex\": 0, \"grid\": false, \"labelFlush\": true}, {\"scale\": \"child__total_sulfur_dioxide_y\", \"grid\": false, \"orient\": \"left\", \"title\": \"Count of Records\", \"labelOverlap\": true, \"zindex\": 0, \"tickCount\": {\"signal\": \"ceil(childHeight/40)\"}}], \"style\": \"cell\"}, {\"type\": \"group\", \"name\": \"child__density_group\", \"encode\": {\"update\": {\"height\": {\"signal\": \"childHeight\"}, \"width\": {\"signal\": \"childWidth\"}}}, \"marks\": [{\"type\": \"rect\", \"name\": \"child__density_marks\", \"from\": {\"data\": \"data_8\"}, \"encode\": {\"update\": {\"x\": {\"field\": \"bin_maxbins_40_density_end\", \"scale\": \"child__density_x\", \"offset\": {\"signal\": \"0.5 + (abs(scale(\\\"child__density_x\\\", datum[\\\"bin_maxbins_40_density_end\\\"]) - scale(\\\"child__density_x\\\", datum[\\\"bin_maxbins_40_density\\\"])) < 0.25 ? 0.5 * (0.25 - (abs(scale(\\\"child__density_x\\\", datum[\\\"bin_maxbins_40_density_end\\\"]) - scale(\\\"child__density_x\\\", datum[\\\"bin_maxbins_40_density\\\"])))) : -0.5)\"}}, \"fill\": {\"value\": \"#4c78a8\"}, \"y\": {\"field\": \"__count\", \"scale\": \"child__density_y\"}, \"y2\": {\"value\": 0, \"scale\": \"child__density_y\"}, \"x2\": {\"field\": \"bin_maxbins_40_density\", \"scale\": \"child__density_x\", \"offset\": {\"signal\": \"0.5 + (abs(scale(\\\"child__density_x\\\", datum[\\\"bin_maxbins_40_density_end\\\"]) - scale(\\\"child__density_x\\\", datum[\\\"bin_maxbins_40_density\\\"])) < 0.25 ? -0.5 * (0.25 - (abs(scale(\\\"child__density_x\\\", datum[\\\"bin_maxbins_40_density_end\\\"]) - scale(\\\"child__density_x\\\", datum[\\\"bin_maxbins_40_density\\\"])))) : 0.5)\"}}}}, \"style\": [\"bar\"]}], \"axes\": [{\"scale\": \"child__density_y\", \"labels\": false, \"domain\": false, \"gridScale\": \"child__density_x\", \"zindex\": 0, \"minExtent\": 0, \"grid\": true, \"tickCount\": {\"signal\": \"ceil(childHeight/40)\"}, \"ticks\": false, \"maxExtent\": 0, \"aria\": false, \"orient\": \"left\"}, {\"scale\": \"child__density_x\", \"title\": \"density (binned)\", \"orient\": \"bottom\", \"tickCount\": {\"signal\": \"ceil(childWidth/10)\"}, \"grid\": false, \"labelFlush\": true, \"labelOverlap\": true, \"zindex\": 0}, {\"scale\": \"child__density_y\", \"tickCount\": {\"signal\": \"ceil(childHeight/40)\"}, \"labelOverlap\": true, \"zindex\": 0, \"orient\": \"left\", \"grid\": false, \"title\": \"Count of Records\"}], \"style\": \"cell\"}, {\"type\": \"group\", \"name\": \"child__ph_group\", \"encode\": {\"update\": {\"height\": {\"signal\": \"childHeight\"}, \"width\": {\"signal\": \"childWidth\"}}}, \"marks\": [{\"type\": \"rect\", \"name\": \"child__ph_marks\", \"from\": {\"data\": \"data_9\"}, \"encode\": {\"update\": {\"y\": {\"field\": \"__count\", \"scale\": \"child__ph_y\"}, \"x2\": {\"field\": \"bin_maxbins_40_ph\", \"scale\": \"child__ph_x\", \"offset\": {\"signal\": \"0.5 + (abs(scale(\\\"child__ph_x\\\", datum[\\\"bin_maxbins_40_ph_end\\\"]) - scale(\\\"child__ph_x\\\", datum[\\\"bin_maxbins_40_ph\\\"])) < 0.25 ? -0.5 * (0.25 - (abs(scale(\\\"child__ph_x\\\", datum[\\\"bin_maxbins_40_ph_end\\\"]) - scale(\\\"child__ph_x\\\", datum[\\\"bin_maxbins_40_ph\\\"])))) : 0.5)\"}}, \"fill\": {\"value\": \"#4c78a8\"}, \"y2\": {\"value\": 0, \"scale\": \"child__ph_y\"}, \"x\": {\"field\": \"bin_maxbins_40_ph_end\", \"scale\": \"child__ph_x\", \"offset\": {\"signal\": \"0.5 + (abs(scale(\\\"child__ph_x\\\", datum[\\\"bin_maxbins_40_ph_end\\\"]) - scale(\\\"child__ph_x\\\", datum[\\\"bin_maxbins_40_ph\\\"])) < 0.25 ? 0.5 * (0.25 - (abs(scale(\\\"child__ph_x\\\", datum[\\\"bin_maxbins_40_ph_end\\\"]) - scale(\\\"child__ph_x\\\", datum[\\\"bin_maxbins_40_ph\\\"])))) : -0.5)\"}}}}, \"style\": [\"bar\"]}], \"axes\": [{\"scale\": \"child__ph_y\", \"aria\": false, \"orient\": \"left\", \"ticks\": false, \"minExtent\": 0, \"domain\": false, \"zindex\": 0, \"grid\": true, \"maxExtent\": 0, \"tickCount\": {\"signal\": \"ceil(childHeight/40)\"}, \"labels\": false, \"gridScale\": \"child__ph_x\"}, {\"scale\": \"child__ph_x\", \"zindex\": 0, \"grid\": false, \"title\": \"ph (binned)\", \"labelOverlap\": true, \"tickCount\": {\"signal\": \"ceil(childWidth/10)\"}, \"orient\": \"bottom\", \"labelFlush\": true}, {\"scale\": \"child__ph_y\", \"title\": \"Count of Records\", \"grid\": false, \"orient\": \"left\", \"tickCount\": {\"signal\": \"ceil(childHeight/40)\"}, \"labelOverlap\": true, \"zindex\": 0}], \"style\": \"cell\"}, {\"type\": \"group\", \"name\": \"child__sulphates_group\", \"encode\": {\"update\": {\"width\": {\"signal\": \"childWidth\"}, \"height\": {\"signal\": \"childHeight\"}}}, \"marks\": [{\"type\": \"rect\", \"name\": \"child__sulphates_marks\", \"from\": {\"data\": \"data_10\"}, \"encode\": {\"update\": {\"fill\": {\"value\": \"#4c78a8\"}, \"y\": {\"field\": \"__count\", \"scale\": \"child__sulphates_y\"}, \"y2\": {\"value\": 0, \"scale\": \"child__sulphates_y\"}, \"x\": {\"field\": \"bin_maxbins_40_sulphates_end\", \"scale\": \"child__sulphates_x\", \"offset\": {\"signal\": \"0.5 + (abs(scale(\\\"child__sulphates_x\\\", datum[\\\"bin_maxbins_40_sulphates_end\\\"]) - scale(\\\"child__sulphates_x\\\", datum[\\\"bin_maxbins_40_sulphates\\\"])) < 0.25 ? 0.5 * (0.25 - (abs(scale(\\\"child__sulphates_x\\\", datum[\\\"bin_maxbins_40_sulphates_end\\\"]) - scale(\\\"child__sulphates_x\\\", datum[\\\"bin_maxbins_40_sulphates\\\"])))) : -0.5)\"}}, \"x2\": {\"field\": \"bin_maxbins_40_sulphates\", \"scale\": \"child__sulphates_x\", \"offset\": {\"signal\": \"0.5 + (abs(scale(\\\"child__sulphates_x\\\", datum[\\\"bin_maxbins_40_sulphates_end\\\"]) - scale(\\\"child__sulphates_x\\\", datum[\\\"bin_maxbins_40_sulphates\\\"])) < 0.25 ? -0.5 * (0.25 - (abs(scale(\\\"child__sulphates_x\\\", datum[\\\"bin_maxbins_40_sulphates_end\\\"]) - scale(\\\"child__sulphates_x\\\", datum[\\\"bin_maxbins_40_sulphates\\\"])))) : 0.5)\"}}}}, \"style\": [\"bar\"]}], \"axes\": [{\"scale\": \"child__sulphates_y\", \"orient\": \"left\", \"grid\": true, \"gridScale\": \"child__sulphates_x\", \"labels\": false, \"aria\": false, \"tickCount\": {\"signal\": \"ceil(childHeight/40)\"}, \"zindex\": 0, \"ticks\": false, \"maxExtent\": 0, \"domain\": false, \"minExtent\": 0}, {\"scale\": \"child__sulphates_x\", \"labelOverlap\": true, \"tickCount\": {\"signal\": \"ceil(childWidth/10)\"}, \"labelFlush\": true, \"zindex\": 0, \"title\": \"sulphates (binned)\", \"orient\": \"bottom\", \"grid\": false}, {\"scale\": \"child__sulphates_y\", \"labelOverlap\": true, \"grid\": false, \"title\": \"Count of Records\", \"zindex\": 0, \"tickCount\": {\"signal\": \"ceil(childHeight/40)\"}, \"orient\": \"left\"}], \"style\": \"cell\"}, {\"type\": \"group\", \"name\": \"child__alcohol_group\", \"encode\": {\"update\": {\"height\": {\"signal\": \"childHeight\"}, \"width\": {\"signal\": \"childWidth\"}}}, \"marks\": [{\"type\": \"rect\", \"name\": \"child__alcohol_marks\", \"from\": {\"data\": \"data_11\"}, \"encode\": {\"update\": {\"y2\": {\"value\": 0, \"scale\": \"child__alcohol_y\"}, \"fill\": {\"value\": \"#4c78a8\"}, \"x2\": {\"field\": \"bin_maxbins_40_alcohol\", \"scale\": \"child__alcohol_x\", \"offset\": {\"signal\": \"0.5 + (abs(scale(\\\"child__alcohol_x\\\", datum[\\\"bin_maxbins_40_alcohol_end\\\"]) - scale(\\\"child__alcohol_x\\\", datum[\\\"bin_maxbins_40_alcohol\\\"])) < 0.25 ? -0.5 * (0.25 - (abs(scale(\\\"child__alcohol_x\\\", datum[\\\"bin_maxbins_40_alcohol_end\\\"]) - scale(\\\"child__alcohol_x\\\", datum[\\\"bin_maxbins_40_alcohol\\\"])))) : 0.5)\"}}, \"x\": {\"field\": \"bin_maxbins_40_alcohol_end\", \"scale\": \"child__alcohol_x\", \"offset\": {\"signal\": \"0.5 + (abs(scale(\\\"child__alcohol_x\\\", datum[\\\"bin_maxbins_40_alcohol_end\\\"]) - scale(\\\"child__alcohol_x\\\", datum[\\\"bin_maxbins_40_alcohol\\\"])) < 0.25 ? 0.5 * (0.25 - (abs(scale(\\\"child__alcohol_x\\\", datum[\\\"bin_maxbins_40_alcohol_end\\\"]) - scale(\\\"child__alcohol_x\\\", datum[\\\"bin_maxbins_40_alcohol\\\"])))) : -0.5)\"}}, \"y\": {\"field\": \"__count\", \"scale\": \"child__alcohol_y\"}}}, \"style\": [\"bar\"]}], \"axes\": [{\"scale\": \"child__alcohol_y\", \"maxExtent\": 0, \"domain\": false, \"zindex\": 0, \"orient\": \"left\", \"gridScale\": \"child__alcohol_x\", \"tickCount\": {\"signal\": \"ceil(childHeight/40)\"}, \"labels\": false, \"aria\": false, \"grid\": true, \"minExtent\": 0, \"ticks\": false}, {\"scale\": \"child__alcohol_x\", \"labelFlush\": true, \"tickCount\": {\"signal\": \"ceil(childWidth/10)\"}, \"zindex\": 0, \"labelOverlap\": true, \"orient\": \"bottom\", \"grid\": false, \"title\": \"alcohol (binned)\"}, {\"scale\": \"child__alcohol_y\", \"grid\": false, \"labelOverlap\": true, \"tickCount\": {\"signal\": \"ceil(childHeight/40)\"}, \"zindex\": 0, \"title\": \"Count of Records\", \"orient\": \"left\"}], \"style\": \"cell\"}, {\"type\": \"group\", \"name\": \"child__quality_group\", \"encode\": {\"update\": {\"width\": {\"signal\": \"childWidth\"}, \"height\": {\"signal\": \"childHeight\"}}}, \"marks\": [{\"type\": \"rect\", \"name\": \"child__quality_marks\", \"from\": {\"data\": \"data_0\"}, \"encode\": {\"update\": {\"y2\": {\"value\": 0, \"scale\": \"child__quality_y\"}, \"x\": {\"field\": \"bin_maxbins_40_quality_end\", \"scale\": \"child__quality_x\", \"offset\": {\"signal\": \"0.5 + (abs(scale(\\\"child__quality_x\\\", datum[\\\"bin_maxbins_40_quality_end\\\"]) - scale(\\\"child__quality_x\\\", datum[\\\"bin_maxbins_40_quality\\\"])) < 0.25 ? 0.5 * (0.25 - (abs(scale(\\\"child__quality_x\\\", datum[\\\"bin_maxbins_40_quality_end\\\"]) - scale(\\\"child__quality_x\\\", datum[\\\"bin_maxbins_40_quality\\\"])))) : -0.5)\"}}, \"x2\": {\"field\": \"bin_maxbins_40_quality\", \"scale\": \"child__quality_x\", \"offset\": {\"signal\": \"0.5 + (abs(scale(\\\"child__quality_x\\\", datum[\\\"bin_maxbins_40_quality_end\\\"]) - scale(\\\"child__quality_x\\\", datum[\\\"bin_maxbins_40_quality\\\"])) < 0.25 ? -0.5 * (0.25 - (abs(scale(\\\"child__quality_x\\\", datum[\\\"bin_maxbins_40_quality_end\\\"]) - scale(\\\"child__quality_x\\\", datum[\\\"bin_maxbins_40_quality\\\"])))) : 0.5)\"}}, \"y\": {\"field\": \"__count\", \"scale\": \"child__quality_y\"}, \"fill\": {\"value\": \"#4c78a8\"}}}, \"style\": [\"bar\"]}], \"axes\": [{\"scale\": \"child__quality_y\", \"zindex\": 0, \"maxExtent\": 0, \"ticks\": false, \"labels\": false, \"grid\": true, \"tickCount\": {\"signal\": \"ceil(childHeight/40)\"}, \"gridScale\": \"child__quality_x\", \"aria\": false, \"minExtent\": 0, \"orient\": \"left\", \"domain\": false}, {\"scale\": \"child__quality_x\", \"labelOverlap\": true, \"zindex\": 0, \"tickCount\": {\"signal\": \"ceil(childWidth/10)\"}, \"orient\": \"bottom\", \"grid\": false, \"title\": \"quality (binned)\", \"labelFlush\": true}, {\"scale\": \"child__quality_y\", \"zindex\": 0, \"tickCount\": {\"signal\": \"ceil(childHeight/40)\"}, \"labelOverlap\": true, \"orient\": \"left\", \"grid\": false, \"title\": \"Count of Records\"}], \"style\": \"cell\"}], \"scales\": [{\"name\": \"child__fixed_acidity_x\", \"type\": \"linear\", \"domain\": {\"signal\": \"[child__fixed_acidity_bin_maxbins_40_fixed_acidity_bins.start, child__fixed_acidity_bin_maxbins_40_fixed_acidity_bins.stop]\"}, \"range\": [0, {\"signal\": \"childWidth\"}], \"bins\": {\"signal\": \"child__fixed_acidity_bin_maxbins_40_fixed_acidity_bins\"}, \"zero\": false}, {\"name\": \"child__fixed_acidity_y\", \"type\": \"linear\", \"domain\": [{\"signal\": \"(data(\\\"data_1_child__fixed_acidity_y_domain___count\\\")[0] || {}).min\"}, {\"signal\": \"(data(\\\"data_1_child__fixed_acidity_y_domain___count\\\")[0] || {}).max\"}], \"range\": [{\"signal\": \"childHeight\"}, 0], \"nice\": true, \"zero\": true}, {\"name\": \"child__volatile_acidity_x\", \"type\": \"linear\", \"domain\": {\"signal\": \"[child__volatile_acidity_bin_maxbins_40_volatile_acidity_bins.start, child__volatile_acidity_bin_maxbins_40_volatile_acidity_bins.stop]\"}, \"range\": [0, {\"signal\": \"childWidth\"}], \"bins\": {\"signal\": \"child__volatile_acidity_bin_maxbins_40_volatile_acidity_bins\"}, \"zero\": false}, {\"name\": \"child__volatile_acidity_y\", \"type\": \"linear\", \"domain\": [{\"signal\": \"(data(\\\"data_2_child__volatile_acidity_y_domain___count\\\")[0] || {}).min\"}, {\"signal\": \"(data(\\\"data_2_child__volatile_acidity_y_domain___count\\\")[0] || {}).max\"}], \"range\": [{\"signal\": \"childHeight\"}, 0], \"zero\": true, \"nice\": true}, {\"name\": \"child__citric_acid_x\", \"type\": \"linear\", \"domain\": {\"signal\": \"[child__citric_acid_bin_maxbins_40_citric_acid_bins.start, child__citric_acid_bin_maxbins_40_citric_acid_bins.stop]\"}, \"range\": [0, {\"signal\": \"childWidth\"}], \"bins\": {\"signal\": \"child__citric_acid_bin_maxbins_40_citric_acid_bins\"}, \"zero\": false}, {\"name\": \"child__citric_acid_y\", \"type\": \"linear\", \"domain\": [{\"signal\": \"(data(\\\"data_3_child__citric_acid_y_domain___count\\\")[0] || {}).min\"}, {\"signal\": \"(data(\\\"data_3_child__citric_acid_y_domain___count\\\")[0] || {}).max\"}], \"range\": [{\"signal\": \"childHeight\"}, 0], \"nice\": true, \"zero\": true}, {\"name\": \"child__residual_sugar_x\", \"type\": \"linear\", \"domain\": {\"signal\": \"[child__residual_sugar_bin_maxbins_40_residual_sugar_bins.start, child__residual_sugar_bin_maxbins_40_residual_sugar_bins.stop]\"}, \"range\": [0, {\"signal\": \"childWidth\"}], \"bins\": {\"signal\": \"child__residual_sugar_bin_maxbins_40_residual_sugar_bins\"}, \"zero\": false}, {\"name\": \"child__residual_sugar_y\", \"type\": \"linear\", \"domain\": [{\"signal\": \"(data(\\\"data_4_child__residual_sugar_y_domain___count\\\")[0] || {}).min\"}, {\"signal\": \"(data(\\\"data_4_child__residual_sugar_y_domain___count\\\")[0] || {}).max\"}], \"range\": [{\"signal\": \"childHeight\"}, 0], \"zero\": true, \"nice\": true}, {\"name\": \"child__chlorides_x\", \"type\": \"linear\", \"domain\": {\"signal\": \"[child__chlorides_bin_maxbins_40_chlorides_bins.start, child__chlorides_bin_maxbins_40_chlorides_bins.stop]\"}, \"range\": [0, {\"signal\": \"childWidth\"}], \"bins\": {\"signal\": \"child__chlorides_bin_maxbins_40_chlorides_bins\"}, \"zero\": false}, {\"name\": \"child__chlorides_y\", \"type\": \"linear\", \"domain\": [{\"signal\": \"(data(\\\"data_5_child__chlorides_y_domain___count\\\")[0] || {}).min\"}, {\"signal\": \"(data(\\\"data_5_child__chlorides_y_domain___count\\\")[0] || {}).max\"}], \"range\": [{\"signal\": \"childHeight\"}, 0], \"nice\": true, \"zero\": true}, {\"name\": \"child__free_sulfur_dioxide_x\", \"type\": \"linear\", \"domain\": {\"signal\": \"[child__free_sulfur_dioxide_bin_maxbins_40_free_sulfur_dioxide_bins.start, child__free_sulfur_dioxide_bin_maxbins_40_free_sulfur_dioxide_bins.stop]\"}, \"range\": [0, {\"signal\": \"childWidth\"}], \"bins\": {\"signal\": \"child__free_sulfur_dioxide_bin_maxbins_40_free_sulfur_dioxide_bins\"}, \"zero\": false}, {\"name\": \"child__free_sulfur_dioxide_y\", \"type\": \"linear\", \"domain\": [{\"signal\": \"(data(\\\"data_6_child__free_sulfur_dioxide_y_domain___count\\\")[0] || {}).min\"}, {\"signal\": \"(data(\\\"data_6_child__free_sulfur_dioxide_y_domain___count\\\")[0] || {}).max\"}], \"range\": [{\"signal\": \"childHeight\"}, 0], \"zero\": true, \"nice\": true}, {\"name\": \"child__total_sulfur_dioxide_x\", \"type\": \"linear\", \"domain\": {\"signal\": \"[child__total_sulfur_dioxide_bin_maxbins_40_total_sulfur_dioxide_bins.start, child__total_sulfur_dioxide_bin_maxbins_40_total_sulfur_dioxide_bins.stop]\"}, \"range\": [0, {\"signal\": \"childWidth\"}], \"bins\": {\"signal\": \"child__total_sulfur_dioxide_bin_maxbins_40_total_sulfur_dioxide_bins\"}, \"zero\": false}, {\"name\": \"child__total_sulfur_dioxide_y\", \"type\": \"linear\", \"domain\": [{\"signal\": \"(data(\\\"data_7_child__total_sulfur_dioxide_y_domain___count\\\")[0] || {}).min\"}, {\"signal\": \"(data(\\\"data_7_child__total_sulfur_dioxide_y_domain___count\\\")[0] || {}).max\"}], \"range\": [{\"signal\": \"childHeight\"}, 0], \"zero\": true, \"nice\": true}, {\"name\": \"child__density_x\", \"type\": \"linear\", \"domain\": {\"signal\": \"[child__density_bin_maxbins_40_density_bins.start, child__density_bin_maxbins_40_density_bins.stop]\"}, \"range\": [0, {\"signal\": \"childWidth\"}], \"bins\": {\"signal\": \"child__density_bin_maxbins_40_density_bins\"}, \"zero\": false}, {\"name\": \"child__density_y\", \"type\": \"linear\", \"domain\": [{\"signal\": \"(data(\\\"data_8_child__density_y_domain___count\\\")[0] || {}).min\"}, {\"signal\": \"(data(\\\"data_8_child__density_y_domain___count\\\")[0] || {}).max\"}], \"range\": [{\"signal\": \"childHeight\"}, 0], \"nice\": true, \"zero\": true}, {\"name\": \"child__ph_x\", \"type\": \"linear\", \"domain\": {\"signal\": \"[child__ph_bin_maxbins_40_ph_bins.start, child__ph_bin_maxbins_40_ph_bins.stop]\"}, \"range\": [0, {\"signal\": \"childWidth\"}], \"bins\": {\"signal\": \"child__ph_bin_maxbins_40_ph_bins\"}, \"zero\": false}, {\"name\": \"child__ph_y\", \"type\": \"linear\", \"domain\": [{\"signal\": \"(data(\\\"data_9_child__ph_y_domain___count\\\")[0] || {}).min\"}, {\"signal\": \"(data(\\\"data_9_child__ph_y_domain___count\\\")[0] || {}).max\"}], \"range\": [{\"signal\": \"childHeight\"}, 0], \"nice\": true, \"zero\": true}, {\"name\": \"child__sulphates_x\", \"type\": \"linear\", \"domain\": {\"signal\": \"[child__sulphates_bin_maxbins_40_sulphates_bins.start, child__sulphates_bin_maxbins_40_sulphates_bins.stop]\"}, \"range\": [0, {\"signal\": \"childWidth\"}], \"bins\": {\"signal\": \"child__sulphates_bin_maxbins_40_sulphates_bins\"}, \"zero\": false}, {\"name\": \"child__sulphates_y\", \"type\": \"linear\", \"domain\": [{\"signal\": \"(data(\\\"data_10_child__sulphates_y_domain___count\\\")[0] || {}).min\"}, {\"signal\": \"(data(\\\"data_10_child__sulphates_y_domain___count\\\")[0] || {}).max\"}], \"range\": [{\"signal\": \"childHeight\"}, 0], \"nice\": true, \"zero\": true}, {\"name\": \"child__alcohol_x\", \"type\": \"linear\", \"domain\": {\"signal\": \"[child__alcohol_bin_maxbins_40_alcohol_bins.start, child__alcohol_bin_maxbins_40_alcohol_bins.stop]\"}, \"range\": [0, {\"signal\": \"childWidth\"}], \"bins\": {\"signal\": \"child__alcohol_bin_maxbins_40_alcohol_bins\"}, \"zero\": false}, {\"name\": \"child__alcohol_y\", \"type\": \"linear\", \"domain\": [{\"signal\": \"(data(\\\"data_11_child__alcohol_y_domain___count\\\")[0] || {}).min\"}, {\"signal\": \"(data(\\\"data_11_child__alcohol_y_domain___count\\\")[0] || {}).max\"}], \"range\": [{\"signal\": \"childHeight\"}, 0], \"nice\": true, \"zero\": true}, {\"name\": \"child__quality_x\", \"type\": \"linear\", \"domain\": {\"signal\": \"[child__quality_bin_maxbins_40_quality_bins.start, child__quality_bin_maxbins_40_quality_bins.stop]\"}, \"range\": [0, {\"signal\": \"childWidth\"}], \"bins\": {\"signal\": \"child__quality_bin_maxbins_40_quality_bins\"}, \"zero\": false}, {\"name\": \"child__quality_y\", \"type\": \"linear\", \"domain\": [{\"signal\": \"(data(\\\"data_0_child__quality_y_domain___count\\\")[0] || {}).min\"}, {\"signal\": \"(data(\\\"data_0_child__quality_y_domain___count\\\")[0] || {}).max\"}], \"range\": [{\"signal\": \"childHeight\"}, 0], \"nice\": true, \"zero\": true}], \"background\": \"white\", \"padding\": 5, \"layout\": {\"padding\": 20, \"columns\": 3, \"bounds\": \"full\", \"align\": \"all\"}}, {\"mode\": \"vega\"});\n",
       "</script>"
      ],
      "text/plain": [
       "alt.RepeatChart(...)"
      ]
     },
     "execution_count": 112,
     "metadata": {},
     "output_type": "execute_result"
    }
   ],
   "source": [
    "# Visualizing feature distribution using a histogram\n",
    "columns = wine_df.columns.to_list()\n",
    "\n",
    "alt.Chart(wine_df).mark_bar().encode(\n",
    "    x=alt.X(alt.repeat('repeat'),bin=alt.Bin(maxbins=40)),\n",
    "    y=alt.Y('count()')\n",
    ").repeat(\n",
    "    repeat=columns,\n",
    "    columns=3\n",
    ")"
   ]
  },
  {
   "cell_type": "code",
   "execution_count": 113,
   "metadata": {},
   "outputs": [],
   "source": [
    "from sklearn.model_selection import train_test_split, cross_validate\n",
    "from sklearn.dummy import DummyClassifier\n",
    "from sklearn.tree import DecisionTreeClassifier"
   ]
  },
  {
   "cell_type": "code",
   "execution_count": 114,
   "metadata": {},
   "outputs": [],
   "source": [
    "#Splitting the data with 20% of the data as test set\n",
    "train_df, test_df = train_test_split(wine_df, test_size=0.2, random_state=123)"
   ]
  },
  {
   "cell_type": "code",
   "execution_count": 115,
   "metadata": {},
   "outputs": [],
   "source": [
    "#Seperating Features Vectors and Targets\n",
    "X_train = train_df.drop(columns='quality')\n",
    "y_train = train_df['quality']\n",
    "X_test = test_df.drop(columns='quality')\n",
    "y_test = test_df['quality']"
   ]
  },
  {
   "cell_type": "code",
   "execution_count": 116,
   "metadata": {},
   "outputs": [
    {
     "name": "stdout",
     "output_type": "stream",
     "text": [
      "Dummy Classifier score is 0.43615384615384617\n"
     ]
    }
   ],
   "source": [
    "#Creating a DummyClassifier Model as a baseline\n",
    "dummy_model = DummyClassifier(random_state=123)\n",
    "#Fitting the dummy model on Training data\n",
    "dummy_model.fit(X_train, y_train)\n",
    "#Scoring the dummy model on Test data\n",
    "dummy_score = dummy_model.score(X_test, y_test)\n",
    "print(f\"Dummy Classifier score is {dummy_score}\")"
   ]
  },
  {
   "cell_type": "code",
   "execution_count": 117,
   "metadata": {},
   "outputs": [
    {
     "name": "stdout",
     "output_type": "stream",
     "text": [
      "Fitting 5 folds for each of 108 candidates, totalling 540 fits\n",
      "best hyperparameters:\n",
      "{'max_depth': None, 'max_features': 'sqrt', 'min_samples_leaf': 1, 'min_samples_split': 2}\n"
     ]
    }
   ],
   "source": [
    "from sklearn.model_selection import GridSearchCV\n",
    "from sklearn.metrics import classification_report\n",
    "\n",
    "# Define the hyperparameter grid\n",
    "param_grid = {\n",
    "    'max_depth': [3, 5, 10, None],\n",
    "    'min_samples_split': [2, 5, 10],\n",
    "    'min_samples_leaf': [1, 2, 5],\n",
    "    'max_features': [None, 'sqrt', 'log2']\n",
    "}\n",
    "\n",
    "#Creating another Decision Tree model with max_features parameter\n",
    "tree_model = DecisionTreeClassifier(random_state=16)\n",
    "\n",
    "# Set up GridSearchCV\n",
    "grid_search = GridSearchCV(\n",
    "    estimator=tree_model,\n",
    "    param_grid=param_grid,\n",
    "    cv=5,\n",
    "    scoring='accuracy',\n",
    "    n_jobs=-1,\n",
    "    verbose=1\n",
    ")\n",
    "\n",
    "# Perform grid search on the training data\n",
    "grid_search.fit(X_train, y_train)\n",
    "\n",
    "# Get the best model\n",
    "best_tree_model = grid_search.best_estimator_\n",
    "\n",
    "# Display the best hyperparameters\n",
    "print(\"best hyperparameters:\")\n",
    "print(grid_search.best_params_)\n"
   ]
  },
  {
   "cell_type": "code",
   "execution_count": 118,
   "metadata": {},
   "outputs": [
    {
     "name": "stdout",
     "output_type": "stream",
     "text": [
      "Classification report:\n",
      "              precision    recall  f1-score   support\n",
      "\n",
      "           3       0.00      0.00      0.00         4\n",
      "           4       0.29      0.24      0.26        51\n",
      "           5       0.63      0.66      0.65       413\n",
      "           6       0.66      0.65      0.65       567\n",
      "           7       0.61      0.58      0.60       228\n",
      "           8       0.36      0.43      0.40        37\n",
      "           9       0.00      0.00      0.00         0\n",
      "\n",
      "    accuracy                           0.62      1300\n",
      "   macro avg       0.37      0.37      0.36      1300\n",
      "weighted avg       0.62      0.62      0.62      1300\n",
      "\n",
      "Test Accuracy: 0.6169\n"
     ]
    },
    {
     "name": "stderr",
     "output_type": "stream",
     "text": [
      "/Users/adetsi/miniforge3/envs/522_milestone_env/lib/python3.11/site-packages/sklearn/metrics/_classification.py:1531: UndefinedMetricWarning: Recall is ill-defined and being set to 0.0 in labels with no true samples. Use `zero_division` parameter to control this behavior.\n",
      "  _warn_prf(average, modifier, f\"{metric.capitalize()} is\", len(result))\n",
      "/Users/adetsi/miniforge3/envs/522_milestone_env/lib/python3.11/site-packages/sklearn/metrics/_classification.py:1531: UndefinedMetricWarning: Recall is ill-defined and being set to 0.0 in labels with no true samples. Use `zero_division` parameter to control this behavior.\n",
      "  _warn_prf(average, modifier, f\"{metric.capitalize()} is\", len(result))\n",
      "/Users/adetsi/miniforge3/envs/522_milestone_env/lib/python3.11/site-packages/sklearn/metrics/_classification.py:1531: UndefinedMetricWarning: Recall is ill-defined and being set to 0.0 in labels with no true samples. Use `zero_division` parameter to control this behavior.\n",
      "  _warn_prf(average, modifier, f\"{metric.capitalize()} is\", len(result))\n"
     ]
    }
   ],
   "source": [
    "from sklearn.metrics import classification_report, accuracy_score\n",
    "\n",
    "# Predictions on the test set\n",
    "y_test_pred = best_tree_model.predict(X_test)\n",
    "\n",
    "# Classification report\n",
    "print(\"Classification report:\")\n",
    "print(classification_report(y_test, y_test_pred))\n",
    "\n",
    "# Accuracy score\n",
    "test_accuracy = accuracy_score(y_test, y_test_pred)\n",
    "print(f\"Test Accuracy: {test_accuracy:.4f}\")"
   ]
  },
  {
   "cell_type": "code",
   "execution_count": 119,
   "metadata": {},
   "outputs": [
    {
     "data": {
      "text/html": [
       "\n",
       "<style>\n",
       "  #altair-viz-0a1b6dd1178a4e1ea9fb5e1faea32ebb.vega-embed {\n",
       "    width: 100%;\n",
       "    display: flex;\n",
       "  }\n",
       "\n",
       "  #altair-viz-0a1b6dd1178a4e1ea9fb5e1faea32ebb.vega-embed details,\n",
       "  #altair-viz-0a1b6dd1178a4e1ea9fb5e1faea32ebb.vega-embed details summary {\n",
       "    position: relative;\n",
       "  }\n",
       "</style>\n",
       "<div id=\"altair-viz-0a1b6dd1178a4e1ea9fb5e1faea32ebb\"></div>\n",
       "<script type=\"text/javascript\">\n",
       "  var VEGA_DEBUG = (typeof VEGA_DEBUG == \"undefined\") ? {} : VEGA_DEBUG;\n",
       "  (function(spec, embedOpt){\n",
       "    let outputDiv = document.currentScript.previousElementSibling;\n",
       "    if (outputDiv.id !== \"altair-viz-0a1b6dd1178a4e1ea9fb5e1faea32ebb\") {\n",
       "      outputDiv = document.getElementById(\"altair-viz-0a1b6dd1178a4e1ea9fb5e1faea32ebb\");\n",
       "    }\n",
       "    const paths = {\n",
       "      \"vega\": \"https://cdn.jsdelivr.net/npm/vega@5?noext\",\n",
       "      \"vega-lib\": \"https://cdn.jsdelivr.net/npm/vega-lib?noext\",\n",
       "      \"vega-lite\": \"https://cdn.jsdelivr.net/npm/vega-lite@5.20.1?noext\",\n",
       "      \"vega-embed\": \"https://cdn.jsdelivr.net/npm/vega-embed@6?noext\",\n",
       "    };\n",
       "\n",
       "    function maybeLoadScript(lib, version) {\n",
       "      var key = `${lib.replace(\"-\", \"\")}_version`;\n",
       "      return (VEGA_DEBUG[key] == version) ?\n",
       "        Promise.resolve(paths[lib]) :\n",
       "        new Promise(function(resolve, reject) {\n",
       "          var s = document.createElement('script');\n",
       "          document.getElementsByTagName(\"head\")[0].appendChild(s);\n",
       "          s.async = true;\n",
       "          s.onload = () => {\n",
       "            VEGA_DEBUG[key] = version;\n",
       "            return resolve(paths[lib]);\n",
       "          };\n",
       "          s.onerror = () => reject(`Error loading script: ${paths[lib]}`);\n",
       "          s.src = paths[lib];\n",
       "        });\n",
       "    }\n",
       "\n",
       "    function showError(err) {\n",
       "      outputDiv.innerHTML = `<div class=\"error\" style=\"color:red;\">${err}</div>`;\n",
       "      throw err;\n",
       "    }\n",
       "\n",
       "    function displayChart(vegaEmbed) {\n",
       "      vegaEmbed(outputDiv, spec, embedOpt)\n",
       "        .catch(err => showError(`Javascript Error: ${err.message}<br>This usually means there's a typo in your chart specification. See the javascript console for the full traceback.`));\n",
       "    }\n",
       "\n",
       "    if(typeof define === \"function\" && define.amd) {\n",
       "      requirejs.config({paths});\n",
       "      require([\"vega-embed\"], displayChart, err => showError(`Error loading script: ${err.message}`));\n",
       "    } else {\n",
       "      maybeLoadScript(\"vega\", \"5\")\n",
       "        .then(() => maybeLoadScript(\"vega-lite\", \"5.20.1\"))\n",
       "        .then(() => maybeLoadScript(\"vega-embed\", \"6\"))\n",
       "        .catch(showError)\n",
       "        .then(() => displayChart(vegaEmbed));\n",
       "    }\n",
       "  })({\"$schema\": \"https://vega.github.io/schema/vega/v5.json\", \"data\": [{\"name\": \"source_0\", \"values\": [{\"Count\": 0, \"Predicted\": \"Predicted 3\", \"index\": \"Actual 3\"}, {\"Count\": 0, \"Predicted\": \"Predicted 3\", \"index\": \"Actual 4\"}, {\"Count\": 2, \"Predicted\": \"Predicted 3\", \"index\": \"Actual 5\"}, {\"Count\": 0, \"Predicted\": \"Predicted 3\", \"index\": \"Actual 6\"}, {\"Count\": 0, \"Predicted\": \"Predicted 3\", \"index\": \"Actual 7\"}, {\"Count\": 1, \"Predicted\": \"Predicted 3\", \"index\": \"Actual 8\"}, {\"Count\": 0, \"Predicted\": \"Predicted 3\", \"index\": \"Actual 9\"}, {\"Count\": 0, \"Predicted\": \"Predicted 4\", \"index\": \"Actual 3\"}, {\"Count\": 12, \"Predicted\": \"Predicted 4\", \"index\": \"Actual 4\"}, {\"Count\": 14, \"Predicted\": \"Predicted 4\", \"index\": \"Actual 5\"}, {\"Count\": 14, \"Predicted\": \"Predicted 4\", \"index\": \"Actual 6\"}, {\"Count\": 1, \"Predicted\": \"Predicted 4\", \"index\": \"Actual 7\"}, {\"Count\": 0, \"Predicted\": \"Predicted 4\", \"index\": \"Actual 8\"}, {\"Count\": 0, \"Predicted\": \"Predicted 4\", \"index\": \"Actual 9\"}, {\"Count\": 1, \"Predicted\": \"Predicted 5\", \"index\": \"Actual 3\"}, {\"Count\": 24, \"Predicted\": \"Predicted 5\", \"index\": \"Actual 4\"}, {\"Count\": 274, \"Predicted\": \"Predicted 5\", \"index\": \"Actual 5\"}, {\"Count\": 115, \"Predicted\": \"Predicted 5\", \"index\": \"Actual 6\"}, {\"Count\": 17, \"Predicted\": \"Predicted 5\", \"index\": \"Actual 7\"}, {\"Count\": 5, \"Predicted\": \"Predicted 5\", \"index\": \"Actual 8\"}, {\"Count\": 0, \"Predicted\": \"Predicted 5\", \"index\": \"Actual 9\"}, {\"Count\": 2, \"Predicted\": \"Predicted 6\", \"index\": \"Actual 3\"}, {\"Count\": 12, \"Predicted\": \"Predicted 6\", \"index\": \"Actual 4\"}, {\"Count\": 109, \"Predicted\": \"Predicted 6\", \"index\": \"Actual 5\"}, {\"Count\": 368, \"Predicted\": \"Predicted 6\", \"index\": \"Actual 6\"}, {\"Count\": 61, \"Predicted\": \"Predicted 6\", \"index\": \"Actual 7\"}, {\"Count\": 7, \"Predicted\": \"Predicted 6\", \"index\": \"Actual 8\"}, {\"Count\": 0, \"Predicted\": \"Predicted 6\", \"index\": \"Actual 9\"}, {\"Count\": 1, \"Predicted\": \"Predicted 7\", \"index\": \"Actual 3\"}, {\"Count\": 3, \"Predicted\": \"Predicted 7\", \"index\": \"Actual 4\"}, {\"Count\": 13, \"Predicted\": \"Predicted 7\", \"index\": \"Actual 5\"}, {\"Count\": 58, \"Predicted\": \"Predicted 7\", \"index\": \"Actual 6\"}, {\"Count\": 132, \"Predicted\": \"Predicted 7\", \"index\": \"Actual 7\"}, {\"Count\": 8, \"Predicted\": \"Predicted 7\", \"index\": \"Actual 8\"}, {\"Count\": 0, \"Predicted\": \"Predicted 7\", \"index\": \"Actual 9\"}, {\"Count\": 0, \"Predicted\": \"Predicted 8\", \"index\": \"Actual 3\"}, {\"Count\": 0, \"Predicted\": \"Predicted 8\", \"index\": \"Actual 4\"}, {\"Count\": 1, \"Predicted\": \"Predicted 8\", \"index\": \"Actual 5\"}, {\"Count\": 11, \"Predicted\": \"Predicted 8\", \"index\": \"Actual 6\"}, {\"Count\": 16, \"Predicted\": \"Predicted 8\", \"index\": \"Actual 7\"}, {\"Count\": 16, \"Predicted\": \"Predicted 8\", \"index\": \"Actual 8\"}, {\"Count\": 0, \"Predicted\": \"Predicted 8\", \"index\": \"Actual 9\"}, {\"Count\": 0, \"Predicted\": \"Predicted 9\", \"index\": \"Actual 3\"}, {\"Count\": 0, \"Predicted\": \"Predicted 9\", \"index\": \"Actual 4\"}, {\"Count\": 0, \"Predicted\": \"Predicted 9\", \"index\": \"Actual 5\"}, {\"Count\": 1, \"Predicted\": \"Predicted 9\", \"index\": \"Actual 6\"}, {\"Count\": 1, \"Predicted\": \"Predicted 9\", \"index\": \"Actual 7\"}, {\"Count\": 0, \"Predicted\": \"Predicted 9\", \"index\": \"Actual 8\"}, {\"Count\": 0, \"Predicted\": \"Predicted 9\", \"index\": \"Actual 9\"}]}, {\"name\": \"source_0_x_domain_Predicted\", \"values\": [{\"Predicted\": \"Predicted 3\"}, {\"Predicted\": \"Predicted 4\"}, {\"Predicted\": \"Predicted 5\"}, {\"Predicted\": \"Predicted 6\"}, {\"Predicted\": \"Predicted 7\"}, {\"Predicted\": \"Predicted 8\"}, {\"Predicted\": \"Predicted 9\"}]}, {\"name\": \"source_0_y_domain_index\", \"values\": [{\"index\": \"Actual 3\"}, {\"index\": \"Actual 4\"}, {\"index\": \"Actual 5\"}, {\"index\": \"Actual 6\"}, {\"index\": \"Actual 7\"}, {\"index\": \"Actual 8\"}, {\"index\": \"Actual 9\"}]}, {\"name\": \"source_0_color_domain_Count\", \"values\": [{\"min\": 0, \"max\": 368}]}], \"marks\": [{\"type\": \"rect\", \"name\": \"marks\", \"from\": {\"data\": \"source_0\"}, \"encode\": {\"update\": {\"y\": {\"field\": \"index\", \"scale\": \"y\"}, \"x\": {\"field\": \"Predicted\", \"scale\": \"x\"}, \"height\": {\"signal\": \"max(0.25, bandwidth('y'))\"}, \"width\": {\"signal\": \"max(0.25, bandwidth('x'))\"}, \"fill\": {\"field\": \"Count\", \"scale\": \"color\"}, \"tooltip\": {\"signal\": \"{\\\"index\\\": isValid(datum[\\\"index\\\"]) ? datum[\\\"index\\\"] : \\\"\\\"+datum[\\\"index\\\"], \\\"Predicted\\\": isValid(datum[\\\"Predicted\\\"]) ? datum[\\\"Predicted\\\"] : \\\"\\\"+datum[\\\"Predicted\\\"], \\\"Count\\\": format(datum[\\\"Count\\\"], \\\"\\\")}\"}}}, \"style\": [\"rect\"]}], \"scales\": [{\"name\": \"x\", \"type\": \"band\", \"domain\": {\"data\": \"source_0_x_domain_Predicted\", \"field\": \"Predicted\", \"sort\": true}, \"range\": [0, {\"signal\": \"width\"}], \"paddingInner\": 0, \"paddingOuter\": 0}, {\"name\": \"y\", \"type\": \"band\", \"domain\": {\"data\": \"source_0_y_domain_index\", \"field\": \"index\", \"sort\": true}, \"range\": [0, {\"signal\": \"height\"}], \"paddingOuter\": 0, \"paddingInner\": 0}, {\"name\": \"color\", \"type\": \"linear\", \"domain\": [{\"signal\": \"(data(\\\"source_0_color_domain_Count\\\")[0] || {}).min\"}, {\"signal\": \"(data(\\\"source_0_color_domain_Count\\\")[0] || {}).max\"}], \"range\": {\"scheme\": \"blues\"}, \"interpolate\": \"hcl\", \"zero\": false}], \"axes\": [{\"scale\": \"x\", \"grid\": false, \"labelAlign\": \"right\", \"orient\": \"bottom\", \"labelAngle\": 270, \"labelBaseline\": \"middle\", \"title\": \"Predicted Label\", \"zindex\": 1}, {\"scale\": \"y\", \"orient\": \"left\", \"grid\": false, \"zindex\": 1, \"title\": \"Actual Label\"}], \"title\": {\"text\": \"Confusion Matrix\", \"frame\": \"group\"}, \"width\": 400, \"background\": \"white\", \"padding\": 5, \"style\": \"cell\", \"legends\": [{\"title\": \"Count\", \"fill\": \"color\", \"gradientLength\": {\"signal\": \"clamp(height, 64, 200)\"}}], \"height\": 400}, {\"mode\": \"vega\"});\n",
       "</script>"
      ],
      "text/plain": [
       "alt.Chart(...)"
      ]
     },
     "metadata": {},
     "output_type": "display_data"
    }
   ],
   "source": [
    "from sklearn.metrics import confusion_matrix\n",
    "import pandas as pd\n",
    "import altair as alt\n",
    "\n",
    "# Dynamically determine class labels from both y_test and y_test_pred\n",
    "class_labels = sorted(set(y_test).union(set(y_test_pred)))\n",
    "\n",
    "# Compute confusion matrix\n",
    "cm = confusion_matrix(y_test, y_test_pred, labels=class_labels)\n",
    "\n",
    "# Create a DataFrame with dynamic labels for multi-class\n",
    "cm_df = pd.DataFrame(cm, columns=[f'Predicted {label}' for label in class_labels],\n",
    "                     index=[f'Actual {label}' for label in class_labels]).reset_index()\n",
    "\n",
    "# Convert to long format for Altair\n",
    "cm_melted = cm_df.melt(id_vars='index', var_name='Predicted', value_name='Count')\n",
    "\n",
    "# Plot confusion matrix using Altair\n",
    "confusion_chart = alt.Chart(cm_melted).mark_rect().encode(\n",
    "    x=alt.X('Predicted:N', title='Predicted Label'),\n",
    "    y=alt.Y('index:N', title='Actual Label'),\n",
    "    color=alt.Color('Count:Q', scale=alt.Scale(scheme='blues'), title='Count'),\n",
    "    tooltip=['index:N', 'Predicted:N', 'Count:Q']\n",
    ").properties(\n",
    "    title='Confusion Matrix',\n",
    "    width=400,\n",
    "    height=400\n",
    ")\n",
    "\n",
    "confusion_chart.display()"
   ]
  },
  {
   "cell_type": "code",
   "execution_count": 120,
   "metadata": {},
   "outputs": [
    {
     "data": {
      "text/html": [
       "\n",
       "<style>\n",
       "  #altair-viz-916c468c201548d8a2ee7522371cf54a.vega-embed {\n",
       "    width: 100%;\n",
       "    display: flex;\n",
       "  }\n",
       "\n",
       "  #altair-viz-916c468c201548d8a2ee7522371cf54a.vega-embed details,\n",
       "  #altair-viz-916c468c201548d8a2ee7522371cf54a.vega-embed details summary {\n",
       "    position: relative;\n",
       "  }\n",
       "</style>\n",
       "<div id=\"altair-viz-916c468c201548d8a2ee7522371cf54a\"></div>\n",
       "<script type=\"text/javascript\">\n",
       "  var VEGA_DEBUG = (typeof VEGA_DEBUG == \"undefined\") ? {} : VEGA_DEBUG;\n",
       "  (function(spec, embedOpt){\n",
       "    let outputDiv = document.currentScript.previousElementSibling;\n",
       "    if (outputDiv.id !== \"altair-viz-916c468c201548d8a2ee7522371cf54a\") {\n",
       "      outputDiv = document.getElementById(\"altair-viz-916c468c201548d8a2ee7522371cf54a\");\n",
       "    }\n",
       "    const paths = {\n",
       "      \"vega\": \"https://cdn.jsdelivr.net/npm/vega@5?noext\",\n",
       "      \"vega-lib\": \"https://cdn.jsdelivr.net/npm/vega-lib?noext\",\n",
       "      \"vega-lite\": \"https://cdn.jsdelivr.net/npm/vega-lite@5.20.1?noext\",\n",
       "      \"vega-embed\": \"https://cdn.jsdelivr.net/npm/vega-embed@6?noext\",\n",
       "    };\n",
       "\n",
       "    function maybeLoadScript(lib, version) {\n",
       "      var key = `${lib.replace(\"-\", \"\")}_version`;\n",
       "      return (VEGA_DEBUG[key] == version) ?\n",
       "        Promise.resolve(paths[lib]) :\n",
       "        new Promise(function(resolve, reject) {\n",
       "          var s = document.createElement('script');\n",
       "          document.getElementsByTagName(\"head\")[0].appendChild(s);\n",
       "          s.async = true;\n",
       "          s.onload = () => {\n",
       "            VEGA_DEBUG[key] = version;\n",
       "            return resolve(paths[lib]);\n",
       "          };\n",
       "          s.onerror = () => reject(`Error loading script: ${paths[lib]}`);\n",
       "          s.src = paths[lib];\n",
       "        });\n",
       "    }\n",
       "\n",
       "    function showError(err) {\n",
       "      outputDiv.innerHTML = `<div class=\"error\" style=\"color:red;\">${err}</div>`;\n",
       "      throw err;\n",
       "    }\n",
       "\n",
       "    function displayChart(vegaEmbed) {\n",
       "      vegaEmbed(outputDiv, spec, embedOpt)\n",
       "        .catch(err => showError(`Javascript Error: ${err.message}<br>This usually means there's a typo in your chart specification. See the javascript console for the full traceback.`));\n",
       "    }\n",
       "\n",
       "    if(typeof define === \"function\" && define.amd) {\n",
       "      requirejs.config({paths});\n",
       "      require([\"vega-embed\"], displayChart, err => showError(`Error loading script: ${err.message}`));\n",
       "    } else {\n",
       "      maybeLoadScript(\"vega\", \"5\")\n",
       "        .then(() => maybeLoadScript(\"vega-lite\", \"5.20.1\"))\n",
       "        .then(() => maybeLoadScript(\"vega-embed\", \"6\"))\n",
       "        .catch(showError)\n",
       "        .then(() => displayChart(vegaEmbed));\n",
       "    }\n",
       "  })({\"$schema\": \"https://vega.github.io/schema/vega/v5.json\", \"data\": [{\"name\": \"source_0\"}, {\"name\": \"data_0\", \"values\": [{\"Feature\": \"density\", \"Importance\": 0.12079448444899316, \"Importance_end\": 0.12079448444899316, \"Importance_start\": 0.0}, {\"Feature\": \"volatile_acidity\", \"Importance\": 0.1156418420843847, \"Importance_end\": 0.1156418420843847, \"Importance_start\": 0.0}, {\"Feature\": \"sulphates\", \"Importance\": 0.10291381434986129, \"Importance_end\": 0.10291381434986129, \"Importance_start\": 0.0}, {\"Feature\": \"alcohol\", \"Importance\": 0.09833048207697093, \"Importance_end\": 0.09833048207697093, \"Importance_start\": 0.0}, {\"Feature\": \"free_sulfur_dioxide\", \"Importance\": 0.09246396121147085, \"Importance_end\": 0.09246396121147085, \"Importance_start\": 0.0}, {\"Feature\": \"total_sulfur_dioxide\", \"Importance\": 0.08872844073544049, \"Importance_end\": 0.08872844073544049, \"Importance_start\": 0.0}, {\"Feature\": \"ph\", \"Importance\": 0.08379341354381072, \"Importance_end\": 0.08379341354381072, \"Importance_start\": 0.0}, {\"Feature\": \"residual_sugar\", \"Importance\": 0.08069706718179398, \"Importance_end\": 0.08069706718179398, \"Importance_start\": 0.0}, {\"Feature\": \"citric_acid\", \"Importance\": 0.07691391613960724, \"Importance_end\": 0.07691391613960724, \"Importance_start\": 0.0}, {\"Feature\": \"chlorides\", \"Importance\": 0.0754338865346124, \"Importance_end\": 0.0754338865346124, \"Importance_start\": 0.0}, {\"Feature\": \"fixed_acidity\", \"Importance\": 0.06428869169305428, \"Importance_end\": 0.06428869169305428, \"Importance_start\": 0.0}]}, {\"name\": \"source_0_y_domain_Feature\", \"values\": [{\"Feature\": \"density\", \"sort_field\": 0.12079448444899316}, {\"Feature\": \"volatile_acidity\", \"sort_field\": 0.1156418420843847}, {\"Feature\": \"sulphates\", \"sort_field\": 0.10291381434986129}, {\"Feature\": \"alcohol\", \"sort_field\": 0.09833048207697093}, {\"Feature\": \"free_sulfur_dioxide\", \"sort_field\": 0.09246396121147085}, {\"Feature\": \"total_sulfur_dioxide\", \"sort_field\": 0.08872844073544049}, {\"Feature\": \"ph\", \"sort_field\": 0.08379341354381072}, {\"Feature\": \"residual_sugar\", \"sort_field\": 0.08069706718179398}, {\"Feature\": \"citric_acid\", \"sort_field\": 0.07691391613960724}, {\"Feature\": \"chlorides\", \"sort_field\": 0.0754338865346124}, {\"Feature\": \"fixed_acidity\", \"sort_field\": 0.06428869169305428}]}], \"marks\": [{\"type\": \"rect\", \"name\": \"marks\", \"from\": {\"data\": \"data_0\"}, \"encode\": {\"update\": {\"height\": {\"signal\": \"max(0.25, bandwidth('y'))\"}, \"fill\": {\"value\": \"#4c78a8\"}, \"x\": {\"field\": \"Importance_end\", \"scale\": \"x\"}, \"x2\": {\"field\": \"Importance_start\", \"scale\": \"x\"}, \"y\": {\"field\": \"Feature\", \"scale\": \"y\"}, \"tooltip\": {\"signal\": \"{\\\"Feature\\\": isValid(datum[\\\"Feature\\\"]) ? datum[\\\"Feature\\\"] : \\\"\\\"+datum[\\\"Feature\\\"], \\\"Importance\\\": format(datum[\\\"Importance\\\"], \\\"\\\")}\"}}}, \"style\": [\"bar\"]}], \"scales\": [{\"name\": \"x\", \"type\": \"linear\", \"domain\": {\"data\": \"data_0\", \"fields\": [\"Importance_start\", \"Importance_end\"]}, \"range\": [0, {\"signal\": \"width\"}], \"zero\": true, \"nice\": true}, {\"name\": \"y\", \"type\": \"band\", \"domain\": {\"data\": \"source_0_y_domain_Feature\", \"field\": \"Feature\", \"sort\": {\"op\": \"max\", \"field\": \"sort_field\", \"order\": \"descending\"}}, \"range\": [0, {\"signal\": \"height\"}], \"paddingInner\": 0.1, \"paddingOuter\": 0.05}], \"axes\": [{\"scale\": \"x\", \"aria\": false, \"ticks\": false, \"minExtent\": 0, \"zindex\": 0, \"grid\": true, \"tickCount\": {\"signal\": \"ceil(width/40)\"}, \"orient\": \"bottom\", \"labels\": false, \"domain\": false, \"gridScale\": \"y\", \"maxExtent\": 0}, {\"scale\": \"x\", \"labelFlush\": true, \"zindex\": 0, \"labelOverlap\": true, \"title\": \"Importance\", \"orient\": \"bottom\", \"grid\": false, \"tickCount\": {\"signal\": \"ceil(width/40)\"}}, {\"scale\": \"y\", \"grid\": false, \"title\": \"Feature\", \"zindex\": 0, \"orient\": \"left\"}], \"title\": {\"text\": \"Feature Importance\", \"frame\": \"group\"}, \"height\": 400, \"width\": 600, \"style\": \"cell\", \"padding\": 5, \"background\": \"white\"}, {\"mode\": \"vega\"});\n",
       "</script>"
      ],
      "text/plain": [
       "alt.Chart(...)"
      ]
     },
     "metadata": {},
     "output_type": "display_data"
    }
   ],
   "source": [
    "# Feature importance\n",
    "feature_importances = pd.DataFrame({\n",
    "    'Feature': X_train.columns,\n",
    "    'Importance': best_tree_model.feature_importances_\n",
    "}).sort_values(by='Importance', ascending=False)\n",
    "\n",
    "# Plot feature importance using Altair\n",
    "importance_chart = alt.Chart(feature_importances).mark_bar().encode(\n",
    "    x=alt.X('Importance:Q', title='Importance'),\n",
    "    y=alt.Y('Feature:N', sort='-x', title='Feature'),\n",
    "    tooltip=['Feature', 'Importance']\n",
    ").properties(\n",
    "    title='Feature Importance',\n",
    "    width=600,\n",
    "    height=400\n",
    ")\n",
    "\n",
    "importance_chart.display()"
   ]
  },
  {
   "cell_type": "markdown",
   "metadata": {},
   "source": [
    "# DISCUSSION\n",
    "- summarize what you found\n",
    "- discuss whether this is what you expected to find?\n",
    "- discuss what impact could such findings have?\n",
    "- discuss what future questions could this lead to?"
   ]
  },
  {
   "cell_type": "markdown",
   "metadata": {},
   "source": [
    "# DISCUSSION\n",
    "\n",
    "In this project, we explored the physicochemical properties of wines and their relationship to quality ratings, using both exploratory data analysis (EDA) and predictive modeling. Our findings indicated that certain features, such as alcohol content and volatile acidity, are strong predictors of wine quality, while others, such as residual sugar and pH, showed weaker associations. Logistic regression and support vector machines were effective at predicting wine quality, but their performance was limited by imbalances in the dataset and the subjective nature of quality ratings. Balancing the classes improved recall for lower-rated wines but reduced precision for higher-rated wines.\n",
    "\n",
    "When we started the project, we were not sure what we would find but logically we expected characteristics like `alcohol` and `residual_sugar` to affect the quality.These results align with expectations to some extent. For example, alcohol content's importance in predicting quality is consistent with its known role in influencing wine's taste and balance. However, the weaker correlations for residual sugar and pH were somewhat surprising, given their theoretical importance in wine chemistry. This suggests that other, unmeasured factors, such as sensory attributes, may play a critical role in determining wine quality.\n",
    "\n",
    "The findings have significant implications for both winemakers and consumers. Understanding the key drivers of wine quality could help winemakers optimize production processes and improve the consistency of their products. For consumers, predictive models might provide insights into selecting wines that align with their preferences, potentially revolutionizing wine recommendations.\n",
    "\n",
    "Future research could address several questions raised by this study. For instance, how do sensory attributes, such as aroma and taste, interact with physicochemical properties to influence quality ratings? Could combining machine learning with sensory data improve prediction accuracy? Additionally, further exploration into addressing dataset imbalances and incorporating expert ratings could yield a more nuanced understanding of wine quality. These avenues could lead to a more holistic framework for evaluating and improving wines.\n",
    "\n",
    "\n",
    "\n",
    "\n"
   ]
  },
  {
   "cell_type": "code",
   "execution_count": null,
   "metadata": {},
   "outputs": [],
   "source": []
  },
  {
   "cell_type": "markdown",
   "metadata": {},
   "source": [
    "# REFERENCES\n",
    "1. Cortez, P., Cerdeira, A., Almeida, F., Matos, T., & Reis, J. (2009). Modeling wine preferences by data mining from physicochemical properties. Decision Support Systems, 47(4), 547–553. [https://doi.org/10.1016/j.dss.2009.05.016]\n",
    "\n",
    "This paper discusses the original dataset used in this project and presents a comparative analysis of various data mining techniques for predicting wine quality.\n",
    "Boulesteix, A.-L., & Strimmer, K. (2007). Partial least squares: A versatile tool for the analysis of high-dimensional genomic data. Briefings in Bioinformatics, 8(1), 32–44. [https://doi.org/10.1093/bib/bbm007]\n",
    "\n",
    "2. Highlights the use of statistical models in high-dimensional data, relevant for understanding the relationship between multiple wine features and quality.\n",
    "Kuhn, M., & Johnson, K. (2013). Applied Predictive Modeling. New York, NY: Springer. [https://doi.org/10.1007/978-1-4614-6849-3]\n",
    "\n",
    "3. Offers foundational concepts in predictive modeling, which were applied during the analysis and model development stages of the project.\n",
    "Hastie, T., Tibshirani, R., & Friedman, J. (2009). The Elements of Statistical Learning: Data Mining, Inference, and Prediction (2nd ed.). New York, NY: Springer. [https://doi.org/10.1007/978-0-387-84858-7]\n",
    "\n",
    "Provides advanced insights into machine learning methods, including regression and classification techniques applied in wine quality prediction."
   ]
  },
  {
   "cell_type": "code",
   "execution_count": null,
   "metadata": {},
   "outputs": [],
   "source": []
  },
  {
   "cell_type": "code",
   "execution_count": null,
   "metadata": {},
   "outputs": [],
   "source": []
  },
  {
   "cell_type": "markdown",
   "metadata": {},
   "source": []
  }
 ],
 "metadata": {
  "kernelspec": {
   "display_name": "mds",
   "language": "python",
   "name": "python3"
  },
  "language_info": {
   "codemirror_mode": {
    "name": "ipython",
    "version": 3
   },
   "file_extension": ".py",
   "mimetype": "text/x-python",
   "name": "python",
   "nbconvert_exporter": "python",
   "pygments_lexer": "ipython3",
   "version": "3.11.10"
  }
 },
 "nbformat": 4,
 "nbformat_minor": 4
}
