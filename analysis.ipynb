{
 "cells": [
  {
   "cell_type": "markdown",
   "metadata": {},
   "source": [
    "# TITLE\n"
   ]
  },
  {
   "cell_type": "code",
   "execution_count": null,
   "metadata": {},
   "outputs": [],
   "source": []
  },
  {
   "cell_type": "code",
   "execution_count": null,
   "metadata": {},
   "outputs": [],
   "source": []
  },
  {
   "cell_type": "markdown",
   "metadata": {},
   "source": [
    "# SUMMARY"
   ]
  },
  {
   "cell_type": "code",
   "execution_count": null,
   "metadata": {},
   "outputs": [],
   "source": []
  },
  {
   "cell_type": "code",
   "execution_count": null,
   "metadata": {},
   "outputs": [],
   "source": []
  },
  {
   "cell_type": "markdown",
   "metadata": {},
   "source": [
    "# INTRODUCTION\n",
    "- provide some relevant background information on the topic so that someone unfamiliar with it will be prepared to understand the rest of your report\n",
    "- clearly state the question you tried to answer with your project\n",
    "- identify and describe the dataset that was used to answer the question"
   ]
  },
  {
   "cell_type": "code",
   "execution_count": null,
   "metadata": {},
   "outputs": [],
   "source": []
  },
  {
   "cell_type": "code",
   "execution_count": null,
   "metadata": {},
   "outputs": [],
   "source": []
  },
  {
   "cell_type": "markdown",
   "metadata": {},
   "source": [
    "# METHODS AND RESULTS\n",
    "\n",
    "- describe in written english the methods you used to perform your analysis from beginning to end that narrates the code the does the analysis.\n",
    "- your report should include code which:\n",
    "- loads data from the original source on the web\n",
    "- wrangles and cleans the data from it’s original (downloaded) format to the format necessary for the planned classification or clustering analysis\n",
    "- performs a summary of the data set that is relevant for exploratory data analysis related to the planned classification analysis\n",
    "- creates a visualization of the dataset that is relevant for exploratory data analysis related to the planned classification analysis\n",
    "- performs classification or regression analysis\n",
    "- creates a visualization of the result of the analysis\n",
    "- note: all tables and figure should have a figure/table number and a legend"
   ]
  },
  {
   "cell_type": "markdown",
   "metadata": {
    "vscode": {
     "languageId": "plaintext"
    }
   },
   "source": []
  },
  {
   "cell_type": "code",
   "execution_count": 63,
   "metadata": {},
   "outputs": [
    {
     "data": {
      "text/plain": [
       "DataTransformerRegistry.enable('vegafusion')"
      ]
     },
     "execution_count": 63,
     "metadata": {},
     "output_type": "execute_result"
    }
   ],
   "source": [
    "import pandas as pd\n",
    "import numpy as np\n",
    "import altair as alt\n",
    "import janitor\n",
    "alt.data_transformers.enable(\"vegafusion\")"
   ]
  },
  {
   "cell_type": "code",
   "execution_count": 64,
   "metadata": {},
   "outputs": [
    {
     "data": {
      "text/html": [
       "<div>\n",
       "<style scoped>\n",
       "    .dataframe tbody tr th:only-of-type {\n",
       "        vertical-align: middle;\n",
       "    }\n",
       "\n",
       "    .dataframe tbody tr th {\n",
       "        vertical-align: top;\n",
       "    }\n",
       "\n",
       "    .dataframe thead th {\n",
       "        text-align: right;\n",
       "    }\n",
       "</style>\n",
       "<table border=\"1\" class=\"dataframe\">\n",
       "  <thead>\n",
       "    <tr style=\"text-align: right;\">\n",
       "      <th></th>\n",
       "      <th>fixed_acidity</th>\n",
       "      <th>volatile_acidity</th>\n",
       "      <th>citric_acid</th>\n",
       "      <th>residual_sugar</th>\n",
       "      <th>chlorides</th>\n",
       "      <th>free_sulfur_dioxide</th>\n",
       "      <th>total_sulfur_dioxide</th>\n",
       "      <th>density</th>\n",
       "      <th>ph</th>\n",
       "      <th>sulphates</th>\n",
       "      <th>alcohol</th>\n",
       "      <th>quality</th>\n",
       "    </tr>\n",
       "  </thead>\n",
       "  <tbody>\n",
       "    <tr>\n",
       "      <th>0</th>\n",
       "      <td>7.4</td>\n",
       "      <td>0.70</td>\n",
       "      <td>0.00</td>\n",
       "      <td>1.9</td>\n",
       "      <td>0.076</td>\n",
       "      <td>11.0</td>\n",
       "      <td>34.0</td>\n",
       "      <td>0.9978</td>\n",
       "      <td>3.51</td>\n",
       "      <td>0.56</td>\n",
       "      <td>9.4</td>\n",
       "      <td>5.0</td>\n",
       "    </tr>\n",
       "    <tr>\n",
       "      <th>1</th>\n",
       "      <td>7.8</td>\n",
       "      <td>0.88</td>\n",
       "      <td>0.00</td>\n",
       "      <td>2.6</td>\n",
       "      <td>0.098</td>\n",
       "      <td>25.0</td>\n",
       "      <td>67.0</td>\n",
       "      <td>0.9968</td>\n",
       "      <td>3.20</td>\n",
       "      <td>0.68</td>\n",
       "      <td>9.8</td>\n",
       "      <td>5.0</td>\n",
       "    </tr>\n",
       "    <tr>\n",
       "      <th>2</th>\n",
       "      <td>7.8</td>\n",
       "      <td>0.76</td>\n",
       "      <td>0.04</td>\n",
       "      <td>2.3</td>\n",
       "      <td>0.092</td>\n",
       "      <td>15.0</td>\n",
       "      <td>54.0</td>\n",
       "      <td>0.9970</td>\n",
       "      <td>3.26</td>\n",
       "      <td>0.65</td>\n",
       "      <td>9.8</td>\n",
       "      <td>5.0</td>\n",
       "    </tr>\n",
       "    <tr>\n",
       "      <th>3</th>\n",
       "      <td>11.2</td>\n",
       "      <td>0.28</td>\n",
       "      <td>0.56</td>\n",
       "      <td>1.9</td>\n",
       "      <td>0.075</td>\n",
       "      <td>17.0</td>\n",
       "      <td>60.0</td>\n",
       "      <td>0.9980</td>\n",
       "      <td>3.16</td>\n",
       "      <td>0.58</td>\n",
       "      <td>9.8</td>\n",
       "      <td>6.0</td>\n",
       "    </tr>\n",
       "    <tr>\n",
       "      <th>4</th>\n",
       "      <td>7.4</td>\n",
       "      <td>0.70</td>\n",
       "      <td>0.00</td>\n",
       "      <td>1.9</td>\n",
       "      <td>0.076</td>\n",
       "      <td>11.0</td>\n",
       "      <td>34.0</td>\n",
       "      <td>0.9978</td>\n",
       "      <td>3.51</td>\n",
       "      <td>0.56</td>\n",
       "      <td>9.4</td>\n",
       "      <td>5.0</td>\n",
       "    </tr>\n",
       "  </tbody>\n",
       "</table>\n",
       "</div>"
      ],
      "text/plain": [
       "   fixed_acidity  volatile_acidity  citric_acid  residual_sugar  chlorides  \\\n",
       "0            7.4              0.70         0.00             1.9      0.076   \n",
       "1            7.8              0.88         0.00             2.6      0.098   \n",
       "2            7.8              0.76         0.04             2.3      0.092   \n",
       "3           11.2              0.28         0.56             1.9      0.075   \n",
       "4            7.4              0.70         0.00             1.9      0.076   \n",
       "\n",
       "   free_sulfur_dioxide  total_sulfur_dioxide  density    ph  sulphates  \\\n",
       "0                 11.0                  34.0   0.9978  3.51       0.56   \n",
       "1                 25.0                  67.0   0.9968  3.20       0.68   \n",
       "2                 15.0                  54.0   0.9970  3.26       0.65   \n",
       "3                 17.0                  60.0   0.9980  3.16       0.58   \n",
       "4                 11.0                  34.0   0.9978  3.51       0.56   \n",
       "\n",
       "   alcohol  quality  \n",
       "0      9.4      5.0  \n",
       "1      9.8      5.0  \n",
       "2      9.8      5.0  \n",
       "3      9.8      6.0  \n",
       "4      9.4      5.0  "
      ]
     },
     "execution_count": 64,
     "metadata": {},
     "output_type": "execute_result"
    }
   ],
   "source": [
    "# Reading in data and stacking them vertically\n",
    "r_wine_df = pd.read_csv('data/winequality-red.csv', sep=';')\n",
    "w_wine_df = pd.read_csv('data/winequality-white.csv', sep=';')\n",
    "wine_df = pd.DataFrame(np.vstack([r_wine_df, w_wine_df]), columns=r_wine_df.columns)\n",
    "\n",
    "# Uses janitor to clean column names\n",
    "wine_df = wine_df.clean_names()\n",
    "wine_df.head()"
   ]
  },
  {
   "cell_type": "code",
   "execution_count": 65,
   "metadata": {},
   "outputs": [
    {
     "data": {
      "text/plain": [
       "(6497, 12)"
      ]
     },
     "execution_count": 65,
     "metadata": {},
     "output_type": "execute_result"
    }
   ],
   "source": [
    "# This gives the shape of the dataframe\n",
    "wine_df.shape"
   ]
  },
  {
   "cell_type": "code",
   "execution_count": 66,
   "metadata": {},
   "outputs": [
    {
     "data": {
      "text/plain": [
       "0"
      ]
     },
     "execution_count": 66,
     "metadata": {},
     "output_type": "execute_result"
    }
   ],
   "source": [
    "# Checking if there are null values\n",
    "wine_df.isna().any().sum()"
   ]
  },
  {
   "cell_type": "code",
   "execution_count": 67,
   "metadata": {},
   "outputs": [
    {
     "name": "stdout",
     "output_type": "stream",
     "text": [
      "<class 'pandas.core.frame.DataFrame'>\n",
      "RangeIndex: 6497 entries, 0 to 6496\n",
      "Data columns (total 12 columns):\n",
      " #   Column                Non-Null Count  Dtype  \n",
      "---  ------                --------------  -----  \n",
      " 0   fixed_acidity         6497 non-null   float64\n",
      " 1   volatile_acidity      6497 non-null   float64\n",
      " 2   citric_acid           6497 non-null   float64\n",
      " 3   residual_sugar        6497 non-null   float64\n",
      " 4   chlorides             6497 non-null   float64\n",
      " 5   free_sulfur_dioxide   6497 non-null   float64\n",
      " 6   total_sulfur_dioxide  6497 non-null   float64\n",
      " 7   density               6497 non-null   float64\n",
      " 8   ph                    6497 non-null   float64\n",
      " 9   sulphates             6497 non-null   float64\n",
      " 10  alcohol               6497 non-null   float64\n",
      " 11  quality               6497 non-null   float64\n",
      "dtypes: float64(12)\n",
      "memory usage: 609.2 KB\n"
     ]
    }
   ],
   "source": [
    "# Checks the summary of the dataframe\n",
    "wine_df.info()"
   ]
  },
  {
   "cell_type": "code",
   "execution_count": 68,
   "metadata": {},
   "outputs": [
    {
     "data": {
      "text/html": [
       "<div>\n",
       "<style scoped>\n",
       "    .dataframe tbody tr th:only-of-type {\n",
       "        vertical-align: middle;\n",
       "    }\n",
       "\n",
       "    .dataframe tbody tr th {\n",
       "        vertical-align: top;\n",
       "    }\n",
       "\n",
       "    .dataframe thead th {\n",
       "        text-align: right;\n",
       "    }\n",
       "</style>\n",
       "<table border=\"1\" class=\"dataframe\">\n",
       "  <thead>\n",
       "    <tr style=\"text-align: right;\">\n",
       "      <th></th>\n",
       "      <th>fixed_acidity</th>\n",
       "      <th>volatile_acidity</th>\n",
       "      <th>citric_acid</th>\n",
       "      <th>residual_sugar</th>\n",
       "      <th>chlorides</th>\n",
       "      <th>free_sulfur_dioxide</th>\n",
       "      <th>total_sulfur_dioxide</th>\n",
       "      <th>density</th>\n",
       "      <th>ph</th>\n",
       "      <th>sulphates</th>\n",
       "      <th>alcohol</th>\n",
       "      <th>quality</th>\n",
       "    </tr>\n",
       "  </thead>\n",
       "  <tbody>\n",
       "    <tr>\n",
       "      <th>count</th>\n",
       "      <td>6497.000000</td>\n",
       "      <td>6497.000000</td>\n",
       "      <td>6497.000000</td>\n",
       "      <td>6497.000000</td>\n",
       "      <td>6497.000000</td>\n",
       "      <td>6497.000000</td>\n",
       "      <td>6497.000000</td>\n",
       "      <td>6497.000000</td>\n",
       "      <td>6497.000000</td>\n",
       "      <td>6497.000000</td>\n",
       "      <td>6497.000000</td>\n",
       "      <td>6497.000000</td>\n",
       "    </tr>\n",
       "    <tr>\n",
       "      <th>mean</th>\n",
       "      <td>7.215307</td>\n",
       "      <td>0.339666</td>\n",
       "      <td>0.318633</td>\n",
       "      <td>5.443235</td>\n",
       "      <td>0.056034</td>\n",
       "      <td>30.525319</td>\n",
       "      <td>115.744574</td>\n",
       "      <td>0.994697</td>\n",
       "      <td>3.218501</td>\n",
       "      <td>0.531268</td>\n",
       "      <td>10.491801</td>\n",
       "      <td>5.818378</td>\n",
       "    </tr>\n",
       "    <tr>\n",
       "      <th>std</th>\n",
       "      <td>1.296434</td>\n",
       "      <td>0.164636</td>\n",
       "      <td>0.145318</td>\n",
       "      <td>4.757804</td>\n",
       "      <td>0.035034</td>\n",
       "      <td>17.749400</td>\n",
       "      <td>56.521855</td>\n",
       "      <td>0.002999</td>\n",
       "      <td>0.160787</td>\n",
       "      <td>0.148806</td>\n",
       "      <td>1.192712</td>\n",
       "      <td>0.873255</td>\n",
       "    </tr>\n",
       "    <tr>\n",
       "      <th>min</th>\n",
       "      <td>3.800000</td>\n",
       "      <td>0.080000</td>\n",
       "      <td>0.000000</td>\n",
       "      <td>0.600000</td>\n",
       "      <td>0.009000</td>\n",
       "      <td>1.000000</td>\n",
       "      <td>6.000000</td>\n",
       "      <td>0.987110</td>\n",
       "      <td>2.720000</td>\n",
       "      <td>0.220000</td>\n",
       "      <td>8.000000</td>\n",
       "      <td>3.000000</td>\n",
       "    </tr>\n",
       "    <tr>\n",
       "      <th>25%</th>\n",
       "      <td>6.400000</td>\n",
       "      <td>0.230000</td>\n",
       "      <td>0.250000</td>\n",
       "      <td>1.800000</td>\n",
       "      <td>0.038000</td>\n",
       "      <td>17.000000</td>\n",
       "      <td>77.000000</td>\n",
       "      <td>0.992340</td>\n",
       "      <td>3.110000</td>\n",
       "      <td>0.430000</td>\n",
       "      <td>9.500000</td>\n",
       "      <td>5.000000</td>\n",
       "    </tr>\n",
       "    <tr>\n",
       "      <th>50%</th>\n",
       "      <td>7.000000</td>\n",
       "      <td>0.290000</td>\n",
       "      <td>0.310000</td>\n",
       "      <td>3.000000</td>\n",
       "      <td>0.047000</td>\n",
       "      <td>29.000000</td>\n",
       "      <td>118.000000</td>\n",
       "      <td>0.994890</td>\n",
       "      <td>3.210000</td>\n",
       "      <td>0.510000</td>\n",
       "      <td>10.300000</td>\n",
       "      <td>6.000000</td>\n",
       "    </tr>\n",
       "    <tr>\n",
       "      <th>75%</th>\n",
       "      <td>7.700000</td>\n",
       "      <td>0.400000</td>\n",
       "      <td>0.390000</td>\n",
       "      <td>8.100000</td>\n",
       "      <td>0.065000</td>\n",
       "      <td>41.000000</td>\n",
       "      <td>156.000000</td>\n",
       "      <td>0.996990</td>\n",
       "      <td>3.320000</td>\n",
       "      <td>0.600000</td>\n",
       "      <td>11.300000</td>\n",
       "      <td>6.000000</td>\n",
       "    </tr>\n",
       "    <tr>\n",
       "      <th>max</th>\n",
       "      <td>15.900000</td>\n",
       "      <td>1.580000</td>\n",
       "      <td>1.660000</td>\n",
       "      <td>65.800000</td>\n",
       "      <td>0.611000</td>\n",
       "      <td>289.000000</td>\n",
       "      <td>440.000000</td>\n",
       "      <td>1.038980</td>\n",
       "      <td>4.010000</td>\n",
       "      <td>2.000000</td>\n",
       "      <td>14.900000</td>\n",
       "      <td>9.000000</td>\n",
       "    </tr>\n",
       "  </tbody>\n",
       "</table>\n",
       "</div>"
      ],
      "text/plain": [
       "       fixed_acidity  volatile_acidity  citric_acid  residual_sugar  \\\n",
       "count    6497.000000       6497.000000  6497.000000     6497.000000   \n",
       "mean        7.215307          0.339666     0.318633        5.443235   \n",
       "std         1.296434          0.164636     0.145318        4.757804   \n",
       "min         3.800000          0.080000     0.000000        0.600000   \n",
       "25%         6.400000          0.230000     0.250000        1.800000   \n",
       "50%         7.000000          0.290000     0.310000        3.000000   \n",
       "75%         7.700000          0.400000     0.390000        8.100000   \n",
       "max        15.900000          1.580000     1.660000       65.800000   \n",
       "\n",
       "         chlorides  free_sulfur_dioxide  total_sulfur_dioxide      density  \\\n",
       "count  6497.000000          6497.000000           6497.000000  6497.000000   \n",
       "mean      0.056034            30.525319            115.744574     0.994697   \n",
       "std       0.035034            17.749400             56.521855     0.002999   \n",
       "min       0.009000             1.000000              6.000000     0.987110   \n",
       "25%       0.038000            17.000000             77.000000     0.992340   \n",
       "50%       0.047000            29.000000            118.000000     0.994890   \n",
       "75%       0.065000            41.000000            156.000000     0.996990   \n",
       "max       0.611000           289.000000            440.000000     1.038980   \n",
       "\n",
       "                ph    sulphates      alcohol      quality  \n",
       "count  6497.000000  6497.000000  6497.000000  6497.000000  \n",
       "mean      3.218501     0.531268    10.491801     5.818378  \n",
       "std       0.160787     0.148806     1.192712     0.873255  \n",
       "min       2.720000     0.220000     8.000000     3.000000  \n",
       "25%       3.110000     0.430000     9.500000     5.000000  \n",
       "50%       3.210000     0.510000    10.300000     6.000000  \n",
       "75%       3.320000     0.600000    11.300000     6.000000  \n",
       "max       4.010000     2.000000    14.900000     9.000000  "
      ]
     },
     "execution_count": 68,
     "metadata": {},
     "output_type": "execute_result"
    }
   ],
   "source": [
    "# Gets statistics of numerical columns\n",
    "wine_df.describe()"
   ]
  },
  {
   "cell_type": "code",
   "execution_count": 69,
   "metadata": {},
   "outputs": [
    {
     "data": {
      "text/html": [
       "\n",
       "<style>\n",
       "  #altair-viz-f8e1bb5684264974bf2c8777d1dd2ea7.vega-embed {\n",
       "    width: 100%;\n",
       "    display: flex;\n",
       "  }\n",
       "\n",
       "  #altair-viz-f8e1bb5684264974bf2c8777d1dd2ea7.vega-embed details,\n",
       "  #altair-viz-f8e1bb5684264974bf2c8777d1dd2ea7.vega-embed details summary {\n",
       "    position: relative;\n",
       "  }\n",
       "</style>\n",
       "<div id=\"altair-viz-f8e1bb5684264974bf2c8777d1dd2ea7\"></div>\n",
       "<script type=\"text/javascript\">\n",
       "  var VEGA_DEBUG = (typeof VEGA_DEBUG == \"undefined\") ? {} : VEGA_DEBUG;\n",
       "  (function(spec, embedOpt){\n",
       "    let outputDiv = document.currentScript.previousElementSibling;\n",
       "    if (outputDiv.id !== \"altair-viz-f8e1bb5684264974bf2c8777d1dd2ea7\") {\n",
       "      outputDiv = document.getElementById(\"altair-viz-f8e1bb5684264974bf2c8777d1dd2ea7\");\n",
       "    }\n",
       "    const paths = {\n",
       "      \"vega\": \"https://cdn.jsdelivr.net/npm/vega@5?noext\",\n",
       "      \"vega-lib\": \"https://cdn.jsdelivr.net/npm/vega-lib?noext\",\n",
       "      \"vega-lite\": \"https://cdn.jsdelivr.net/npm/vega-lite@5.20.1?noext\",\n",
       "      \"vega-embed\": \"https://cdn.jsdelivr.net/npm/vega-embed@6?noext\",\n",
       "    };\n",
       "\n",
       "    function maybeLoadScript(lib, version) {\n",
       "      var key = `${lib.replace(\"-\", \"\")}_version`;\n",
       "      return (VEGA_DEBUG[key] == version) ?\n",
       "        Promise.resolve(paths[lib]) :\n",
       "        new Promise(function(resolve, reject) {\n",
       "          var s = document.createElement('script');\n",
       "          document.getElementsByTagName(\"head\")[0].appendChild(s);\n",
       "          s.async = true;\n",
       "          s.onload = () => {\n",
       "            VEGA_DEBUG[key] = version;\n",
       "            return resolve(paths[lib]);\n",
       "          };\n",
       "          s.onerror = () => reject(`Error loading script: ${paths[lib]}`);\n",
       "          s.src = paths[lib];\n",
       "        });\n",
       "    }\n",
       "\n",
       "    function showError(err) {\n",
       "      outputDiv.innerHTML = `<div class=\"error\" style=\"color:red;\">${err}</div>`;\n",
       "      throw err;\n",
       "    }\n",
       "\n",
       "    function displayChart(vegaEmbed) {\n",
       "      vegaEmbed(outputDiv, spec, embedOpt)\n",
       "        .catch(err => showError(`Javascript Error: ${err.message}<br>This usually means there's a typo in your chart specification. See the javascript console for the full traceback.`));\n",
       "    }\n",
       "\n",
       "    if(typeof define === \"function\" && define.amd) {\n",
       "      requirejs.config({paths});\n",
       "      require([\"vega-embed\"], displayChart, err => showError(`Error loading script: ${err.message}`));\n",
       "    } else {\n",
       "      maybeLoadScript(\"vega\", \"5\")\n",
       "        .then(() => maybeLoadScript(\"vega-lite\", \"5.20.1\"))\n",
       "        .then(() => maybeLoadScript(\"vega-embed\", \"6\"))\n",
       "        .catch(showError)\n",
       "        .then(() => displayChart(vegaEmbed));\n",
       "    }\n",
       "  })({\"$schema\": \"https://vega.github.io/schema/vega/v5.json\", \"data\": [{\"name\": \"source_0\"}, {\"name\": \"data_0\", \"values\": [{\"__count\": 2138, \"bin_maxbins_40_quality\": 5.0, \"bin_maxbins_40_quality_end\": 5.2}, {\"__count\": 2836, \"bin_maxbins_40_quality\": 6.0, \"bin_maxbins_40_quality_end\": 6.2}, {\"__count\": 1079, \"bin_maxbins_40_quality\": 7.0, \"bin_maxbins_40_quality_end\": 7.2}, {\"__count\": 216, \"bin_maxbins_40_quality\": 4.0, \"bin_maxbins_40_quality_end\": 4.2}, {\"__count\": 193, \"bin_maxbins_40_quality\": 8.0, \"bin_maxbins_40_quality_end\": 8.2}, {\"__count\": 30, \"bin_maxbins_40_quality\": 3.0, \"bin_maxbins_40_quality_end\": 3.2}, {\"__count\": 5, \"bin_maxbins_40_quality\": 8.8, \"bin_maxbins_40_quality_end\": 9.0}]}, {\"name\": \"data_1\", \"values\": [{\"__count\": 1274, \"bin_maxbins_40_fixed_acidity\": 7.0, \"bin_maxbins_40_fixed_acidity_end\": 7.5}, {\"__count\": 778, \"bin_maxbins_40_fixed_acidity\": 7.5, \"bin_maxbins_40_fixed_acidity_end\": 8.0}, {\"__count\": 29, \"bin_maxbins_40_fixed_acidity\": 11.0, \"bin_maxbins_40_fixed_acidity_end\": 11.5}, {\"__count\": 1466, \"bin_maxbins_40_fixed_acidity\": 6.5, \"bin_maxbins_40_fixed_acidity_end\": 7.0}, {\"__count\": 444, \"bin_maxbins_40_fixed_acidity\": 5.5, \"bin_maxbins_40_fixed_acidity_end\": 6.0}, {\"__count\": 243, \"bin_maxbins_40_fixed_acidity\": 8.5, \"bin_maxbins_40_fixed_acidity_end\": 9.0}, {\"__count\": 458, \"bin_maxbins_40_fixed_acidity\": 8.0, \"bin_maxbins_40_fixed_acidity_end\": 8.5}, {\"__count\": 1090, \"bin_maxbins_40_fixed_acidity\": 6.0, \"bin_maxbins_40_fixed_acidity_end\": 6.5}, {\"__count\": 155, \"bin_maxbins_40_fixed_acidity\": 5.0, \"bin_maxbins_40_fixed_acidity_end\": 5.5}, {\"__count\": 26, \"bin_maxbins_40_fixed_acidity\": 4.5, \"bin_maxbins_40_fixed_acidity_end\": 5.0}, {\"__count\": 90, \"bin_maxbins_40_fixed_acidity\": 10.0, \"bin_maxbins_40_fixed_acidity_end\": 10.5}, {\"__count\": 168, \"bin_maxbins_40_fixed_acidity\": 9.0, \"bin_maxbins_40_fixed_acidity_end\": 9.5}, {\"__count\": 102, \"bin_maxbins_40_fixed_acidity\": 9.5, \"bin_maxbins_40_fixed_acidity_end\": 10.0}, {\"__count\": 44, \"bin_maxbins_40_fixed_acidity\": 11.5, \"bin_maxbins_40_fixed_acidity_end\": 12.0}, {\"__count\": 22, \"bin_maxbins_40_fixed_acidity\": 12.5, \"bin_maxbins_40_fixed_acidity_end\": 13.0}, {\"__count\": 21, \"bin_maxbins_40_fixed_acidity\": 12.0, \"bin_maxbins_40_fixed_acidity_end\": 12.5}, {\"__count\": 2, \"bin_maxbins_40_fixed_acidity\": 15.0, \"bin_maxbins_40_fixed_acidity_end\": 15.5}, {\"__count\": 56, \"bin_maxbins_40_fixed_acidity\": 10.5, \"bin_maxbins_40_fixed_acidity_end\": 11.0}, {\"__count\": 10, \"bin_maxbins_40_fixed_acidity\": 13.0, \"bin_maxbins_40_fixed_acidity_end\": 13.5}, {\"__count\": 4, \"bin_maxbins_40_fixed_acidity\": 13.5, \"bin_maxbins_40_fixed_acidity_end\": 14.0}, {\"__count\": 3, \"bin_maxbins_40_fixed_acidity\": 14.0, \"bin_maxbins_40_fixed_acidity_end\": 14.5}, {\"__count\": 5, \"bin_maxbins_40_fixed_acidity\": 15.5, \"bin_maxbins_40_fixed_acidity_end\": 16.0}, {\"__count\": 5, \"bin_maxbins_40_fixed_acidity\": 4.0, \"bin_maxbins_40_fixed_acidity_end\": 4.5}, {\"__count\": 2, \"bin_maxbins_40_fixed_acidity\": 3.5, \"bin_maxbins_40_fixed_acidity_end\": 4.0}]}, {\"name\": \"data_2\", \"values\": [{\"__count\": 80, \"bin_maxbins_40_volatile_acidity\": 0.7000000000000001, \"bin_maxbins_40_volatile_acidity_end\": 0.7500000000000001}, {\"__count\": 27, \"bin_maxbins_40_volatile_acidity\": 0.8500000000000001, \"bin_maxbins_40_volatile_acidity_end\": 0.9000000000000001}, {\"__count\": 56, \"bin_maxbins_40_volatile_acidity\": 0.7500000000000001, \"bin_maxbins_40_volatile_acidity_end\": 0.8000000000000002}, {\"__count\": 1215, \"bin_maxbins_40_volatile_acidity\": 0.25, \"bin_maxbins_40_volatile_acidity_end\": 0.3}, {\"__count\": 154, \"bin_maxbins_40_volatile_acidity\": 0.6500000000000001, \"bin_maxbins_40_volatile_acidity_end\": 0.7000000000000002}, {\"__count\": 219, \"bin_maxbins_40_volatile_acidity\": 0.6000000000000001, \"bin_maxbins_40_volatile_acidity_end\": 0.6500000000000001}, {\"__count\": 211, \"bin_maxbins_40_volatile_acidity\": 0.55, \"bin_maxbins_40_volatile_acidity_end\": 0.6000000000000001}, {\"__count\": 221, \"bin_maxbins_40_volatile_acidity\": 0.5, \"bin_maxbins_40_volatile_acidity_end\": 0.55}, {\"__count\": 946, \"bin_maxbins_40_volatile_acidity\": 0.3, \"bin_maxbins_40_volatile_acidity_end\": 0.35}, {\"__count\": 1153, \"bin_maxbins_40_volatile_acidity\": 0.2, \"bin_maxbins_40_volatile_acidity_end\": 0.25}, {\"__count\": 546, \"bin_maxbins_40_volatile_acidity\": 0.35000000000000003, \"bin_maxbins_40_volatile_acidity_end\": 0.4}, {\"__count\": 413, \"bin_maxbins_40_volatile_acidity\": 0.4, \"bin_maxbins_40_volatile_acidity_end\": 0.45}, {\"__count\": 246, \"bin_maxbins_40_volatile_acidity\": 0.45, \"bin_maxbins_40_volatile_acidity_end\": 0.5}, {\"__count\": 3, \"bin_maxbins_40_volatile_acidity\": 1.1, \"bin_maxbins_40_volatile_acidity_end\": 1.1500000000000001}, {\"__count\": 16, \"bin_maxbins_40_volatile_acidity\": 0.9000000000000001, \"bin_maxbins_40_volatile_acidity_end\": 0.9500000000000002}, {\"__count\": 15, \"bin_maxbins_40_volatile_acidity\": 1.0, \"bin_maxbins_40_volatile_acidity_end\": 1.05}, {\"__count\": 2, \"bin_maxbins_40_volatile_acidity\": 1.05, \"bin_maxbins_40_volatile_acidity_end\": 1.1}, {\"__count\": 2, \"bin_maxbins_40_volatile_acidity\": 1.3, \"bin_maxbins_40_volatile_acidity_end\": 1.35}, {\"__count\": 13, \"bin_maxbins_40_volatile_acidity\": 0.9500000000000001, \"bin_maxbins_40_volatile_acidity_end\": 1.0}, {\"__count\": 33, \"bin_maxbins_40_volatile_acidity\": 0.8, \"bin_maxbins_40_volatile_acidity_end\": 0.8500000000000001}, {\"__count\": 743, \"bin_maxbins_40_volatile_acidity\": 0.15000000000000002, \"bin_maxbins_40_volatile_acidity_end\": 0.2}, {\"__count\": 1, \"bin_maxbins_40_volatile_acidity\": 1.2000000000000002, \"bin_maxbins_40_volatile_acidity_end\": 1.2500000000000002}, {\"__count\": 2, \"bin_maxbins_40_volatile_acidity\": 1.1500000000000001, \"bin_maxbins_40_volatile_acidity_end\": 1.2000000000000002}, {\"__count\": 173, \"bin_maxbins_40_volatile_acidity\": 0.1, \"bin_maxbins_40_volatile_acidity_end\": 0.15000000000000002}, {\"__count\": 1, \"bin_maxbins_40_volatile_acidity\": 1.55, \"bin_maxbins_40_volatile_acidity_end\": 1.6}, {\"__count\": 6, \"bin_maxbins_40_volatile_acidity\": 0.05, \"bin_maxbins_40_volatile_acidity_end\": 0.1}]}, {\"name\": \"data_3\", \"values\": [{\"__count\": 320, \"bin_maxbins_40_citric_acid\": 0.0, \"bin_maxbins_40_citric_acid_end\": 0.05}, {\"__count\": 119, \"bin_maxbins_40_citric_acid\": 0.55, \"bin_maxbins_40_citric_acid_end\": 0.6000000000000001}, {\"__count\": 168, \"bin_maxbins_40_citric_acid\": 0.05, \"bin_maxbins_40_citric_acid_end\": 0.1}, {\"__count\": 765, \"bin_maxbins_40_citric_acid\": 0.35000000000000003, \"bin_maxbins_40_citric_acid_end\": 0.4}, {\"__count\": 1201, \"bin_maxbins_40_citric_acid\": 0.25, \"bin_maxbins_40_citric_acid_end\": 0.3}, {\"__count\": 267, \"bin_maxbins_40_citric_acid\": 0.15000000000000002, \"bin_maxbins_40_citric_acid_end\": 0.2}, {\"__count\": 195, \"bin_maxbins_40_citric_acid\": 0.5, \"bin_maxbins_40_citric_acid_end\": 0.55}, {\"__count\": 539, \"bin_maxbins_40_citric_acid\": 0.45, \"bin_maxbins_40_citric_acid_end\": 0.5}, {\"__count\": 1313, \"bin_maxbins_40_citric_acid\": 0.30000000000000004, \"bin_maxbins_40_citric_acid_end\": 0.35000000000000003}, {\"__count\": 665, \"bin_maxbins_40_citric_acid\": 0.2, \"bin_maxbins_40_citric_acid_end\": 0.25}, {\"__count\": 194, \"bin_maxbins_40_citric_acid\": 0.1, \"bin_maxbins_40_citric_acid_end\": 0.15000000000000002}, {\"__count\": 506, \"bin_maxbins_40_citric_acid\": 0.4, \"bin_maxbins_40_citric_acid_end\": 0.45}, {\"__count\": 70, \"bin_maxbins_40_citric_acid\": 0.6000000000000001, \"bin_maxbins_40_citric_acid_end\": 0.6500000000000001}, {\"__count\": 74, \"bin_maxbins_40_citric_acid\": 0.7000000000000001, \"bin_maxbins_40_citric_acid_end\": 0.7500000000000001}, {\"__count\": 72, \"bin_maxbins_40_citric_acid\": 0.65, \"bin_maxbins_40_citric_acid_end\": 0.7000000000000001}, {\"__count\": 6, \"bin_maxbins_40_citric_acid\": 1.0, \"bin_maxbins_40_citric_acid_end\": 1.05}, {\"__count\": 10, \"bin_maxbins_40_citric_acid\": 0.75, \"bin_maxbins_40_citric_acid_end\": 0.8}, {\"__count\": 2, \"bin_maxbins_40_citric_acid\": 0.8500000000000001, \"bin_maxbins_40_citric_acid_end\": 0.9000000000000001}, {\"__count\": 1, \"bin_maxbins_40_citric_acid\": 1.6500000000000001, \"bin_maxbins_40_citric_acid_end\": 1.7000000000000002}, {\"__count\": 6, \"bin_maxbins_40_citric_acid\": 0.8, \"bin_maxbins_40_citric_acid_end\": 0.8500000000000001}, {\"__count\": 1, \"bin_maxbins_40_citric_acid\": 0.9500000000000001, \"bin_maxbins_40_citric_acid_end\": 1.0}, {\"__count\": 1, \"bin_maxbins_40_citric_acid\": 1.2000000000000002, \"bin_maxbins_40_citric_acid_end\": 1.2500000000000002}, {\"__count\": 2, \"bin_maxbins_40_citric_acid\": 0.9, \"bin_maxbins_40_citric_acid_end\": 0.9500000000000001}]}, {\"name\": \"data_4\", \"values\": [{\"__count\": 1885, \"bin_maxbins_40_residual_sugar\": 0.0, \"bin_maxbins_40_residual_sugar_end\": 2.0}, {\"__count\": 1656, \"bin_maxbins_40_residual_sugar\": 2.0, \"bin_maxbins_40_residual_sugar_end\": 4.0}, {\"__count\": 653, \"bin_maxbins_40_residual_sugar\": 6.0, \"bin_maxbins_40_residual_sugar_end\": 8.0}, {\"__count\": 628, \"bin_maxbins_40_residual_sugar\": 4.0, \"bin_maxbins_40_residual_sugar_end\": 6.0}, {\"__count\": 372, \"bin_maxbins_40_residual_sugar\": 10.0, \"bin_maxbins_40_residual_sugar_end\": 12.0}, {\"__count\": 265, \"bin_maxbins_40_residual_sugar\": 14.0, \"bin_maxbins_40_residual_sugar_end\": 16.0}, {\"__count\": 453, \"bin_maxbins_40_residual_sugar\": 8.0, \"bin_maxbins_40_residual_sugar_end\": 10.0}, {\"__count\": 354, \"bin_maxbins_40_residual_sugar\": 12.0, \"bin_maxbins_40_residual_sugar_end\": 14.0}, {\"__count\": 9, \"bin_maxbins_40_residual_sugar\": 20.0, \"bin_maxbins_40_residual_sugar_end\": 22.0}, {\"__count\": 67, \"bin_maxbins_40_residual_sugar\": 18.0, \"bin_maxbins_40_residual_sugar_end\": 20.0}, {\"__count\": 146, \"bin_maxbins_40_residual_sugar\": 16.0, \"bin_maxbins_40_residual_sugar_end\": 18.0}, {\"__count\": 4, \"bin_maxbins_40_residual_sugar\": 22.0, \"bin_maxbins_40_residual_sugar_end\": 24.0}, {\"__count\": 2, \"bin_maxbins_40_residual_sugar\": 30.0, \"bin_maxbins_40_residual_sugar_end\": 32.0}, {\"__count\": 1, \"bin_maxbins_40_residual_sugar\": 64.0, \"bin_maxbins_40_residual_sugar_end\": 66.0}, {\"__count\": 2, \"bin_maxbins_40_residual_sugar\": 26.0, \"bin_maxbins_40_residual_sugar_end\": 28.0}]}, {\"name\": \"data_5\", \"values\": [{\"__count\": 900, \"bin_maxbins_40_chlorides\": 0.06, \"bin_maxbins_40_chlorides_end\": 0.08}, {\"__count\": 613, \"bin_maxbins_40_chlorides\": 0.08, \"bin_maxbins_40_chlorides_end\": 0.1}, {\"__count\": 151, \"bin_maxbins_40_chlorides\": 0.1, \"bin_maxbins_40_chlorides_end\": 0.12000000000000001}, {\"__count\": 38, \"bin_maxbins_40_chlorides\": 0.16, \"bin_maxbins_40_chlorides_end\": 0.18}, {\"__count\": 3, \"bin_maxbins_40_chlorides\": 0.36, \"bin_maxbins_40_chlorides_end\": 0.38}, {\"__count\": 4, \"bin_maxbins_40_chlorides\": 0.34, \"bin_maxbins_40_chlorides_end\": 0.36000000000000004}, {\"__count\": 2, \"bin_maxbins_40_chlorides\": 0.32, \"bin_maxbins_40_chlorides_end\": 0.34}, {\"__count\": 2748, \"bin_maxbins_40_chlorides\": 0.04, \"bin_maxbins_40_chlorides_end\": 0.06}, {\"__count\": 2, \"bin_maxbins_40_chlorides\": 0.46, \"bin_maxbins_40_chlorides_end\": 0.48000000000000004}, {\"__count\": 8, \"bin_maxbins_40_chlorides\": 0.4, \"bin_maxbins_40_chlorides_end\": 0.42000000000000004}, {\"__count\": 53, \"bin_maxbins_40_chlorides\": 0.12, \"bin_maxbins_40_chlorides_end\": 0.13999999999999999}, {\"__count\": 32, \"bin_maxbins_40_chlorides\": 0.14, \"bin_maxbins_40_chlorides_end\": 0.16}, {\"__count\": 7, \"bin_maxbins_40_chlorides\": 0.22, \"bin_maxbins_40_chlorides_end\": 0.24}, {\"__count\": 2, \"bin_maxbins_40_chlorides\": 0.6, \"bin_maxbins_40_chlorides_end\": 0.62}, {\"__count\": 4, \"bin_maxbins_40_chlorides\": 0.26, \"bin_maxbins_40_chlorides_end\": 0.28}, {\"__count\": 1848, \"bin_maxbins_40_chlorides\": 0.02, \"bin_maxbins_40_chlorides_end\": 0.04}, {\"__count\": 12, \"bin_maxbins_40_chlorides\": 0.18, \"bin_maxbins_40_chlorides_end\": 0.19999999999999998}, {\"__count\": 18, \"bin_maxbins_40_chlorides\": 0.2, \"bin_maxbins_40_chlorides_end\": 0.22}, {\"__count\": 6, \"bin_maxbins_40_chlorides\": 0.24, \"bin_maxbins_40_chlorides_end\": 0.26}, {\"__count\": 1, \"bin_maxbins_40_chlorides\": 0.42, \"bin_maxbins_40_chlorides_end\": 0.44}, {\"__count\": 1, \"bin_maxbins_40_chlorides\": 0.38, \"bin_maxbins_40_chlorides_end\": 0.4}, {\"__count\": 42, \"bin_maxbins_40_chlorides\": 0.0, \"bin_maxbins_40_chlorides_end\": 0.02}, {\"__count\": 1, \"bin_maxbins_40_chlorides\": 0.28, \"bin_maxbins_40_chlorides_end\": 0.30000000000000004}, {\"__count\": 1, \"bin_maxbins_40_chlorides\": 0.3, \"bin_maxbins_40_chlorides_end\": 0.32}]}, {\"name\": \"data_6\", \"values\": [{\"__count\": 1271, \"bin_maxbins_40_free_sulfur_dioxide\": 10.0, \"bin_maxbins_40_free_sulfur_dioxide_end\": 20.0}, {\"__count\": 1427, \"bin_maxbins_40_free_sulfur_dioxide\": 20.0, \"bin_maxbins_40_free_sulfur_dioxide_end\": 30.0}, {\"__count\": 694, \"bin_maxbins_40_free_sulfur_dioxide\": 0.0, \"bin_maxbins_40_free_sulfur_dioxide_end\": 10.0}, {\"__count\": 562, \"bin_maxbins_40_free_sulfur_dioxide\": 50.0, \"bin_maxbins_40_free_sulfur_dioxide_end\": 60.0}, {\"__count\": 1275, \"bin_maxbins_40_free_sulfur_dioxide\": 30.0, \"bin_maxbins_40_free_sulfur_dioxide_end\": 40.0}, {\"__count\": 880, \"bin_maxbins_40_free_sulfur_dioxide\": 40.0, \"bin_maxbins_40_free_sulfur_dioxide_end\": 50.0}, {\"__count\": 268, \"bin_maxbins_40_free_sulfur_dioxide\": 60.0, \"bin_maxbins_40_free_sulfur_dioxide_end\": 70.0}, {\"__count\": 69, \"bin_maxbins_40_free_sulfur_dioxide\": 70.0, \"bin_maxbins_40_free_sulfur_dioxide_end\": 80.0}, {\"__count\": 25, \"bin_maxbins_40_free_sulfur_dioxide\": 80.0, \"bin_maxbins_40_free_sulfur_dioxide_end\": 90.0}, {\"__count\": 2, \"bin_maxbins_40_free_sulfur_dioxide\": 130.0, \"bin_maxbins_40_free_sulfur_dioxide_end\": 140.0}, {\"__count\": 3, \"bin_maxbins_40_free_sulfur_dioxide\": 120.0, \"bin_maxbins_40_free_sulfur_dioxide_end\": 130.0}, {\"__count\": 3, \"bin_maxbins_40_free_sulfur_dioxide\": 110.0, \"bin_maxbins_40_free_sulfur_dioxide_end\": 120.0}, {\"__count\": 9, \"bin_maxbins_40_free_sulfur_dioxide\": 90.0, \"bin_maxbins_40_free_sulfur_dioxide_end\": 100.0}, {\"__count\": 1, \"bin_maxbins_40_free_sulfur_dioxide\": 140.0, \"bin_maxbins_40_free_sulfur_dioxide_end\": 150.0}, {\"__count\": 7, \"bin_maxbins_40_free_sulfur_dioxide\": 100.0, \"bin_maxbins_40_free_sulfur_dioxide_end\": 110.0}, {\"__count\": 1, \"bin_maxbins_40_free_sulfur_dioxide\": 280.0, \"bin_maxbins_40_free_sulfur_dioxide_end\": 290.0}]}, {\"name\": \"data_7\", \"values\": [{\"__count\": 532, \"bin_maxbins_40_total_sulfur_dioxide\": 20.0, \"bin_maxbins_40_total_sulfur_dioxide_end\": 40.0}, {\"__count\": 421, \"bin_maxbins_40_total_sulfur_dioxide\": 60.0, \"bin_maxbins_40_total_sulfur_dioxide_end\": 80.0}, {\"__count\": 380, \"bin_maxbins_40_total_sulfur_dioxide\": 40.0, \"bin_maxbins_40_total_sulfur_dioxide_end\": 60.0}, {\"__count\": 335, \"bin_maxbins_40_total_sulfur_dioxide\": 0.0, \"bin_maxbins_40_total_sulfur_dioxide_end\": 20.0}, {\"__count\": 966, \"bin_maxbins_40_total_sulfur_dioxide\": 100.0, \"bin_maxbins_40_total_sulfur_dioxide_end\": 120.0}, {\"__count\": 798, \"bin_maxbins_40_total_sulfur_dioxide\": 140.0, \"bin_maxbins_40_total_sulfur_dioxide_end\": 160.0}, {\"__count\": 687, \"bin_maxbins_40_total_sulfur_dioxide\": 80.0, \"bin_maxbins_40_total_sulfur_dioxide_end\": 100.0}, {\"__count\": 896, \"bin_maxbins_40_total_sulfur_dioxide\": 120.0, \"bin_maxbins_40_total_sulfur_dioxide_end\": 140.0}, {\"__count\": 615, \"bin_maxbins_40_total_sulfur_dioxide\": 160.0, \"bin_maxbins_40_total_sulfur_dioxide_end\": 180.0}, {\"__count\": 4, \"bin_maxbins_40_total_sulfur_dioxide\": 260.0, \"bin_maxbins_40_total_sulfur_dioxide_end\": 280.0}, {\"__count\": 3, \"bin_maxbins_40_total_sulfur_dioxide\": 280.0, \"bin_maxbins_40_total_sulfur_dioxide_end\": 300.0}, {\"__count\": 456, \"bin_maxbins_40_total_sulfur_dioxide\": 180.0, \"bin_maxbins_40_total_sulfur_dioxide_end\": 200.0}, {\"__count\": 47, \"bin_maxbins_40_total_sulfur_dioxide\": 240.0, \"bin_maxbins_40_total_sulfur_dioxide_end\": 260.0}, {\"__count\": 238, \"bin_maxbins_40_total_sulfur_dioxide\": 200.0, \"bin_maxbins_40_total_sulfur_dioxide_end\": 220.0}, {\"__count\": 113, \"bin_maxbins_40_total_sulfur_dioxide\": 220.0, \"bin_maxbins_40_total_sulfur_dioxide_end\": 240.0}, {\"__count\": 3, \"bin_maxbins_40_total_sulfur_dioxide\": 300.0, \"bin_maxbins_40_total_sulfur_dioxide_end\": 320.0}, {\"__count\": 1, \"bin_maxbins_40_total_sulfur_dioxide\": 360.0, \"bin_maxbins_40_total_sulfur_dioxide_end\": 380.0}, {\"__count\": 1, \"bin_maxbins_40_total_sulfur_dioxide\": 340.0, \"bin_maxbins_40_total_sulfur_dioxide_end\": 360.0}, {\"__count\": 1, \"bin_maxbins_40_total_sulfur_dioxide\": 420.0, \"bin_maxbins_40_total_sulfur_dioxide_end\": 440.0}]}, {\"name\": \"data_8\", \"values\": [{\"__count\": 1414, \"bin_maxbins_40_density\": 0.996, \"bin_maxbins_40_density_end\": 0.998}, {\"__count\": 765, \"bin_maxbins_40_density\": 0.998, \"bin_maxbins_40_density_end\": 1.0}, {\"__count\": 1449, \"bin_maxbins_40_density\": 0.994, \"bin_maxbins_40_density_end\": 0.996}, {\"__count\": 1293, \"bin_maxbins_40_density\": 0.992, \"bin_maxbins_40_density_end\": 0.994}, {\"__count\": 1055, \"bin_maxbins_40_density\": 0.99, \"bin_maxbins_40_density_end\": 0.992}, {\"__count\": 154, \"bin_maxbins_40_density\": 1.0, \"bin_maxbins_40_density_end\": 1.002}, {\"__count\": 19, \"bin_maxbins_40_density\": 1.002, \"bin_maxbins_40_density_end\": 1.004}, {\"__count\": 332, \"bin_maxbins_40_density\": 0.988, \"bin_maxbins_40_density_end\": 0.99}, {\"__count\": 2, \"bin_maxbins_40_density\": 1.01, \"bin_maxbins_40_density_end\": 1.012}, {\"__count\": 1, \"bin_maxbins_40_density\": 1.038, \"bin_maxbins_40_density_end\": 1.04}, {\"__count\": 13, \"bin_maxbins_40_density\": 0.986, \"bin_maxbins_40_density_end\": 0.988}]}, {\"name\": \"data_9\", \"values\": [{\"__count\": 153, \"bin_maxbins_40_ph\": 3.5, \"bin_maxbins_40_ph_end\": 3.55}, {\"__count\": 801, \"bin_maxbins_40_ph\": 3.2, \"bin_maxbins_40_ph_end\": 3.25}, {\"__count\": 669, \"bin_maxbins_40_ph\": 3.25, \"bin_maxbins_40_ph_end\": 3.3}, {\"__count\": 859, \"bin_maxbins_40_ph\": 3.1500000000000004, \"bin_maxbins_40_ph_end\": 3.2}, {\"__count\": 607, \"bin_maxbins_40_ph\": 3.3000000000000003, \"bin_maxbins_40_ph_end\": 3.35}, {\"__count\": 506, \"bin_maxbins_40_ph\": 3.35, \"bin_maxbins_40_ph_end\": 3.4}, {\"__count\": 80, \"bin_maxbins_40_ph\": 3.5500000000000003, \"bin_maxbins_40_ph_end\": 3.6}, {\"__count\": 766, \"bin_maxbins_40_ph\": 3.1, \"bin_maxbins_40_ph_end\": 3.15}, {\"__count\": 401, \"bin_maxbins_40_ph\": 3.0, \"bin_maxbins_40_ph_end\": 3.05}, {\"__count\": 320, \"bin_maxbins_40_ph\": 3.4000000000000004, \"bin_maxbins_40_ph_end\": 3.45}, {\"__count\": 202, \"bin_maxbins_40_ph\": 3.45, \"bin_maxbins_40_ph_end\": 3.5}, {\"__count\": 2, \"bin_maxbins_40_ph\": 3.9000000000000004, \"bin_maxbins_40_ph_end\": 3.95}, {\"__count\": 149, \"bin_maxbins_40_ph\": 2.9000000000000004, \"bin_maxbins_40_ph_end\": 2.95}, {\"__count\": 10, \"bin_maxbins_40_ph\": 3.75, \"bin_maxbins_40_ph_end\": 3.8}, {\"__count\": 1, \"bin_maxbins_40_ph\": 3.8500000000000005, \"bin_maxbins_40_ph_end\": 3.9000000000000004}, {\"__count\": 562, \"bin_maxbins_40_ph\": 3.0500000000000003, \"bin_maxbins_40_ph_end\": 3.1}, {\"__count\": 41, \"bin_maxbins_40_ph\": 3.6, \"bin_maxbins_40_ph_end\": 3.65}, {\"__count\": 30, \"bin_maxbins_40_ph\": 3.6500000000000004, \"bin_maxbins_40_ph_end\": 3.7}, {\"__count\": 3, \"bin_maxbins_40_ph\": 2.7, \"bin_maxbins_40_ph_end\": 2.75}, {\"__count\": 238, \"bin_maxbins_40_ph\": 2.95, \"bin_maxbins_40_ph_end\": 3.0}, {\"__count\": 63, \"bin_maxbins_40_ph\": 2.85, \"bin_maxbins_40_ph_end\": 2.9}, {\"__count\": 15, \"bin_maxbins_40_ph\": 3.7, \"bin_maxbins_40_ph_end\": 3.75}, {\"__count\": 2, \"bin_maxbins_40_ph\": 4.0, \"bin_maxbins_40_ph_end\": 4.05}, {\"__count\": 4, \"bin_maxbins_40_ph\": 3.8000000000000003, \"bin_maxbins_40_ph_end\": 3.85}, {\"__count\": 9, \"bin_maxbins_40_ph\": 2.8000000000000003, \"bin_maxbins_40_ph_end\": 2.85}, {\"__count\": 4, \"bin_maxbins_40_ph\": 2.75, \"bin_maxbins_40_ph_end\": 2.8}]}, {\"name\": \"data_10\", \"values\": [{\"__count\": 773, \"bin_maxbins_40_sulphates\": 0.55, \"bin_maxbins_40_sulphates_end\": 0.6000000000000001}, {\"__count\": 350, \"bin_maxbins_40_sulphates\": 0.65, \"bin_maxbins_40_sulphates_end\": 0.7000000000000001}, {\"__count\": 1029, \"bin_maxbins_40_sulphates\": 0.45, \"bin_maxbins_40_sulphates_end\": 0.5}, {\"__count\": 113, \"bin_maxbins_40_sulphates\": 0.8, \"bin_maxbins_40_sulphates_end\": 0.8500000000000001}, {\"__count\": 1066, \"bin_maxbins_40_sulphates\": 0.5, \"bin_maxbins_40_sulphates_end\": 0.55}, {\"__count\": 2, \"bin_maxbins_40_sulphates\": 1.55, \"bin_maxbins_40_sulphates_end\": 1.6}, {\"__count\": 69, \"bin_maxbins_40_sulphates\": 0.8500000000000001, \"bin_maxbins_40_sulphates_end\": 0.9000000000000001}, {\"__count\": 44, \"bin_maxbins_40_sulphates\": 0.9000000000000001, \"bin_maxbins_40_sulphates_end\": 0.9500000000000002}, {\"__count\": 204, \"bin_maxbins_40_sulphates\": 0.75, \"bin_maxbins_40_sulphates_end\": 0.8}, {\"__count\": 3, \"bin_maxbins_40_sulphates\": 1.25, \"bin_maxbins_40_sulphates_end\": 1.3}, {\"__count\": 15, \"bin_maxbins_40_sulphates\": 1.05, \"bin_maxbins_40_sulphates_end\": 1.1}, {\"__count\": 585, \"bin_maxbins_40_sulphates\": 0.6000000000000001, \"bin_maxbins_40_sulphates_end\": 0.6500000000000001}, {\"__count\": 248, \"bin_maxbins_40_sulphates\": 0.7, \"bin_maxbins_40_sulphates_end\": 0.75}, {\"__count\": 2, \"bin_maxbins_40_sulphates\": 1.2, \"bin_maxbins_40_sulphates_end\": 1.25}, {\"__count\": 707, \"bin_maxbins_40_sulphates\": 0.35000000000000003, \"bin_maxbins_40_sulphates_end\": 0.4}, {\"__count\": 32, \"bin_maxbins_40_sulphates\": 0.95, \"bin_maxbins_40_sulphates_end\": 1.0}, {\"__count\": 8, \"bin_maxbins_40_sulphates\": 1.1, \"bin_maxbins_40_sulphates_end\": 1.1500000000000001}, {\"__count\": 4, \"bin_maxbins_40_sulphates\": 1.95, \"bin_maxbins_40_sulphates_end\": 2.0}, {\"__count\": 3, \"bin_maxbins_40_sulphates\": 1.3, \"bin_maxbins_40_sulphates_end\": 1.35}, {\"__count\": 264, \"bin_maxbins_40_sulphates\": 0.30000000000000004, \"bin_maxbins_40_sulphates_end\": 0.35000000000000003}, {\"__count\": 11, \"bin_maxbins_40_sulphates\": 1.0, \"bin_maxbins_40_sulphates_end\": 1.05}, {\"__count\": 898, \"bin_maxbins_40_sulphates\": 0.4, \"bin_maxbins_40_sulphates_end\": 0.45}, {\"__count\": 2, \"bin_maxbins_40_sulphates\": 1.6, \"bin_maxbins_40_sulphates_end\": 1.6500000000000001}, {\"__count\": 3, \"bin_maxbins_40_sulphates\": 1.35, \"bin_maxbins_40_sulphates_end\": 1.4000000000000001}, {\"__count\": 10, \"bin_maxbins_40_sulphates\": 1.1500000000000001, \"bin_maxbins_40_sulphates_end\": 1.2000000000000002}, {\"__count\": 50, \"bin_maxbins_40_sulphates\": 0.25, \"bin_maxbins_40_sulphates_end\": 0.3}, {\"__count\": 2, \"bin_maxbins_40_sulphates\": 0.2, \"bin_maxbins_40_sulphates_end\": 0.25}]}, {\"name\": \"data_11\", \"values\": [{\"__count\": 707, \"bin_maxbins_40_alcohol\": 9.4, \"bin_maxbins_40_alcohol_end\": 9.6}, {\"__count\": 373, \"bin_maxbins_40_alcohol\": 9.8, \"bin_maxbins_40_alcohol_end\": 10.0}, {\"__count\": 398, \"bin_maxbins_40_alcohol\": 10.0, \"bin_maxbins_40_alcohol_end\": 10.2}, {\"__count\": 429, \"bin_maxbins_40_alcohol\": 10.4, \"bin_maxbins_40_alcohol_end\": 10.6}, {\"__count\": 466, \"bin_maxbins_40_alcohol\": 9.2, \"bin_maxbins_40_alcohol_end\": 9.399999999999999}, {\"__count\": 383, \"bin_maxbins_40_alcohol\": 9.0, \"bin_maxbins_40_alcohol_end\": 9.2}, {\"__count\": 350, \"bin_maxbins_40_alcohol\": 9.6, \"bin_maxbins_40_alcohol_end\": 9.799999999999999}, {\"__count\": 267, \"bin_maxbins_40_alcohol\": 10.6, \"bin_maxbins_40_alcohol_end\": 10.799999999999999}, {\"__count\": 320, \"bin_maxbins_40_alcohol\": 10.8, \"bin_maxbins_40_alcohol_end\": 11.0}, {\"__count\": 294, \"bin_maxbins_40_alcohol\": 10.2, \"bin_maxbins_40_alcohol_end\": 10.399999999999999}, {\"__count\": 64, \"bin_maxbins_40_alcohol\": 13.0, \"bin_maxbins_40_alcohol_end\": 13.2}, {\"__count\": 121, \"bin_maxbins_40_alcohol\": 12.8, \"bin_maxbins_40_alcohol_end\": 13.0}, {\"__count\": 13, \"bin_maxbins_40_alcohol\": 14.0, \"bin_maxbins_40_alcohol_end\": 14.2}, {\"__count\": 278, \"bin_maxbins_40_alcohol\": 11.4, \"bin_maxbins_40_alcohol_end\": 11.6}, {\"__count\": 185, \"bin_maxbins_40_alcohol\": 12.4, \"bin_maxbins_40_alcohol_end\": 12.6}, {\"__count\": 331, \"bin_maxbins_40_alcohol\": 11.0, \"bin_maxbins_40_alcohol_end\": 11.2}, {\"__count\": 174, \"bin_maxbins_40_alcohol\": 12.2, \"bin_maxbins_40_alcohol_end\": 12.399999999999999}, {\"__count\": 137, \"bin_maxbins_40_alcohol\": 12.600000000000001, \"bin_maxbins_40_alcohol_end\": 12.8}, {\"__count\": 148, \"bin_maxbins_40_alcohol\": 11.6, \"bin_maxbins_40_alcohol_end\": 11.799999999999999}, {\"__count\": 287, \"bin_maxbins_40_alcohol\": 11.2, \"bin_maxbins_40_alcohol_end\": 11.399999999999999}, {\"__count\": 191, \"bin_maxbins_40_alcohol\": 12.0, \"bin_maxbins_40_alcohol_end\": 12.2}, {\"__count\": 167, \"bin_maxbins_40_alcohol\": 11.8, \"bin_maxbins_40_alcohol_end\": 12.0}, {\"__count\": 103, \"bin_maxbins_40_alcohol\": 8.6, \"bin_maxbins_40_alcohol_end\": 8.799999999999999}, {\"__count\": 25, \"bin_maxbins_40_alcohol\": 13.2, \"bin_maxbins_40_alcohol_end\": 13.399999999999999}, {\"__count\": 38, \"bin_maxbins_40_alcohol\": 13.4, \"bin_maxbins_40_alcohol_end\": 13.6}, {\"__count\": 15, \"bin_maxbins_40_alcohol\": 8.4, \"bin_maxbins_40_alcohol_end\": 8.6}, {\"__count\": 1, \"bin_maxbins_40_alcohol\": 14.8, \"bin_maxbins_40_alcohol_end\": 15.0}, {\"__count\": 20, \"bin_maxbins_40_alcohol\": 13.600000000000001, \"bin_maxbins_40_alcohol_end\": 13.8}, {\"__count\": 204, \"bin_maxbins_40_alcohol\": 8.8, \"bin_maxbins_40_alcohol_end\": 9.0}, {\"__count\": 5, \"bin_maxbins_40_alcohol\": 13.8, \"bin_maxbins_40_alcohol_end\": 14.0}, {\"__count\": 2, \"bin_maxbins_40_alcohol\": 8.0, \"bin_maxbins_40_alcohol_end\": 8.2}, {\"__count\": 1, \"bin_maxbins_40_alcohol\": 14.2, \"bin_maxbins_40_alcohol_end\": 14.399999999999999}]}, {\"name\": \"data_1_child__fixed_acidity_y_domain___count\", \"values\": [{\"min\": 2, \"max\": 1466}]}, {\"name\": \"data_2_child__volatile_acidity_y_domain___count\", \"values\": [{\"min\": 1, \"max\": 1215}]}, {\"name\": \"data_3_child__citric_acid_y_domain___count\", \"values\": [{\"min\": 1, \"max\": 1313}]}, {\"name\": \"data_4_child__residual_sugar_y_domain___count\", \"values\": [{\"min\": 1, \"max\": 1885}]}, {\"name\": \"data_5_child__chlorides_y_domain___count\", \"values\": [{\"min\": 1, \"max\": 2748}]}, {\"name\": \"data_6_child__free_sulfur_dioxide_y_domain___count\", \"values\": [{\"min\": 1, \"max\": 1427}]}, {\"name\": \"data_7_child__total_sulfur_dioxide_y_domain___count\", \"values\": [{\"min\": 1, \"max\": 966}]}, {\"name\": \"data_8_child__density_y_domain___count\", \"values\": [{\"min\": 1, \"max\": 1449}]}, {\"name\": \"data_9_child__ph_y_domain___count\", \"values\": [{\"min\": 1, \"max\": 859}]}, {\"name\": \"data_10_child__sulphates_y_domain___count\", \"values\": [{\"min\": 2, \"max\": 1066}]}, {\"name\": \"data_11_child__alcohol_y_domain___count\", \"values\": [{\"min\": 1, \"max\": 707}]}, {\"name\": \"data_0_child__quality_y_domain___count\", \"values\": [{\"min\": 5, \"max\": 2836}]}], \"signals\": [{\"name\": \"child__total_sulfur_dioxide_bin_maxbins_40_total_sulfur_dioxide_bins\", \"value\": {\"fields\": [\"total_sulfur_dioxide\"], \"fname\": \"bin_total_sulfur_dioxide\", \"start\": 0.0, \"step\": 20.0, \"stop\": 440.0}}, {\"name\": \"child__citric_acid_bin_maxbins_40_citric_acid_bins\", \"value\": {\"fields\": [\"citric_acid\"], \"fname\": \"bin_citric_acid\", \"start\": 0.0, \"step\": 0.05, \"stop\": 1.7000000000000002}}, {\"name\": \"child__sulphates_bin_maxbins_40_sulphates_bins\", \"value\": {\"fields\": [\"sulphates\"], \"fname\": \"bin_sulphates\", \"start\": 0.2, \"step\": 0.05, \"stop\": 2.0}}, {\"name\": \"child__alcohol_bin_maxbins_40_alcohol_bins\", \"value\": {\"fields\": [\"alcohol\"], \"fname\": \"bin_alcohol\", \"start\": 8.0, \"step\": 0.2, \"stop\": 15.0}}, {\"name\": \"child__residual_sugar_bin_maxbins_40_residual_sugar_bins\", \"value\": {\"fields\": [\"residual_sugar\"], \"fname\": \"bin_residual_sugar\", \"start\": 0.0, \"step\": 2.0, \"stop\": 66.0}}, {\"name\": \"child__ph_bin_maxbins_40_ph_bins\", \"value\": {\"fields\": [\"ph\"], \"fname\": \"bin_ph\", \"start\": 2.7, \"step\": 0.05, \"stop\": 4.05}}, {\"name\": \"child__quality_bin_maxbins_40_quality_bins\", \"value\": {\"fields\": [\"quality\"], \"fname\": \"bin_quality\", \"start\": 3.0, \"step\": 0.2, \"stop\": 9.0}}, {\"name\": \"child__free_sulfur_dioxide_bin_maxbins_40_free_sulfur_dioxide_bins\", \"value\": {\"fields\": [\"free_sulfur_dioxide\"], \"fname\": \"bin_free_sulfur_dioxide\", \"start\": 0.0, \"step\": 10.0, \"stop\": 290.0}}, {\"name\": \"child__chlorides_bin_maxbins_40_chlorides_bins\", \"value\": {\"fields\": [\"chlorides\"], \"fname\": \"bin_chlorides\", \"start\": 0.0, \"step\": 0.02, \"stop\": 0.62}}, {\"name\": \"child__fixed_acidity_bin_maxbins_40_fixed_acidity_bins\", \"value\": {\"fields\": [\"fixed_acidity\"], \"fname\": \"bin_fixed_acidity\", \"start\": 3.5, \"step\": 0.5, \"stop\": 16.0}}, {\"name\": \"child__density_bin_maxbins_40_density_bins\", \"value\": {\"fields\": [\"density\"], \"fname\": \"bin_density\", \"start\": 0.986, \"step\": 0.002, \"stop\": 1.04}}, {\"name\": \"child__volatile_acidity_bin_maxbins_40_volatile_acidity_bins\", \"value\": {\"fields\": [\"volatile_acidity\"], \"fname\": \"bin_volatile_acidity\", \"start\": 0.05, \"step\": 0.05, \"stop\": 1.6}}, {\"name\": \"childWidth\", \"value\": 300}, {\"name\": \"childHeight\", \"value\": 300}], \"marks\": [{\"type\": \"group\", \"name\": \"child__fixed_acidity_group\", \"encode\": {\"update\": {\"height\": {\"signal\": \"childHeight\"}, \"width\": {\"signal\": \"childWidth\"}}}, \"marks\": [{\"type\": \"rect\", \"name\": \"child__fixed_acidity_marks\", \"from\": {\"data\": \"data_1\"}, \"encode\": {\"update\": {\"x\": {\"field\": \"bin_maxbins_40_fixed_acidity_end\", \"scale\": \"child__fixed_acidity_x\", \"offset\": {\"signal\": \"0.5 + (abs(scale(\\\"child__fixed_acidity_x\\\", datum[\\\"bin_maxbins_40_fixed_acidity_end\\\"]) - scale(\\\"child__fixed_acidity_x\\\", datum[\\\"bin_maxbins_40_fixed_acidity\\\"])) < 0.25 ? 0.5 * (0.25 - (abs(scale(\\\"child__fixed_acidity_x\\\", datum[\\\"bin_maxbins_40_fixed_acidity_end\\\"]) - scale(\\\"child__fixed_acidity_x\\\", datum[\\\"bin_maxbins_40_fixed_acidity\\\"])))) : -0.5)\"}}, \"y\": {\"field\": \"__count\", \"scale\": \"child__fixed_acidity_y\"}, \"y2\": {\"value\": 0, \"scale\": \"child__fixed_acidity_y\"}, \"fill\": {\"value\": \"#4c78a8\"}, \"x2\": {\"field\": \"bin_maxbins_40_fixed_acidity\", \"scale\": \"child__fixed_acidity_x\", \"offset\": {\"signal\": \"0.5 + (abs(scale(\\\"child__fixed_acidity_x\\\", datum[\\\"bin_maxbins_40_fixed_acidity_end\\\"]) - scale(\\\"child__fixed_acidity_x\\\", datum[\\\"bin_maxbins_40_fixed_acidity\\\"])) < 0.25 ? -0.5 * (0.25 - (abs(scale(\\\"child__fixed_acidity_x\\\", datum[\\\"bin_maxbins_40_fixed_acidity_end\\\"]) - scale(\\\"child__fixed_acidity_x\\\", datum[\\\"bin_maxbins_40_fixed_acidity\\\"])))) : 0.5)\"}}}}, \"style\": [\"bar\"]}], \"axes\": [{\"scale\": \"child__fixed_acidity_y\", \"orient\": \"left\", \"domain\": false, \"maxExtent\": 0, \"grid\": true, \"labels\": false, \"aria\": false, \"ticks\": false, \"tickCount\": {\"signal\": \"ceil(childHeight/40)\"}, \"gridScale\": \"child__fixed_acidity_x\", \"minExtent\": 0, \"zindex\": 0}, {\"scale\": \"child__fixed_acidity_x\", \"grid\": false, \"orient\": \"bottom\", \"labelFlush\": true, \"title\": \"fixed_acidity (binned)\", \"tickCount\": {\"signal\": \"ceil(childWidth/10)\"}, \"labelOverlap\": true, \"zindex\": 0}, {\"scale\": \"child__fixed_acidity_y\", \"title\": \"Count of Records\", \"zindex\": 0, \"tickCount\": {\"signal\": \"ceil(childHeight/40)\"}, \"grid\": false, \"labelOverlap\": true, \"orient\": \"left\"}], \"style\": \"cell\"}, {\"type\": \"group\", \"name\": \"child__volatile_acidity_group\", \"encode\": {\"update\": {\"height\": {\"signal\": \"childHeight\"}, \"width\": {\"signal\": \"childWidth\"}}}, \"marks\": [{\"type\": \"rect\", \"name\": \"child__volatile_acidity_marks\", \"from\": {\"data\": \"data_2\"}, \"encode\": {\"update\": {\"x\": {\"field\": \"bin_maxbins_40_volatile_acidity_end\", \"scale\": \"child__volatile_acidity_x\", \"offset\": {\"signal\": \"0.5 + (abs(scale(\\\"child__volatile_acidity_x\\\", datum[\\\"bin_maxbins_40_volatile_acidity_end\\\"]) - scale(\\\"child__volatile_acidity_x\\\", datum[\\\"bin_maxbins_40_volatile_acidity\\\"])) < 0.25 ? 0.5 * (0.25 - (abs(scale(\\\"child__volatile_acidity_x\\\", datum[\\\"bin_maxbins_40_volatile_acidity_end\\\"]) - scale(\\\"child__volatile_acidity_x\\\", datum[\\\"bin_maxbins_40_volatile_acidity\\\"])))) : -0.5)\"}}, \"y\": {\"field\": \"__count\", \"scale\": \"child__volatile_acidity_y\"}, \"y2\": {\"value\": 0, \"scale\": \"child__volatile_acidity_y\"}, \"fill\": {\"value\": \"#4c78a8\"}, \"x2\": {\"field\": \"bin_maxbins_40_volatile_acidity\", \"scale\": \"child__volatile_acidity_x\", \"offset\": {\"signal\": \"0.5 + (abs(scale(\\\"child__volatile_acidity_x\\\", datum[\\\"bin_maxbins_40_volatile_acidity_end\\\"]) - scale(\\\"child__volatile_acidity_x\\\", datum[\\\"bin_maxbins_40_volatile_acidity\\\"])) < 0.25 ? -0.5 * (0.25 - (abs(scale(\\\"child__volatile_acidity_x\\\", datum[\\\"bin_maxbins_40_volatile_acidity_end\\\"]) - scale(\\\"child__volatile_acidity_x\\\", datum[\\\"bin_maxbins_40_volatile_acidity\\\"])))) : 0.5)\"}}}}, \"style\": [\"bar\"]}], \"axes\": [{\"scale\": \"child__volatile_acidity_y\", \"tickCount\": {\"signal\": \"ceil(childHeight/40)\"}, \"maxExtent\": 0, \"orient\": \"left\", \"grid\": true, \"gridScale\": \"child__volatile_acidity_x\", \"labels\": false, \"aria\": false, \"domain\": false, \"minExtent\": 0, \"ticks\": false, \"zindex\": 0}, {\"scale\": \"child__volatile_acidity_x\", \"tickCount\": {\"signal\": \"ceil(childWidth/10)\"}, \"zindex\": 0, \"orient\": \"bottom\", \"labelFlush\": true, \"labelOverlap\": true, \"title\": \"volatile_acidity (binned)\", \"grid\": false}, {\"scale\": \"child__volatile_acidity_y\", \"title\": \"Count of Records\", \"grid\": false, \"labelOverlap\": true, \"tickCount\": {\"signal\": \"ceil(childHeight/40)\"}, \"orient\": \"left\", \"zindex\": 0}], \"style\": \"cell\"}, {\"type\": \"group\", \"name\": \"child__citric_acid_group\", \"encode\": {\"update\": {\"width\": {\"signal\": \"childWidth\"}, \"height\": {\"signal\": \"childHeight\"}}}, \"marks\": [{\"type\": \"rect\", \"name\": \"child__citric_acid_marks\", \"from\": {\"data\": \"data_3\"}, \"encode\": {\"update\": {\"x2\": {\"field\": \"bin_maxbins_40_citric_acid\", \"scale\": \"child__citric_acid_x\", \"offset\": {\"signal\": \"0.5 + (abs(scale(\\\"child__citric_acid_x\\\", datum[\\\"bin_maxbins_40_citric_acid_end\\\"]) - scale(\\\"child__citric_acid_x\\\", datum[\\\"bin_maxbins_40_citric_acid\\\"])) < 0.25 ? -0.5 * (0.25 - (abs(scale(\\\"child__citric_acid_x\\\", datum[\\\"bin_maxbins_40_citric_acid_end\\\"]) - scale(\\\"child__citric_acid_x\\\", datum[\\\"bin_maxbins_40_citric_acid\\\"])))) : 0.5)\"}}, \"y2\": {\"value\": 0, \"scale\": \"child__citric_acid_y\"}, \"y\": {\"field\": \"__count\", \"scale\": \"child__citric_acid_y\"}, \"x\": {\"field\": \"bin_maxbins_40_citric_acid_end\", \"scale\": \"child__citric_acid_x\", \"offset\": {\"signal\": \"0.5 + (abs(scale(\\\"child__citric_acid_x\\\", datum[\\\"bin_maxbins_40_citric_acid_end\\\"]) - scale(\\\"child__citric_acid_x\\\", datum[\\\"bin_maxbins_40_citric_acid\\\"])) < 0.25 ? 0.5 * (0.25 - (abs(scale(\\\"child__citric_acid_x\\\", datum[\\\"bin_maxbins_40_citric_acid_end\\\"]) - scale(\\\"child__citric_acid_x\\\", datum[\\\"bin_maxbins_40_citric_acid\\\"])))) : -0.5)\"}}, \"fill\": {\"value\": \"#4c78a8\"}}}, \"style\": [\"bar\"]}], \"axes\": [{\"scale\": \"child__citric_acid_y\", \"grid\": true, \"aria\": false, \"tickCount\": {\"signal\": \"ceil(childHeight/40)\"}, \"ticks\": false, \"labels\": false, \"orient\": \"left\", \"zindex\": 0, \"maxExtent\": 0, \"gridScale\": \"child__citric_acid_x\", \"minExtent\": 0, \"domain\": false}, {\"scale\": \"child__citric_acid_x\", \"tickCount\": {\"signal\": \"ceil(childWidth/10)\"}, \"zindex\": 0, \"title\": \"citric_acid (binned)\", \"orient\": \"bottom\", \"grid\": false, \"labelFlush\": true, \"labelOverlap\": true}, {\"scale\": \"child__citric_acid_y\", \"orient\": \"left\", \"tickCount\": {\"signal\": \"ceil(childHeight/40)\"}, \"zindex\": 0, \"title\": \"Count of Records\", \"grid\": false, \"labelOverlap\": true}], \"style\": \"cell\"}, {\"type\": \"group\", \"name\": \"child__residual_sugar_group\", \"encode\": {\"update\": {\"width\": {\"signal\": \"childWidth\"}, \"height\": {\"signal\": \"childHeight\"}}}, \"marks\": [{\"type\": \"rect\", \"name\": \"child__residual_sugar_marks\", \"from\": {\"data\": \"data_4\"}, \"encode\": {\"update\": {\"y2\": {\"value\": 0, \"scale\": \"child__residual_sugar_y\"}, \"fill\": {\"value\": \"#4c78a8\"}, \"x2\": {\"field\": \"bin_maxbins_40_residual_sugar\", \"scale\": \"child__residual_sugar_x\", \"offset\": {\"signal\": \"0.5 + (abs(scale(\\\"child__residual_sugar_x\\\", datum[\\\"bin_maxbins_40_residual_sugar_end\\\"]) - scale(\\\"child__residual_sugar_x\\\", datum[\\\"bin_maxbins_40_residual_sugar\\\"])) < 0.25 ? -0.5 * (0.25 - (abs(scale(\\\"child__residual_sugar_x\\\", datum[\\\"bin_maxbins_40_residual_sugar_end\\\"]) - scale(\\\"child__residual_sugar_x\\\", datum[\\\"bin_maxbins_40_residual_sugar\\\"])))) : 0.5)\"}}, \"y\": {\"field\": \"__count\", \"scale\": \"child__residual_sugar_y\"}, \"x\": {\"field\": \"bin_maxbins_40_residual_sugar_end\", \"scale\": \"child__residual_sugar_x\", \"offset\": {\"signal\": \"0.5 + (abs(scale(\\\"child__residual_sugar_x\\\", datum[\\\"bin_maxbins_40_residual_sugar_end\\\"]) - scale(\\\"child__residual_sugar_x\\\", datum[\\\"bin_maxbins_40_residual_sugar\\\"])) < 0.25 ? 0.5 * (0.25 - (abs(scale(\\\"child__residual_sugar_x\\\", datum[\\\"bin_maxbins_40_residual_sugar_end\\\"]) - scale(\\\"child__residual_sugar_x\\\", datum[\\\"bin_maxbins_40_residual_sugar\\\"])))) : -0.5)\"}}}}, \"style\": [\"bar\"]}], \"axes\": [{\"scale\": \"child__residual_sugar_y\", \"domain\": false, \"maxExtent\": 0, \"labels\": false, \"aria\": false, \"minExtent\": 0, \"ticks\": false, \"grid\": true, \"orient\": \"left\", \"tickCount\": {\"signal\": \"ceil(childHeight/40)\"}, \"zindex\": 0, \"gridScale\": \"child__residual_sugar_x\"}, {\"scale\": \"child__residual_sugar_x\", \"title\": \"residual_sugar (binned)\", \"labelOverlap\": true, \"zindex\": 0, \"tickCount\": {\"signal\": \"ceil(childWidth/10)\"}, \"orient\": \"bottom\", \"grid\": false, \"labelFlush\": true}, {\"scale\": \"child__residual_sugar_y\", \"zindex\": 0, \"orient\": \"left\", \"grid\": false, \"title\": \"Count of Records\", \"labelOverlap\": true, \"tickCount\": {\"signal\": \"ceil(childHeight/40)\"}}], \"style\": \"cell\"}, {\"type\": \"group\", \"name\": \"child__chlorides_group\", \"encode\": {\"update\": {\"height\": {\"signal\": \"childHeight\"}, \"width\": {\"signal\": \"childWidth\"}}}, \"marks\": [{\"type\": \"rect\", \"name\": \"child__chlorides_marks\", \"from\": {\"data\": \"data_5\"}, \"encode\": {\"update\": {\"y\": {\"field\": \"__count\", \"scale\": \"child__chlorides_y\"}, \"y2\": {\"value\": 0, \"scale\": \"child__chlorides_y\"}, \"x2\": {\"field\": \"bin_maxbins_40_chlorides\", \"scale\": \"child__chlorides_x\", \"offset\": {\"signal\": \"0.5 + (abs(scale(\\\"child__chlorides_x\\\", datum[\\\"bin_maxbins_40_chlorides_end\\\"]) - scale(\\\"child__chlorides_x\\\", datum[\\\"bin_maxbins_40_chlorides\\\"])) < 0.25 ? -0.5 * (0.25 - (abs(scale(\\\"child__chlorides_x\\\", datum[\\\"bin_maxbins_40_chlorides_end\\\"]) - scale(\\\"child__chlorides_x\\\", datum[\\\"bin_maxbins_40_chlorides\\\"])))) : 0.5)\"}}, \"x\": {\"field\": \"bin_maxbins_40_chlorides_end\", \"scale\": \"child__chlorides_x\", \"offset\": {\"signal\": \"0.5 + (abs(scale(\\\"child__chlorides_x\\\", datum[\\\"bin_maxbins_40_chlorides_end\\\"]) - scale(\\\"child__chlorides_x\\\", datum[\\\"bin_maxbins_40_chlorides\\\"])) < 0.25 ? 0.5 * (0.25 - (abs(scale(\\\"child__chlorides_x\\\", datum[\\\"bin_maxbins_40_chlorides_end\\\"]) - scale(\\\"child__chlorides_x\\\", datum[\\\"bin_maxbins_40_chlorides\\\"])))) : -0.5)\"}}, \"fill\": {\"value\": \"#4c78a8\"}}}, \"style\": [\"bar\"]}], \"axes\": [{\"scale\": \"child__chlorides_y\", \"maxExtent\": 0, \"labels\": false, \"minExtent\": 0, \"ticks\": false, \"zindex\": 0, \"grid\": true, \"orient\": \"left\", \"tickCount\": {\"signal\": \"ceil(childHeight/40)\"}, \"aria\": false, \"gridScale\": \"child__chlorides_x\", \"domain\": false}, {\"scale\": \"child__chlorides_x\", \"title\": \"chlorides (binned)\", \"labelFlush\": true, \"tickCount\": {\"signal\": \"ceil(childWidth/10)\"}, \"zindex\": 0, \"labelOverlap\": true, \"grid\": false, \"orient\": \"bottom\"}, {\"scale\": \"child__chlorides_y\", \"grid\": false, \"tickCount\": {\"signal\": \"ceil(childHeight/40)\"}, \"zindex\": 0, \"labelOverlap\": true, \"orient\": \"left\", \"title\": \"Count of Records\"}], \"style\": \"cell\"}, {\"type\": \"group\", \"name\": \"child__free_sulfur_dioxide_group\", \"encode\": {\"update\": {\"height\": {\"signal\": \"childHeight\"}, \"width\": {\"signal\": \"childWidth\"}}}, \"marks\": [{\"type\": \"rect\", \"name\": \"child__free_sulfur_dioxide_marks\", \"from\": {\"data\": \"data_6\"}, \"encode\": {\"update\": {\"fill\": {\"value\": \"#4c78a8\"}, \"x2\": {\"field\": \"bin_maxbins_40_free_sulfur_dioxide\", \"scale\": \"child__free_sulfur_dioxide_x\", \"offset\": {\"signal\": \"0.5 + (abs(scale(\\\"child__free_sulfur_dioxide_x\\\", datum[\\\"bin_maxbins_40_free_sulfur_dioxide_end\\\"]) - scale(\\\"child__free_sulfur_dioxide_x\\\", datum[\\\"bin_maxbins_40_free_sulfur_dioxide\\\"])) < 0.25 ? -0.5 * (0.25 - (abs(scale(\\\"child__free_sulfur_dioxide_x\\\", datum[\\\"bin_maxbins_40_free_sulfur_dioxide_end\\\"]) - scale(\\\"child__free_sulfur_dioxide_x\\\", datum[\\\"bin_maxbins_40_free_sulfur_dioxide\\\"])))) : 0.5)\"}}, \"y2\": {\"value\": 0, \"scale\": \"child__free_sulfur_dioxide_y\"}, \"y\": {\"field\": \"__count\", \"scale\": \"child__free_sulfur_dioxide_y\"}, \"x\": {\"field\": \"bin_maxbins_40_free_sulfur_dioxide_end\", \"scale\": \"child__free_sulfur_dioxide_x\", \"offset\": {\"signal\": \"0.5 + (abs(scale(\\\"child__free_sulfur_dioxide_x\\\", datum[\\\"bin_maxbins_40_free_sulfur_dioxide_end\\\"]) - scale(\\\"child__free_sulfur_dioxide_x\\\", datum[\\\"bin_maxbins_40_free_sulfur_dioxide\\\"])) < 0.25 ? 0.5 * (0.25 - (abs(scale(\\\"child__free_sulfur_dioxide_x\\\", datum[\\\"bin_maxbins_40_free_sulfur_dioxide_end\\\"]) - scale(\\\"child__free_sulfur_dioxide_x\\\", datum[\\\"bin_maxbins_40_free_sulfur_dioxide\\\"])))) : -0.5)\"}}}}, \"style\": [\"bar\"]}], \"axes\": [{\"scale\": \"child__free_sulfur_dioxide_y\", \"aria\": false, \"zindex\": 0, \"domain\": false, \"maxExtent\": 0, \"tickCount\": {\"signal\": \"ceil(childHeight/40)\"}, \"ticks\": false, \"grid\": true, \"minExtent\": 0, \"orient\": \"left\", \"labels\": false, \"gridScale\": \"child__free_sulfur_dioxide_x\"}, {\"scale\": \"child__free_sulfur_dioxide_x\", \"orient\": \"bottom\", \"grid\": false, \"labelFlush\": true, \"labelOverlap\": true, \"title\": \"free_sulfur_dioxide (binned)\", \"tickCount\": {\"signal\": \"ceil(childWidth/10)\"}, \"zindex\": 0}, {\"scale\": \"child__free_sulfur_dioxide_y\", \"orient\": \"left\", \"labelOverlap\": true, \"title\": \"Count of Records\", \"tickCount\": {\"signal\": \"ceil(childHeight/40)\"}, \"zindex\": 0, \"grid\": false}], \"style\": \"cell\"}, {\"type\": \"group\", \"name\": \"child__total_sulfur_dioxide_group\", \"encode\": {\"update\": {\"width\": {\"signal\": \"childWidth\"}, \"height\": {\"signal\": \"childHeight\"}}}, \"marks\": [{\"type\": \"rect\", \"name\": \"child__total_sulfur_dioxide_marks\", \"from\": {\"data\": \"data_7\"}, \"encode\": {\"update\": {\"y\": {\"field\": \"__count\", \"scale\": \"child__total_sulfur_dioxide_y\"}, \"y2\": {\"value\": 0, \"scale\": \"child__total_sulfur_dioxide_y\"}, \"fill\": {\"value\": \"#4c78a8\"}, \"x2\": {\"field\": \"bin_maxbins_40_total_sulfur_dioxide\", \"scale\": \"child__total_sulfur_dioxide_x\", \"offset\": {\"signal\": \"0.5 + (abs(scale(\\\"child__total_sulfur_dioxide_x\\\", datum[\\\"bin_maxbins_40_total_sulfur_dioxide_end\\\"]) - scale(\\\"child__total_sulfur_dioxide_x\\\", datum[\\\"bin_maxbins_40_total_sulfur_dioxide\\\"])) < 0.25 ? -0.5 * (0.25 - (abs(scale(\\\"child__total_sulfur_dioxide_x\\\", datum[\\\"bin_maxbins_40_total_sulfur_dioxide_end\\\"]) - scale(\\\"child__total_sulfur_dioxide_x\\\", datum[\\\"bin_maxbins_40_total_sulfur_dioxide\\\"])))) : 0.5)\"}}, \"x\": {\"field\": \"bin_maxbins_40_total_sulfur_dioxide_end\", \"scale\": \"child__total_sulfur_dioxide_x\", \"offset\": {\"signal\": \"0.5 + (abs(scale(\\\"child__total_sulfur_dioxide_x\\\", datum[\\\"bin_maxbins_40_total_sulfur_dioxide_end\\\"]) - scale(\\\"child__total_sulfur_dioxide_x\\\", datum[\\\"bin_maxbins_40_total_sulfur_dioxide\\\"])) < 0.25 ? 0.5 * (0.25 - (abs(scale(\\\"child__total_sulfur_dioxide_x\\\", datum[\\\"bin_maxbins_40_total_sulfur_dioxide_end\\\"]) - scale(\\\"child__total_sulfur_dioxide_x\\\", datum[\\\"bin_maxbins_40_total_sulfur_dioxide\\\"])))) : -0.5)\"}}}}, \"style\": [\"bar\"]}], \"axes\": [{\"scale\": \"child__total_sulfur_dioxide_y\", \"domain\": false, \"zindex\": 0, \"grid\": true, \"tickCount\": {\"signal\": \"ceil(childHeight/40)\"}, \"gridScale\": \"child__total_sulfur_dioxide_x\", \"orient\": \"left\", \"labels\": false, \"maxExtent\": 0, \"minExtent\": 0, \"ticks\": false, \"aria\": false}, {\"scale\": \"child__total_sulfur_dioxide_x\", \"tickCount\": {\"signal\": \"ceil(childWidth/10)\"}, \"labelOverlap\": true, \"zindex\": 0, \"title\": \"total_sulfur_dioxide (binned)\", \"grid\": false, \"labelFlush\": true, \"orient\": \"bottom\"}, {\"scale\": \"child__total_sulfur_dioxide_y\", \"grid\": false, \"labelOverlap\": true, \"tickCount\": {\"signal\": \"ceil(childHeight/40)\"}, \"orient\": \"left\", \"title\": \"Count of Records\", \"zindex\": 0}], \"style\": \"cell\"}, {\"type\": \"group\", \"name\": \"child__density_group\", \"encode\": {\"update\": {\"height\": {\"signal\": \"childHeight\"}, \"width\": {\"signal\": \"childWidth\"}}}, \"marks\": [{\"type\": \"rect\", \"name\": \"child__density_marks\", \"from\": {\"data\": \"data_8\"}, \"encode\": {\"update\": {\"x2\": {\"field\": \"bin_maxbins_40_density\", \"scale\": \"child__density_x\", \"offset\": {\"signal\": \"0.5 + (abs(scale(\\\"child__density_x\\\", datum[\\\"bin_maxbins_40_density_end\\\"]) - scale(\\\"child__density_x\\\", datum[\\\"bin_maxbins_40_density\\\"])) < 0.25 ? -0.5 * (0.25 - (abs(scale(\\\"child__density_x\\\", datum[\\\"bin_maxbins_40_density_end\\\"]) - scale(\\\"child__density_x\\\", datum[\\\"bin_maxbins_40_density\\\"])))) : 0.5)\"}}, \"fill\": {\"value\": \"#4c78a8\"}, \"x\": {\"field\": \"bin_maxbins_40_density_end\", \"scale\": \"child__density_x\", \"offset\": {\"signal\": \"0.5 + (abs(scale(\\\"child__density_x\\\", datum[\\\"bin_maxbins_40_density_end\\\"]) - scale(\\\"child__density_x\\\", datum[\\\"bin_maxbins_40_density\\\"])) < 0.25 ? 0.5 * (0.25 - (abs(scale(\\\"child__density_x\\\", datum[\\\"bin_maxbins_40_density_end\\\"]) - scale(\\\"child__density_x\\\", datum[\\\"bin_maxbins_40_density\\\"])))) : -0.5)\"}}, \"y\": {\"field\": \"__count\", \"scale\": \"child__density_y\"}, \"y2\": {\"value\": 0, \"scale\": \"child__density_y\"}}}, \"style\": [\"bar\"]}], \"axes\": [{\"scale\": \"child__density_y\", \"domain\": false, \"maxExtent\": 0, \"zindex\": 0, \"minExtent\": 0, \"gridScale\": \"child__density_x\", \"orient\": \"left\", \"grid\": true, \"tickCount\": {\"signal\": \"ceil(childHeight/40)\"}, \"ticks\": false, \"aria\": false, \"labels\": false}, {\"scale\": \"child__density_x\", \"orient\": \"bottom\", \"labelFlush\": true, \"title\": \"density (binned)\", \"zindex\": 0, \"grid\": false, \"tickCount\": {\"signal\": \"ceil(childWidth/10)\"}, \"labelOverlap\": true}, {\"scale\": \"child__density_y\", \"title\": \"Count of Records\", \"zindex\": 0, \"orient\": \"left\", \"grid\": false, \"labelOverlap\": true, \"tickCount\": {\"signal\": \"ceil(childHeight/40)\"}}], \"style\": \"cell\"}, {\"type\": \"group\", \"name\": \"child__ph_group\", \"encode\": {\"update\": {\"width\": {\"signal\": \"childWidth\"}, \"height\": {\"signal\": \"childHeight\"}}}, \"marks\": [{\"type\": \"rect\", \"name\": \"child__ph_marks\", \"from\": {\"data\": \"data_9\"}, \"encode\": {\"update\": {\"fill\": {\"value\": \"#4c78a8\"}, \"y2\": {\"value\": 0, \"scale\": \"child__ph_y\"}, \"x\": {\"field\": \"bin_maxbins_40_ph_end\", \"scale\": \"child__ph_x\", \"offset\": {\"signal\": \"0.5 + (abs(scale(\\\"child__ph_x\\\", datum[\\\"bin_maxbins_40_ph_end\\\"]) - scale(\\\"child__ph_x\\\", datum[\\\"bin_maxbins_40_ph\\\"])) < 0.25 ? 0.5 * (0.25 - (abs(scale(\\\"child__ph_x\\\", datum[\\\"bin_maxbins_40_ph_end\\\"]) - scale(\\\"child__ph_x\\\", datum[\\\"bin_maxbins_40_ph\\\"])))) : -0.5)\"}}, \"y\": {\"field\": \"__count\", \"scale\": \"child__ph_y\"}, \"x2\": {\"field\": \"bin_maxbins_40_ph\", \"scale\": \"child__ph_x\", \"offset\": {\"signal\": \"0.5 + (abs(scale(\\\"child__ph_x\\\", datum[\\\"bin_maxbins_40_ph_end\\\"]) - scale(\\\"child__ph_x\\\", datum[\\\"bin_maxbins_40_ph\\\"])) < 0.25 ? -0.5 * (0.25 - (abs(scale(\\\"child__ph_x\\\", datum[\\\"bin_maxbins_40_ph_end\\\"]) - scale(\\\"child__ph_x\\\", datum[\\\"bin_maxbins_40_ph\\\"])))) : 0.5)\"}}}}, \"style\": [\"bar\"]}], \"axes\": [{\"scale\": \"child__ph_y\", \"domain\": false, \"maxExtent\": 0, \"ticks\": false, \"labels\": false, \"minExtent\": 0, \"orient\": \"left\", \"tickCount\": {\"signal\": \"ceil(childHeight/40)\"}, \"gridScale\": \"child__ph_x\", \"grid\": true, \"aria\": false, \"zindex\": 0}, {\"scale\": \"child__ph_x\", \"labelFlush\": true, \"zindex\": 0, \"grid\": false, \"tickCount\": {\"signal\": \"ceil(childWidth/10)\"}, \"title\": \"ph (binned)\", \"orient\": \"bottom\", \"labelOverlap\": true}, {\"scale\": \"child__ph_y\", \"title\": \"Count of Records\", \"labelOverlap\": true, \"grid\": false, \"zindex\": 0, \"orient\": \"left\", \"tickCount\": {\"signal\": \"ceil(childHeight/40)\"}}], \"style\": \"cell\"}, {\"type\": \"group\", \"name\": \"child__sulphates_group\", \"encode\": {\"update\": {\"height\": {\"signal\": \"childHeight\"}, \"width\": {\"signal\": \"childWidth\"}}}, \"marks\": [{\"type\": \"rect\", \"name\": \"child__sulphates_marks\", \"from\": {\"data\": \"data_10\"}, \"encode\": {\"update\": {\"y2\": {\"value\": 0, \"scale\": \"child__sulphates_y\"}, \"x\": {\"field\": \"bin_maxbins_40_sulphates_end\", \"scale\": \"child__sulphates_x\", \"offset\": {\"signal\": \"0.5 + (abs(scale(\\\"child__sulphates_x\\\", datum[\\\"bin_maxbins_40_sulphates_end\\\"]) - scale(\\\"child__sulphates_x\\\", datum[\\\"bin_maxbins_40_sulphates\\\"])) < 0.25 ? 0.5 * (0.25 - (abs(scale(\\\"child__sulphates_x\\\", datum[\\\"bin_maxbins_40_sulphates_end\\\"]) - scale(\\\"child__sulphates_x\\\", datum[\\\"bin_maxbins_40_sulphates\\\"])))) : -0.5)\"}}, \"x2\": {\"field\": \"bin_maxbins_40_sulphates\", \"scale\": \"child__sulphates_x\", \"offset\": {\"signal\": \"0.5 + (abs(scale(\\\"child__sulphates_x\\\", datum[\\\"bin_maxbins_40_sulphates_end\\\"]) - scale(\\\"child__sulphates_x\\\", datum[\\\"bin_maxbins_40_sulphates\\\"])) < 0.25 ? -0.5 * (0.25 - (abs(scale(\\\"child__sulphates_x\\\", datum[\\\"bin_maxbins_40_sulphates_end\\\"]) - scale(\\\"child__sulphates_x\\\", datum[\\\"bin_maxbins_40_sulphates\\\"])))) : 0.5)\"}}, \"y\": {\"field\": \"__count\", \"scale\": \"child__sulphates_y\"}, \"fill\": {\"value\": \"#4c78a8\"}}}, \"style\": [\"bar\"]}], \"axes\": [{\"scale\": \"child__sulphates_y\", \"orient\": \"left\", \"zindex\": 0, \"gridScale\": \"child__sulphates_x\", \"labels\": false, \"domain\": false, \"aria\": false, \"grid\": true, \"minExtent\": 0, \"tickCount\": {\"signal\": \"ceil(childHeight/40)\"}, \"maxExtent\": 0, \"ticks\": false}, {\"scale\": \"child__sulphates_x\", \"grid\": false, \"labelOverlap\": true, \"labelFlush\": true, \"tickCount\": {\"signal\": \"ceil(childWidth/10)\"}, \"zindex\": 0, \"orient\": \"bottom\", \"title\": \"sulphates (binned)\"}, {\"scale\": \"child__sulphates_y\", \"tickCount\": {\"signal\": \"ceil(childHeight/40)\"}, \"zindex\": 0, \"grid\": false, \"orient\": \"left\", \"labelOverlap\": true, \"title\": \"Count of Records\"}], \"style\": \"cell\"}, {\"type\": \"group\", \"name\": \"child__alcohol_group\", \"encode\": {\"update\": {\"height\": {\"signal\": \"childHeight\"}, \"width\": {\"signal\": \"childWidth\"}}}, \"marks\": [{\"type\": \"rect\", \"name\": \"child__alcohol_marks\", \"from\": {\"data\": \"data_11\"}, \"encode\": {\"update\": {\"y\": {\"field\": \"__count\", \"scale\": \"child__alcohol_y\"}, \"y2\": {\"value\": 0, \"scale\": \"child__alcohol_y\"}, \"fill\": {\"value\": \"#4c78a8\"}, \"x\": {\"field\": \"bin_maxbins_40_alcohol_end\", \"scale\": \"child__alcohol_x\", \"offset\": {\"signal\": \"0.5 + (abs(scale(\\\"child__alcohol_x\\\", datum[\\\"bin_maxbins_40_alcohol_end\\\"]) - scale(\\\"child__alcohol_x\\\", datum[\\\"bin_maxbins_40_alcohol\\\"])) < 0.25 ? 0.5 * (0.25 - (abs(scale(\\\"child__alcohol_x\\\", datum[\\\"bin_maxbins_40_alcohol_end\\\"]) - scale(\\\"child__alcohol_x\\\", datum[\\\"bin_maxbins_40_alcohol\\\"])))) : -0.5)\"}}, \"x2\": {\"field\": \"bin_maxbins_40_alcohol\", \"scale\": \"child__alcohol_x\", \"offset\": {\"signal\": \"0.5 + (abs(scale(\\\"child__alcohol_x\\\", datum[\\\"bin_maxbins_40_alcohol_end\\\"]) - scale(\\\"child__alcohol_x\\\", datum[\\\"bin_maxbins_40_alcohol\\\"])) < 0.25 ? -0.5 * (0.25 - (abs(scale(\\\"child__alcohol_x\\\", datum[\\\"bin_maxbins_40_alcohol_end\\\"]) - scale(\\\"child__alcohol_x\\\", datum[\\\"bin_maxbins_40_alcohol\\\"])))) : 0.5)\"}}}}, \"style\": [\"bar\"]}], \"axes\": [{\"scale\": \"child__alcohol_y\", \"grid\": true, \"domain\": false, \"maxExtent\": 0, \"tickCount\": {\"signal\": \"ceil(childHeight/40)\"}, \"gridScale\": \"child__alcohol_x\", \"orient\": \"left\", \"zindex\": 0, \"labels\": false, \"minExtent\": 0, \"ticks\": false, \"aria\": false}, {\"scale\": \"child__alcohol_x\", \"labelOverlap\": true, \"tickCount\": {\"signal\": \"ceil(childWidth/10)\"}, \"zindex\": 0, \"orient\": \"bottom\", \"grid\": false, \"title\": \"alcohol (binned)\", \"labelFlush\": true}, {\"scale\": \"child__alcohol_y\", \"tickCount\": {\"signal\": \"ceil(childHeight/40)\"}, \"title\": \"Count of Records\", \"labelOverlap\": true, \"zindex\": 0, \"orient\": \"left\", \"grid\": false}], \"style\": \"cell\"}, {\"type\": \"group\", \"name\": \"child__quality_group\", \"encode\": {\"update\": {\"width\": {\"signal\": \"childWidth\"}, \"height\": {\"signal\": \"childHeight\"}}}, \"marks\": [{\"type\": \"rect\", \"name\": \"child__quality_marks\", \"from\": {\"data\": \"data_0\"}, \"encode\": {\"update\": {\"fill\": {\"value\": \"#4c78a8\"}, \"x\": {\"field\": \"bin_maxbins_40_quality_end\", \"scale\": \"child__quality_x\", \"offset\": {\"signal\": \"0.5 + (abs(scale(\\\"child__quality_x\\\", datum[\\\"bin_maxbins_40_quality_end\\\"]) - scale(\\\"child__quality_x\\\", datum[\\\"bin_maxbins_40_quality\\\"])) < 0.25 ? 0.5 * (0.25 - (abs(scale(\\\"child__quality_x\\\", datum[\\\"bin_maxbins_40_quality_end\\\"]) - scale(\\\"child__quality_x\\\", datum[\\\"bin_maxbins_40_quality\\\"])))) : -0.5)\"}}, \"x2\": {\"field\": \"bin_maxbins_40_quality\", \"scale\": \"child__quality_x\", \"offset\": {\"signal\": \"0.5 + (abs(scale(\\\"child__quality_x\\\", datum[\\\"bin_maxbins_40_quality_end\\\"]) - scale(\\\"child__quality_x\\\", datum[\\\"bin_maxbins_40_quality\\\"])) < 0.25 ? -0.5 * (0.25 - (abs(scale(\\\"child__quality_x\\\", datum[\\\"bin_maxbins_40_quality_end\\\"]) - scale(\\\"child__quality_x\\\", datum[\\\"bin_maxbins_40_quality\\\"])))) : 0.5)\"}}, \"y2\": {\"value\": 0, \"scale\": \"child__quality_y\"}, \"y\": {\"field\": \"__count\", \"scale\": \"child__quality_y\"}}}, \"style\": [\"bar\"]}], \"axes\": [{\"scale\": \"child__quality_y\", \"minExtent\": 0, \"domain\": false, \"gridScale\": \"child__quality_x\", \"zindex\": 0, \"orient\": \"left\", \"aria\": false, \"maxExtent\": 0, \"labels\": false, \"ticks\": false, \"grid\": true, \"tickCount\": {\"signal\": \"ceil(childHeight/40)\"}}, {\"scale\": \"child__quality_x\", \"tickCount\": {\"signal\": \"ceil(childWidth/10)\"}, \"zindex\": 0, \"orient\": \"bottom\", \"grid\": false, \"title\": \"quality (binned)\", \"labelFlush\": true, \"labelOverlap\": true}, {\"scale\": \"child__quality_y\", \"tickCount\": {\"signal\": \"ceil(childHeight/40)\"}, \"labelOverlap\": true, \"grid\": false, \"zindex\": 0, \"orient\": \"left\", \"title\": \"Count of Records\"}], \"style\": \"cell\"}], \"scales\": [{\"name\": \"child__fixed_acidity_x\", \"type\": \"linear\", \"domain\": {\"signal\": \"[child__fixed_acidity_bin_maxbins_40_fixed_acidity_bins.start, child__fixed_acidity_bin_maxbins_40_fixed_acidity_bins.stop]\"}, \"range\": [0, {\"signal\": \"childWidth\"}], \"bins\": {\"signal\": \"child__fixed_acidity_bin_maxbins_40_fixed_acidity_bins\"}, \"zero\": false}, {\"name\": \"child__fixed_acidity_y\", \"type\": \"linear\", \"domain\": [{\"signal\": \"(data(\\\"data_1_child__fixed_acidity_y_domain___count\\\")[0] || {}).min\"}, {\"signal\": \"(data(\\\"data_1_child__fixed_acidity_y_domain___count\\\")[0] || {}).max\"}], \"range\": [{\"signal\": \"childHeight\"}, 0], \"zero\": true, \"nice\": true}, {\"name\": \"child__volatile_acidity_x\", \"type\": \"linear\", \"domain\": {\"signal\": \"[child__volatile_acidity_bin_maxbins_40_volatile_acidity_bins.start, child__volatile_acidity_bin_maxbins_40_volatile_acidity_bins.stop]\"}, \"range\": [0, {\"signal\": \"childWidth\"}], \"bins\": {\"signal\": \"child__volatile_acidity_bin_maxbins_40_volatile_acidity_bins\"}, \"zero\": false}, {\"name\": \"child__volatile_acidity_y\", \"type\": \"linear\", \"domain\": [{\"signal\": \"(data(\\\"data_2_child__volatile_acidity_y_domain___count\\\")[0] || {}).min\"}, {\"signal\": \"(data(\\\"data_2_child__volatile_acidity_y_domain___count\\\")[0] || {}).max\"}], \"range\": [{\"signal\": \"childHeight\"}, 0], \"zero\": true, \"nice\": true}, {\"name\": \"child__citric_acid_x\", \"type\": \"linear\", \"domain\": {\"signal\": \"[child__citric_acid_bin_maxbins_40_citric_acid_bins.start, child__citric_acid_bin_maxbins_40_citric_acid_bins.stop]\"}, \"range\": [0, {\"signal\": \"childWidth\"}], \"bins\": {\"signal\": \"child__citric_acid_bin_maxbins_40_citric_acid_bins\"}, \"zero\": false}, {\"name\": \"child__citric_acid_y\", \"type\": \"linear\", \"domain\": [{\"signal\": \"(data(\\\"data_3_child__citric_acid_y_domain___count\\\")[0] || {}).min\"}, {\"signal\": \"(data(\\\"data_3_child__citric_acid_y_domain___count\\\")[0] || {}).max\"}], \"range\": [{\"signal\": \"childHeight\"}, 0], \"zero\": true, \"nice\": true}, {\"name\": \"child__residual_sugar_x\", \"type\": \"linear\", \"domain\": {\"signal\": \"[child__residual_sugar_bin_maxbins_40_residual_sugar_bins.start, child__residual_sugar_bin_maxbins_40_residual_sugar_bins.stop]\"}, \"range\": [0, {\"signal\": \"childWidth\"}], \"bins\": {\"signal\": \"child__residual_sugar_bin_maxbins_40_residual_sugar_bins\"}, \"zero\": false}, {\"name\": \"child__residual_sugar_y\", \"type\": \"linear\", \"domain\": [{\"signal\": \"(data(\\\"data_4_child__residual_sugar_y_domain___count\\\")[0] || {}).min\"}, {\"signal\": \"(data(\\\"data_4_child__residual_sugar_y_domain___count\\\")[0] || {}).max\"}], \"range\": [{\"signal\": \"childHeight\"}, 0], \"zero\": true, \"nice\": true}, {\"name\": \"child__chlorides_x\", \"type\": \"linear\", \"domain\": {\"signal\": \"[child__chlorides_bin_maxbins_40_chlorides_bins.start, child__chlorides_bin_maxbins_40_chlorides_bins.stop]\"}, \"range\": [0, {\"signal\": \"childWidth\"}], \"bins\": {\"signal\": \"child__chlorides_bin_maxbins_40_chlorides_bins\"}, \"zero\": false}, {\"name\": \"child__chlorides_y\", \"type\": \"linear\", \"domain\": [{\"signal\": \"(data(\\\"data_5_child__chlorides_y_domain___count\\\")[0] || {}).min\"}, {\"signal\": \"(data(\\\"data_5_child__chlorides_y_domain___count\\\")[0] || {}).max\"}], \"range\": [{\"signal\": \"childHeight\"}, 0], \"zero\": true, \"nice\": true}, {\"name\": \"child__free_sulfur_dioxide_x\", \"type\": \"linear\", \"domain\": {\"signal\": \"[child__free_sulfur_dioxide_bin_maxbins_40_free_sulfur_dioxide_bins.start, child__free_sulfur_dioxide_bin_maxbins_40_free_sulfur_dioxide_bins.stop]\"}, \"range\": [0, {\"signal\": \"childWidth\"}], \"bins\": {\"signal\": \"child__free_sulfur_dioxide_bin_maxbins_40_free_sulfur_dioxide_bins\"}, \"zero\": false}, {\"name\": \"child__free_sulfur_dioxide_y\", \"type\": \"linear\", \"domain\": [{\"signal\": \"(data(\\\"data_6_child__free_sulfur_dioxide_y_domain___count\\\")[0] || {}).min\"}, {\"signal\": \"(data(\\\"data_6_child__free_sulfur_dioxide_y_domain___count\\\")[0] || {}).max\"}], \"range\": [{\"signal\": \"childHeight\"}, 0], \"nice\": true, \"zero\": true}, {\"name\": \"child__total_sulfur_dioxide_x\", \"type\": \"linear\", \"domain\": {\"signal\": \"[child__total_sulfur_dioxide_bin_maxbins_40_total_sulfur_dioxide_bins.start, child__total_sulfur_dioxide_bin_maxbins_40_total_sulfur_dioxide_bins.stop]\"}, \"range\": [0, {\"signal\": \"childWidth\"}], \"bins\": {\"signal\": \"child__total_sulfur_dioxide_bin_maxbins_40_total_sulfur_dioxide_bins\"}, \"zero\": false}, {\"name\": \"child__total_sulfur_dioxide_y\", \"type\": \"linear\", \"domain\": [{\"signal\": \"(data(\\\"data_7_child__total_sulfur_dioxide_y_domain___count\\\")[0] || {}).min\"}, {\"signal\": \"(data(\\\"data_7_child__total_sulfur_dioxide_y_domain___count\\\")[0] || {}).max\"}], \"range\": [{\"signal\": \"childHeight\"}, 0], \"zero\": true, \"nice\": true}, {\"name\": \"child__density_x\", \"type\": \"linear\", \"domain\": {\"signal\": \"[child__density_bin_maxbins_40_density_bins.start, child__density_bin_maxbins_40_density_bins.stop]\"}, \"range\": [0, {\"signal\": \"childWidth\"}], \"bins\": {\"signal\": \"child__density_bin_maxbins_40_density_bins\"}, \"zero\": false}, {\"name\": \"child__density_y\", \"type\": \"linear\", \"domain\": [{\"signal\": \"(data(\\\"data_8_child__density_y_domain___count\\\")[0] || {}).min\"}, {\"signal\": \"(data(\\\"data_8_child__density_y_domain___count\\\")[0] || {}).max\"}], \"range\": [{\"signal\": \"childHeight\"}, 0], \"zero\": true, \"nice\": true}, {\"name\": \"child__ph_x\", \"type\": \"linear\", \"domain\": {\"signal\": \"[child__ph_bin_maxbins_40_ph_bins.start, child__ph_bin_maxbins_40_ph_bins.stop]\"}, \"range\": [0, {\"signal\": \"childWidth\"}], \"bins\": {\"signal\": \"child__ph_bin_maxbins_40_ph_bins\"}, \"zero\": false}, {\"name\": \"child__ph_y\", \"type\": \"linear\", \"domain\": [{\"signal\": \"(data(\\\"data_9_child__ph_y_domain___count\\\")[0] || {}).min\"}, {\"signal\": \"(data(\\\"data_9_child__ph_y_domain___count\\\")[0] || {}).max\"}], \"range\": [{\"signal\": \"childHeight\"}, 0], \"nice\": true, \"zero\": true}, {\"name\": \"child__sulphates_x\", \"type\": \"linear\", \"domain\": {\"signal\": \"[child__sulphates_bin_maxbins_40_sulphates_bins.start, child__sulphates_bin_maxbins_40_sulphates_bins.stop]\"}, \"range\": [0, {\"signal\": \"childWidth\"}], \"bins\": {\"signal\": \"child__sulphates_bin_maxbins_40_sulphates_bins\"}, \"zero\": false}, {\"name\": \"child__sulphates_y\", \"type\": \"linear\", \"domain\": [{\"signal\": \"(data(\\\"data_10_child__sulphates_y_domain___count\\\")[0] || {}).min\"}, {\"signal\": \"(data(\\\"data_10_child__sulphates_y_domain___count\\\")[0] || {}).max\"}], \"range\": [{\"signal\": \"childHeight\"}, 0], \"zero\": true, \"nice\": true}, {\"name\": \"child__alcohol_x\", \"type\": \"linear\", \"domain\": {\"signal\": \"[child__alcohol_bin_maxbins_40_alcohol_bins.start, child__alcohol_bin_maxbins_40_alcohol_bins.stop]\"}, \"range\": [0, {\"signal\": \"childWidth\"}], \"bins\": {\"signal\": \"child__alcohol_bin_maxbins_40_alcohol_bins\"}, \"zero\": false}, {\"name\": \"child__alcohol_y\", \"type\": \"linear\", \"domain\": [{\"signal\": \"(data(\\\"data_11_child__alcohol_y_domain___count\\\")[0] || {}).min\"}, {\"signal\": \"(data(\\\"data_11_child__alcohol_y_domain___count\\\")[0] || {}).max\"}], \"range\": [{\"signal\": \"childHeight\"}, 0], \"nice\": true, \"zero\": true}, {\"name\": \"child__quality_x\", \"type\": \"linear\", \"domain\": {\"signal\": \"[child__quality_bin_maxbins_40_quality_bins.start, child__quality_bin_maxbins_40_quality_bins.stop]\"}, \"range\": [0, {\"signal\": \"childWidth\"}], \"bins\": {\"signal\": \"child__quality_bin_maxbins_40_quality_bins\"}, \"zero\": false}, {\"name\": \"child__quality_y\", \"type\": \"linear\", \"domain\": [{\"signal\": \"(data(\\\"data_0_child__quality_y_domain___count\\\")[0] || {}).min\"}, {\"signal\": \"(data(\\\"data_0_child__quality_y_domain___count\\\")[0] || {}).max\"}], \"range\": [{\"signal\": \"childHeight\"}, 0], \"nice\": true, \"zero\": true}], \"background\": \"white\", \"padding\": 5, \"layout\": {\"padding\": 20, \"columns\": 3, \"bounds\": \"full\", \"align\": \"all\"}}, {\"mode\": \"vega\"});\n",
       "</script>"
      ],
      "text/plain": [
       "alt.RepeatChart(...)"
      ]
     },
     "execution_count": 69,
     "metadata": {},
     "output_type": "execute_result"
    }
   ],
   "source": [
    "# Visualizing feature distribution using a histogram\n",
    "columns = wine_df.columns.to_list()\n",
    "\n",
    "alt.Chart(wine_df).mark_bar().encode(\n",
    "    x=alt.X(alt.repeat('repeat'),bin=alt.Bin(maxbins=40)),\n",
    "    y=alt.Y('count()')\n",
    ").repeat(\n",
    "    repeat=columns,\n",
    "    columns=3\n",
    ")"
   ]
  },
  {
   "cell_type": "markdown",
   "metadata": {},
   "source": [
    "# DISCUSSION\n",
    "- summarize what you found\n",
    "- discuss whether this is what you expected to find?\n",
    "- discuss what impact could such findings have?\n",
    "- discuss what future questions could this lead to?"
   ]
  },
  {
   "cell_type": "code",
   "execution_count": null,
   "metadata": {},
   "outputs": [],
   "source": []
  },
  {
   "cell_type": "code",
   "execution_count": null,
   "metadata": {},
   "outputs": [],
   "source": []
  },
  {
   "cell_type": "markdown",
   "metadata": {},
   "source": [
    "# REFERENCES\n",
    "- at least 4 citations relevant to the project (format is your choose, just be consistent across the references)."
   ]
  },
  {
   "cell_type": "code",
   "execution_count": null,
   "metadata": {},
   "outputs": [],
   "source": []
  },
  {
   "cell_type": "code",
   "execution_count": null,
   "metadata": {},
   "outputs": [],
   "source": []
  },
  {
   "cell_type": "markdown",
   "metadata": {},
   "source": []
  }
 ],
 "metadata": {
  "kernelspec": {
   "display_name": "base",
   "language": "python",
   "name": "python3"
  },
  "language_info": {
   "codemirror_mode": {
    "name": "ipython",
    "version": 3
   },
   "file_extension": ".py",
   "mimetype": "text/x-python",
   "name": "python",
   "nbconvert_exporter": "python",
   "pygments_lexer": "ipython3",
   "version": "3.11.4"
  }
 },
 "nbformat": 4,
 "nbformat_minor": 2
}
