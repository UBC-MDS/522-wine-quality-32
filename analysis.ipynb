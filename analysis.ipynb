{
 "cells": [
  {
   "cell_type": "markdown",
   "metadata": {},
   "source": [
    "# TITLE\n"
   ]
  },
  {
   "cell_type": "code",
   "execution_count": null,
   "metadata": {},
   "outputs": [],
   "source": []
  },
  {
   "cell_type": "code",
   "execution_count": null,
   "metadata": {},
   "outputs": [],
   "source": []
  },
  {
   "cell_type": "markdown",
   "metadata": {},
   "source": [
    "# SUMMARY"
   ]
  },
  {
   "cell_type": "code",
   "execution_count": null,
   "metadata": {},
   "outputs": [],
   "source": []
  },
  {
   "cell_type": "code",
   "execution_count": null,
   "metadata": {},
   "outputs": [],
   "source": []
  },
  {
   "cell_type": "markdown",
   "metadata": {},
   "source": [
    "# INTRODUCTION\n",
    "- provide some relevant background information on the topic so that someone unfamiliar with it will be prepared to understand the rest of your report\n",
    "- clearly state the question you tried to answer with your project\n",
    "- identify and describe the dataset that was used to answer the question"
   ]
  },
  {
   "cell_type": "code",
   "execution_count": null,
   "metadata": {},
   "outputs": [],
   "source": []
  },
  {
   "cell_type": "code",
   "execution_count": null,
   "metadata": {},
   "outputs": [],
   "source": []
  },
  {
   "cell_type": "markdown",
   "metadata": {},
   "source": [
    "# METHODS AND RESULTS\n",
    "\n",
    "- describe in written english the methods you used to perform your analysis from beginning to end that narrates the code the does the analysis.\n",
    "- your report should include code which:\n",
    "- loads data from the original source on the web\n",
    "- wrangles and cleans the data from it’s original (downloaded) format to the format necessary for the planned classification or clustering analysis\n",
    "- performs a summary of the data set that is relevant for exploratory data analysis related to the planned classification analysis\n",
    "- creates a visualization of the dataset that is relevant for exploratory data analysis related to the planned classification analysis\n",
    "- performs classification or regression analysis\n",
    "- creates a visualization of the result of the analysis\n",
    "- note: all tables and figure should have a figure/table number and a legend"
   ]
  },
  {
   "cell_type": "markdown",
   "metadata": {
    "vscode": {
     "languageId": "plaintext"
    }
   },
   "source": []
  },
  {
   "cell_type": "code",
   "execution_count": 97,
   "metadata": {},
   "outputs": [
    {
     "data": {
      "text/plain": [
       "DataTransformerRegistry.enable('vegafusion')"
      ]
     },
     "execution_count": 97,
     "metadata": {},
     "output_type": "execute_result"
    }
   ],
   "source": [
    "import pandas as pd\n",
    "import numpy as np\n",
    "import altair as alt\n",
    "import janitor\n",
    "alt.data_transformers.enable(\"vegafusion\")"
   ]
  },
  {
   "cell_type": "code",
   "execution_count": 98,
   "metadata": {},
   "outputs": [
    {
     "data": {
      "text/html": [
       "<div>\n",
       "<style scoped>\n",
       "    .dataframe tbody tr th:only-of-type {\n",
       "        vertical-align: middle;\n",
       "    }\n",
       "\n",
       "    .dataframe tbody tr th {\n",
       "        vertical-align: top;\n",
       "    }\n",
       "\n",
       "    .dataframe thead th {\n",
       "        text-align: right;\n",
       "    }\n",
       "</style>\n",
       "<table border=\"1\" class=\"dataframe\">\n",
       "  <thead>\n",
       "    <tr style=\"text-align: right;\">\n",
       "      <th></th>\n",
       "      <th>fixed_acidity</th>\n",
       "      <th>volatile_acidity</th>\n",
       "      <th>citric_acid</th>\n",
       "      <th>residual_sugar</th>\n",
       "      <th>chlorides</th>\n",
       "      <th>free_sulfur_dioxide</th>\n",
       "      <th>total_sulfur_dioxide</th>\n",
       "      <th>density</th>\n",
       "      <th>ph</th>\n",
       "      <th>sulphates</th>\n",
       "      <th>alcohol</th>\n",
       "      <th>quality</th>\n",
       "    </tr>\n",
       "  </thead>\n",
       "  <tbody>\n",
       "    <tr>\n",
       "      <th>0</th>\n",
       "      <td>7.4</td>\n",
       "      <td>0.70</td>\n",
       "      <td>0.00</td>\n",
       "      <td>1.9</td>\n",
       "      <td>0.076</td>\n",
       "      <td>11.0</td>\n",
       "      <td>34.0</td>\n",
       "      <td>0.9978</td>\n",
       "      <td>3.51</td>\n",
       "      <td>0.56</td>\n",
       "      <td>9.4</td>\n",
       "      <td>5.0</td>\n",
       "    </tr>\n",
       "    <tr>\n",
       "      <th>1</th>\n",
       "      <td>7.8</td>\n",
       "      <td>0.88</td>\n",
       "      <td>0.00</td>\n",
       "      <td>2.6</td>\n",
       "      <td>0.098</td>\n",
       "      <td>25.0</td>\n",
       "      <td>67.0</td>\n",
       "      <td>0.9968</td>\n",
       "      <td>3.20</td>\n",
       "      <td>0.68</td>\n",
       "      <td>9.8</td>\n",
       "      <td>5.0</td>\n",
       "    </tr>\n",
       "    <tr>\n",
       "      <th>2</th>\n",
       "      <td>7.8</td>\n",
       "      <td>0.76</td>\n",
       "      <td>0.04</td>\n",
       "      <td>2.3</td>\n",
       "      <td>0.092</td>\n",
       "      <td>15.0</td>\n",
       "      <td>54.0</td>\n",
       "      <td>0.9970</td>\n",
       "      <td>3.26</td>\n",
       "      <td>0.65</td>\n",
       "      <td>9.8</td>\n",
       "      <td>5.0</td>\n",
       "    </tr>\n",
       "    <tr>\n",
       "      <th>3</th>\n",
       "      <td>11.2</td>\n",
       "      <td>0.28</td>\n",
       "      <td>0.56</td>\n",
       "      <td>1.9</td>\n",
       "      <td>0.075</td>\n",
       "      <td>17.0</td>\n",
       "      <td>60.0</td>\n",
       "      <td>0.9980</td>\n",
       "      <td>3.16</td>\n",
       "      <td>0.58</td>\n",
       "      <td>9.8</td>\n",
       "      <td>6.0</td>\n",
       "    </tr>\n",
       "    <tr>\n",
       "      <th>4</th>\n",
       "      <td>7.4</td>\n",
       "      <td>0.70</td>\n",
       "      <td>0.00</td>\n",
       "      <td>1.9</td>\n",
       "      <td>0.076</td>\n",
       "      <td>11.0</td>\n",
       "      <td>34.0</td>\n",
       "      <td>0.9978</td>\n",
       "      <td>3.51</td>\n",
       "      <td>0.56</td>\n",
       "      <td>9.4</td>\n",
       "      <td>5.0</td>\n",
       "    </tr>\n",
       "  </tbody>\n",
       "</table>\n",
       "</div>"
      ],
      "text/plain": [
       "   fixed_acidity  volatile_acidity  citric_acid  residual_sugar  chlorides  \\\n",
       "0            7.4              0.70         0.00             1.9      0.076   \n",
       "1            7.8              0.88         0.00             2.6      0.098   \n",
       "2            7.8              0.76         0.04             2.3      0.092   \n",
       "3           11.2              0.28         0.56             1.9      0.075   \n",
       "4            7.4              0.70         0.00             1.9      0.076   \n",
       "\n",
       "   free_sulfur_dioxide  total_sulfur_dioxide  density    ph  sulphates  \\\n",
       "0                 11.0                  34.0   0.9978  3.51       0.56   \n",
       "1                 25.0                  67.0   0.9968  3.20       0.68   \n",
       "2                 15.0                  54.0   0.9970  3.26       0.65   \n",
       "3                 17.0                  60.0   0.9980  3.16       0.58   \n",
       "4                 11.0                  34.0   0.9978  3.51       0.56   \n",
       "\n",
       "   alcohol  quality  \n",
       "0      9.4      5.0  \n",
       "1      9.8      5.0  \n",
       "2      9.8      5.0  \n",
       "3      9.8      6.0  \n",
       "4      9.4      5.0  "
      ]
     },
     "execution_count": 98,
     "metadata": {},
     "output_type": "execute_result"
    }
   ],
   "source": [
    "# Reading in data and stacking them vertically\n",
    "r_wine_df = pd.read_csv('data/winequality-red.csv', sep=';')\n",
    "w_wine_df = pd.read_csv('data/winequality-white.csv', sep=';')\n",
    "wine_df = pd.DataFrame(np.vstack([r_wine_df, w_wine_df]), columns=r_wine_df.columns)\n",
    "\n",
    "# Uses janitor to clean column names\n",
    "wine_df = wine_df.clean_names()\n",
    "wine_df.head()"
   ]
  },
  {
   "cell_type": "code",
   "execution_count": 99,
   "metadata": {},
   "outputs": [
    {
     "data": {
      "text/plain": [
       "(6497, 12)"
      ]
     },
     "execution_count": 99,
     "metadata": {},
     "output_type": "execute_result"
    }
   ],
   "source": [
    "# This gives the shape of the dataframe\n",
    "wine_df.shape"
   ]
  },
  {
   "cell_type": "code",
   "execution_count": 100,
   "metadata": {},
   "outputs": [
    {
     "data": {
      "text/plain": [
       "0"
      ]
     },
     "execution_count": 100,
     "metadata": {},
     "output_type": "execute_result"
    }
   ],
   "source": [
    "# Checking if there are null values\n",
    "wine_df.isna().any().sum()"
   ]
  },
  {
   "cell_type": "code",
   "execution_count": 101,
   "metadata": {},
   "outputs": [
    {
     "name": "stdout",
     "output_type": "stream",
     "text": [
      "<class 'pandas.core.frame.DataFrame'>\n",
      "RangeIndex: 6497 entries, 0 to 6496\n",
      "Data columns (total 12 columns):\n",
      " #   Column                Non-Null Count  Dtype  \n",
      "---  ------                --------------  -----  \n",
      " 0   fixed_acidity         6497 non-null   float64\n",
      " 1   volatile_acidity      6497 non-null   float64\n",
      " 2   citric_acid           6497 non-null   float64\n",
      " 3   residual_sugar        6497 non-null   float64\n",
      " 4   chlorides             6497 non-null   float64\n",
      " 5   free_sulfur_dioxide   6497 non-null   float64\n",
      " 6   total_sulfur_dioxide  6497 non-null   float64\n",
      " 7   density               6497 non-null   float64\n",
      " 8   ph                    6497 non-null   float64\n",
      " 9   sulphates             6497 non-null   float64\n",
      " 10  alcohol               6497 non-null   float64\n",
      " 11  quality               6497 non-null   float64\n",
      "dtypes: float64(12)\n",
      "memory usage: 609.2 KB\n"
     ]
    }
   ],
   "source": [
    "# Checks the summary of the dataframe\n",
    "wine_df.info()"
   ]
  },
  {
   "cell_type": "code",
   "execution_count": 102,
   "metadata": {},
   "outputs": [
    {
     "data": {
      "text/html": [
       "<div>\n",
       "<style scoped>\n",
       "    .dataframe tbody tr th:only-of-type {\n",
       "        vertical-align: middle;\n",
       "    }\n",
       "\n",
       "    .dataframe tbody tr th {\n",
       "        vertical-align: top;\n",
       "    }\n",
       "\n",
       "    .dataframe thead th {\n",
       "        text-align: right;\n",
       "    }\n",
       "</style>\n",
       "<table border=\"1\" class=\"dataframe\">\n",
       "  <thead>\n",
       "    <tr style=\"text-align: right;\">\n",
       "      <th></th>\n",
       "      <th>fixed_acidity</th>\n",
       "      <th>volatile_acidity</th>\n",
       "      <th>citric_acid</th>\n",
       "      <th>residual_sugar</th>\n",
       "      <th>chlorides</th>\n",
       "      <th>free_sulfur_dioxide</th>\n",
       "      <th>total_sulfur_dioxide</th>\n",
       "      <th>density</th>\n",
       "      <th>ph</th>\n",
       "      <th>sulphates</th>\n",
       "      <th>alcohol</th>\n",
       "      <th>quality</th>\n",
       "    </tr>\n",
       "  </thead>\n",
       "  <tbody>\n",
       "    <tr>\n",
       "      <th>count</th>\n",
       "      <td>6497.000000</td>\n",
       "      <td>6497.000000</td>\n",
       "      <td>6497.000000</td>\n",
       "      <td>6497.000000</td>\n",
       "      <td>6497.000000</td>\n",
       "      <td>6497.000000</td>\n",
       "      <td>6497.000000</td>\n",
       "      <td>6497.000000</td>\n",
       "      <td>6497.000000</td>\n",
       "      <td>6497.000000</td>\n",
       "      <td>6497.000000</td>\n",
       "      <td>6497.000000</td>\n",
       "    </tr>\n",
       "    <tr>\n",
       "      <th>mean</th>\n",
       "      <td>7.215307</td>\n",
       "      <td>0.339666</td>\n",
       "      <td>0.318633</td>\n",
       "      <td>5.443235</td>\n",
       "      <td>0.056034</td>\n",
       "      <td>30.525319</td>\n",
       "      <td>115.744574</td>\n",
       "      <td>0.994697</td>\n",
       "      <td>3.218501</td>\n",
       "      <td>0.531268</td>\n",
       "      <td>10.491801</td>\n",
       "      <td>5.818378</td>\n",
       "    </tr>\n",
       "    <tr>\n",
       "      <th>std</th>\n",
       "      <td>1.296434</td>\n",
       "      <td>0.164636</td>\n",
       "      <td>0.145318</td>\n",
       "      <td>4.757804</td>\n",
       "      <td>0.035034</td>\n",
       "      <td>17.749400</td>\n",
       "      <td>56.521855</td>\n",
       "      <td>0.002999</td>\n",
       "      <td>0.160787</td>\n",
       "      <td>0.148806</td>\n",
       "      <td>1.192712</td>\n",
       "      <td>0.873255</td>\n",
       "    </tr>\n",
       "    <tr>\n",
       "      <th>min</th>\n",
       "      <td>3.800000</td>\n",
       "      <td>0.080000</td>\n",
       "      <td>0.000000</td>\n",
       "      <td>0.600000</td>\n",
       "      <td>0.009000</td>\n",
       "      <td>1.000000</td>\n",
       "      <td>6.000000</td>\n",
       "      <td>0.987110</td>\n",
       "      <td>2.720000</td>\n",
       "      <td>0.220000</td>\n",
       "      <td>8.000000</td>\n",
       "      <td>3.000000</td>\n",
       "    </tr>\n",
       "    <tr>\n",
       "      <th>25%</th>\n",
       "      <td>6.400000</td>\n",
       "      <td>0.230000</td>\n",
       "      <td>0.250000</td>\n",
       "      <td>1.800000</td>\n",
       "      <td>0.038000</td>\n",
       "      <td>17.000000</td>\n",
       "      <td>77.000000</td>\n",
       "      <td>0.992340</td>\n",
       "      <td>3.110000</td>\n",
       "      <td>0.430000</td>\n",
       "      <td>9.500000</td>\n",
       "      <td>5.000000</td>\n",
       "    </tr>\n",
       "    <tr>\n",
       "      <th>50%</th>\n",
       "      <td>7.000000</td>\n",
       "      <td>0.290000</td>\n",
       "      <td>0.310000</td>\n",
       "      <td>3.000000</td>\n",
       "      <td>0.047000</td>\n",
       "      <td>29.000000</td>\n",
       "      <td>118.000000</td>\n",
       "      <td>0.994890</td>\n",
       "      <td>3.210000</td>\n",
       "      <td>0.510000</td>\n",
       "      <td>10.300000</td>\n",
       "      <td>6.000000</td>\n",
       "    </tr>\n",
       "    <tr>\n",
       "      <th>75%</th>\n",
       "      <td>7.700000</td>\n",
       "      <td>0.400000</td>\n",
       "      <td>0.390000</td>\n",
       "      <td>8.100000</td>\n",
       "      <td>0.065000</td>\n",
       "      <td>41.000000</td>\n",
       "      <td>156.000000</td>\n",
       "      <td>0.996990</td>\n",
       "      <td>3.320000</td>\n",
       "      <td>0.600000</td>\n",
       "      <td>11.300000</td>\n",
       "      <td>6.000000</td>\n",
       "    </tr>\n",
       "    <tr>\n",
       "      <th>max</th>\n",
       "      <td>15.900000</td>\n",
       "      <td>1.580000</td>\n",
       "      <td>1.660000</td>\n",
       "      <td>65.800000</td>\n",
       "      <td>0.611000</td>\n",
       "      <td>289.000000</td>\n",
       "      <td>440.000000</td>\n",
       "      <td>1.038980</td>\n",
       "      <td>4.010000</td>\n",
       "      <td>2.000000</td>\n",
       "      <td>14.900000</td>\n",
       "      <td>9.000000</td>\n",
       "    </tr>\n",
       "  </tbody>\n",
       "</table>\n",
       "</div>"
      ],
      "text/plain": [
       "       fixed_acidity  volatile_acidity  citric_acid  residual_sugar  \\\n",
       "count    6497.000000       6497.000000  6497.000000     6497.000000   \n",
       "mean        7.215307          0.339666     0.318633        5.443235   \n",
       "std         1.296434          0.164636     0.145318        4.757804   \n",
       "min         3.800000          0.080000     0.000000        0.600000   \n",
       "25%         6.400000          0.230000     0.250000        1.800000   \n",
       "50%         7.000000          0.290000     0.310000        3.000000   \n",
       "75%         7.700000          0.400000     0.390000        8.100000   \n",
       "max        15.900000          1.580000     1.660000       65.800000   \n",
       "\n",
       "         chlorides  free_sulfur_dioxide  total_sulfur_dioxide      density  \\\n",
       "count  6497.000000          6497.000000           6497.000000  6497.000000   \n",
       "mean      0.056034            30.525319            115.744574     0.994697   \n",
       "std       0.035034            17.749400             56.521855     0.002999   \n",
       "min       0.009000             1.000000              6.000000     0.987110   \n",
       "25%       0.038000            17.000000             77.000000     0.992340   \n",
       "50%       0.047000            29.000000            118.000000     0.994890   \n",
       "75%       0.065000            41.000000            156.000000     0.996990   \n",
       "max       0.611000           289.000000            440.000000     1.038980   \n",
       "\n",
       "                ph    sulphates      alcohol      quality  \n",
       "count  6497.000000  6497.000000  6497.000000  6497.000000  \n",
       "mean      3.218501     0.531268    10.491801     5.818378  \n",
       "std       0.160787     0.148806     1.192712     0.873255  \n",
       "min       2.720000     0.220000     8.000000     3.000000  \n",
       "25%       3.110000     0.430000     9.500000     5.000000  \n",
       "50%       3.210000     0.510000    10.300000     6.000000  \n",
       "75%       3.320000     0.600000    11.300000     6.000000  \n",
       "max       4.010000     2.000000    14.900000     9.000000  "
      ]
     },
     "execution_count": 102,
     "metadata": {},
     "output_type": "execute_result"
    }
   ],
   "source": [
    "# Gets statistics of numerical columns\n",
    "wine_df.describe()"
   ]
  },
  {
   "cell_type": "code",
   "execution_count": 103,
   "metadata": {},
   "outputs": [
    {
     "data": {
      "text/html": [
       "\n",
       "<style>\n",
       "  #altair-viz-c2e3f8b7988b4b62aad387216f612c71.vega-embed {\n",
       "    width: 100%;\n",
       "    display: flex;\n",
       "  }\n",
       "\n",
       "  #altair-viz-c2e3f8b7988b4b62aad387216f612c71.vega-embed details,\n",
       "  #altair-viz-c2e3f8b7988b4b62aad387216f612c71.vega-embed details summary {\n",
       "    position: relative;\n",
       "  }\n",
       "</style>\n",
       "<div id=\"altair-viz-c2e3f8b7988b4b62aad387216f612c71\"></div>\n",
       "<script type=\"text/javascript\">\n",
       "  var VEGA_DEBUG = (typeof VEGA_DEBUG == \"undefined\") ? {} : VEGA_DEBUG;\n",
       "  (function(spec, embedOpt){\n",
       "    let outputDiv = document.currentScript.previousElementSibling;\n",
       "    if (outputDiv.id !== \"altair-viz-c2e3f8b7988b4b62aad387216f612c71\") {\n",
       "      outputDiv = document.getElementById(\"altair-viz-c2e3f8b7988b4b62aad387216f612c71\");\n",
       "    }\n",
       "    const paths = {\n",
       "      \"vega\": \"https://cdn.jsdelivr.net/npm/vega@5?noext\",\n",
       "      \"vega-lib\": \"https://cdn.jsdelivr.net/npm/vega-lib?noext\",\n",
       "      \"vega-lite\": \"https://cdn.jsdelivr.net/npm/vega-lite@5.20.1?noext\",\n",
       "      \"vega-embed\": \"https://cdn.jsdelivr.net/npm/vega-embed@6?noext\",\n",
       "    };\n",
       "\n",
       "    function maybeLoadScript(lib, version) {\n",
       "      var key = `${lib.replace(\"-\", \"\")}_version`;\n",
       "      return (VEGA_DEBUG[key] == version) ?\n",
       "        Promise.resolve(paths[lib]) :\n",
       "        new Promise(function(resolve, reject) {\n",
       "          var s = document.createElement('script');\n",
       "          document.getElementsByTagName(\"head\")[0].appendChild(s);\n",
       "          s.async = true;\n",
       "          s.onload = () => {\n",
       "            VEGA_DEBUG[key] = version;\n",
       "            return resolve(paths[lib]);\n",
       "          };\n",
       "          s.onerror = () => reject(`Error loading script: ${paths[lib]}`);\n",
       "          s.src = paths[lib];\n",
       "        });\n",
       "    }\n",
       "\n",
       "    function showError(err) {\n",
       "      outputDiv.innerHTML = `<div class=\"error\" style=\"color:red;\">${err}</div>`;\n",
       "      throw err;\n",
       "    }\n",
       "\n",
       "    function displayChart(vegaEmbed) {\n",
       "      vegaEmbed(outputDiv, spec, embedOpt)\n",
       "        .catch(err => showError(`Javascript Error: ${err.message}<br>This usually means there's a typo in your chart specification. See the javascript console for the full traceback.`));\n",
       "    }\n",
       "\n",
       "    if(typeof define === \"function\" && define.amd) {\n",
       "      requirejs.config({paths});\n",
       "      require([\"vega-embed\"], displayChart, err => showError(`Error loading script: ${err.message}`));\n",
       "    } else {\n",
       "      maybeLoadScript(\"vega\", \"5\")\n",
       "        .then(() => maybeLoadScript(\"vega-lite\", \"5.20.1\"))\n",
       "        .then(() => maybeLoadScript(\"vega-embed\", \"6\"))\n",
       "        .catch(showError)\n",
       "        .then(() => displayChart(vegaEmbed));\n",
       "    }\n",
       "  })({\"$schema\": \"https://vega.github.io/schema/vega/v5.json\", \"data\": [{\"name\": \"source_0\"}, {\"name\": \"data_0\", \"values\": [{\"__count\": 238, \"fixed_acidity\": 7.4}, {\"__count\": 146, \"fixed_acidity\": 7.8}, {\"__count\": 5, \"fixed_acidity\": 11.2}, {\"__count\": 116, \"fixed_acidity\": 7.9}, {\"__count\": 222, \"fixed_acidity\": 7.3}, {\"__count\": 175, \"fixed_acidity\": 7.5}, {\"__count\": 264, \"fixed_acidity\": 6.7}, {\"__count\": 85, \"fixed_acidity\": 5.6}, {\"__count\": 49, \"fixed_acidity\": 8.9}, {\"__count\": 51, \"fixed_acidity\": 8.5}, {\"__count\": 82, \"fixed_acidity\": 8.1}, {\"__count\": 199, \"fixed_acidity\": 7.6}, {\"__count\": 279, \"fixed_acidity\": 6.9}, {\"__count\": 202, \"fixed_acidity\": 6.3}, {\"__count\": 257, \"fixed_acidity\": 7.1}, {\"__count\": 92, \"fixed_acidity\": 8.3}, {\"__count\": 34, \"fixed_acidity\": 5.2}, {\"__count\": 90, \"fixed_acidity\": 5.7}, {\"__count\": 52, \"fixed_acidity\": 8.8}, {\"__count\": 354, \"fixed_acidity\": 6.8}, {\"__count\": 2, \"fixed_acidity\": 4.6}, {\"__count\": 142, \"fixed_acidity\": 7.7}, {\"__count\": 39, \"fixed_acidity\": 8.7}, {\"__count\": 305, \"fixed_acidity\": 6.4}, {\"__count\": 327, \"fixed_acidity\": 6.6}, {\"__count\": 52, \"fixed_acidity\": 8.6}, {\"__count\": 20, \"fixed_acidity\": 10.2}, {\"__count\": 282, \"fixed_acidity\": 7.0}, {\"__count\": 273, \"fixed_acidity\": 7.2}, {\"__count\": 25, \"fixed_acidity\": 9.3}, {\"__count\": 122, \"fixed_acidity\": 8.0}, {\"__count\": 13, \"fixed_acidity\": 9.7}, {\"__count\": 212, \"fixed_acidity\": 6.2}, {\"__count\": 30, \"fixed_acidity\": 5.0}, {\"__count\": 6, \"fixed_acidity\": 4.7}, {\"__count\": 61, \"fixed_acidity\": 8.4}, {\"__count\": 10, \"fixed_acidity\": 10.1}, {\"__count\": 28, \"fixed_acidity\": 9.4}, {\"__count\": 43, \"fixed_acidity\": 9.0}, {\"__count\": 101, \"fixed_acidity\": 8.2}, {\"__count\": 171, \"fixed_acidity\": 6.1}, {\"__count\": 125, \"fixed_acidity\": 5.8}, {\"__count\": 37, \"fixed_acidity\": 9.2}, {\"__count\": 13, \"fixed_acidity\": 11.5}, {\"__count\": 33, \"fixed_acidity\": 5.4}, {\"__count\": 22, \"fixed_acidity\": 9.6}, {\"__count\": 5, \"fixed_acidity\": 12.8}, {\"__count\": 3, \"fixed_acidity\": 11.0}, {\"__count\": 12, \"fixed_acidity\": 11.6}, {\"__count\": 7, \"fixed_acidity\": 12.0}, {\"__count\": 2, \"fixed_acidity\": 15.0}, {\"__count\": 10, \"fixed_acidity\": 10.8}, {\"__count\": 9, \"fixed_acidity\": 11.1}, {\"__count\": 26, \"fixed_acidity\": 10.0}, {\"__count\": 7, \"fixed_acidity\": 12.5}, {\"__count\": 4, \"fixed_acidity\": 11.8}, {\"__count\": 8, \"fixed_acidity\": 10.9}, {\"__count\": 13, \"fixed_acidity\": 10.3}, {\"__count\": 5, \"fixed_acidity\": 11.4}, {\"__count\": 28, \"fixed_acidity\": 9.9}, {\"__count\": 21, \"fixed_acidity\": 10.4}, {\"__count\": 3, \"fixed_acidity\": 13.3}, {\"__count\": 14, \"fixed_acidity\": 10.6}, {\"__count\": 23, \"fixed_acidity\": 9.8}, {\"__count\": 1, \"fixed_acidity\": 13.4}, {\"__count\": 12, \"fixed_acidity\": 10.7}, {\"__count\": 12, \"fixed_acidity\": 11.9}, {\"__count\": 4, \"fixed_acidity\": 12.4}, {\"__count\": 4, \"fixed_acidity\": 12.2}, {\"__count\": 1, \"fixed_acidity\": 13.8}, {\"__count\": 35, \"fixed_acidity\": 9.1}, {\"__count\": 1, \"fixed_acidity\": 13.5}, {\"__count\": 12, \"fixed_acidity\": 10.5}, {\"__count\": 4, \"fixed_acidity\": 12.6}, {\"__count\": 1, \"fixed_acidity\": 14.0}, {\"__count\": 2, \"fixed_acidity\": 13.7}, {\"__count\": 16, \"fixed_acidity\": 9.5}, {\"__count\": 4, \"fixed_acidity\": 12.7}, {\"__count\": 5, \"fixed_acidity\": 12.3}, {\"__count\": 2, \"fixed_acidity\": 15.6}, {\"__count\": 31, \"fixed_acidity\": 5.3}, {\"__count\": 7, \"fixed_acidity\": 11.3}, {\"__count\": 3, \"fixed_acidity\": 13.0}, {\"__count\": 242, \"fixed_acidity\": 6.5}, {\"__count\": 2, \"fixed_acidity\": 12.9}, {\"__count\": 1, \"fixed_acidity\": 14.3}, {\"__count\": 2, \"fixed_acidity\": 15.5}, {\"__count\": 3, \"fixed_acidity\": 11.7}, {\"__count\": 3, \"fixed_acidity\": 13.2}, {\"__count\": 1, \"fixed_acidity\": 15.9}, {\"__count\": 1, \"fixed_acidity\": 12.1}, {\"__count\": 27, \"fixed_acidity\": 5.1}, {\"__count\": 8, \"fixed_acidity\": 4.9}, {\"__count\": 112, \"fixed_acidity\": 5.9}, {\"__count\": 197, \"fixed_acidity\": 6.0}, {\"__count\": 32, \"fixed_acidity\": 5.5}, {\"__count\": 9, \"fixed_acidity\": 4.8}, {\"__count\": 1, \"fixed_acidity\": 14.2}, {\"__count\": 2, \"fixed_acidity\": 6.15}, {\"__count\": 1, \"fixed_acidity\": 4.5}, {\"__count\": 2, \"fixed_acidity\": 7.15}, {\"__count\": 1, \"fixed_acidity\": 6.45}, {\"__count\": 2, \"fixed_acidity\": 4.2}, {\"__count\": 1, \"fixed_acidity\": 3.8}, {\"__count\": 3, \"fixed_acidity\": 4.4}, {\"__count\": 1, \"fixed_acidity\": 3.9}]}, {\"name\": \"data_1\", \"values\": [{\"__count\": 10, \"volatile_acidity\": 0.7}, {\"__count\": 5, \"volatile_acidity\": 0.88}, {\"__count\": 7, \"volatile_acidity\": 0.76}, {\"__count\": 286, \"volatile_acidity\": 0.28}, {\"__count\": 30, \"volatile_acidity\": 0.66}, {\"__count\": 54, \"volatile_acidity\": 0.6}, {\"__count\": 18, \"volatile_acidity\": 0.65}, {\"__count\": 45, \"volatile_acidity\": 0.58}, {\"__count\": 60, \"volatile_acidity\": 0.5}, {\"__count\": 10, \"volatile_acidity\": 0.615}, {\"__count\": 34, \"volatile_acidity\": 0.61}, {\"__count\": 29, \"volatile_acidity\": 0.62}, {\"__count\": 43, \"volatile_acidity\": 0.56}, {\"__count\": 43, \"volatile_acidity\": 0.59}, {\"__count\": 205, \"volatile_acidity\": 0.32}, {\"__count\": 235, \"volatile_acidity\": 0.22}, {\"__count\": 96, \"volatile_acidity\": 0.39}, {\"__count\": 78, \"volatile_acidity\": 0.43}, {\"__count\": 49, \"volatile_acidity\": 0.49}, {\"__count\": 96, \"volatile_acidity\": 0.4}, {\"__count\": 87, \"volatile_acidity\": 0.41}, {\"__count\": 4, \"volatile_acidity\": 0.71}, {\"__count\": 12, \"volatile_acidity\": 0.645}, {\"__count\": 3, \"volatile_acidity\": 0.675}, {\"__count\": 12, \"volatile_acidity\": 0.685}, {\"__count\": 10, \"volatile_acidity\": 0.655}, {\"__count\": 3, \"volatile_acidity\": 0.605}, {\"__count\": 98, \"volatile_acidity\": 0.38}, {\"__count\": 1, \"volatile_acidity\": 1.13}, {\"__count\": 47, \"volatile_acidity\": 0.45}, {\"__count\": 28, \"volatile_acidity\": 0.67}, {\"__count\": 43, \"volatile_acidity\": 0.52}, {\"__count\": 2, \"volatile_acidity\": 0.935}, {\"__count\": 176, \"volatile_acidity\": 0.29}, {\"__count\": 178, \"volatile_acidity\": 0.31}, {\"__count\": 34, \"volatile_acidity\": 0.51}, {\"__count\": 67, \"volatile_acidity\": 0.42}, {\"__count\": 31, \"volatile_acidity\": 0.63}, {\"__count\": 25, \"volatile_acidity\": 0.69}, {\"__count\": 8, \"volatile_acidity\": 0.735}, {\"__count\": 9, \"volatile_acidity\": 0.725}, {\"__count\": 8, \"volatile_acidity\": 0.705}, {\"__count\": 9, \"volatile_acidity\": 0.785}, {\"__count\": 7, \"volatile_acidity\": 0.75}, {\"__count\": 3, \"volatile_acidity\": 0.625}, {\"__count\": 214, \"volatile_acidity\": 0.3}, {\"__count\": 34, \"volatile_acidity\": 0.55}, {\"__count\": 4, \"volatile_acidity\": 1.02}, {\"__count\": 4, \"volatile_acidity\": 0.775}, {\"__count\": 3, \"volatile_acidity\": 0.9}, {\"__count\": 6, \"volatile_acidity\": 0.545}, {\"__count\": 3, \"volatile_acidity\": 0.575}, {\"__count\": 154, \"volatile_acidity\": 0.33}, {\"__count\": 41, \"volatile_acidity\": 0.54}, {\"__count\": 1, \"volatile_acidity\": 1.07}, {\"__count\": 10, \"volatile_acidity\": 0.695}, {\"__count\": 2, \"volatile_acidity\": 1.33}, {\"__count\": 5, \"volatile_acidity\": 0.745}, {\"__count\": 3, \"volatile_acidity\": 1.04}, {\"__count\": 12, \"volatile_acidity\": 0.715}, {\"__count\": 7, \"volatile_acidity\": 0.415}, {\"__count\": 165, \"volatile_acidity\": 0.34}, {\"__count\": 15, \"volatile_acidity\": 0.68}, {\"__count\": 1, \"volatile_acidity\": 0.95}, {\"__count\": 37, \"volatile_acidity\": 0.53}, {\"__count\": 34, \"volatile_acidity\": 0.64}, {\"__count\": 5, \"volatile_acidity\": 0.885}, {\"__count\": 1, \"volatile_acidity\": 0.805}, {\"__count\": 7, \"volatile_acidity\": 0.73}, {\"__count\": 89, \"volatile_acidity\": 0.37}, {\"__count\": 4, \"volatile_acidity\": 0.835}, {\"__count\": 1, \"volatile_acidity\": 1.09}, {\"__count\": 32, \"volatile_acidity\": 0.57}, {\"__count\": 69, \"volatile_acidity\": 0.44}, {\"__count\": 9, \"volatile_acidity\": 0.635}, {\"__count\": 5, \"volatile_acidity\": 0.82}, {\"__count\": 41, \"volatile_acidity\": 0.48}, {\"__count\": 3, \"volatile_acidity\": 1.0}, {\"__count\": 197, \"volatile_acidity\": 0.21}, {\"__count\": 108, \"volatile_acidity\": 0.35}, {\"__count\": 1, \"volatile_acidity\": 0.975}, {\"__count\": 256, \"volatile_acidity\": 0.26}, {\"__count\": 4, \"volatile_acidity\": 0.87}, {\"__count\": 187, \"volatile_acidity\": 0.18}, {\"__count\": 232, \"volatile_acidity\": 0.27}, {\"__count\": 217, \"volatile_acidity\": 0.2}, {\"__count\": 142, \"volatile_acidity\": 0.36}, {\"__count\": 4, \"volatile_acidity\": 0.83}, {\"__count\": 61, \"volatile_acidity\": 0.46}, {\"__count\": 36, \"volatile_acidity\": 0.47}, {\"__count\": 6, \"volatile_acidity\": 0.77}, {\"__count\": 4, \"volatile_acidity\": 0.815}, {\"__count\": 2, \"volatile_acidity\": 0.795}, {\"__count\": 3, \"volatile_acidity\": 0.665}, {\"__count\": 5, \"volatile_acidity\": 0.765}, {\"__count\": 266, \"volatile_acidity\": 0.24}, {\"__count\": 3, \"volatile_acidity\": 0.85}, {\"__count\": 8, \"volatile_acidity\": 0.84}, {\"__count\": 3, \"volatile_acidity\": 0.96}, {\"__count\": 11, \"volatile_acidity\": 0.78}, {\"__count\": 221, \"volatile_acidity\": 0.23}, {\"__count\": 6, \"volatile_acidity\": 0.315}, {\"__count\": 4, \"volatile_acidity\": 0.365}, {\"__count\": 238, \"volatile_acidity\": 0.25}, {\"__count\": 1, \"volatile_acidity\": 0.825}, {\"__count\": 5, \"volatile_acidity\": 0.72}, {\"__count\": 3, \"volatile_acidity\": 0.595}, {\"__count\": 5, \"volatile_acidity\": 0.585}, {\"__count\": 4, \"volatile_acidity\": 0.915}, {\"__count\": 3, \"volatile_acidity\": 0.755}, {\"__count\": 1, \"volatile_acidity\": 0.845}, {\"__count\": 1, \"volatile_acidity\": 1.24}, {\"__count\": 3, \"volatile_acidity\": 0.8}, {\"__count\": 3, \"volatile_acidity\": 0.98}, {\"__count\": 1, \"volatile_acidity\": 1.185}, {\"__count\": 1, \"volatile_acidity\": 0.92}, {\"__count\": 1, \"volatile_acidity\": 1.035}, {\"__count\": 1, \"volatile_acidity\": 1.025}, {\"__count\": 1, \"volatile_acidity\": 0.565}, {\"__count\": 12, \"volatile_acidity\": 0.74}, {\"__count\": 1, \"volatile_acidity\": 1.115}, {\"__count\": 1, \"volatile_acidity\": 0.865}, {\"__count\": 2, \"volatile_acidity\": 0.875}, {\"__count\": 4, \"volatile_acidity\": 0.965}, {\"__count\": 4, \"volatile_acidity\": 0.91}, {\"__count\": 1, \"volatile_acidity\": 0.89}, {\"__count\": 1, \"volatile_acidity\": 1.01}, {\"__count\": 6, \"volatile_acidity\": 0.305}, {\"__count\": 4, \"volatile_acidity\": 0.395}, {\"__count\": 37, \"volatile_acidity\": 0.12}, {\"__count\": 2, \"volatile_acidity\": 0.86}, {\"__count\": 4, \"volatile_acidity\": 0.295}, {\"__count\": 2, \"volatile_acidity\": 1.005}, {\"__count\": 172, \"volatile_acidity\": 0.19}, {\"__count\": 1, \"volatile_acidity\": 0.955}, {\"__count\": 143, \"volatile_acidity\": 0.16}, {\"__count\": 1, \"volatile_acidity\": 1.58}, {\"__count\": 2, \"volatile_acidity\": 0.79}, {\"__count\": 1, \"volatile_acidity\": 1.18}, {\"__count\": 5, \"volatile_acidity\": 0.475}, {\"__count\": 2, \"volatile_acidity\": 0.81}, {\"__count\": 1, \"volatile_acidity\": 0.895}, {\"__count\": 3, \"volatile_acidity\": 0.855}, {\"__count\": 140, \"volatile_acidity\": 0.17}, {\"__count\": 56, \"volatile_acidity\": 0.14}, {\"__count\": 5, \"volatile_acidity\": 0.265}, {\"__count\": 44, \"volatile_acidity\": 0.13}, {\"__count\": 3, \"volatile_acidity\": 0.485}, {\"__count\": 2, \"volatile_acidity\": 0.425}, {\"__count\": 10, \"volatile_acidity\": 0.255}, {\"__count\": 88, \"volatile_acidity\": 0.15}, {\"__count\": 4, \"volatile_acidity\": 0.245}, {\"__count\": 2, \"volatile_acidity\": 0.495}, {\"__count\": 3, \"volatile_acidity\": 0.115}, {\"__count\": 3, \"volatile_acidity\": 0.125}, {\"__count\": 6, \"volatile_acidity\": 0.1}, {\"__count\": 4, \"volatile_acidity\": 0.145}, {\"__count\": 7, \"volatile_acidity\": 0.335}, {\"__count\": 1, \"volatile_acidity\": 0.905}, {\"__count\": 5, \"volatile_acidity\": 0.155}, {\"__count\": 9, \"volatile_acidity\": 0.345}, {\"__count\": 4, \"volatile_acidity\": 0.235}, {\"__count\": 6, \"volatile_acidity\": 0.105}, {\"__count\": 13, \"volatile_acidity\": 0.11}, {\"__count\": 4, \"volatile_acidity\": 0.225}, {\"__count\": 4, \"volatile_acidity\": 0.205}, {\"__count\": 4, \"volatile_acidity\": 0.08}, {\"__count\": 3, \"volatile_acidity\": 0.275}, {\"__count\": 1, \"volatile_acidity\": 0.135}, {\"__count\": 2, \"volatile_acidity\": 0.165}, {\"__count\": 5, \"volatile_acidity\": 0.185}, {\"__count\": 2, \"volatile_acidity\": 0.325}, {\"__count\": 4, \"volatile_acidity\": 0.445}, {\"__count\": 2, \"volatile_acidity\": 0.385}, {\"__count\": 1, \"volatile_acidity\": 0.93}, {\"__count\": 5, \"volatile_acidity\": 0.285}, {\"__count\": 1, \"volatile_acidity\": 0.175}, {\"__count\": 2, \"volatile_acidity\": 0.375}, {\"__count\": 1, \"volatile_acidity\": 0.215}, {\"__count\": 2, \"volatile_acidity\": 0.435}, {\"__count\": 1, \"volatile_acidity\": 0.085}, {\"__count\": 2, \"volatile_acidity\": 0.455}, {\"__count\": 1, \"volatile_acidity\": 1.1}, {\"__count\": 2, \"volatile_acidity\": 0.555}, {\"__count\": 1, \"volatile_acidity\": 0.09}, {\"__count\": 1, \"volatile_acidity\": 0.405}, {\"__count\": 1, \"volatile_acidity\": 0.355}]}, {\"name\": \"data_2\", \"values\": [{\"__count\": 151, \"citric_acid\": 0.0}, {\"__count\": 41, \"citric_acid\": 0.04}, {\"__count\": 30, \"citric_acid\": 0.56}, {\"__count\": 30, \"citric_acid\": 0.06}, {\"__count\": 56, \"citric_acid\": 0.02}, {\"__count\": 197, \"citric_acid\": 0.36}, {\"__count\": 37, \"citric_acid\": 0.08}, {\"__count\": 244, \"citric_acid\": 0.29}, {\"__count\": 71, \"citric_acid\": 0.18}, {\"__count\": 69, \"citric_acid\": 0.19}, {\"__count\": 301, \"citric_acid\": 0.28}, {\"__count\": 38, \"citric_acid\": 0.51}, {\"__count\": 62, \"citric_acid\": 0.48}, {\"__count\": 230, \"citric_acid\": 0.31}, {\"__count\": 99, \"citric_acid\": 0.21}, {\"__count\": 16, \"citric_acid\": 0.11}, {\"__count\": 48, \"citric_acid\": 0.14}, {\"__count\": 42, \"citric_acid\": 0.16}, {\"__count\": 232, \"citric_acid\": 0.24}, {\"__count\": 34, \"citric_acid\": 0.07}, {\"__count\": 46, \"citric_acid\": 0.12}, {\"__count\": 163, \"citric_acid\": 0.25}, {\"__count\": 42, \"citric_acid\": 0.09}, {\"__count\": 337, \"citric_acid\": 0.3}, {\"__count\": 95, \"citric_acid\": 0.2}, {\"__count\": 131, \"citric_acid\": 0.22}, {\"__count\": 42, \"citric_acid\": 0.15}, {\"__count\": 52, \"citric_acid\": 0.43}, {\"__count\": 40, \"citric_acid\": 0.52}, {\"__count\": 108, \"citric_acid\": 0.23}, {\"__count\": 153, \"citric_acid\": 0.37}, {\"__count\": 257, \"citric_acid\": 0.26}, {\"__count\": 22, \"citric_acid\": 0.57}, {\"__count\": 146, \"citric_acid\": 0.4}, {\"__count\": 283, \"citric_acid\": 0.49}, {\"__count\": 25, \"citric_acid\": 0.05}, {\"__count\": 32, \"citric_acid\": 0.54}, {\"__count\": 15, \"citric_acid\": 0.64}, {\"__count\": 5, \"citric_acid\": 0.7}, {\"__count\": 56, \"citric_acid\": 0.47}, {\"__count\": 86, \"citric_acid\": 0.44}, {\"__count\": 43, \"citric_acid\": 0.17}, {\"__count\": 18, \"citric_acid\": 0.68}, {\"__count\": 30, \"citric_acid\": 0.53}, {\"__count\": 49, \"citric_acid\": 0.1}, {\"__count\": 40, \"citric_acid\": 0.01}, {\"__count\": 23, \"citric_acid\": 0.55}, {\"__count\": 6, \"citric_acid\": 1.0}, {\"__count\": 32, \"citric_acid\": 0.03}, {\"__count\": 124, \"citric_acid\": 0.42}, {\"__count\": 208, \"citric_acid\": 0.33}, {\"__count\": 289, \"citric_acid\": 0.32}, {\"__count\": 150, \"citric_acid\": 0.35}, {\"__count\": 15, \"citric_acid\": 0.6}, {\"__count\": 45, \"citric_acid\": 0.74}, {\"__count\": 30, \"citric_acid\": 0.58}, {\"__count\": 55, \"citric_acid\": 0.5}, {\"__count\": 3, \"citric_acid\": 0.76}, {\"__count\": 70, \"citric_acid\": 0.46}, {\"__count\": 68, \"citric_acid\": 0.45}, {\"__count\": 136, \"citric_acid\": 0.38}, {\"__count\": 129, \"citric_acid\": 0.39}, {\"__count\": 21, \"citric_acid\": 0.66}, {\"__count\": 15, \"citric_acid\": 0.62}, {\"__count\": 9, \"citric_acid\": 0.67}, {\"__count\": 3, \"citric_acid\": 0.79}, {\"__count\": 14, \"citric_acid\": 0.63}, {\"__count\": 11, \"citric_acid\": 0.61}, {\"__count\": 10, \"citric_acid\": 0.71}, {\"__count\": 15, \"citric_acid\": 0.65}, {\"__count\": 14, \"citric_acid\": 0.59}, {\"__count\": 249, \"citric_acid\": 0.34}, {\"__count\": 9, \"citric_acid\": 0.69}, {\"__count\": 8, \"citric_acid\": 0.73}, {\"__count\": 6, \"citric_acid\": 0.72}, {\"__count\": 98, \"citric_acid\": 0.41}, {\"__count\": 236, \"citric_acid\": 0.27}, {\"__count\": 1, \"citric_acid\": 0.75}, {\"__count\": 35, \"citric_acid\": 0.13}, {\"__count\": 3, \"citric_acid\": 0.78}, {\"__count\": 1, \"citric_acid\": 0.88}, {\"__count\": 1, \"citric_acid\": 1.66}, {\"__count\": 2, \"citric_acid\": 0.81}, {\"__count\": 1, \"citric_acid\": 0.99}, {\"__count\": 2, \"citric_acid\": 0.82}, {\"__count\": 2, \"citric_acid\": 0.8}, {\"__count\": 1, \"citric_acid\": 1.23}, {\"__count\": 1, \"citric_acid\": 0.86}, {\"__count\": 2, \"citric_acid\": 0.91}]}, {\"name\": \"data_0_child__row_residual_sugarcolumn_fixed_acidity_x_domain_fixed_acidity\", \"values\": [{\"min\": 3.8, \"max\": 15.9}]}, {\"name\": \"data_0_child__row_residual_sugarcolumn_fixed_acidity_y_domain___count\", \"values\": [{\"min\": 1, \"max\": 354}]}, {\"name\": \"data_1_child__row_residual_sugarcolumn_volatile_acidity_x_domain_volatile_acidity\", \"values\": [{\"min\": 0.08, \"max\": 1.58}]}, {\"name\": \"data_1_child__row_residual_sugarcolumn_volatile_acidity_y_domain___count\", \"values\": [{\"min\": 1, \"max\": 286}]}, {\"name\": \"data_2_child__row_residual_sugarcolumn_citric_acid_x_domain_citric_acid\", \"values\": [{\"min\": 0.0, \"max\": 1.66}]}, {\"name\": \"data_2_child__row_residual_sugarcolumn_citric_acid_y_domain___count\", \"values\": [{\"min\": 1, \"max\": 337}]}, {\"name\": \"data_0_child__row_total_sulfur_dioxidecolumn_fixed_acidity_x_domain_fixed_acidity\", \"values\": [{\"min\": 3.8, \"max\": 15.9}]}, {\"name\": \"data_0_child__row_total_sulfur_dioxidecolumn_fixed_acidity_y_domain___count\", \"values\": [{\"min\": 1, \"max\": 354}]}, {\"name\": \"data_1_child__row_total_sulfur_dioxidecolumn_volatile_acidity_x_domain_volatile_acidity\", \"values\": [{\"min\": 0.08, \"max\": 1.58}]}, {\"name\": \"data_1_child__row_total_sulfur_dioxidecolumn_volatile_acidity_y_domain___count\", \"values\": [{\"min\": 1, \"max\": 286}]}, {\"name\": \"data_2_child__row_total_sulfur_dioxidecolumn_citric_acid_x_domain_citric_acid\", \"values\": [{\"min\": 0.0, \"max\": 1.66}]}, {\"name\": \"data_2_child__row_total_sulfur_dioxidecolumn_citric_acid_y_domain___count\", \"values\": [{\"min\": 1, \"max\": 337}]}, {\"name\": \"data_0_child__row_sulphatescolumn_fixed_acidity_x_domain_fixed_acidity\", \"values\": [{\"min\": 3.8, \"max\": 15.9}]}, {\"name\": \"data_0_child__row_sulphatescolumn_fixed_acidity_y_domain___count\", \"values\": [{\"min\": 1, \"max\": 354}]}, {\"name\": \"data_1_child__row_sulphatescolumn_volatile_acidity_x_domain_volatile_acidity\", \"values\": [{\"min\": 0.08, \"max\": 1.58}]}, {\"name\": \"data_1_child__row_sulphatescolumn_volatile_acidity_y_domain___count\", \"values\": [{\"min\": 1, \"max\": 286}]}, {\"name\": \"data_2_child__row_sulphatescolumn_citric_acid_x_domain_citric_acid\", \"values\": [{\"min\": 0.0, \"max\": 1.66}]}, {\"name\": \"data_2_child__row_sulphatescolumn_citric_acid_y_domain___count\", \"values\": [{\"min\": 1, \"max\": 337}]}], \"signals\": [{\"name\": \"childWidth\", \"value\": 300}, {\"name\": \"childHeight\", \"value\": 300}], \"marks\": [{\"type\": \"group\", \"name\": \"child__row_residual_sugarcolumn_fixed_acidity_group\", \"encode\": {\"update\": {\"height\": {\"signal\": \"childHeight\"}, \"width\": {\"signal\": \"childWidth\"}}}, \"marks\": [{\"type\": \"rect\", \"name\": \"child__row_residual_sugarcolumn_fixed_acidity_marks\", \"from\": {\"data\": \"data_0\"}, \"encode\": {\"update\": {\"width\": {\"value\": 5}, \"y\": {\"field\": \"__count\", \"scale\": \"child__row_residual_sugarcolumn_fixed_acidity_y\"}, \"xc\": {\"field\": \"fixed_acidity\", \"scale\": \"child__row_residual_sugarcolumn_fixed_acidity_x\"}, \"y2\": {\"value\": 0, \"scale\": \"child__row_residual_sugarcolumn_fixed_acidity_y\"}, \"fill\": {\"value\": \"#4c78a8\"}}}, \"style\": [\"bar\"]}], \"axes\": [{\"scale\": \"child__row_residual_sugarcolumn_fixed_acidity_x\", \"maxExtent\": 0, \"grid\": true, \"gridScale\": \"child__row_residual_sugarcolumn_fixed_acidity_y\", \"domain\": false, \"minExtent\": 0, \"ticks\": false, \"tickCount\": {\"signal\": \"ceil(childWidth/40)\"}, \"aria\": false, \"orient\": \"bottom\", \"labels\": false, \"zindex\": 0}, {\"scale\": \"child__row_residual_sugarcolumn_fixed_acidity_y\", \"gridScale\": \"child__row_residual_sugarcolumn_fixed_acidity_x\", \"labels\": false, \"zindex\": 0, \"ticks\": false, \"domain\": false, \"tickCount\": {\"signal\": \"ceil(childHeight/40)\"}, \"orient\": \"left\", \"aria\": false, \"grid\": true, \"maxExtent\": 0, \"minExtent\": 0}, {\"scale\": \"child__row_residual_sugarcolumn_fixed_acidity_x\", \"labelFlush\": true, \"zindex\": 0, \"title\": \"fixed_acidity\", \"labelOverlap\": true, \"orient\": \"bottom\", \"grid\": false, \"tickCount\": {\"signal\": \"ceil(childWidth/40)\"}}, {\"scale\": \"child__row_residual_sugarcolumn_fixed_acidity_y\", \"grid\": false, \"title\": \"Count of Records\", \"orient\": \"left\", \"labelOverlap\": true, \"zindex\": 0, \"tickCount\": {\"signal\": \"ceil(childHeight/40)\"}}], \"style\": \"cell\"}, {\"type\": \"group\", \"name\": \"child__row_residual_sugarcolumn_volatile_acidity_group\", \"encode\": {\"update\": {\"height\": {\"signal\": \"childHeight\"}, \"width\": {\"signal\": \"childWidth\"}}}, \"marks\": [{\"type\": \"rect\", \"name\": \"child__row_residual_sugarcolumn_volatile_acidity_marks\", \"from\": {\"data\": \"data_1\"}, \"encode\": {\"update\": {\"fill\": {\"value\": \"#4c78a8\"}, \"xc\": {\"field\": \"volatile_acidity\", \"scale\": \"child__row_residual_sugarcolumn_volatile_acidity_x\"}, \"y\": {\"field\": \"__count\", \"scale\": \"child__row_residual_sugarcolumn_volatile_acidity_y\"}, \"width\": {\"value\": 5}, \"y2\": {\"value\": 0, \"scale\": \"child__row_residual_sugarcolumn_volatile_acidity_y\"}}}, \"style\": [\"bar\"]}], \"axes\": [{\"scale\": \"child__row_residual_sugarcolumn_volatile_acidity_x\", \"labels\": false, \"orient\": \"bottom\", \"gridScale\": \"child__row_residual_sugarcolumn_volatile_acidity_y\", \"minExtent\": 0, \"maxExtent\": 0, \"ticks\": false, \"aria\": false, \"tickCount\": {\"signal\": \"ceil(childWidth/40)\"}, \"zindex\": 0, \"domain\": false, \"grid\": true}, {\"scale\": \"child__row_residual_sugarcolumn_volatile_acidity_y\", \"gridScale\": \"child__row_residual_sugarcolumn_volatile_acidity_x\", \"maxExtent\": 0, \"minExtent\": 0, \"grid\": true, \"labels\": false, \"domain\": false, \"aria\": false, \"orient\": \"left\", \"ticks\": false, \"zindex\": 0, \"tickCount\": {\"signal\": \"ceil(childHeight/40)\"}}, {\"scale\": \"child__row_residual_sugarcolumn_volatile_acidity_x\", \"grid\": false, \"zindex\": 0, \"title\": \"volatile_acidity\", \"labelFlush\": true, \"labelOverlap\": true, \"orient\": \"bottom\", \"tickCount\": {\"signal\": \"ceil(childWidth/40)\"}}, {\"scale\": \"child__row_residual_sugarcolumn_volatile_acidity_y\", \"grid\": false, \"title\": \"Count of Records\", \"labelOverlap\": true, \"tickCount\": {\"signal\": \"ceil(childHeight/40)\"}, \"orient\": \"left\", \"zindex\": 0}], \"style\": \"cell\"}, {\"type\": \"group\", \"name\": \"child__row_residual_sugarcolumn_citric_acid_group\", \"encode\": {\"update\": {\"width\": {\"signal\": \"childWidth\"}, \"height\": {\"signal\": \"childHeight\"}}}, \"marks\": [{\"type\": \"rect\", \"name\": \"child__row_residual_sugarcolumn_citric_acid_marks\", \"from\": {\"data\": \"data_2\"}, \"encode\": {\"update\": {\"y\": {\"field\": \"__count\", \"scale\": \"child__row_residual_sugarcolumn_citric_acid_y\"}, \"y2\": {\"value\": 0, \"scale\": \"child__row_residual_sugarcolumn_citric_acid_y\"}, \"xc\": {\"field\": \"citric_acid\", \"scale\": \"child__row_residual_sugarcolumn_citric_acid_x\"}, \"width\": {\"value\": 5}, \"fill\": {\"value\": \"#4c78a8\"}}}, \"style\": [\"bar\"]}], \"axes\": [{\"scale\": \"child__row_residual_sugarcolumn_citric_acid_x\", \"minExtent\": 0, \"maxExtent\": 0, \"grid\": true, \"ticks\": false, \"gridScale\": \"child__row_residual_sugarcolumn_citric_acid_y\", \"tickCount\": {\"signal\": \"ceil(childWidth/40)\"}, \"domain\": false, \"orient\": \"bottom\", \"labels\": false, \"zindex\": 0, \"aria\": false}, {\"scale\": \"child__row_residual_sugarcolumn_citric_acid_y\", \"domain\": false, \"maxExtent\": 0, \"labels\": false, \"minExtent\": 0, \"gridScale\": \"child__row_residual_sugarcolumn_citric_acid_x\", \"grid\": true, \"tickCount\": {\"signal\": \"ceil(childHeight/40)\"}, \"orient\": \"left\", \"ticks\": false, \"zindex\": 0, \"aria\": false}, {\"scale\": \"child__row_residual_sugarcolumn_citric_acid_x\", \"tickCount\": {\"signal\": \"ceil(childWidth/40)\"}, \"labelFlush\": true, \"grid\": false, \"zindex\": 0, \"orient\": \"bottom\", \"title\": \"citric_acid\", \"labelOverlap\": true}, {\"scale\": \"child__row_residual_sugarcolumn_citric_acid_y\", \"title\": \"Count of Records\", \"tickCount\": {\"signal\": \"ceil(childHeight/40)\"}, \"grid\": false, \"zindex\": 0, \"orient\": \"left\", \"labelOverlap\": true}], \"style\": \"cell\"}, {\"type\": \"group\", \"name\": \"child__row_total_sulfur_dioxidecolumn_fixed_acidity_group\", \"encode\": {\"update\": {\"width\": {\"signal\": \"childWidth\"}, \"height\": {\"signal\": \"childHeight\"}}}, \"marks\": [{\"type\": \"rect\", \"name\": \"child__row_total_sulfur_dioxidecolumn_fixed_acidity_marks\", \"from\": {\"data\": \"data_0\"}, \"encode\": {\"update\": {\"width\": {\"value\": 5}, \"y\": {\"field\": \"__count\", \"scale\": \"child__row_total_sulfur_dioxidecolumn_fixed_acidity_y\"}, \"xc\": {\"field\": \"fixed_acidity\", \"scale\": \"child__row_total_sulfur_dioxidecolumn_fixed_acidity_x\"}, \"y2\": {\"value\": 0, \"scale\": \"child__row_total_sulfur_dioxidecolumn_fixed_acidity_y\"}, \"fill\": {\"value\": \"#4c78a8\"}}}, \"style\": [\"bar\"]}], \"axes\": [{\"scale\": \"child__row_total_sulfur_dioxidecolumn_fixed_acidity_x\", \"aria\": false, \"labels\": false, \"ticks\": false, \"tickCount\": {\"signal\": \"ceil(childWidth/40)\"}, \"zindex\": 0, \"orient\": \"bottom\", \"maxExtent\": 0, \"gridScale\": \"child__row_total_sulfur_dioxidecolumn_fixed_acidity_y\", \"domain\": false, \"grid\": true, \"minExtent\": 0}, {\"scale\": \"child__row_total_sulfur_dioxidecolumn_fixed_acidity_y\", \"minExtent\": 0, \"labels\": false, \"domain\": false, \"orient\": \"left\", \"ticks\": false, \"zindex\": 0, \"aria\": false, \"maxExtent\": 0, \"tickCount\": {\"signal\": \"ceil(childHeight/40)\"}, \"gridScale\": \"child__row_total_sulfur_dioxidecolumn_fixed_acidity_x\", \"grid\": true}, {\"scale\": \"child__row_total_sulfur_dioxidecolumn_fixed_acidity_x\", \"labelOverlap\": true, \"orient\": \"bottom\", \"labelFlush\": true, \"tickCount\": {\"signal\": \"ceil(childWidth/40)\"}, \"zindex\": 0, \"grid\": false, \"title\": \"fixed_acidity\"}, {\"scale\": \"child__row_total_sulfur_dioxidecolumn_fixed_acidity_y\", \"zindex\": 0, \"grid\": false, \"orient\": \"left\", \"title\": \"Count of Records\", \"labelOverlap\": true, \"tickCount\": {\"signal\": \"ceil(childHeight/40)\"}}], \"style\": \"cell\"}, {\"type\": \"group\", \"name\": \"child__row_total_sulfur_dioxidecolumn_volatile_acidity_group\", \"encode\": {\"update\": {\"width\": {\"signal\": \"childWidth\"}, \"height\": {\"signal\": \"childHeight\"}}}, \"marks\": [{\"type\": \"rect\", \"name\": \"child__row_total_sulfur_dioxidecolumn_volatile_acidity_marks\", \"from\": {\"data\": \"data_1\"}, \"encode\": {\"update\": {\"y2\": {\"value\": 0, \"scale\": \"child__row_total_sulfur_dioxidecolumn_volatile_acidity_y\"}, \"xc\": {\"field\": \"volatile_acidity\", \"scale\": \"child__row_total_sulfur_dioxidecolumn_volatile_acidity_x\"}, \"width\": {\"value\": 5}, \"y\": {\"field\": \"__count\", \"scale\": \"child__row_total_sulfur_dioxidecolumn_volatile_acidity_y\"}, \"fill\": {\"value\": \"#4c78a8\"}}}, \"style\": [\"bar\"]}], \"axes\": [{\"scale\": \"child__row_total_sulfur_dioxidecolumn_volatile_acidity_x\", \"domain\": false, \"orient\": \"bottom\", \"labels\": false, \"maxExtent\": 0, \"grid\": true, \"zindex\": 0, \"ticks\": false, \"minExtent\": 0, \"aria\": false, \"tickCount\": {\"signal\": \"ceil(childWidth/40)\"}, \"gridScale\": \"child__row_total_sulfur_dioxidecolumn_volatile_acidity_y\"}, {\"scale\": \"child__row_total_sulfur_dioxidecolumn_volatile_acidity_y\", \"grid\": true, \"minExtent\": 0, \"zindex\": 0, \"tickCount\": {\"signal\": \"ceil(childHeight/40)\"}, \"orient\": \"left\", \"maxExtent\": 0, \"labels\": false, \"ticks\": false, \"aria\": false, \"domain\": false, \"gridScale\": \"child__row_total_sulfur_dioxidecolumn_volatile_acidity_x\"}, {\"scale\": \"child__row_total_sulfur_dioxidecolumn_volatile_acidity_x\", \"grid\": false, \"zindex\": 0, \"orient\": \"bottom\", \"title\": \"volatile_acidity\", \"labelOverlap\": true, \"tickCount\": {\"signal\": \"ceil(childWidth/40)\"}, \"labelFlush\": true}, {\"scale\": \"child__row_total_sulfur_dioxidecolumn_volatile_acidity_y\", \"title\": \"Count of Records\", \"labelOverlap\": true, \"orient\": \"left\", \"tickCount\": {\"signal\": \"ceil(childHeight/40)\"}, \"zindex\": 0, \"grid\": false}], \"style\": \"cell\"}, {\"type\": \"group\", \"name\": \"child__row_total_sulfur_dioxidecolumn_citric_acid_group\", \"encode\": {\"update\": {\"height\": {\"signal\": \"childHeight\"}, \"width\": {\"signal\": \"childWidth\"}}}, \"marks\": [{\"type\": \"rect\", \"name\": \"child__row_total_sulfur_dioxidecolumn_citric_acid_marks\", \"from\": {\"data\": \"data_2\"}, \"encode\": {\"update\": {\"fill\": {\"value\": \"#4c78a8\"}, \"width\": {\"value\": 5}, \"y2\": {\"value\": 0, \"scale\": \"child__row_total_sulfur_dioxidecolumn_citric_acid_y\"}, \"xc\": {\"field\": \"citric_acid\", \"scale\": \"child__row_total_sulfur_dioxidecolumn_citric_acid_x\"}, \"y\": {\"field\": \"__count\", \"scale\": \"child__row_total_sulfur_dioxidecolumn_citric_acid_y\"}}}, \"style\": [\"bar\"]}], \"axes\": [{\"scale\": \"child__row_total_sulfur_dioxidecolumn_citric_acid_x\", \"gridScale\": \"child__row_total_sulfur_dioxidecolumn_citric_acid_y\", \"maxExtent\": 0, \"labels\": false, \"domain\": false, \"minExtent\": 0, \"ticks\": false, \"orient\": \"bottom\", \"grid\": true, \"aria\": false, \"zindex\": 0, \"tickCount\": {\"signal\": \"ceil(childWidth/40)\"}}, {\"scale\": \"child__row_total_sulfur_dioxidecolumn_citric_acid_y\", \"grid\": true, \"aria\": false, \"labels\": false, \"orient\": \"left\", \"domain\": false, \"maxExtent\": 0, \"zindex\": 0, \"gridScale\": \"child__row_total_sulfur_dioxidecolumn_citric_acid_x\", \"tickCount\": {\"signal\": \"ceil(childHeight/40)\"}, \"ticks\": false, \"minExtent\": 0}, {\"scale\": \"child__row_total_sulfur_dioxidecolumn_citric_acid_x\", \"zindex\": 0, \"orient\": \"bottom\", \"labelFlush\": true, \"labelOverlap\": true, \"title\": \"citric_acid\", \"tickCount\": {\"signal\": \"ceil(childWidth/40)\"}, \"grid\": false}, {\"scale\": \"child__row_total_sulfur_dioxidecolumn_citric_acid_y\", \"grid\": false, \"tickCount\": {\"signal\": \"ceil(childHeight/40)\"}, \"zindex\": 0, \"orient\": \"left\", \"title\": \"Count of Records\", \"labelOverlap\": true}], \"style\": \"cell\"}, {\"type\": \"group\", \"name\": \"child__row_sulphatescolumn_fixed_acidity_group\", \"encode\": {\"update\": {\"width\": {\"signal\": \"childWidth\"}, \"height\": {\"signal\": \"childHeight\"}}}, \"marks\": [{\"type\": \"rect\", \"name\": \"child__row_sulphatescolumn_fixed_acidity_marks\", \"from\": {\"data\": \"data_0\"}, \"encode\": {\"update\": {\"y2\": {\"value\": 0, \"scale\": \"child__row_sulphatescolumn_fixed_acidity_y\"}, \"fill\": {\"value\": \"#4c78a8\"}, \"xc\": {\"field\": \"fixed_acidity\", \"scale\": \"child__row_sulphatescolumn_fixed_acidity_x\"}, \"y\": {\"field\": \"__count\", \"scale\": \"child__row_sulphatescolumn_fixed_acidity_y\"}, \"width\": {\"value\": 5}}}, \"style\": [\"bar\"]}], \"axes\": [{\"scale\": \"child__row_sulphatescolumn_fixed_acidity_x\", \"gridScale\": \"child__row_sulphatescolumn_fixed_acidity_y\", \"tickCount\": {\"signal\": \"ceil(childWidth/40)\"}, \"domain\": false, \"minExtent\": 0, \"aria\": false, \"orient\": \"bottom\", \"zindex\": 0, \"maxExtent\": 0, \"grid\": true, \"labels\": false, \"ticks\": false}, {\"scale\": \"child__row_sulphatescolumn_fixed_acidity_y\", \"grid\": true, \"minExtent\": 0, \"gridScale\": \"child__row_sulphatescolumn_fixed_acidity_x\", \"tickCount\": {\"signal\": \"ceil(childHeight/40)\"}, \"domain\": false, \"maxExtent\": 0, \"orient\": \"left\", \"labels\": false, \"ticks\": false, \"aria\": false, \"zindex\": 0}, {\"scale\": \"child__row_sulphatescolumn_fixed_acidity_x\", \"labelOverlap\": true, \"tickCount\": {\"signal\": \"ceil(childWidth/40)\"}, \"zindex\": 0, \"orient\": \"bottom\", \"grid\": false, \"title\": \"fixed_acidity\", \"labelFlush\": true}, {\"scale\": \"child__row_sulphatescolumn_fixed_acidity_y\", \"orient\": \"left\", \"grid\": false, \"title\": \"Count of Records\", \"tickCount\": {\"signal\": \"ceil(childHeight/40)\"}, \"labelOverlap\": true, \"zindex\": 0}], \"style\": \"cell\"}, {\"type\": \"group\", \"name\": \"child__row_sulphatescolumn_volatile_acidity_group\", \"encode\": {\"update\": {\"width\": {\"signal\": \"childWidth\"}, \"height\": {\"signal\": \"childHeight\"}}}, \"marks\": [{\"type\": \"rect\", \"name\": \"child__row_sulphatescolumn_volatile_acidity_marks\", \"from\": {\"data\": \"data_1\"}, \"encode\": {\"update\": {\"width\": {\"value\": 5}, \"fill\": {\"value\": \"#4c78a8\"}, \"xc\": {\"field\": \"volatile_acidity\", \"scale\": \"child__row_sulphatescolumn_volatile_acidity_x\"}, \"y2\": {\"value\": 0, \"scale\": \"child__row_sulphatescolumn_volatile_acidity_y\"}, \"y\": {\"field\": \"__count\", \"scale\": \"child__row_sulphatescolumn_volatile_acidity_y\"}}}, \"style\": [\"bar\"]}], \"axes\": [{\"scale\": \"child__row_sulphatescolumn_volatile_acidity_x\", \"tickCount\": {\"signal\": \"ceil(childWidth/40)\"}, \"gridScale\": \"child__row_sulphatescolumn_volatile_acidity_y\", \"grid\": true, \"maxExtent\": 0, \"orient\": \"bottom\", \"zindex\": 0, \"minExtent\": 0, \"domain\": false, \"ticks\": false, \"labels\": false, \"aria\": false}, {\"scale\": \"child__row_sulphatescolumn_volatile_acidity_y\", \"tickCount\": {\"signal\": \"ceil(childHeight/40)\"}, \"zindex\": 0, \"labels\": false, \"gridScale\": \"child__row_sulphatescolumn_volatile_acidity_x\", \"grid\": true, \"aria\": false, \"domain\": false, \"minExtent\": 0, \"ticks\": false, \"maxExtent\": 0, \"orient\": \"left\"}, {\"scale\": \"child__row_sulphatescolumn_volatile_acidity_x\", \"grid\": false, \"tickCount\": {\"signal\": \"ceil(childWidth/40)\"}, \"zindex\": 0, \"orient\": \"bottom\", \"labelFlush\": true, \"title\": \"volatile_acidity\", \"labelOverlap\": true}, {\"scale\": \"child__row_sulphatescolumn_volatile_acidity_y\", \"grid\": false, \"title\": \"Count of Records\", \"orient\": \"left\", \"labelOverlap\": true, \"zindex\": 0, \"tickCount\": {\"signal\": \"ceil(childHeight/40)\"}}], \"style\": \"cell\"}, {\"type\": \"group\", \"name\": \"child__row_sulphatescolumn_citric_acid_group\", \"encode\": {\"update\": {\"width\": {\"signal\": \"childWidth\"}, \"height\": {\"signal\": \"childHeight\"}}}, \"marks\": [{\"type\": \"rect\", \"name\": \"child__row_sulphatescolumn_citric_acid_marks\", \"from\": {\"data\": \"data_2\"}, \"encode\": {\"update\": {\"width\": {\"value\": 5}, \"xc\": {\"field\": \"citric_acid\", \"scale\": \"child__row_sulphatescolumn_citric_acid_x\"}, \"y\": {\"field\": \"__count\", \"scale\": \"child__row_sulphatescolumn_citric_acid_y\"}, \"y2\": {\"value\": 0, \"scale\": \"child__row_sulphatescolumn_citric_acid_y\"}, \"fill\": {\"value\": \"#4c78a8\"}}}, \"style\": [\"bar\"]}], \"axes\": [{\"scale\": \"child__row_sulphatescolumn_citric_acid_x\", \"maxExtent\": 0, \"tickCount\": {\"signal\": \"ceil(childWidth/40)\"}, \"minExtent\": 0, \"zindex\": 0, \"gridScale\": \"child__row_sulphatescolumn_citric_acid_y\", \"domain\": false, \"grid\": true, \"labels\": false, \"orient\": \"bottom\", \"ticks\": false, \"aria\": false}, {\"scale\": \"child__row_sulphatescolumn_citric_acid_y\", \"domain\": false, \"maxExtent\": 0, \"zindex\": 0, \"aria\": false, \"ticks\": false, \"minExtent\": 0, \"orient\": \"left\", \"grid\": true, \"tickCount\": {\"signal\": \"ceil(childHeight/40)\"}, \"labels\": false, \"gridScale\": \"child__row_sulphatescolumn_citric_acid_x\"}, {\"scale\": \"child__row_sulphatescolumn_citric_acid_x\", \"labelOverlap\": true, \"orient\": \"bottom\", \"labelFlush\": true, \"tickCount\": {\"signal\": \"ceil(childWidth/40)\"}, \"zindex\": 0, \"title\": \"citric_acid\", \"grid\": false}, {\"scale\": \"child__row_sulphatescolumn_citric_acid_y\", \"labelOverlap\": true, \"orient\": \"left\", \"title\": \"Count of Records\", \"tickCount\": {\"signal\": \"ceil(childHeight/40)\"}, \"zindex\": 0, \"grid\": false}], \"style\": \"cell\"}], \"scales\": [{\"name\": \"child__row_residual_sugarcolumn_fixed_acidity_x\", \"type\": \"linear\", \"domain\": [{\"signal\": \"(data(\\\"data_0_child__row_residual_sugarcolumn_fixed_acidity_x_domain_fixed_acidity\\\")[0] || {}).min\"}, {\"signal\": \"(data(\\\"data_0_child__row_residual_sugarcolumn_fixed_acidity_x_domain_fixed_acidity\\\")[0] || {}).max\"}], \"range\": [0, {\"signal\": \"childWidth\"}], \"nice\": true, \"zero\": false, \"padding\": 5}, {\"name\": \"child__row_residual_sugarcolumn_fixed_acidity_y\", \"type\": \"linear\", \"domain\": [{\"signal\": \"(data(\\\"data_0_child__row_residual_sugarcolumn_fixed_acidity_y_domain___count\\\")[0] || {}).min\"}, {\"signal\": \"(data(\\\"data_0_child__row_residual_sugarcolumn_fixed_acidity_y_domain___count\\\")[0] || {}).max\"}], \"range\": [{\"signal\": \"childHeight\"}, 0], \"zero\": true, \"nice\": true}, {\"name\": \"child__row_residual_sugarcolumn_volatile_acidity_x\", \"type\": \"linear\", \"domain\": [{\"signal\": \"(data(\\\"data_1_child__row_residual_sugarcolumn_volatile_acidity_x_domain_volatile_acidity\\\")[0] || {}).min\"}, {\"signal\": \"(data(\\\"data_1_child__row_residual_sugarcolumn_volatile_acidity_x_domain_volatile_acidity\\\")[0] || {}).max\"}], \"range\": [0, {\"signal\": \"childWidth\"}], \"zero\": false, \"nice\": true, \"padding\": 5}, {\"name\": \"child__row_residual_sugarcolumn_volatile_acidity_y\", \"type\": \"linear\", \"domain\": [{\"signal\": \"(data(\\\"data_1_child__row_residual_sugarcolumn_volatile_acidity_y_domain___count\\\")[0] || {}).min\"}, {\"signal\": \"(data(\\\"data_1_child__row_residual_sugarcolumn_volatile_acidity_y_domain___count\\\")[0] || {}).max\"}], \"range\": [{\"signal\": \"childHeight\"}, 0], \"nice\": true, \"zero\": true}, {\"name\": \"child__row_residual_sugarcolumn_citric_acid_x\", \"type\": \"linear\", \"domain\": [{\"signal\": \"(data(\\\"data_2_child__row_residual_sugarcolumn_citric_acid_x_domain_citric_acid\\\")[0] || {}).min\"}, {\"signal\": \"(data(\\\"data_2_child__row_residual_sugarcolumn_citric_acid_x_domain_citric_acid\\\")[0] || {}).max\"}], \"range\": [0, {\"signal\": \"childWidth\"}], \"zero\": false, \"nice\": true, \"padding\": 5}, {\"name\": \"child__row_residual_sugarcolumn_citric_acid_y\", \"type\": \"linear\", \"domain\": [{\"signal\": \"(data(\\\"data_2_child__row_residual_sugarcolumn_citric_acid_y_domain___count\\\")[0] || {}).min\"}, {\"signal\": \"(data(\\\"data_2_child__row_residual_sugarcolumn_citric_acid_y_domain___count\\\")[0] || {}).max\"}], \"range\": [{\"signal\": \"childHeight\"}, 0], \"zero\": true, \"nice\": true}, {\"name\": \"child__row_total_sulfur_dioxidecolumn_fixed_acidity_x\", \"type\": \"linear\", \"domain\": [{\"signal\": \"(data(\\\"data_0_child__row_total_sulfur_dioxidecolumn_fixed_acidity_x_domain_fixed_acidity\\\")[0] || {}).min\"}, {\"signal\": \"(data(\\\"data_0_child__row_total_sulfur_dioxidecolumn_fixed_acidity_x_domain_fixed_acidity\\\")[0] || {}).max\"}], \"range\": [0, {\"signal\": \"childWidth\"}], \"padding\": 5, \"nice\": true, \"zero\": false}, {\"name\": \"child__row_total_sulfur_dioxidecolumn_fixed_acidity_y\", \"type\": \"linear\", \"domain\": [{\"signal\": \"(data(\\\"data_0_child__row_total_sulfur_dioxidecolumn_fixed_acidity_y_domain___count\\\")[0] || {}).min\"}, {\"signal\": \"(data(\\\"data_0_child__row_total_sulfur_dioxidecolumn_fixed_acidity_y_domain___count\\\")[0] || {}).max\"}], \"range\": [{\"signal\": \"childHeight\"}, 0], \"zero\": true, \"nice\": true}, {\"name\": \"child__row_total_sulfur_dioxidecolumn_volatile_acidity_x\", \"type\": \"linear\", \"domain\": [{\"signal\": \"(data(\\\"data_1_child__row_total_sulfur_dioxidecolumn_volatile_acidity_x_domain_volatile_acidity\\\")[0] || {}).min\"}, {\"signal\": \"(data(\\\"data_1_child__row_total_sulfur_dioxidecolumn_volatile_acidity_x_domain_volatile_acidity\\\")[0] || {}).max\"}], \"range\": [0, {\"signal\": \"childWidth\"}], \"zero\": false, \"nice\": true, \"padding\": 5}, {\"name\": \"child__row_total_sulfur_dioxidecolumn_volatile_acidity_y\", \"type\": \"linear\", \"domain\": [{\"signal\": \"(data(\\\"data_1_child__row_total_sulfur_dioxidecolumn_volatile_acidity_y_domain___count\\\")[0] || {}).min\"}, {\"signal\": \"(data(\\\"data_1_child__row_total_sulfur_dioxidecolumn_volatile_acidity_y_domain___count\\\")[0] || {}).max\"}], \"range\": [{\"signal\": \"childHeight\"}, 0], \"zero\": true, \"nice\": true}, {\"name\": \"child__row_total_sulfur_dioxidecolumn_citric_acid_x\", \"type\": \"linear\", \"domain\": [{\"signal\": \"(data(\\\"data_2_child__row_total_sulfur_dioxidecolumn_citric_acid_x_domain_citric_acid\\\")[0] || {}).min\"}, {\"signal\": \"(data(\\\"data_2_child__row_total_sulfur_dioxidecolumn_citric_acid_x_domain_citric_acid\\\")[0] || {}).max\"}], \"range\": [0, {\"signal\": \"childWidth\"}], \"zero\": false, \"padding\": 5, \"nice\": true}, {\"name\": \"child__row_total_sulfur_dioxidecolumn_citric_acid_y\", \"type\": \"linear\", \"domain\": [{\"signal\": \"(data(\\\"data_2_child__row_total_sulfur_dioxidecolumn_citric_acid_y_domain___count\\\")[0] || {}).min\"}, {\"signal\": \"(data(\\\"data_2_child__row_total_sulfur_dioxidecolumn_citric_acid_y_domain___count\\\")[0] || {}).max\"}], \"range\": [{\"signal\": \"childHeight\"}, 0], \"nice\": true, \"zero\": true}, {\"name\": \"child__row_sulphatescolumn_fixed_acidity_x\", \"type\": \"linear\", \"domain\": [{\"signal\": \"(data(\\\"data_0_child__row_sulphatescolumn_fixed_acidity_x_domain_fixed_acidity\\\")[0] || {}).min\"}, {\"signal\": \"(data(\\\"data_0_child__row_sulphatescolumn_fixed_acidity_x_domain_fixed_acidity\\\")[0] || {}).max\"}], \"range\": [0, {\"signal\": \"childWidth\"}], \"zero\": false, \"padding\": 5, \"nice\": true}, {\"name\": \"child__row_sulphatescolumn_fixed_acidity_y\", \"type\": \"linear\", \"domain\": [{\"signal\": \"(data(\\\"data_0_child__row_sulphatescolumn_fixed_acidity_y_domain___count\\\")[0] || {}).min\"}, {\"signal\": \"(data(\\\"data_0_child__row_sulphatescolumn_fixed_acidity_y_domain___count\\\")[0] || {}).max\"}], \"range\": [{\"signal\": \"childHeight\"}, 0], \"nice\": true, \"zero\": true}, {\"name\": \"child__row_sulphatescolumn_volatile_acidity_x\", \"type\": \"linear\", \"domain\": [{\"signal\": \"(data(\\\"data_1_child__row_sulphatescolumn_volatile_acidity_x_domain_volatile_acidity\\\")[0] || {}).min\"}, {\"signal\": \"(data(\\\"data_1_child__row_sulphatescolumn_volatile_acidity_x_domain_volatile_acidity\\\")[0] || {}).max\"}], \"range\": [0, {\"signal\": \"childWidth\"}], \"zero\": false, \"padding\": 5, \"nice\": true}, {\"name\": \"child__row_sulphatescolumn_volatile_acidity_y\", \"type\": \"linear\", \"domain\": [{\"signal\": \"(data(\\\"data_1_child__row_sulphatescolumn_volatile_acidity_y_domain___count\\\")[0] || {}).min\"}, {\"signal\": \"(data(\\\"data_1_child__row_sulphatescolumn_volatile_acidity_y_domain___count\\\")[0] || {}).max\"}], \"range\": [{\"signal\": \"childHeight\"}, 0], \"nice\": true, \"zero\": true}, {\"name\": \"child__row_sulphatescolumn_citric_acid_x\", \"type\": \"linear\", \"domain\": [{\"signal\": \"(data(\\\"data_2_child__row_sulphatescolumn_citric_acid_x_domain_citric_acid\\\")[0] || {}).min\"}, {\"signal\": \"(data(\\\"data_2_child__row_sulphatescolumn_citric_acid_x_domain_citric_acid\\\")[0] || {}).max\"}], \"range\": [0, {\"signal\": \"childWidth\"}], \"nice\": true, \"zero\": false, \"padding\": 5}, {\"name\": \"child__row_sulphatescolumn_citric_acid_y\", \"type\": \"linear\", \"domain\": [{\"signal\": \"(data(\\\"data_2_child__row_sulphatescolumn_citric_acid_y_domain___count\\\")[0] || {}).min\"}, {\"signal\": \"(data(\\\"data_2_child__row_sulphatescolumn_citric_acid_y_domain___count\\\")[0] || {}).max\"}], \"range\": [{\"signal\": \"childHeight\"}, 0], \"zero\": true, \"nice\": true}], \"padding\": 5, \"background\": \"white\", \"layout\": {\"padding\": 20, \"columns\": 3, \"bounds\": \"full\", \"align\": \"all\"}}, {\"mode\": \"vega\"});\n",
       "</script>"
      ],
      "text/plain": [
       "alt.RepeatChart(...)"
      ]
     },
     "execution_count": 103,
     "metadata": {},
     "output_type": "execute_result"
    }
   ],
   "source": [
    "# Visualizing feature distribution using a histogram\n",
    "columns = wine_df.columns.to_list()\n",
    "\n",
    "alt.Chart(wine_df).mark_bar().encode(\n",
    "    x=alt.X(alt.repeat('column'), type='quantitative'),\n",
    "    y=alt.Y('count()')\n",
    ").repeat(\n",
    "    column=columns[:3],\n",
    "    row=[columns[i] for i in range(3, 12, 3)]\n",
    ")"
   ]
  },
  {
   "cell_type": "markdown",
   "metadata": {},
   "source": [
    "# DISCUSSION\n",
    "- summarize what you found\n",
    "- discuss whether this is what you expected to find?\n",
    "- discuss what impact could such findings have?\n",
    "- discuss what future questions could this lead to?"
   ]
  },
  {
   "cell_type": "code",
   "execution_count": null,
   "metadata": {},
   "outputs": [],
   "source": []
  },
  {
   "cell_type": "code",
   "execution_count": null,
   "metadata": {},
   "outputs": [],
   "source": []
  },
  {
   "cell_type": "markdown",
   "metadata": {},
   "source": [
    "# REFERENCES\n",
    "- at least 4 citations relevant to the project (format is your choose, just be consistent across the references)."
   ]
  },
  {
   "cell_type": "code",
   "execution_count": null,
   "metadata": {},
   "outputs": [],
   "source": []
  },
  {
   "cell_type": "code",
   "execution_count": null,
   "metadata": {},
   "outputs": [],
   "source": []
  },
  {
   "cell_type": "markdown",
   "metadata": {},
   "source": []
  }
 ],
 "metadata": {
  "kernelspec": {
   "display_name": "base",
   "language": "python",
   "name": "python3"
  },
  "language_info": {
   "codemirror_mode": {
    "name": "ipython",
    "version": 3
   },
   "file_extension": ".py",
   "mimetype": "text/x-python",
   "name": "python",
   "nbconvert_exporter": "python",
   "pygments_lexer": "ipython3",
   "version": "3.11.4"
  }
 },
 "nbformat": 4,
 "nbformat_minor": 2
}
